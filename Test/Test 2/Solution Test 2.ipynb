{
 "cells": [
  {
   "cell_type": "code",
   "execution_count": 1,
   "metadata": {},
   "outputs": [
    {
     "name": "stdout",
     "output_type": "stream",
     "text": [
      "Kết quả S_n= : 1.76\n"
     ]
    }
   ],
   "source": [
    "#%% Bài 1\n",
    "import math\n",
    "def S_n(n,i=1):\n",
    "    if i==n:\n",
    "        return  math.sqrt(n)\n",
    "    else:\n",
    "        return  round(math.sqrt(i+S_n(n,i+1)),2)\n",
    "\n",
    "n = int(input('Nhập liệu số N: '))\n",
    "print('Kết quả S_n= : {0}'.format(S_n(n)))"
   ]
  },
  {
   "cell_type": "code",
   "execution_count": 2,
   "metadata": {},
   "outputs": [
    {
     "name": "stdout",
     "output_type": "stream",
     "text": [
      "Kết quả 4 : four\n"
     ]
    }
   ],
   "source": [
    "#%% Bài 2:\n",
    "\n",
    "hangdonvi = {0: ['zero', ''], 1: ['one', 'one'], 2: ['two', 'twen'], 3: ['three', 'third'], 4: ['four', 'four'],5: ['five', 'fif'], 6: ['six', 'six'], 7: ['seven', 'seven'], 8: ['eight', 'eigh'], 9: ['nine', 'nine']}\n",
    "sodacbiet = {10: 'ten', 11: 'eleven', 12: 'twelve'}\n",
    "hangchuc = ['teen', 'ty', 'ty-']\n",
    "\n",
    "def tachso(n):\n",
    "    return n // 10, n % 10\n",
    "\n",
    "def thaydoi(n):\n",
    "    f_n, s_n = tachso(n)\n",
    "    if f_n == 0:\n",
    "        return hangdonvi.get(s_n)[0]\n",
    "    else:\n",
    "        if n <= 12:\n",
    "            return sodacbiet.get(n)\n",
    "        elif n < 20:\n",
    "            return hangdonvi.get(s_n)[1]+ '-' + hangchuc[0]\n",
    "        elif n % 10 == 0:\n",
    "            return hangdonvi.get(f_n)[1]+ '-' + hangchuc[1]\n",
    "        else:\n",
    "            return hangdonvi.get(f_n)[1] + hangchuc[2] + hangdonvi.get(s_n)[0]\n",
    "\n",
    "n = int(input('n = '))\n",
    "print(f'Kết quả {n} : {thaydoi(n)}')"
   ]
  },
  {
   "cell_type": "markdown",
   "metadata": {},
   "source": [
    "**BÀI 3**"
   ]
  },
  {
   "cell_type": "code",
   "execution_count": 3,
   "metadata": {},
   "outputs": [],
   "source": [
    "# Thư viện\n",
    "import numpy as np\n",
    "import pandas as pd\n",
    "import statsmodels.api as sm\n",
    "import matplotlib.pyplot as plt"
   ]
  },
  {
   "cell_type": "code",
   "execution_count": 4,
   "metadata": {},
   "outputs": [
    {
     "data": {
      "text/html": [
       "<div>\n",
       "<style scoped>\n",
       "    .dataframe tbody tr th:only-of-type {\n",
       "        vertical-align: middle;\n",
       "    }\n",
       "\n",
       "    .dataframe tbody tr th {\n",
       "        vertical-align: top;\n",
       "    }\n",
       "\n",
       "    .dataframe thead th {\n",
       "        text-align: right;\n",
       "    }\n",
       "</style>\n",
       "<table border=\"1\" class=\"dataframe\">\n",
       "  <thead>\n",
       "    <tr style=\"text-align: right;\">\n",
       "      <th></th>\n",
       "      <th>Manufacturer</th>\n",
       "      <th>Mileage</th>\n",
       "      <th>Age(yrs)</th>\n",
       "      <th>Sell Price($)</th>\n",
       "    </tr>\n",
       "  </thead>\n",
       "  <tbody>\n",
       "    <tr>\n",
       "      <th>0</th>\n",
       "      <td>Audi</td>\n",
       "      <td>69000</td>\n",
       "      <td>6</td>\n",
       "      <td>18000</td>\n",
       "    </tr>\n",
       "    <tr>\n",
       "      <th>1</th>\n",
       "      <td>Audi</td>\n",
       "      <td>35000</td>\n",
       "      <td>3</td>\n",
       "      <td>34000</td>\n",
       "    </tr>\n",
       "    <tr>\n",
       "      <th>2</th>\n",
       "      <td>BMW</td>\n",
       "      <td>57000</td>\n",
       "      <td>5</td>\n",
       "      <td>26100</td>\n",
       "    </tr>\n",
       "    <tr>\n",
       "      <th>3</th>\n",
       "      <td>Audi</td>\n",
       "      <td>22500</td>\n",
       "      <td>2</td>\n",
       "      <td>40000</td>\n",
       "    </tr>\n",
       "    <tr>\n",
       "      <th>4</th>\n",
       "      <td>BMW</td>\n",
       "      <td>46000</td>\n",
       "      <td>4</td>\n",
       "      <td>31500</td>\n",
       "    </tr>\n",
       "  </tbody>\n",
       "</table>\n",
       "</div>"
      ],
      "text/plain": [
       "  Manufacturer  Mileage  Age(yrs)  Sell Price($)\n",
       "0         Audi    69000         6          18000\n",
       "1         Audi    35000         3          34000\n",
       "2          BMW    57000         5          26100\n",
       "3         Audi    22500         2          40000\n",
       "4          BMW    46000         4          31500"
      ]
     },
     "execution_count": 4,
     "metadata": {},
     "output_type": "execute_result"
    }
   ],
   "source": [
    "# Nhập dữ liệu\n",
    "df = pd.read_csv(r'https://raw.githubusercontent.com/BrianNguyen2001/Basic-Python/main/Test/Test%202/Car_Prices.csv')\n",
    "df.head()"
   ]
  },
  {
   "cell_type": "code",
   "execution_count": 5,
   "metadata": {},
   "outputs": [],
   "source": [
    "# Câu 1\n",
    "sale = df['Sell Price($)']\n",
    "age = df['Age(yrs)']\n",
    "mileage = df['Mileage']\n",
    "sale,age,mileage = np.array(sale),np.array(age),np.array(mileage)\n",
    "age= sm.add_constant(age)\n",
    "mileage= sm.add_constant(mileage)"
   ]
  },
  {
   "cell_type": "code",
   "execution_count": 6,
   "metadata": {},
   "outputs": [
    {
     "name": "stdout",
     "output_type": "stream",
     "text": [
      "                            OLS Regression Results                            \n",
      "==============================================================================\n",
      "Dep. Variable:                      y   R-squared:                       0.886\n",
      "Model:                            OLS   Adj. R-squared:                  0.880\n",
      "Method:                 Least Squares   F-statistic:                     140.5\n",
      "Date:                Wed, 29 Jun 2022   Prob (F-statistic):           6.14e-10\n",
      "Time:                        11:26:31   Log-Likelihood:                -185.44\n",
      "No. Observations:                  20   AIC:                             374.9\n",
      "Df Residuals:                      18   BIC:                             376.9\n",
      "Df Model:                           1                                         \n",
      "Covariance Type:            nonrobust                                         \n",
      "==============================================================================\n",
      "                 coef    std err          t      P>|t|      [0.025      0.975]\n",
      "------------------------------------------------------------------------------\n",
      "const       4.648e+04   1894.705     24.530      0.000    4.25e+04    5.05e+04\n",
      "x1         -4131.9983    348.548    -11.855      0.000   -4864.271   -3399.726\n",
      "==============================================================================\n",
      "Omnibus:                        1.861   Durbin-Watson:                   1.627\n",
      "Prob(Omnibus):                  0.394   Jarque-Bera (JB):                0.502\n",
      "Skew:                          -0.159   Prob(JB):                        0.778\n",
      "Kurtosis:                       3.708   Cond. No.                         17.5\n",
      "==============================================================================\n",
      "\n",
      "Notes:\n",
      "[1] Standard Errors assume that the covariance matrix of the errors is correctly specified.\n"
     ]
    }
   ],
   "source": [
    "# Mô hình đơn biến 1\n",
    "model_1a = sm.OLS(sale,age)\n",
    "# Kết quả đơn biến 1\n",
    "result_1a = model_1a.fit()\n",
    "print(result_1a.summary())"
   ]
  },
  {
   "cell_type": "code",
   "execution_count": 7,
   "metadata": {},
   "outputs": [
    {
     "data": {
      "image/png": "[encoded data removed]",
      "text/plain": [
       "<Figure size 432x288 with 1 Axes>"
      ]
     },
     "metadata": {
      "needs_background": "light"
     },
     "output_type": "display_data"
    }
   ],
   "source": [
    "# Mô hình Sell Price($) phụ thuộc Age(yrs)\n",
    "plt.scatter(df['Age(yrs)'], df['Sell Price($)'],c='red', cmap='viridis')\n",
    "plt.plot(df['Age(yrs)'],result_1a.params[0] + result_1a.params[1] * df['Age(yrs)'],'g')\n",
    "plt.xlabel('Age(yrs)')\n",
    "plt.ylabel('Sell Price($)')\n",
    "plt.title('Mô hình Sell Price($) phụ thuộc Age(yrs)')\n",
    "plt.grid(linestyle = '--', linewidth = 0.5)\n",
    "plt.show()"
   ]
  },
  {
   "cell_type": "code",
   "execution_count": 8,
   "metadata": {},
   "outputs": [
    {
     "name": "stdout",
     "output_type": "stream",
     "text": [
      "                            OLS Regression Results                            \n",
      "==============================================================================\n",
      "Dep. Variable:                      y   R-squared:                       0.935\n",
      "Model:                            OLS   Adj. R-squared:                  0.932\n",
      "Method:                 Least Squares   F-statistic:                     260.7\n",
      "Date:                Wed, 29 Jun 2022   Prob (F-statistic):           3.73e-12\n",
      "Time:                        11:26:31   Log-Likelihood:                -179.79\n",
      "No. Observations:                  20   AIC:                             363.6\n",
      "Df Residuals:                      18   BIC:                             365.6\n",
      "Df Model:                           1                                         \n",
      "Covariance Type:            nonrobust                                         \n",
      "==============================================================================\n",
      "                 coef    std err          t      P>|t|      [0.025      0.975]\n",
      "------------------------------------------------------------------------------\n",
      "const       4.718e+04   1435.851     32.855      0.000    4.42e+04    5.02e+04\n",
      "x1            -0.3679      0.023    -16.148      0.000      -0.416      -0.320\n",
      "==============================================================================\n",
      "Omnibus:                        0.181   Durbin-Watson:                   1.303\n",
      "Prob(Omnibus):                  0.913   Jarque-Bera (JB):                0.390\n",
      "Skew:                          -0.023   Prob(JB):                        0.823\n",
      "Kurtosis:                       2.317   Cond. No.                     1.98e+05\n",
      "==============================================================================\n",
      "\n",
      "Notes:\n",
      "[1] Standard Errors assume that the covariance matrix of the errors is correctly specified.\n",
      "[2] The condition number is large, 1.98e+05. This might indicate that there are\n",
      "strong multicollinearity or other numerical problems.\n"
     ]
    }
   ],
   "source": [
    "# Mô hình đơn biến 2\n",
    "model_1b = sm.OLS(sale,mileage)\n",
    "# Kết quả đơn biến 2\n",
    "result_1b = model_1b.fit()\n",
    "print(result_1b.summary())"
   ]
  },
  {
   "cell_type": "code",
   "execution_count": 9,
   "metadata": {},
   "outputs": [
    {
     "data": {
      "image/png": "[encoded data removed]",
      "text/plain": [
       "<Figure size 432x288 with 1 Axes>"
      ]
     },
     "metadata": {
      "needs_background": "light"
     },
     "output_type": "display_data"
    }
   ],
   "source": [
    "# Mô hình Sell Price($) phụ thuộc Mileage\n",
    "plt.scatter(df['Mileage'], df['Sell Price($)'],c='red', cmap='viridis')\n",
    "plt.plot(df['Mileage'],result_1b.params[0] + result_1b.params[1] * df['Mileage'],'g')\n",
    "plt.xlabel('Mileage')\n",
    "plt.ylabel('Sell Price($)')\n",
    "plt.title(' Mô hình Sell Price($) phụ thuộc Mileage')\n",
    "plt.grid(linestyle = '--', linewidth = 0.5)\n",
    "plt.show()"
   ]
  },
  {
   "cell_type": "code",
   "execution_count": 10,
   "metadata": {},
   "outputs": [
    {
     "name": "stdout",
     "output_type": "stream",
     "text": [
      "                            OLS Regression Results                            \n",
      "==============================================================================\n",
      "Dep. Variable:                      y   R-squared:                       0.936\n",
      "Model:                            OLS   Adj. R-squared:                  0.928\n",
      "Method:                 Least Squares   F-statistic:                     124.0\n",
      "Date:                Wed, 29 Jun 2022   Prob (F-statistic):           7.29e-11\n",
      "Time:                        11:26:32   Log-Likelihood:                -179.73\n",
      "No. Observations:                  20   AIC:                             365.5\n",
      "Df Residuals:                      17   BIC:                             368.4\n",
      "Df Model:                           2                                         \n",
      "Covariance Type:            nonrobust                                         \n",
      "==============================================================================\n",
      "                 coef    std err          t      P>|t|      [0.025      0.975]\n",
      "------------------------------------------------------------------------------\n",
      "const       4.722e+04   1480.191     31.904      0.000    4.41e+04    5.03e+04\n",
      "x1          -352.7920   1079.282     -0.327      0.748   -2629.878    1924.294\n",
      "x2            -0.3383      0.094     -3.616      0.002      -0.536      -0.141\n",
      "==============================================================================\n",
      "Omnibus:                        0.060   Durbin-Watson:                   1.296\n",
      "Prob(Omnibus):                  0.971   Jarque-Bera (JB):                0.284\n",
      "Skew:                           0.032   Prob(JB):                        0.868\n",
      "Kurtosis:                       2.420   Cond. No.                     2.00e+05\n",
      "==============================================================================\n",
      "\n",
      "Notes:\n",
      "[1] Standard Errors assume that the covariance matrix of the errors is correctly specified.\n",
      "[2] The condition number is large,  2e+05. This might indicate that there are\n",
      "strong multicollinearity or other numerical problems.\n"
     ]
    }
   ],
   "source": [
    "# Mô hình hồi quy đa biến\n",
    "y = df['Sell Price($)']\n",
    "x = df[['Age(yrs)','Mileage']]\n",
    "\n",
    "x,y = np.array(x), np.array(y)\n",
    "x = sm.add_constant(x)\n",
    "\n",
    "model = sm.OLS(y,x)\n",
    "result = model.fit()\n",
    "print(result.summary())"
   ]
  },
  {
   "cell_type": "code",
   "execution_count": 11,
   "metadata": {},
   "outputs": [
    {
     "name": "stdout",
     "output_type": "stream",
     "text": [
      "   Predict value\n",
      "1   22764.182833\n",
      "2   31956.294117\n"
     ]
    }
   ],
   "source": [
    "# Dự đoán\n",
    "new_x = np.array([[7,65000],[3,42000]])\n",
    "length = new_x.__len__()\n",
    "new_x= sm.add_constant(new_x)\n",
    "new_y = result.predict(new_x)\n",
    "pre = pd.DataFrame(new_y,index=[i for i in range(1,length+1)], columns=['Predict value'])\n",
    "print(pre)"
   ]
  }
 ],
 "metadata": {
  "kernelspec": {
   "display_name": "Python 3.9.1 64-bit",
   "language": "python",
   "name": "python3"
  },
  "language_info": {
   "codemirror_mode": {
    "name": "ipython",
    "version": 3
   },
   "file_extension": ".py",
   "mimetype": "text/x-python",
   "name": "python",
   "nbconvert_exporter": "python",
   "pygments_lexer": "ipython3",
   "version": "3.9.1"
  },
  "orig_nbformat": 4,
  "vscode": {
   "interpreter": {
    "hash": "14958d3aee5f1cad06795f787e54b96185c25fb40dfec723a5be941f3a531b8c"
   }
  }
 },
 "nbformat": 4,
 "nbformat_minor": 2
}

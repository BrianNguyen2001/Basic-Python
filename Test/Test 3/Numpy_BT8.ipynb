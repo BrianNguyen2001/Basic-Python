{
 "cells": [
  {
   "cell_type": "code",
   "execution_count": 4,
   "source": [
    "# 1/ \r\n",
    "import numpy as np\r\n",
    "arr = np.array([[1, 2, 3], [4, 5, 6], [7, 8, 9], [10, 11, 12], [13, 14, 15], [16, 17, 18]])\r\n",
    "print(arr, '\\n')\r\n",
    "\r\n",
    "print('Delete row 3 and 5:')  \r\n",
    "print(np.delete(arr,[2,4],axis= 0))\r\n",
    "\r\n",
    "print('Delete row 2,4,6 (use slice):')  \r\n",
    "print(np.delete(arr,np.s_[1:6:2],axis=0))\r\n",
    "\r\n",
    "print('Delete the last column:')  \r\n",
    "print(np.delete(arr,[-1],axis=1))"
   ],
   "outputs": [
    {
     "output_type": "stream",
     "name": "stdout",
     "text": [
      "[[ 1  2  3]\n",
      " [ 4  5  6]\n",
      " [ 7  8  9]\n",
      " [10 11 12]\n",
      " [13 14 15]\n",
      " [16 17 18]] \n",
      "\n",
      "Delete row 3 and 5:\n",
      "[[ 1  2  3]\n",
      " [ 4  5  6]\n",
      " [10 11 12]\n",
      " [16 17 18]]\n",
      "Delete row 2,4,6 (use slice):\n",
      "[[ 1  2  3]\n",
      " [ 7  8  9]\n",
      " [13 14 15]]\n",
      "Delete the last column:\n",
      "[[ 1  2]\n",
      " [ 4  5]\n",
      " [ 7  8]\n",
      " [10 11]\n",
      " [13 14]\n",
      " [16 17]]\n"
     ]
    }
   ],
   "metadata": {}
  },
  {
   "cell_type": "code",
   "execution_count": 10,
   "source": [
    "# 2/\r\n",
    "\r\n",
    "import numpy as np \r\n",
    "arr = np.array([[3,9,6],[9,7,3],[6,8,9]]) \r\n",
    "\r\n",
    "print('Array:\\n',arr,'\\n') \r\n",
    "\r\n",
    "print('Xóa phần tử trùng lắp:')\r\n",
    "u = np.unique(arr) \r\n",
    "print(u)\r\n",
    "\r\n",
    "# Khôi phục array đã xóa\r\n",
    "u,indices_inverse,counts = np.unique(arr,return_inverse = True,return_counts = True) \r\n",
    "\r\n",
    "del(arr)\r\n",
    "\r\n",
    "print('Phục hồi array:')\r\n",
    "print((u[indices_inverse]).reshape(3,3),'\\n')\r\n",
    "\r\n",
    "print('Số lần xuất hiện của các giá trị:')\r\n",
    "\r\n",
    "print(u,'xuất hiện') \r\n",
    "print(counts,'lần')\r\n"
   ],
   "outputs": [
    {
     "output_type": "stream",
     "name": "stdout",
     "text": [
      "Array:\n",
      " [[3 9 6]\n",
      " [9 7 3]\n",
      " [6 8 9]] \n",
      "\n",
      "Xóa phần tử trùng lắp:\n",
      "[3 6 7 8 9]\n",
      "Phục hồi array:\n",
      "[[3 9 6]\n",
      " [9 7 3]\n",
      " [6 8 9]] \n",
      "\n",
      "Số lần xuất hiện của các giá trị:\n",
      "[3 6 7 8 9] xuất hiện\n",
      "[2 2 1 1 3] lần\n"
     ]
    }
   ],
   "metadata": {}
  },
  {
   "cell_type": "code",
   "execution_count": 14,
   "source": [
    "#3/\r\n",
    "\r\n",
    "import numpy as np \r\n",
    "arr = np.array([[3,9,6,7],[9,7,3,4],[6,8,9,12]])\r\n",
    "print('Array:\\n',arr,'\\n') \r\n",
    "\r\n",
    "print('Các số chia hết cho 3:\\n')\r\n",
    "print('Cách 1:')\r\n",
    "print(np.unique(arr[np.where(arr%3==0)]))\r\n",
    "print('Cách 2:')\r\n",
    "print(np.unique(np.extract(np.mod(arr,3)==0,arr)))"
   ],
   "outputs": [
    {
     "output_type": "stream",
     "name": "stdout",
     "text": [
      "Array:\n",
      " [[ 3  9  6  7]\n",
      " [ 9  7  3  4]\n",
      " [ 6  8  9 12]] \n",
      "\n",
      "Các số chia hết cho 3:\n",
      "\n",
      "Cách 1:\n",
      "[ 3  6  9 12]\n",
      "Cách 2:\n",
      "[ 3  6  9 12]\n"
     ]
    }
   ],
   "metadata": {}
  },
  {
   "cell_type": "code",
   "execution_count": 16,
   "source": [
    "#4/\r\n",
    "\r\n",
    "import numpy as np \r\n",
    "arr = np.array([[3,9,6,7],[10,7,3,4],[6,8,9,12]])\r\n",
    "print('Array:\\n',arr,'\\n') \r\n",
    "\r\n",
    "print('Số lớn nhất của mỗi dòng:')\r\n",
    "print(np.max(arr,axis=1))\r\n",
    "\r\n",
    "print('Số nhỏ nhất của mỗi cột:')\r\n",
    "print(np.min(arr,axis=0))\r\n"
   ],
   "outputs": [
    {
     "output_type": "stream",
     "name": "stdout",
     "text": [
      "Array:\n",
      " [[ 3  9  6  7]\n",
      " [10  7  3  4]\n",
      " [ 6  8  9 12]] \n",
      "\n",
      "Số lớn nhất của mỗi dòng:\n",
      "[ 9 10 12]\n",
      "Số nhỏ nhất của mỗi cột:\n",
      "[3 7 3 4]\n"
     ]
    }
   ],
   "metadata": {}
  },
  {
   "cell_type": "code",
   "execution_count": 18,
   "source": [
    "# 5/\r\n",
    "\r\n",
    "import numpy as np\r\n",
    "arr = np.array([6,3,5,9,2,4,7, 10, 15,14,16,18,19])\r\n",
    "print('Array:\\n', arr, '\\n')\r\n",
    "\r\n",
    "print('Sorted array:')\r\n",
    "print(np.sort(arr))\r\n",
    "\r\n",
    "number = int(input('Nhập 1 số bất kỳ từ 1->20: ')) # lưu ý :nhập số lớn hơn 10, nhỏ hơn 19, ví dụ nhập số 13\r\n",
    "\r\n",
    "print('\\nChèn number vào array mà không đổi thứ tự:')\r\n",
    "a = np.sort(np.append(arr,number))\r\n",
    "print(a)"
   ],
   "outputs": [
    {
     "output_type": "stream",
     "name": "stdout",
     "text": [
      "Array:\n",
      " [ 6  3  5  9  2  4  7 10 15 14 16 18 19] \n",
      "\n",
      "Sorted array:\n",
      "[ 2  3  4  5  6  7  9 10 14 15 16 18 19]\n",
      "\n",
      "Chèn number vào array mà không đổi thứ tự:\n",
      "[ 2  3  4  5  6  7  9 10 14 15 16 18 19 19]\n"
     ]
    }
   ],
   "metadata": {}
  },
  {
   "cell_type": "code",
   "execution_count": 22,
   "source": [
    "# 6/\r\n",
    "import numpy as np \r\n",
    "arr = np.array([[3,9,6,7],[10,7,3,4],[6,12,8,9]])\r\n",
    "print('Array:\\n',arr,'\\n')\r\n",
    "\r\n",
    "print('Sorted arr:')\r\n",
    "print((np.sort(arr,axis=None)).reshape(3,4))\r\n",
    "\r\n",
    "print('Sorted arr theo từng dòng:') \r\n",
    "print(np.sort(arr,axis=1)) \r\n",
    "\r\n",
    "print('Sorted arr theo từng cột:') \r\n",
    "print(np.sort(arr,axis=0)) "
   ],
   "outputs": [
    {
     "output_type": "stream",
     "name": "stdout",
     "text": [
      "Array:\n",
      " [[ 3  9  6  7]\n",
      " [10  7  3  4]\n",
      " [ 6 12  8  9]] \n",
      "\n",
      "Sorted arr:\n",
      "[[ 3  3  4  6]\n",
      " [ 6  7  7  8]\n",
      " [ 9  9 10 12]]\n",
      "Sorted arr theo từng dòng:\n",
      "[[ 3  6  7  9]\n",
      " [ 3  4  7 10]\n",
      " [ 6  8  9 12]]\n",
      "Sorted arr theo từng cột:\n",
      "[[ 3  7  3  4]\n",
      " [ 6  9  6  7]\n",
      " [10 12  8  9]]\n"
     ]
    }
   ],
   "metadata": {}
  },
  {
   "cell_type": "code",
   "execution_count": 26,
   "source": [
    "# 7/\r\n",
    "\r\n",
    "import numpy as np \r\n",
    "\r\n",
    "'''\r\n",
    "Lập data type cho member gồm:\r\n",
    "HoTen kiểu dữ liệu: S10\r\n",
    "TinhThanh kiểu dữ liệu: S10\r\n",
    "ThuNhap kiểu dữ liệu: i4\r\n",
    "'''\r\n",
    "memberdtype = np.dtype([('HoTen','S10'),('TinhThanh', 'S10'), ('ThuNhap', 'i4')])\r\n",
    "\r\n",
    "'''\r\n",
    "Nhập dữ liêu với 5 người (nhập tùy ý)\r\n",
    "'''\r\n",
    "memberarr = np.array([('Tan','VT','200'),('Uyn','QB','100'),('Gau','VT','150'),('Meo','QB','300')],dtype= memberdtype)\r\n",
    "\r\n",
    "print('Sắp xếp theo TinhThanh, HoTen, Thu Nhap ')\r\n",
    "x = np.sort(memberarr,order=['TinhThanh','HoTen','ThuNhap'])\r\n",
    "for item in x:\r\n",
    "    print(item)"
   ],
   "outputs": [
    {
     "output_type": "stream",
     "name": "stdout",
     "text": [
      "Sắp xếp theo TinhThanh, HoTen, Thu Nhap \n",
      "(b'Meo', b'QB', 300)\n",
      "(b'Uyn', b'QB', 100)\n",
      "(b'Gau', b'VT', 150)\n",
      "(b'Tan', b'VT', 200)\n"
     ]
    }
   ],
   "metadata": {}
  },
  {
   "cell_type": "code",
   "execution_count": 23,
   "source": [
    "# 8/\r\n",
    "import numpy as np \r\n",
    "arr = np.array([[3,9,6,7],[10,7,3,4],[6,12,8,9]])\r\n",
    "print('Array:\\n',arr,'\\n')\r\n",
    "\r\n",
    "x = np.sort(arr,axis=1)\r\n",
    "print(x)\r\n"
   ],
   "outputs": [
    {
     "output_type": "stream",
     "name": "stdout",
     "text": [
      "Array:\n",
      " [[ 3  9  6  7]\n",
      " [10  7  3  4]\n",
      " [ 6 12  8  9]] \n",
      "\n",
      "[[ 3  6  7  9]\n",
      " [ 3  4  7 10]\n",
      " [ 6  8  9 12]]\n"
     ]
    }
   ],
   "metadata": {}
  }
 ],
 "metadata": {
  "kernelspec": {
   "name": "python3",
   "display_name": "Python 3.9.1 64-bit"
  },
  "language_info": {
   "codemirror_mode": {
    "name": "ipython",
    "version": 3
   },
   "file_extension": ".py",
   "mimetype": "text/x-python",
   "name": "python",
   "nbconvert_exporter": "python",
   "pygments_lexer": "ipython3",
   "version": "3.9.1"
  },
  "interpreter": {
   "hash": "8da01e5a71448ea74f54d88afa8911010d1d12e23bc7e103d40d5def4a09152c"
  }
 },
 "nbformat": 4,
 "nbformat_minor": 4
}
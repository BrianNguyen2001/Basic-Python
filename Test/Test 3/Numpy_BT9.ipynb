{
 "cells": [
  {
   "cell_type": "code",
   "execution_count": 1,
   "source": [
    "#1/ numpy ufunc\r\n",
    "import numpy as np\r\n",
    "\r\n",
    "arr1 = np.array([1, 2, 3, 4, 5, 6])\r\n",
    "arr2 = np.array([7, 8, 9, 10, 11, 12])\r\n",
    "arr3 = np.array([13, 14, 5, 16, 17, 18])\r\n",
    "\r\n",
    "newarr = np.sum([arr1,arr2,arr3],axis= 0)\r\n",
    "\r\n",
    "print(newarr)"
   ],
   "outputs": [
    {
     "output_type": "stream",
     "name": "stdout",
     "text": [
      "[21 24 17 30 33 36]\n"
     ]
    }
   ],
   "metadata": {}
  },
  {
   "cell_type": "code",
   "execution_count": 9,
   "source": [
    "#2/  y = a*x + b\r\n",
    "import numpy as np\r\n",
    "\r\n",
    "x = np.array([1, 2, 3, 4])\r\n",
    "\r\n",
    "def bai2(a,b,x):\r\n",
    "    return a*x +b\r\n",
    "\r\n",
    "a = 2\r\n",
    "b = 3\r\n",
    "bai2 = np.frompyfunc(bai2,3,1)\r\n",
    "y = bai2(a,b,x)\r\n",
    "# y = a*x +b\r\n",
    "print(y)\r\n",
    "print(type(bai2))"
   ],
   "outputs": [
    {
     "output_type": "stream",
     "name": "stdout",
     "text": [
      "[5 7 9 11]\n",
      "<class 'numpy.ufunc'>\n"
     ]
    }
   ],
   "metadata": {}
  },
  {
   "cell_type": "code",
   "execution_count": 7,
   "source": [
    "#3/ min, max \r\n",
    "import numpy as np\r\n",
    "\r\n",
    "arr1 = np.array([10, 7, 30, 40, 2, 60])\r\n",
    "arr2 = np.array([3, 20, 9, 8, 50, 33])\r\n",
    "\r\n",
    "def findminmax(arr1, arr2):\r\n",
    "    return np.minimum(arr1, arr2), np.maximum(arr1, arr2)\r\n",
    "\r\n",
    "findminmax = np.frompyfunc(findminmax,2,2)\r\n",
    "\r\n",
    "amin, amax = findminmax(arr1, arr2)\r\n",
    "\r\n",
    "print('array min:', amin,'\\n')\r\n",
    "print('array max:', amax,'\\n')\r\n",
    "\r\n",
    "print('findminmax:', type(findminmax))"
   ],
   "outputs": [
    {
     "output_type": "stream",
     "name": "stdout",
     "text": [
      "array min: [3 7 9 8 2 33] \n",
      "\n",
      "array max: [10 20 30 40 50 60] \n",
      "\n",
      "findminmax: <class 'numpy.ufunc'>\n"
     ]
    }
   ],
   "metadata": {}
  },
  {
   "cell_type": "code",
   "execution_count": 12,
   "source": [
    "#4/\r\n",
    "\r\n",
    "import numpy as np \r\n",
    "\r\n",
    "a = np.array([[1,2,3],[4,5,6],[7,8,9]])\r\n",
    "print('a:\\n', a,'\\n')\r\n",
    "\r\n",
    "b = np.array([1,2,3])\r\n",
    "\r\n",
    "print('Cộng cột a và b:\\n')\r\n",
    "\r\n",
    "print(np.add(a,b))\r\n"
   ],
   "outputs": [
    {
     "output_type": "stream",
     "name": "stdout",
     "text": [
      "a:\n",
      " [[1 2 3]\n",
      " [4 5 6]\n",
      " [7 8 9]] \n",
      "\n",
      "Cộng cột a và b:\n",
      "\n",
      "[[ 2  4  6]\n",
      " [ 5  7  9]\n",
      " [ 8 10 12]]\n"
     ]
    }
   ],
   "metadata": {}
  },
  {
   "cell_type": "code",
   "execution_count": 13,
   "source": [
    "#5/\r\n",
    "import numpy as np\r\n",
    "\r\n",
    "a = np.array([-4.356, 2.738])\r\n",
    "\r\n",
    "print('Làm tròn 1 chữ số sau phần thập phân:', np.round(a,2),'\\n')\r\n",
    "print('Lây phần nguyên trên', np.ceil(a),'\\n')\r\n",
    "print('Lấy phần nguyên dưới:', np.floor(a),'\\n')\r\n",
    "print('Lấy phần nguyên gần 0 nhất:', np.fix(a),'\\n')"
   ],
   "outputs": [
    {
     "output_type": "stream",
     "name": "stdout",
     "text": [
      "Làm tròn 1 chữ số sau phần thập phân: [-4.36  2.74] \n",
      "\n",
      "Lây phần nguyên trên [-4.  3.] \n",
      "\n",
      "Lấy phần nguyên dưới: [-5.  2.] \n",
      "\n",
      "Lấy phần nguyên gần 0 nhất: [-4.  2.] \n",
      "\n"
     ]
    }
   ],
   "metadata": {}
  },
  {
   "cell_type": "code",
   "execution_count": 14,
   "source": [
    "# 6/ Tính log6(x)\r\n",
    "\r\n",
    "from math import log\r\n",
    "import numpy as np\r\n",
    "\r\n",
    "x = np.array([6, 36, 216])\r\n",
    "nplog = np.frompyfunc(log, 2, 1)\r\n",
    "print(nplog(x,6))"
   ],
   "outputs": [
    {
     "output_type": "stream",
     "name": "stdout",
     "text": [
      "[1.0 2.0 3.0000000000000004]\n"
     ]
    }
   ],
   "metadata": {}
  },
  {
   "cell_type": "code",
   "execution_count": 15,
   "source": [
    "#7/ #sum, cumsum\r\n",
    "import numpy as np\r\n",
    "\r\n",
    "a = np.array([[1,2],[3,4]])\r\n",
    "b = np.array([[5,6],[7,8]])\r\n",
    "\r\n",
    "print('a:\\n',a,'\\n')\r\n",
    "print('b:\\n',b,'\\n')\r\n",
    "\r\n",
    "newarr1 = np.sum([a,b],axis = 1)\r\n",
    "print('newarr:\\n', newarr1,'\\n')\r\n",
    "\r\n",
    "newarr2 = np.sum([a,b],axis = 0)\r\n",
    "print('newarr2:\\n', newarr2, '\\n')\r\n",
    "\r\n",
    "x = np.array([[1, 2], [3, 4]])\r\n",
    "newarr3 = (np.cumsum(x)).reshape(2,2)\r\n",
    "print('newarr3:\\n', newarr3)"
   ],
   "outputs": [
    {
     "output_type": "stream",
     "name": "stdout",
     "text": [
      "a:\n",
      " [[1 2]\n",
      " [3 4]] \n",
      "\n",
      "b:\n",
      " [[5 6]\n",
      " [7 8]] \n",
      "\n",
      "newarr:\n",
      " [[ 4  6]\n",
      " [12 14]] \n",
      "\n",
      "newarr2:\n",
      " [[ 6  8]\n",
      " [10 12]] \n",
      "\n",
      "newarr3:\n",
      " [[ 1  3]\n",
      " [ 6 10]]\n"
     ]
    }
   ],
   "metadata": {}
  },
  {
   "cell_type": "code",
   "execution_count": 17,
   "source": [
    "# 8/ \r\n",
    "import numpy as np\r\n",
    "\r\n",
    "arr1 = np.array([1, 2])\r\n",
    "arr2 = np.array([3, 4])\r\n",
    "\r\n",
    "newarr = np.prod([arr1,arr2])\r\n",
    "newarr1 = np.prod([arr1,arr2],axis=1)\r\n",
    "newarr2 = np.prod([arr1,arr2],axis=0)\r\n",
    "\r\n",
    "print('newarr:', newarr, '\\n')\r\n",
    "print('newarr1:', newarr1, '\\n')\r\n",
    "print('newarr2:', newarr2, '\\n')\r\n"
   ],
   "outputs": [
    {
     "output_type": "stream",
     "name": "stdout",
     "text": [
      "newarr: 24 \n",
      "\n",
      "newarr1: [ 2 12] \n",
      "\n",
      "newarr2: [3 8] \n",
      "\n"
     ]
    }
   ],
   "metadata": {}
  },
  {
   "cell_type": "code",
   "execution_count": 18,
   "source": [
    "#9/\r\n",
    "\r\n",
    "import numpy as np\r\n",
    "\r\n",
    "arr = np.array([8, 32, 36, 16])\r\n",
    "\r\n",
    "print('Bội số chung nhỏ nhât:', np.lcm.reduce(arr) ,'\\n')\r\n",
    "print('Ước số chung lớn nhất:', np.gcd.reduce(arr) ,'\\n')"
   ],
   "outputs": [
    {
     "output_type": "stream",
     "name": "stdout",
     "text": [
      "Bội số chung nhỏ nhât: 288 \n",
      "\n",
      "Ước số chung lớn nhất: 4 \n",
      "\n"
     ]
    }
   ],
   "metadata": {}
  },
  {
   "cell_type": "code",
   "execution_count": 19,
   "source": [
    "#10/\r\n",
    "import numpy as np\r\n",
    "\r\n",
    "arr1 = np.array([4, 6, 2, 3,  4])\r\n",
    "arr2 = np.array([4, 6, 2, 1, 6])\r\n",
    "\r\n",
    "print('Phần tử riêng của arr1 và arr2:', np.setxor1d(arr1, arr2, assume_unique = True))\r\n",
    "print('Phần tử chung:', np.intersect1d(arr1, arr2, assume_unique = False))\r\n",
    "print('Phần tử trong arr1 không có trong arr2:',np.setdiff1d(arr1, arr2, assume_unique = True))"
   ],
   "outputs": [
    {
     "output_type": "stream",
     "name": "stdout",
     "text": [
      "Phần tử riêng của arr1 và arr2: [1 3]\n",
      "Phần tử chung: [2 4 6]\n",
      "Phần tử trong arr1 không có trong arr2: [3]\n"
     ]
    }
   ],
   "metadata": {}
  }
 ],
 "metadata": {
  "kernelspec": {
   "name": "python3",
   "display_name": "Python 3.9.1 64-bit"
  },
  "language_info": {
   "codemirror_mode": {
    "name": "ipython",
    "version": 3
   },
   "file_extension": ".py",
   "mimetype": "text/x-python",
   "name": "python",
   "nbconvert_exporter": "python",
   "pygments_lexer": "ipython3",
   "version": "3.9.1"
  },
  "interpreter": {
   "hash": "8da01e5a71448ea74f54d88afa8911010d1d12e23bc7e103d40d5def4a09152c"
  }
 },
 "nbformat": 4,
 "nbformat_minor": 4
}
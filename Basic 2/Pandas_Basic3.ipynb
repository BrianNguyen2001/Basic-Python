{
 "cells": [
  {
   "cell_type": "code",
   "execution_count": null,
   "source": [
    "1/ GroupBy\r\n",
    "View Groups\r\n",
    "Iterating through Groups\r\n",
    "Select a Group, get_group()\r\n",
    "Aggregations, agg()\r\n",
    "Applying Multiple Aggregation Functions at Once\r\n",
    "size of each group\r\n",
    "Filtration\r\n",
    "Transformations ??????\r\n",
    "\r\n",
    "2/ Merging/Joining\r\n",
    "Merge Two DataFrames on a Key\r\n",
    "Merge Two DataFrames on Multiple Keys\r\n",
    "Merge Using 'how' Argument:\r\n",
    "\tLeft Join,\r\n",
    "\tRight Join\r\n",
    "\tOuter Join\r\n",
    "\tInner Join\r\n",
    "\r\n",
    "3/ Concatenation\r\n",
    "Concatenating Objects\r\n",
    "Concatenating Using append"
   ],
   "outputs": [],
   "metadata": {}
  },
  {
   "cell_type": "code",
   "execution_count": null,
   "source": [
    "1/ GroupBy"
   ],
   "outputs": [],
   "metadata": {}
  },
  {
   "cell_type": "code",
   "execution_count": 1,
   "source": [
    "import pandas as pd\r\n",
    "\r\n",
    "ipl_data = {'Team': ['Riders', 'Riders', 'Devils', 'Devils', 'Kings','kings', 'Kings', 'Kings', 'Riders', 'Royals', 'Royals', 'Riders'],\r\n",
    "            'Rank': [1, 2, 2, 3, 3,4 ,1 ,1,2 , 4,1,2],\r\n",
    "            'Year': [2014,2015,2014,2015,2014,2015,2016,2017,2016,2014,2015,2017],\r\n",
    "            'Points':[876,789,863,673,741,812,756,788,694,701,804,690]}\r\n",
    "df = pd.DataFrame(ipl_data)\r\n",
    "\r\n",
    "print(df)"
   ],
   "outputs": [
    {
     "output_type": "stream",
     "name": "stdout",
     "text": [
      "      Team  Rank  Year  Points\n",
      "0   Riders     1  2014     876\n",
      "1   Riders     2  2015     789\n",
      "2   Devils     2  2014     863\n",
      "3   Devils     3  2015     673\n",
      "4    Kings     3  2014     741\n",
      "5    kings     4  2015     812\n",
      "6    Kings     1  2016     756\n",
      "7    Kings     1  2017     788\n",
      "8   Riders     2  2016     694\n",
      "9   Royals     4  2014     701\n",
      "10  Royals     1  2015     804\n",
      "11  Riders     2  2017     690\n"
     ]
    }
   ],
   "metadata": {}
  },
  {
   "cell_type": "code",
   "execution_count": null,
   "source": [
    "Split Data into Groups\r\n",
    "Pandas object can be split into any of their objects. There are multiple ways to split an object like −\r\n",
    "\r\n",
    "obj.groupby('key')\r\n",
    "obj.groupby(['key1','key2'])\r\n",
    "obj.groupby(key,axis=1)"
   ],
   "outputs": [],
   "metadata": {}
  },
  {
   "cell_type": "code",
   "execution_count": 2,
   "source": [
    "import pandas as pd\r\n",
    "\r\n",
    "ipl_data = {'Team': ['Riders', 'Riders', 'Devils', 'Devils', 'Kings','kings', 'Kings', 'Kings', 'Riders', 'Royals', 'Royals', 'Riders'],\r\n",
    "            'Rank': [1, 2, 2, 3, 3,4 ,1 ,1,2 , 4,1,2],\r\n",
    "            'Year': [2014,2015,2014,2015,2014,2015,2016,2017,2016,2014,2015,2017],\r\n",
    "            'Points':[876,789,863,673,741,812,756,788,694,701,804,690]}\r\n",
    "            \r\n",
    "df = pd.DataFrame(ipl_data)\r\n",
    "\r\n",
    "print(df.groupby('Team'))"
   ],
   "outputs": [
    {
     "output_type": "stream",
     "name": "stdout",
     "text": [
      "<pandas.core.groupby.generic.DataFrameGroupBy object at 0x0000020BD2B3E9D0>\n"
     ]
    }
   ],
   "metadata": {}
  },
  {
   "cell_type": "code",
   "execution_count": 4,
   "source": [
    "# View Groups\r\n",
    "\r\n",
    "import pandas as pd\r\n",
    "\r\n",
    "ipl_data = {'Team': ['Riders', 'Riders', 'Devils', 'Devils', 'Kings','kings', 'Kings', 'Kings', 'Riders', 'Royals', 'Royals', 'Riders'],\r\n",
    "            'Rank': [1, 2, 2, 3, 3,4 ,1 ,1,2 , 4,1,2],\r\n",
    "            'Year': [2014,2015,2014,2015,2014,2015,2016,2017,2016,2014,2015,2017],\r\n",
    "            'Points':[876,789,863,673,741,812,756,788,694,701,804,690]}\r\n",
    "\r\n",
    "df = pd.DataFrame(ipl_data)\r\n",
    "print(df,'\\n')\r\n",
    "\r\n",
    "# Group\r\n",
    "print(df.groupby('Team').groups)"
   ],
   "outputs": [
    {
     "output_type": "stream",
     "name": "stdout",
     "text": [
      "      Team  Rank  Year  Points\n",
      "0   Riders     1  2014     876\n",
      "1   Riders     2  2015     789\n",
      "2   Devils     2  2014     863\n",
      "3   Devils     3  2015     673\n",
      "4    Kings     3  2014     741\n",
      "5    kings     4  2015     812\n",
      "6    Kings     1  2016     756\n",
      "7    Kings     1  2017     788\n",
      "8   Riders     2  2016     694\n",
      "9   Royals     4  2014     701\n",
      "10  Royals     1  2015     804\n",
      "11  Riders     2  2017     690 \n",
      "\n",
      "{'Devils': [2, 3], 'Kings': [4, 6, 7], 'Riders': [0, 1, 8, 11], 'Royals': [9, 10], 'kings': [5]}\n"
     ]
    }
   ],
   "metadata": {}
  },
  {
   "cell_type": "code",
   "execution_count": 7,
   "source": [
    "import pandas as pd\r\n",
    "\r\n",
    "ipl_data = {'Team': ['Riders', 'Riders', 'Devils', 'Devils', 'Kings','kings', 'Kings', 'Kings', 'Riders', 'Royals', 'Royals', 'Riders'],\r\n",
    "   'Rank': [1, 2, 2, 3, 3,4 ,1 ,1,2 , 4,1,2],\r\n",
    "   'Year': [2014,2015,2014,2015,2014,2015,2016,2017,2016,2014,2015,2017],\r\n",
    "   'Points':[876,789,863,673,741,812,756,788,694,701,804,690]}\r\n",
    "   \r\n",
    "df = pd.DataFrame(ipl_data)\r\n",
    "print(df,'\\n')\r\n",
    "\r\n",
    "print(df.groupby(['Team','Rank']).groups)"
   ],
   "outputs": [
    {
     "output_type": "stream",
     "name": "stdout",
     "text": [
      "      Team  Rank  Year  Points\n",
      "0   Riders     1  2014     876\n",
      "1   Riders     2  2015     789\n",
      "2   Devils     2  2014     863\n",
      "3   Devils     3  2015     673\n",
      "4    Kings     3  2014     741\n",
      "5    kings     4  2015     812\n",
      "6    Kings     1  2016     756\n",
      "7    Kings     1  2017     788\n",
      "8   Riders     2  2016     694\n",
      "9   Royals     4  2014     701\n",
      "10  Royals     1  2015     804\n",
      "11  Riders     2  2017     690 \n",
      "\n",
      "{('Devils', 2): [2], ('Devils', 3): [3], ('Kings', 1): [6, 7], ('Kings', 3): [4], ('Riders', 1): [0], ('Riders', 2): [1, 8, 11], ('Royals', 1): [10], ('Royals', 4): [9], ('kings', 4): [5]}\n"
     ]
    }
   ],
   "metadata": {}
  },
  {
   "cell_type": "code",
   "execution_count": 9,
   "source": [
    "# Iterating through Groups\r\n",
    "\r\n",
    "import pandas as pd\r\n",
    "\r\n",
    "ipl_data = {'Team': ['Riders', 'Riders', 'Devils', 'Devils', 'Kings',\r\n",
    "   'kings', 'Kings', 'Kings', 'Riders', 'Royals', 'Royals', 'Riders'],\r\n",
    "   'Rank': [1, 2, 2, 3, 3,4 ,1 ,1,2 , 4,1,2],\r\n",
    "   'Year': [2014,2015,2014,2015,2014,2015,2016,2017,2016,2014,2015,2017],\r\n",
    "   'Points':[876,789,863,673,741,812,756,788,694,701,804,690]}\r\n",
    "df = pd.DataFrame(ipl_data)\r\n",
    "\r\n",
    "grouped = df.groupby('Year')\r\n",
    "\r\n",
    "for name,group in grouped:\r\n",
    "    print(name)\r\n",
    "    print(group,'\\n')"
   ],
   "outputs": [
    {
     "output_type": "stream",
     "name": "stdout",
     "text": [
      "2014\n",
      "     Team  Rank  Year  Points\n",
      "0  Riders     1  2014     876\n",
      "2  Devils     2  2014     863\n",
      "4   Kings     3  2014     741\n",
      "9  Royals     4  2014     701 \n",
      "\n",
      "2015\n",
      "      Team  Rank  Year  Points\n",
      "1   Riders     2  2015     789\n",
      "3   Devils     3  2015     673\n",
      "5    kings     4  2015     812\n",
      "10  Royals     1  2015     804 \n",
      "\n",
      "2016\n",
      "     Team  Rank  Year  Points\n",
      "6   Kings     1  2016     756\n",
      "8  Riders     2  2016     694 \n",
      "\n",
      "2017\n",
      "      Team  Rank  Year  Points\n",
      "7    Kings     1  2017     788\n",
      "11  Riders     2  2017     690 \n",
      "\n"
     ]
    }
   ],
   "metadata": {}
  },
  {
   "cell_type": "code",
   "execution_count": 5,
   "source": [
    "# Select a Group, get_group()\r\n",
    "\r\n",
    "import pandas as pd\r\n",
    "\r\n",
    "ipl_data = {'Team': ['Riders', 'Riders', 'Devils', 'Devils', 'Kings',\r\n",
    "   'kings', 'Kings', 'Kings', 'Riders', 'Royals', 'Royals', 'Riders'],\r\n",
    "   'Rank': [1, 2, 2, 3, 3,4 ,1 ,1,2 , 4,1,2],\r\n",
    "   'Year': [2014,2015,2014,2015,2014,2015,2016,2017,2016,2014,2015,2017],\r\n",
    "   'Points':[876,789,863,673,741,812,756,788,694,701,804,690]}\r\n",
    "df = pd.DataFrame(ipl_data)\r\n",
    "\r\n",
    "grouped = df.groupby('Year')\r\n",
    "\r\n",
    "print(grouped.get_group(2014))"
   ],
   "outputs": [
    {
     "output_type": "stream",
     "name": "stdout",
     "text": [
      "     Team  Rank  Year  Points\n",
      "0  Riders     1  2014     876\n",
      "2  Devils     2  2014     863\n",
      "4   Kings     3  2014     741\n",
      "9  Royals     4  2014     701\n"
     ]
    }
   ],
   "metadata": {}
  },
  {
   "cell_type": "code",
   "execution_count": null,
   "source": [
    "# Aggregations, agg()\r\n",
    "\r\n",
    "An aggregated function returns a single aggregated value for each group.\r\n",
    "Once the group by object is created, several aggregation operations can be performed on the grouped data."
   ],
   "outputs": [],
   "metadata": {}
  },
  {
   "cell_type": "code",
   "execution_count": 12,
   "source": [
    "import pandas as pd\r\n",
    "import numpy as np\r\n",
    "\r\n",
    "ipl_data = {'Team': ['Riders', 'Riders', 'Devils', 'Devils', 'Kings',\r\n",
    "   'kings', 'Kings', 'Kings', 'Riders', 'Royals', 'Royals', 'Riders'],\r\n",
    "   'Rank': [1, 2, 2, 3, 3,4 ,1 ,1,2 , 4,1,2],\r\n",
    "   'Year': [2014,2015,2014,2015,2014,2015,2016,2017,2016,2014,2015,2017],\r\n",
    "   'Points':[876,789,863,673,741,812,756,788,694,701,804,690]}\r\n",
    "df = pd.DataFrame(ipl_data)\r\n",
    "\r\n",
    "grouped = df.groupby('Year')\r\n",
    "print(grouped['Points'].agg(np.mean))"
   ],
   "outputs": [
    {
     "output_type": "stream",
     "name": "stdout",
     "text": [
      "Year\n",
      "2014    795.25\n",
      "2015    769.50\n",
      "2016    725.00\n",
      "2017    739.00\n",
      "Name: Points, dtype: float64\n"
     ]
    }
   ],
   "metadata": {}
  },
  {
   "cell_type": "code",
   "execution_count": 17,
   "source": [
    "# Applying Multiple Aggregation Functions at Once\r\n",
    "\r\n",
    "import pandas as pd\r\n",
    "import numpy as np\r\n",
    "\r\n",
    "ipl_data = {'Team': ['Riders', 'Riders', 'Devils', 'Devils', 'Kings',\r\n",
    "   'kings', 'Kings', 'Kings', 'Riders', 'Royals', 'Royals', 'Riders'],\r\n",
    "   'Rank': [1, 2, 2, 3, 3,4 ,1 ,1,2 , 4,1,2],\r\n",
    "   'Year': [2014,2015,2014,2015,2014,2015,2016,2017,2016,2014,2015,2017],\r\n",
    "   'Points':[876,789,863,673,741,812,756,788,694,701,804,690]}\r\n",
    "df = pd.DataFrame(ipl_data)\r\n",
    "\r\n",
    "grouped = df.groupby('Team')\r\n",
    "print(grouped['Points'].agg([np.sum, np.mean, np.std]))"
   ],
   "outputs": [
    {
     "output_type": "stream",
     "name": "stdout",
     "text": [
      "         sum        mean         std\n",
      "Team                                \n",
      "Devils  1536  768.000000  134.350288\n",
      "Kings   2285  761.666667   24.006943\n",
      "Riders  3049  762.250000   88.567771\n",
      "Royals  1505  752.500000   72.831998\n",
      "kings    812  812.000000         NaN\n"
     ]
    }
   ],
   "metadata": {}
  },
  {
   "cell_type": "code",
   "execution_count": 16,
   "source": [
    "# size of each group\r\n",
    "\r\n",
    "import pandas as pd\r\n",
    "import numpy as np\r\n",
    "\r\n",
    "ipl_data = {'Team': ['Riders', 'Riders', 'Devils', 'Devils', 'Kings',\r\n",
    "   'kings', 'Kings', 'Kings', 'Riders', 'Royals', 'Royals', 'Riders'],\r\n",
    "   'Rank': [1, 2, 2, 3, 3,4 ,1 ,1,2 , 4,1,2],\r\n",
    "   'Year': [2014,2015,2014,2015,2014,2015,2016,2017,2016,2014,2015,2017],\r\n",
    "   'Points':[876,789,863,673,741,812,756,788,694,701,804,690]}\r\n",
    "df = pd.DataFrame(ipl_data)\r\n",
    "print(df,'\\n')\r\n",
    "\r\n",
    "# Attribute Access in Python Pandas\r\n",
    "grouped = df.groupby('Team')\r\n",
    "print(grouped.agg(np.size),'\\n')\r\n",
    "print(grouped.groups)"
   ],
   "outputs": [
    {
     "output_type": "stream",
     "name": "stdout",
     "text": [
      "      Team  Rank  Year  Points\n",
      "0   Riders     1  2014     876\n",
      "1   Riders     2  2015     789\n",
      "2   Devils     2  2014     863\n",
      "3   Devils     3  2015     673\n",
      "4    Kings     3  2014     741\n",
      "5    kings     4  2015     812\n",
      "6    Kings     1  2016     756\n",
      "7    Kings     1  2017     788\n",
      "8   Riders     2  2016     694\n",
      "9   Royals     4  2014     701\n",
      "10  Royals     1  2015     804\n",
      "11  Riders     2  2017     690 \n",
      "\n",
      "        Rank  Year  Points\n",
      "Team                      \n",
      "Devils     2     2       2\n",
      "Kings      3     3       3\n",
      "Riders     4     4       4\n",
      "Royals     2     2       2\n",
      "kings      1     1       1 \n",
      "\n",
      "{'Devils': [2, 3], 'Kings': [4, 6, 7], 'Riders': [0, 1, 8, 11], 'Royals': [9, 10], 'kings': [5]}\n"
     ]
    }
   ],
   "metadata": {
    "scrolled": true
   }
  },
  {
   "cell_type": "code",
   "execution_count": 22,
   "source": [
    "# Filtration\r\n",
    "\r\n",
    "import pandas as pd\r\n",
    "import numpy as np\r\n",
    "\r\n",
    "ipl_data = {'Team': ['Riders', 'Riders', 'Devils', 'Devils', 'Kings','kings', 'Kings', 'Kings', 'Riders', 'Royals', 'Royals', 'Riders'],\r\n",
    "   'Rank': [1, 2, 2, 3, 3,4 ,1 ,1,2 , 4,1,2],\r\n",
    "   'Year': [2014,2015,2014,2015,2014,2015,2016,2017,2016,2014,2015,2017],\r\n",
    "   'Points':[876,789,863,673,741,812,756,788,694,701,804,690]}\r\n",
    "df = pd.DataFrame(ipl_data)\r\n",
    "\r\n",
    "print(df.groupby('Team').filter(lambda x: len(x) >= 3),'\\n')\r\n",
    "print(df.groupby('Team').groups)\r\n"
   ],
   "outputs": [
    {
     "output_type": "stream",
     "name": "stdout",
     "text": [
      "      Team  Rank  Year  Points\n",
      "0   Riders     1  2014     876\n",
      "1   Riders     2  2015     789\n",
      "4    Kings     3  2014     741\n",
      "6    Kings     1  2016     756\n",
      "7    Kings     1  2017     788\n",
      "8   Riders     2  2016     694\n",
      "11  Riders     2  2017     690 \n",
      "\n",
      "{'Devils': [2, 3], 'Kings': [4, 6, 7], 'Riders': [0, 1, 8, 11], 'Royals': [9, 10], 'kings': [5]}\n"
     ]
    }
   ],
   "metadata": {}
  },
  {
   "cell_type": "code",
   "execution_count": null,
   "source": [
    "2/ Merging/Joining"
   ],
   "outputs": [],
   "metadata": {}
  },
  {
   "cell_type": "code",
   "execution_count": null,
   "source": [
    "pd.merge(left, right, how='inner', on=None, left_on=None, right_on=None, left_index=False, right_index=False, sort=True)\r\n",
    "\r\n",
    "left − A DataFrame object.\r\n",
    "\r\n",
    "right − Another DataFrame object.\r\n",
    "\r\n",
    "on − Columns (names) to join on. Must be found in both the left and right DataFrame objects.\r\n",
    "\r\n",
    "left_on − Columns from the left DataFrame to use as keys. Can either be column names or arrays with length equal to the length of the DataFrame.\r\n",
    "\r\n",
    "right_on − Columns from the right DataFrame to use as keys. Can either be column names or arrays with length equal to the length of the DataFrame.\r\n",
    "\r\n",
    "left_index − If True, use the index (row labels) from the left DataFrame as its join key(s). In case of a DataFrame with a MultiIndex (hierarchical), the number of levels must match the number of join keys from the right DataFrame.\r\n",
    "\r\n",
    "right_index − Same usage as left_index for the right DataFrame.\r\n",
    "\r\n",
    "how − One of 'left', 'right', 'outer', 'inner'. Defaults to inner. Each method has been described below.\r\n",
    "\r\n",
    "sort − Sort the result DataFrame by the join keys in lexicographical order. Defaults to True, setting to False will improve the performance substantially in many cases."
   ],
   "outputs": [],
   "metadata": {}
  },
  {
   "cell_type": "code",
   "execution_count": 7,
   "source": [
    "# Merge Two DataFrames on a Key\r\n",
    "import pandas as pd\r\n",
    "left = pd.DataFrame({\r\n",
    "   'id':[1,2,3,4,5],\r\n",
    "   'Name': ['Alex', 'Amy', 'Allen', 'Alice', 'Ayoung'],\r\n",
    "   'subject_id':['sub1','sub2','sub4','sub6','sub5']})\r\n",
    "right = pd.DataFrame(\r\n",
    "   {'id':[1,2,3,4,5],\r\n",
    "   'Name': ['Billy', 'Brian', 'Bran', 'Bryce', 'Betty'],\r\n",
    "   'subject_id':['sub2','sub4','sub3','sub6','sub5']})\r\n",
    "print('Left\\n',left,'\\n')\r\n",
    "print('Right\\n',right,'\\n')\r\n",
    "\r\n",
    "print('Merge:\\n',pd.merge(left,right,on='id'))"
   ],
   "outputs": [
    {
     "output_type": "stream",
     "name": "stdout",
     "text": [
      "Left\n",
      "    id    Name subject_id\n",
      "0   1    Alex       sub1\n",
      "1   2     Amy       sub2\n",
      "2   3   Allen       sub4\n",
      "3   4   Alice       sub6\n",
      "4   5  Ayoung       sub5 \n",
      "\n",
      "Right\n",
      "    id   Name subject_id\n",
      "0   1  Billy       sub2\n",
      "1   2  Brian       sub4\n",
      "2   3   Bran       sub3\n",
      "3   4  Bryce       sub6\n",
      "4   5  Betty       sub5 \n",
      "\n",
      "Merge:\n",
      "    id  Name_x subject_id_x Name_y subject_id_y\n",
      "0   1    Alex         sub1  Billy         sub2\n",
      "1   2     Amy         sub2  Brian         sub4\n",
      "2   3   Allen         sub4   Bran         sub3\n",
      "3   4   Alice         sub6  Bryce         sub6\n",
      "4   5  Ayoung         sub5  Betty         sub5\n"
     ]
    }
   ],
   "metadata": {}
  },
  {
   "cell_type": "code",
   "execution_count": 8,
   "source": [
    "# Merge Two DataFrames on Multiple Keys\r\n",
    "\r\n",
    "import pandas as pd\r\n",
    "left = pd.DataFrame({\r\n",
    "   'id':[1,2,3,4,5],\r\n",
    "   'Name': ['Alex', 'Amy', 'Allen', 'Alice', 'Ayoung'],\r\n",
    "   'subject_id':['sub1','sub2','sub4','sub6','sub5']})\r\n",
    "right = pd.DataFrame(\r\n",
    "   {'id':[1,2,3,4,5],\r\n",
    "   'Name': ['Billy', 'Brian', 'Bran', 'Bryce', 'Betty'],\r\n",
    "   'subject_id':['sub2','sub4','sub3','sub6','sub5']})\r\n",
    "print(left,'\\n')\r\n",
    "print(right,'\\n')\r\n",
    "\r\n",
    "print(pd.merge(left,right,on='id'),'\\n')\r\n",
    "\r\n",
    "print(pd.merge(left,right,on=['id','subject_id']))"
   ],
   "outputs": [
    {
     "output_type": "stream",
     "name": "stdout",
     "text": [
      "   id    Name subject_id\n",
      "0   1    Alex       sub1\n",
      "1   2     Amy       sub2\n",
      "2   3   Allen       sub4\n",
      "3   4   Alice       sub6\n",
      "4   5  Ayoung       sub5 \n",
      "\n",
      "   id   Name subject_id\n",
      "0   1  Billy       sub2\n",
      "1   2  Brian       sub4\n",
      "2   3   Bran       sub3\n",
      "3   4  Bryce       sub6\n",
      "4   5  Betty       sub5 \n",
      "\n",
      "   id  Name_x subject_id_x Name_y subject_id_y\n",
      "0   1    Alex         sub1  Billy         sub2\n",
      "1   2     Amy         sub2  Brian         sub4\n",
      "2   3   Allen         sub4   Bran         sub3\n",
      "3   4   Alice         sub6  Bryce         sub6\n",
      "4   5  Ayoung         sub5  Betty         sub5 \n",
      "\n",
      "   id  Name_x subject_id Name_y\n",
      "0   4   Alice       sub6  Bryce\n",
      "1   5  Ayoung       sub5  Betty\n"
     ]
    }
   ],
   "metadata": {}
  },
  {
   "cell_type": "code",
   "execution_count": null,
   "source": [
    "# Merge Using 'how' Argument\r\n",
    "\r\n",
    "Merge Method\tSQL Equivalent\tDescription\r\n",
    "left\tLEFT OUTER JOIN\tUse keys from left object\r\n",
    "right\tRIGHT OUTER JOIN\tUse keys from right object\r\n",
    "outer\tFULL OUTER JOIN\tUse union of keys\r\n",
    "inner\tINNER JOIN\tUse intersection of keys"
   ],
   "outputs": [],
   "metadata": {}
  },
  {
   "cell_type": "code",
   "execution_count": 7,
   "source": [
    "# Left Join\r\n",
    "\r\n",
    "import pandas as pd\r\n",
    "left = pd.DataFrame({\r\n",
    "   'id':[1,2,3,4,5],\r\n",
    "   'Name': ['Alex', 'Amy', 'Allen', 'Alice', 'Ayoung'],\r\n",
    "   'subject_id':['sub1','sub2','sub4','sub6','sub5']})\r\n",
    "right = pd.DataFrame(\r\n",
    "   {'id':[1,2,3,4,5],\r\n",
    "   'Name': ['Billy', 'Brian', 'Bran', 'Bryce', 'Betty'],\r\n",
    "   'subject_id':['sub2','sub4','sub3','sub6','sub5']})\r\n",
    "print(left,'\\n')\r\n",
    "print(right,'\\n')\r\n",
    "\r\n",
    "print (pd.merge(left, right, on='subject_id', how='left'))"
   ],
   "outputs": [
    {
     "output_type": "stream",
     "name": "stdout",
     "text": [
      "   id    Name subject_id\n",
      "0   1    Alex       sub1\n",
      "1   2     Amy       sub2\n",
      "2   3   Allen       sub4\n",
      "3   4   Alice       sub6\n",
      "4   5  Ayoung       sub5 \n",
      "\n",
      "   id   Name subject_id\n",
      "0   1  Billy       sub2\n",
      "1   2  Brian       sub4\n",
      "2   3   Bran       sub3\n",
      "3   4  Bryce       sub6\n",
      "4   5  Betty       sub5 \n",
      "\n",
      "   id_x  Name_x subject_id  id_y Name_y\n",
      "0     1    Alex       sub1   NaN    NaN\n",
      "1     2     Amy       sub2   1.0  Billy\n",
      "2     3   Allen       sub4   2.0  Brian\n",
      "3     4   Alice       sub6   4.0  Bryce\n",
      "4     5  Ayoung       sub5   5.0  Betty\n"
     ]
    }
   ],
   "metadata": {}
  },
  {
   "cell_type": "code",
   "execution_count": 8,
   "source": [
    "# Right Join\r\n",
    "\r\n",
    "import pandas as pd\r\n",
    "left = pd.DataFrame({\r\n",
    "   'id':[1,2,3,4,5],\r\n",
    "   'Name': ['Alex', 'Amy', 'Allen', 'Alice', 'Ayoung'],\r\n",
    "   'subject_id':['sub1','sub2','sub4','sub6','sub5']})\r\n",
    "right = pd.DataFrame(\r\n",
    "   {'id':[1,2,3,4,5],\r\n",
    "   'Name': ['Billy', 'Brian', 'Bran', 'Bryce', 'Betty'],\r\n",
    "   'subject_id':['sub2','sub4','sub3','sub6','sub5']})\r\n",
    "print(left,'\\n')\r\n",
    "print(right,'\\n')\r\n",
    "\r\n",
    "print(pd.merge(left, right, on='subject_id', how='right'))"
   ],
   "outputs": [
    {
     "output_type": "stream",
     "name": "stdout",
     "text": [
      "   id    Name subject_id\n",
      "0   1    Alex       sub1\n",
      "1   2     Amy       sub2\n",
      "2   3   Allen       sub4\n",
      "3   4   Alice       sub6\n",
      "4   5  Ayoung       sub5 \n",
      "\n",
      "   id   Name subject_id\n",
      "0   1  Billy       sub2\n",
      "1   2  Brian       sub4\n",
      "2   3   Bran       sub3\n",
      "3   4  Bryce       sub6\n",
      "4   5  Betty       sub5 \n",
      "\n",
      "   id_x  Name_x subject_id  id_y Name_y\n",
      "0   2.0     Amy       sub2     1  Billy\n",
      "1   3.0   Allen       sub4     2  Brian\n",
      "2   NaN     NaN       sub3     3   Bran\n",
      "3   4.0   Alice       sub6     4  Bryce\n",
      "4   5.0  Ayoung       sub5     5  Betty\n"
     ]
    }
   ],
   "metadata": {}
  },
  {
   "cell_type": "code",
   "execution_count": 9,
   "source": [
    "# Outer Join\r\n",
    "\r\n",
    "import pandas as pd\r\n",
    "left = pd.DataFrame({\r\n",
    "   'id':[1,2,3,4,5],\r\n",
    "   'Name': ['Alex', 'Amy', 'Allen', 'Alice', 'Ayoung'],\r\n",
    "   'subject_id':['sub1','sub2','sub4','sub6','sub5']})\r\n",
    "right = pd.DataFrame(\r\n",
    "   {'id':[1,2,3,4,5],\r\n",
    "   'Name': ['Billy', 'Brian', 'Bran', 'Bryce', 'Betty'],\r\n",
    "   'subject_id':['sub2','sub4','sub3','sub6','sub5']})\r\n",
    "print(left,'\\n')\r\n",
    "print(right,'\\n')\r\n",
    "\r\n",
    "# merge cả 2\r\n",
    "print(pd.merge(left, right, how='outer', on='subject_id'))"
   ],
   "outputs": [
    {
     "output_type": "stream",
     "name": "stdout",
     "text": [
      "   id    Name subject_id\n",
      "0   1    Alex       sub1\n",
      "1   2     Amy       sub2\n",
      "2   3   Allen       sub4\n",
      "3   4   Alice       sub6\n",
      "4   5  Ayoung       sub5 \n",
      "\n",
      "   id   Name subject_id\n",
      "0   1  Billy       sub2\n",
      "1   2  Brian       sub4\n",
      "2   3   Bran       sub3\n",
      "3   4  Bryce       sub6\n",
      "4   5  Betty       sub5 \n",
      "\n",
      "   id_x  Name_x subject_id  id_y Name_y\n",
      "0   1.0    Alex       sub1   NaN    NaN\n",
      "1   2.0     Amy       sub2   1.0  Billy\n",
      "2   3.0   Allen       sub4   2.0  Brian\n",
      "3   4.0   Alice       sub6   4.0  Bryce\n",
      "4   5.0  Ayoung       sub5   5.0  Betty\n",
      "5   NaN     NaN       sub3   3.0   Bran\n"
     ]
    }
   ],
   "metadata": {}
  },
  {
   "cell_type": "code",
   "execution_count": 10,
   "source": [
    "# Inner Join\r\n",
    "\r\n",
    "import pandas as pd\r\n",
    "left = pd.DataFrame({\r\n",
    "   'id':[1,2,3,4,5],\r\n",
    "   'Name': ['Alex', 'Amy', 'Allen', 'Alice', 'Ayoung'],\r\n",
    "   'subject_id':['sub1','sub2','sub4','sub6','sub5']})\r\n",
    "right = pd.DataFrame(\r\n",
    "   {'id':[1,2,3,4,5],\r\n",
    "   'Name': ['Billy', 'Brian', 'Bran', 'Bryce', 'Betty'],\r\n",
    "   'subject_id':['sub2','sub4','sub3','sub6','sub5']})\r\n",
    "print(left,'\\n')\r\n",
    "print(right,'\\n')\r\n",
    "\r\n",
    "# merge các dòng có cùng \"on= \"\r\n",
    "print(pd.merge(left, right, on='subject_id', how='inner'))"
   ],
   "outputs": [
    {
     "output_type": "stream",
     "name": "stdout",
     "text": [
      "   id    Name subject_id\n",
      "0   1    Alex       sub1\n",
      "1   2     Amy       sub2\n",
      "2   3   Allen       sub4\n",
      "3   4   Alice       sub6\n",
      "4   5  Ayoung       sub5 \n",
      "\n",
      "   id   Name subject_id\n",
      "0   1  Billy       sub2\n",
      "1   2  Brian       sub4\n",
      "2   3   Bran       sub3\n",
      "3   4  Bryce       sub6\n",
      "4   5  Betty       sub5 \n",
      "\n",
      "   id_x  Name_x subject_id  id_y Name_y\n",
      "0     2     Amy       sub2     1  Billy\n",
      "1     3   Allen       sub4     2  Brian\n",
      "2     4   Alice       sub6     4  Bryce\n",
      "3     5  Ayoung       sub5     5  Betty\n"
     ]
    }
   ],
   "metadata": {}
  },
  {
   "cell_type": "code",
   "execution_count": null,
   "source": [
    "3/ Concatenation"
   ],
   "outputs": [],
   "metadata": {}
  },
  {
   "cell_type": "code",
   "execution_count": null,
   "source": [
    "pd.concat(objs,axis=0,join='outer',join_axes=None, ignore_index=False)\r\n",
    "\r\n",
    "objs − This is a sequence or mapping of Series, DataFrame, or Panel objects.\r\n",
    "\r\n",
    "axis − {0, 1, ...}, default 0. This is the axis to concatenate along.\r\n",
    "\r\n",
    "join − {‘inner’, ‘outer’}, default ‘outer’. How to handle indexes on other axis(es). Outer for union and inner for intersection.\r\n",
    "\r\n",
    "ignore_index − boolean, default False. If True, do not use the index values on the concatenation axis. The resulting axis will be labeled 0, ..., n - 1.\r\n",
    "\r\n",
    "join_axes − This is the list of Index objects. Specific indexes to use for the other (n-1) axes instead of performing inner/outer set logic."
   ],
   "outputs": [],
   "metadata": {}
  },
  {
   "cell_type": "code",
   "execution_count": 12,
   "source": [
    "# Concatenating Objects\r\n",
    "\r\n",
    "import pandas as pd\r\n",
    "\r\n",
    "one = pd.DataFrame({\r\n",
    "   'Name': ['Alex', 'Amy', 'Allen', 'Alice', 'Ayoung'],\r\n",
    "   'subject_id':['sub1','sub2','sub4','sub6','sub5'],\r\n",
    "   'Marks_scored':[98,90,87,69,78]},\r\n",
    "   index=[1,2,3,4,5])\r\n",
    "\r\n",
    "two = pd.DataFrame({\r\n",
    "   'Name': ['Billy', 'Brian', 'Bran', 'Bryce', 'Betty'],\r\n",
    "   'subject_id':['sub2','sub4','sub3','sub6','sub5'],\r\n",
    "   'Marks_scored':[89,80,79,97,88]},\r\n",
    "   index=[1,2,3,4,5])\r\n",
    "\r\n",
    "print(one,'\\n')\r\n",
    "print(two,'\\n')\r\n",
    "\r\n",
    "print(pd.concat([one,two]))"
   ],
   "outputs": [
    {
     "output_type": "stream",
     "name": "stdout",
     "text": [
      "     Name subject_id  Marks_scored\n",
      "1    Alex       sub1            98\n",
      "2     Amy       sub2            90\n",
      "3   Allen       sub4            87\n",
      "4   Alice       sub6            69\n",
      "5  Ayoung       sub5            78 \n",
      "\n",
      "    Name subject_id  Marks_scored\n",
      "1  Billy       sub2            89\n",
      "2  Brian       sub4            80\n",
      "3   Bran       sub3            79\n",
      "4  Bryce       sub6            97\n",
      "5  Betty       sub5            88 \n",
      "\n",
      "     Name subject_id  Marks_scored\n",
      "1    Alex       sub1            98\n",
      "2     Amy       sub2            90\n",
      "3   Allen       sub4            87\n",
      "4   Alice       sub6            69\n",
      "5  Ayoung       sub5            78\n",
      "1   Billy       sub2            89\n",
      "2   Brian       sub4            80\n",
      "3    Bran       sub3            79\n",
      "4   Bryce       sub6            97\n",
      "5   Betty       sub5            88\n"
     ]
    }
   ],
   "metadata": {}
  },
  {
   "cell_type": "code",
   "execution_count": 13,
   "source": [
    "import pandas as pd\r\n",
    "\r\n",
    "one = pd.DataFrame({\r\n",
    "   'Name': ['Alex', 'Amy', 'Allen', 'Alice', 'Ayoung'],\r\n",
    "   'subject_id':['sub1','sub2','sub4','sub6','sub5'],\r\n",
    "   'Marks_scored':[98,90,87,69,78]},\r\n",
    "   index=[1,2,3,4,5])\r\n",
    "\r\n",
    "two = pd.DataFrame({\r\n",
    "   'Name': ['Billy', 'Brian', 'Bran', 'Bryce', 'Betty'],\r\n",
    "   'subject_id':['sub2','sub4','sub3','sub6','sub5'],\r\n",
    "   'Marks_scored':[89,80,79,97,88]},\r\n",
    "   index=[1,2,3,4,5])\r\n",
    "\r\n",
    "print(one,'\\n')\r\n",
    "print(two,'\\n')\r\n",
    "\r\n",
    "print(pd.concat([one,two],keys=['x','y']))"
   ],
   "outputs": [
    {
     "output_type": "stream",
     "name": "stdout",
     "text": [
      "     Name subject_id  Marks_scored\n",
      "1    Alex       sub1            98\n",
      "2     Amy       sub2            90\n",
      "3   Allen       sub4            87\n",
      "4   Alice       sub6            69\n",
      "5  Ayoung       sub5            78 \n",
      "\n",
      "    Name subject_id  Marks_scored\n",
      "1  Billy       sub2            89\n",
      "2  Brian       sub4            80\n",
      "3   Bran       sub3            79\n",
      "4  Bryce       sub6            97\n",
      "5  Betty       sub5            88 \n",
      "\n",
      "       Name subject_id  Marks_scored\n",
      "x 1    Alex       sub1            98\n",
      "  2     Amy       sub2            90\n",
      "  3   Allen       sub4            87\n",
      "  4   Alice       sub6            69\n",
      "  5  Ayoung       sub5            78\n",
      "y 1   Billy       sub2            89\n",
      "  2   Brian       sub4            80\n",
      "  3    Bran       sub3            79\n",
      "  4   Bryce       sub6            97\n",
      "  5   Betty       sub5            88\n"
     ]
    }
   ],
   "metadata": {}
  },
  {
   "cell_type": "code",
   "execution_count": 14,
   "source": [
    "import pandas as pd\r\n",
    "\r\n",
    "one = pd.DataFrame({\r\n",
    "   'Name': ['Alex', 'Amy', 'Allen', 'Alice', 'Ayoung'],\r\n",
    "   'subject_id':['sub1','sub2','sub4','sub6','sub5'],\r\n",
    "   'Marks_scored':[98,90,87,69,78]},\r\n",
    "   index=[1,2,3,4,5])\r\n",
    "\r\n",
    "two = pd.DataFrame({\r\n",
    "   'Name': ['Billy', 'Brian', 'Bran', 'Bryce', 'Betty'],\r\n",
    "   'subject_id':['sub2','sub4','sub3','sub6','sub5'],\r\n",
    "   'Marks_scored':[89,80,79,97,88]},\r\n",
    "   index=[1,2,3,4,5])\r\n",
    "\r\n",
    "print(pd.concat([one,two],keys=['x','y'],ignore_index=True))"
   ],
   "outputs": [
    {
     "output_type": "stream",
     "name": "stdout",
     "text": [
      "     Name subject_id  Marks_scored\n",
      "0    Alex       sub1            98\n",
      "1     Amy       sub2            90\n",
      "2   Allen       sub4            87\n",
      "3   Alice       sub6            69\n",
      "4  Ayoung       sub5            78\n",
      "5   Billy       sub2            89\n",
      "6   Brian       sub4            80\n",
      "7    Bran       sub3            79\n",
      "8   Bryce       sub6            97\n",
      "9   Betty       sub5            88\n"
     ]
    }
   ],
   "metadata": {}
  },
  {
   "cell_type": "code",
   "execution_count": 15,
   "source": [
    "import pandas as pd\r\n",
    "\r\n",
    "one = pd.DataFrame({\r\n",
    "   'Name': ['Alex', 'Amy', 'Allen', 'Alice', 'Ayoung'],\r\n",
    "   'subject_id':['sub1','sub2','sub4','sub6','sub5'],\r\n",
    "   'Marks_scored':[98,90,87,69,78]},\r\n",
    "   index=[1,2,3,4,5])\r\n",
    "\r\n",
    "two = pd.DataFrame({\r\n",
    "   'Name': ['Billy', 'Brian', 'Bran', 'Bryce', 'Betty'],\r\n",
    "   'subject_id':['sub2','sub4','sub3','sub6','sub5'],\r\n",
    "   'Marks_scored':[89,80,79,97,88]},\r\n",
    "   index=[1,2,3,4,5])\r\n",
    "\r\n",
    "print(pd.concat([one,two],axis=1))"
   ],
   "outputs": [
    {
     "output_type": "stream",
     "name": "stdout",
     "text": [
      "     Name subject_id  Marks_scored   Name subject_id  Marks_scored\n",
      "1    Alex       sub1            98  Billy       sub2            89\n",
      "2     Amy       sub2            90  Brian       sub4            80\n",
      "3   Allen       sub4            87   Bran       sub3            79\n",
      "4   Alice       sub6            69  Bryce       sub6            97\n",
      "5  Ayoung       sub5            78  Betty       sub5            88\n"
     ]
    }
   ],
   "metadata": {}
  },
  {
   "cell_type": "code",
   "execution_count": 16,
   "source": [
    "# Concatenating Using append\r\n",
    "\r\n",
    "import pandas as pd\r\n",
    "\r\n",
    "one = pd.DataFrame({\r\n",
    "   'Name': ['Alex', 'Amy', 'Allen', 'Alice', 'Ayoung'],\r\n",
    "   'subject_id':['sub1','sub2','sub4','sub6','sub5'],\r\n",
    "   'Marks_scored':[98,90,87,69,78]},\r\n",
    "   index=[1,2,3,4,5])\r\n",
    "\r\n",
    "two = pd.DataFrame({\r\n",
    "   'Name': ['Billy', 'Brian', 'Bran', 'Bryce', 'Betty'],\r\n",
    "   'subject_id':['sub2','sub4','sub3','sub6','sub5'],\r\n",
    "   'Marks_scored':[89,80,79,97,88]},\r\n",
    "   index=[1,2,3,4,5])\r\n",
    "\r\n",
    "print(one.append(two))"
   ],
   "outputs": [
    {
     "output_type": "stream",
     "name": "stdout",
     "text": [
      "     Name subject_id  Marks_scored\n",
      "1    Alex       sub1            98\n",
      "2     Amy       sub2            90\n",
      "3   Allen       sub4            87\n",
      "4   Alice       sub6            69\n",
      "5  Ayoung       sub5            78\n",
      "1   Billy       sub2            89\n",
      "2   Brian       sub4            80\n",
      "3    Bran       sub3            79\n",
      "4   Bryce       sub6            97\n",
      "5   Betty       sub5            88\n"
     ]
    }
   ],
   "metadata": {}
  },
  {
   "cell_type": "code",
   "execution_count": 17,
   "source": [
    "import pandas as pd\r\n",
    "\r\n",
    "one = pd.DataFrame({\r\n",
    "   'Name': ['Alex', 'Amy', 'Allen', 'Alice', 'Ayoung'],\r\n",
    "   'subject_id':['sub1','sub2','sub4','sub6','sub5'],\r\n",
    "   'Marks_scored':[98,90,87,69,78]},\r\n",
    "   index=[1,2,3,4,5])\r\n",
    "\r\n",
    "two = pd.DataFrame({\r\n",
    "   'Name': ['Billy', 'Brian', 'Bran', 'Bryce', 'Betty'],\r\n",
    "   'subject_id':['sub2','sub4','sub3','sub6','sub5'],\r\n",
    "   'Marks_scored':[89,80,79,97,88]},\r\n",
    "   index=[1,2,3,4,5])\r\n",
    "\r\n",
    "print(one.append([two,one,two]))"
   ],
   "outputs": [
    {
     "output_type": "stream",
     "name": "stdout",
     "text": [
      "     Name subject_id  Marks_scored\n",
      "1    Alex       sub1            98\n",
      "2     Amy       sub2            90\n",
      "3   Allen       sub4            87\n",
      "4   Alice       sub6            69\n",
      "5  Ayoung       sub5            78\n",
      "1   Billy       sub2            89\n",
      "2   Brian       sub4            80\n",
      "3    Bran       sub3            79\n",
      "4   Bryce       sub6            97\n",
      "5   Betty       sub5            88\n",
      "1    Alex       sub1            98\n",
      "2     Amy       sub2            90\n",
      "3   Allen       sub4            87\n",
      "4   Alice       sub6            69\n",
      "5  Ayoung       sub5            78\n",
      "1   Billy       sub2            89\n",
      "2   Brian       sub4            80\n",
      "3    Bran       sub3            79\n",
      "4   Bryce       sub6            97\n",
      "5   Betty       sub5            88\n"
     ]
    }
   ],
   "metadata": {}
  }
 ],
 "metadata": {
  "kernelspec": {
   "name": "python3",
   "display_name": "Python 3.9.1 64-bit"
  },
  "language_info": {
   "codemirror_mode": {
    "name": "ipython",
    "version": 3
   },
   "file_extension": ".py",
   "mimetype": "text/x-python",
   "name": "python",
   "nbconvert_exporter": "python",
   "pygments_lexer": "ipython3",
   "version": "3.9.1"
  },
  "interpreter": {
   "hash": "8da01e5a71448ea74f54d88afa8911010d1d12e23bc7e103d40d5def4a09152c"
  }
 },
 "nbformat": 4,
 "nbformat_minor": 4
}
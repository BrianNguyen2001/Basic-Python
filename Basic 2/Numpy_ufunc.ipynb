{
 "cells": [
  {
   "cell_type": "code",
   "execution_count": null,
   "source": [
    "NumPy ufuncs\r\n",
    "\r\n",
    "ufuncs stands for \"Universal Functions\" and they are NumPy functions that operates on the ndarray object.\r\n",
    "\r\n",
    "-----\r\n",
    "\r\n",
    "Why use ufuncs?\r\n",
    "ufuncs are used to implement vectorization in NumPy which is way faster than iterating over elements.\r\n",
    "\r\n",
    "-----\r\n",
    "\r\n",
    "What is Vectorization?\r\n",
    "Converting iterative statements into a vector based operation is called vectorization.\r\n",
    "\r\n",
    "It is faster as modern CPUs are optimized for such operations."
   ],
   "outputs": [],
   "metadata": {}
  },
  {
   "cell_type": "code",
   "execution_count": 1,
   "source": [
    "# Without ufunc, we can use Python's built-in zip() method:\r\n",
    "\r\n",
    "x = [1, 2, 3, 4]\r\n",
    "y = [4, 5, 6, 7]\r\n",
    "z = []\r\n",
    "\r\n",
    "for i, j in zip(x, y):\r\n",
    "  z.append(i + j)\r\n",
    "print(z)"
   ],
   "outputs": [
    {
     "output_type": "stream",
     "name": "stdout",
     "text": [
      "[5, 7, 9, 11]\n"
     ]
    }
   ],
   "metadata": {}
  },
  {
   "cell_type": "code",
   "execution_count": 2,
   "source": [
    "#ufunc: add()\r\n",
    "\r\n",
    "import numpy as np\r\n",
    "\r\n",
    "x = [1, 2, 3, 4]\r\n",
    "y = [4, 5, 6, 7]\r\n",
    "z = np.add(x, y)\r\n",
    "\r\n",
    "print(z)"
   ],
   "outputs": [
    {
     "output_type": "stream",
     "name": "stdout",
     "text": [
      "[ 5  7  9 11]\n"
     ]
    }
   ],
   "metadata": {}
  },
  {
   "cell_type": "code",
   "execution_count": null,
   "source": [
    "1/ Create Your Own ufunc: np.frompyfunc()\r\n",
    "    \r\n",
    "The frompyfunc() method takes the following arguments:\r\n",
    "\r\n",
    "function - the name of the function.\r\n",
    "inputs - the number of input arguments (arrays).\r\n",
    "outputs - the number of output arrays."
   ],
   "outputs": [],
   "metadata": {}
  },
  {
   "cell_type": "code",
   "execution_count": 4,
   "source": [
    "import numpy as np\r\n",
    "\r\n",
    "def myadd(x, y):\r\n",
    "  return x+y\r\n",
    "\r\n",
    "myadd = np.frompyfunc(myadd, 2, 1)\r\n",
    "\r\n",
    "print(myadd([1, 2, 3, 4], [5, 6, 7, 8]))\r\n",
    "\r\n",
    "print(type(myadd))"
   ],
   "outputs": [
    {
     "output_type": "stream",
     "name": "stdout",
     "text": [
      "[6 8 10 12]\n",
      "<class 'numpy.ufunc'>\n"
     ]
    }
   ],
   "metadata": {}
  },
  {
   "cell_type": "code",
   "execution_count": 6,
   "source": [
    "import numpy as np\r\n",
    "\r\n",
    "print(type(np.add))\r\n",
    "\r\n",
    "print(type(np.concatenate))"
   ],
   "outputs": [
    {
     "output_type": "stream",
     "name": "stdout",
     "text": [
      "<class 'numpy.ufunc'>\n",
      "<class 'function'>\n"
     ]
    }
   ],
   "metadata": {}
  },
  {
   "cell_type": "code",
   "execution_count": null,
   "source": [
    "2/ Simple Arithmetic: + - * /"
   ],
   "outputs": [],
   "metadata": {}
  },
  {
   "cell_type": "code",
   "execution_count": 11,
   "source": [
    "# add()\r\n",
    "\r\n",
    "import numpy as np\r\n",
    "\r\n",
    "arr1 = np.array([10, 11, 12, 13, 14, 15])\r\n",
    "arr2 = np.array([20, 21, 22, 23, 24, 25])\r\n",
    "\r\n",
    "newarr = np.add(arr1, arr2)\r\n",
    "\r\n",
    "print(newarr)"
   ],
   "outputs": [
    {
     "output_type": "stream",
     "name": "stdout",
     "text": [
      "[30 32 34 36 38 40]\n"
     ]
    }
   ],
   "metadata": {}
  },
  {
   "cell_type": "code",
   "execution_count": 14,
   "source": [
    "import numpy as np\r\n",
    "\r\n",
    "arr1 = np.array([[10, 11, 12], [13, 14, 15]])\r\n",
    "arr2 = np.array([[20, 21, 22], [23, 24, 25]])\r\n",
    "\r\n",
    "newarr = np.add(arr1, arr2)\r\n",
    "\r\n",
    "print(newarr)"
   ],
   "outputs": [
    {
     "output_type": "stream",
     "name": "stdout",
     "text": [
      "[[30 32 34]\n",
      " [36 38 40]]\n"
     ]
    }
   ],
   "metadata": {}
  },
  {
   "cell_type": "code",
   "execution_count": 8,
   "source": [
    "# subtract() = minus\r\n",
    "\r\n",
    "import numpy as np\r\n",
    "\r\n",
    "arr1 = np.array([10, 20, 30, 40, 50, 60])\r\n",
    "arr2 = np.array([20, 21, 22, 23, 24, 25])\r\n",
    "\r\n",
    "newarr = np.subtract(arr1, arr2)\r\n",
    "\r\n",
    "print(newarr)"
   ],
   "outputs": [
    {
     "output_type": "stream",
     "name": "stdout",
     "text": [
      "[-10  -1   8  17  26  35]\n"
     ]
    }
   ],
   "metadata": {}
  },
  {
   "cell_type": "code",
   "execution_count": 15,
   "source": [
    "# multiply()\r\n",
    "\r\n",
    "\r\n",
    "arr1 = np.array([10, 20, 30, 40, 50, 60])\r\n",
    "arr2 = np.array([20, 21, 22, 23, 24, 25])\r\n",
    "\r\n",
    "newarr = np.multiply(arr1, arr2)\r\n",
    "\r\n",
    "print(newarr)"
   ],
   "outputs": [
    {
     "output_type": "stream",
     "name": "stdout",
     "text": [
      "[ 200  420  660  920 1200 1500]\n"
     ]
    }
   ],
   "metadata": {}
  },
  {
   "cell_type": "code",
   "execution_count": 16,
   "source": [
    "# divide()\r\n",
    "\r\n",
    "import numpy as np\r\n",
    "\r\n",
    "arr1 = np.array([10, 20, 30, 40, 50, 60])\r\n",
    "arr2 = np.array([3, 5, 10, 8, 2, 33])\r\n",
    "\r\n",
    "newarr = np.divide(arr1, arr2)\r\n",
    "\r\n",
    "print(newarr)"
   ],
   "outputs": [
    {
     "output_type": "stream",
     "name": "stdout",
     "text": [
      "[ 3.33333333  4.          3.          5.         25.          1.81818182]\n"
     ]
    }
   ],
   "metadata": {}
  },
  {
   "cell_type": "code",
   "execution_count": 19,
   "source": [
    "# power()\r\n",
    "\r\n",
    "import numpy as np\r\n",
    "\r\n",
    "arr1 = np.array([1, 2, 3, 4, 5, 6])\r\n",
    "arr2 = np.array([3, 5, 6, 8, 2, 4])\r\n",
    "\r\n",
    "newarr = np.power(arr1, arr2)\r\n",
    "\r\n",
    "print(newarr)"
   ],
   "outputs": [
    {
     "output_type": "stream",
     "name": "stdout",
     "text": [
      "[    1    32   729 65536    25  1296]\n"
     ]
    }
   ],
   "metadata": {}
  },
  {
   "cell_type": "code",
   "execution_count": 20,
   "source": [
    "# mod() and the remainder()\r\n",
    "\r\n",
    "import numpy as np\r\n",
    "\r\n",
    "arr1 = np.array([10, 20, 30, 40, 50, 60])\r\n",
    "arr2 = np.array([3, 7, 9, 8, 2, 33])\r\n",
    "\r\n",
    "newarr = np.mod(arr1, arr2)\r\n",
    "\r\n",
    "print(newarr)"
   ],
   "outputs": [
    {
     "output_type": "stream",
     "name": "stdout",
     "text": [
      "[ 1  6  3  0  0 27]\n"
     ]
    }
   ],
   "metadata": {}
  },
  {
   "cell_type": "code",
   "execution_count": 2,
   "source": [
    "# divmod() \r\n",
    "# divmod() function return both the quotient and the the mod\r\n",
    "# The return value is two arrays, the first array contains the quotient\r\n",
    "# and second array contains the mod.\r\n",
    "\r\n",
    "import numpy as np\r\n",
    "\r\n",
    "arr1 = np.array([10, 20, 30, 40, 50, 60])\r\n",
    "arr2 = np.array([3, 7, 9, 8, 2, 33])\r\n",
    "\r\n",
    "newarr = np.divmod(arr1, arr2)\r\n",
    "\r\n",
    "print(newarr, '\\n')\r\n",
    "print(newarr[0])\r\n",
    "print(newarr[1])"
   ],
   "outputs": [
    {
     "output_type": "stream",
     "name": "stdout",
     "text": [
      "(array([ 3,  2,  3,  5, 25,  1], dtype=int32), array([ 1,  6,  3,  0,  0, 27], dtype=int32)) \n",
      "\n",
      "[ 3  2  3  5 25  1]\n",
      "[ 1  6  3  0  0 27]\n"
     ]
    }
   ],
   "metadata": {}
  },
  {
   "cell_type": "code",
   "execution_count": 24,
   "source": [
    "# absolute() and the abs()\r\n",
    "# we should use absolute() to avoid confusion with python's inbuilt math.abs()\r\n",
    "\r\n",
    "import numpy as np\r\n",
    "\r\n",
    "arr = np.array([-1, -2, 1, 2, 3, -4])\r\n",
    "\r\n",
    "newarr = np.absolute(arr)\r\n",
    "\r\n",
    "print(newarr)"
   ],
   "outputs": [
    {
     "output_type": "stream",
     "name": "stdout",
     "text": [
      "[1 2 1 2 3 4]\n"
     ]
    }
   ],
   "metadata": {}
  },
  {
   "cell_type": "code",
   "execution_count": 31,
   "source": [
    "import numpy as np \r\n",
    "a = np.arange(9, dtype = np.float_).reshape(3,3) \r\n",
    "\r\n",
    "print('First array:\\n', a,'\\n') \r\n",
    "\r\n",
    "b = np.array([10,10,10])\r\n",
    "#b = np.array([10])\r\n",
    "#b = 10\r\n",
    "#b = np.array([[10,10,10]]).T\r\n",
    "print('Second array:\\n', b, '\\n') \r\n",
    "\r\n",
    "print('Add the two arrays:\\n', np.add(a,b), '\\n') \r\n",
    "\r\n",
    "print('Subtract the two arrays:\\n', np.subtract(a,b), '\\n')\r\n",
    "\r\n",
    "print('Multiply the two arrays:\\n', np.multiply(a,b), '\\n')\r\n",
    "\r\n",
    "print('Divide the two arrays:\\n', np.divide(a,b))"
   ],
   "outputs": [
    {
     "output_type": "stream",
     "name": "stdout",
     "text": [
      "First array:\n",
      " [[0. 1. 2.]\n",
      " [3. 4. 5.]\n",
      " [6. 7. 8.]] \n",
      "\n",
      "Second array:\n",
      " [10 10 10] \n",
      "\n",
      "Add the two arrays:\n",
      " [[10. 11. 12.]\n",
      " [13. 14. 15.]\n",
      " [16. 17. 18.]] \n",
      "\n",
      "Subtract the two arrays:\n",
      " [[-10.  -9.  -8.]\n",
      " [ -7.  -6.  -5.]\n",
      " [ -4.  -3.  -2.]] \n",
      "\n",
      "Multiply the two arrays:\n",
      " [[ 0. 10. 20.]\n",
      " [30. 40. 50.]\n",
      " [60. 70. 80.]] \n",
      "\n",
      "Divide the two arrays:\n",
      " [[0.  0.1 0.2]\n",
      " [0.3 0.4 0.5]\n",
      " [0.6 0.7 0.8]]\n"
     ]
    }
   ],
   "metadata": {}
  },
  {
   "cell_type": "code",
   "execution_count": 32,
   "source": [
    "import numpy as np \r\n",
    "a = np.arange(9, dtype = np.float_).reshape(3,3) \r\n",
    "\r\n",
    "print('First array:\\n', a,'\\n') \r\n",
    "\r\n",
    "b = np.array([8,9,10])\r\n",
    "print('Second array:\\n', b, '\\n') \r\n",
    "\r\n",
    "print('Add the two arrays:\\n', np.add(a,b), '\\n') \r\n",
    "\r\n",
    "print('Subtract the two arrays:\\n', np.subtract(a,b), '\\n')\r\n",
    "\r\n",
    "print('Multiply the two arrays:\\n', np.multiply(a,b), '\\n')\r\n",
    "\r\n",
    "print('Divide the two arrays:\\n', np.divide(a,b))"
   ],
   "outputs": [
    {
     "output_type": "stream",
     "name": "stdout",
     "text": [
      "First array:\n",
      " [[0. 1. 2.]\n",
      " [3. 4. 5.]\n",
      " [6. 7. 8.]] \n",
      "\n",
      "Second array:\n",
      " [ 8  9 10] \n",
      "\n",
      "Add the two arrays:\n",
      " [[ 8. 10. 12.]\n",
      " [11. 13. 15.]\n",
      " [14. 16. 18.]] \n",
      "\n",
      "Subtract the two arrays:\n",
      " [[-8. -8. -8.]\n",
      " [-5. -5. -5.]\n",
      " [-2. -2. -2.]] \n",
      "\n",
      "Multiply the two arrays:\n",
      " [[ 0.  9. 20.]\n",
      " [24. 36. 50.]\n",
      " [48. 63. 80.]] \n",
      "\n",
      "Divide the two arrays:\n",
      " [[0.         0.11111111 0.2       ]\n",
      " [0.375      0.44444444 0.5       ]\n",
      " [0.75       0.77777778 0.8       ]]\n"
     ]
    }
   ],
   "metadata": {}
  },
  {
   "cell_type": "code",
   "execution_count": 34,
   "source": [
    "import numpy as np \r\n",
    "a = np.arange(9, dtype = np.float_).reshape(3,3) \r\n",
    "\r\n",
    "print('First array:\\n', a,'\\n') \r\n",
    "\r\n",
    "b = np.array([[8,9,10]]).T\r\n",
    "print('Second array:\\n', b, '\\n') \r\n",
    "\r\n",
    "print('Add the two arrays:\\n', np.add(a,b), '\\n') \r\n",
    "\r\n",
    "print('Subtract the two arrays:\\n', np.subtract(a,b), '\\n')\r\n",
    "\r\n",
    "print('Multiply the two arrays:\\n', np.multiply(a,b), '\\n')\r\n",
    "\r\n",
    "print('Divide the two arrays:\\n', np.divide(a,b))"
   ],
   "outputs": [
    {
     "output_type": "stream",
     "name": "stdout",
     "text": [
      "First array:\n",
      " [[0. 1. 2.]\n",
      " [3. 4. 5.]\n",
      " [6. 7. 8.]] \n",
      "\n",
      "Second array:\n",
      " [[ 8]\n",
      " [ 9]\n",
      " [10]] \n",
      "\n",
      "Add the two arrays:\n",
      " [[ 8.  9. 10.]\n",
      " [12. 13. 14.]\n",
      " [16. 17. 18.]] \n",
      "\n",
      "Subtract the two arrays:\n",
      " [[-8. -7. -6.]\n",
      " [-6. -5. -4.]\n",
      " [-4. -3. -2.]] \n",
      "\n",
      "Multiply the two arrays:\n",
      " [[ 0.  8. 16.]\n",
      " [27. 36. 45.]\n",
      " [60. 70. 80.]] \n",
      "\n",
      "Divide the two arrays:\n",
      " [[0.         0.125      0.25      ]\n",
      " [0.33333333 0.44444444 0.55555556]\n",
      " [0.6        0.7        0.8       ]]\n"
     ]
    }
   ],
   "metadata": {}
  },
  {
   "cell_type": "code",
   "execution_count": 41,
   "source": [
    "#reciprocal() : Nghịch đảo\r\n",
    "import numpy as np \r\n",
    "a = np.array([0.25, 1.33, 1, 0, 100]) \r\n",
    "\r\n",
    "print('Our array is:\\n', a, '\\n')   \r\n",
    "\r\n",
    "print('After applying reciprocal function:\\n', np.reciprocal(a), '\\n')\r\n",
    "\r\n",
    "b = np.array([100], dtype = int)\r\n",
    "#b = np.array([100], dtype = float)\r\n",
    "print('The second array is:\\n', b, '\\n') \r\n",
    "\r\n",
    "print('After applying reciprocal function:\\n', np.reciprocal(b) )\r\n"
   ],
   "outputs": [
    {
     "output_type": "stream",
     "name": "stdout",
     "text": [
      "Our array is:\n",
      " [  0.25   1.33   1.     0.   100.  ] \n",
      "\n",
      "After applying reciprocal function:\n",
      " [4.        0.7518797 1.              inf 0.01     ] \n",
      "\n",
      "The second array is:\n",
      " [100] \n",
      "\n",
      "After applying reciprocal function:\n",
      " [0]\n"
     ]
    },
    {
     "output_type": "stream",
     "name": "stderr",
     "text": [
      "<ipython-input-41-9f59583309e9>:10: RuntimeWarning: divide by zero encountered in reciprocal\n",
      "  print('After applying reciprocal function:\\n', np.reciprocal(a), '\\n')\n"
     ]
    }
   ],
   "metadata": {}
  },
  {
   "cell_type": "code",
   "execution_count": null,
   "source": [
    "# 3/ Rounding Decimals\r\n",
    "truncation\r\n",
    "fix\r\n",
    "rounding\r\n",
    "floor\r\n",
    "ceil"
   ],
   "outputs": [],
   "metadata": {}
  },
  {
   "cell_type": "code",
   "execution_count": 42,
   "source": [
    "# trunc : Làm tròn xuống gần số 0\r\n",
    "\r\n",
    "import numpy as np\r\n",
    "\r\n",
    "arr = np.trunc([-3.1666, 3.6667])\r\n",
    "\r\n",
    "print(arr)"
   ],
   "outputs": [
    {
     "output_type": "stream",
     "name": "stdout",
     "text": [
      "[-3.  3.]\n"
     ]
    }
   ],
   "metadata": {}
  },
  {
   "cell_type": "code",
   "execution_count": 3,
   "source": [
    "# fix() :Làm tròn xuống gần số 0\r\n",
    "\r\n",
    "import numpy as np\r\n",
    "\r\n",
    "arr = np.fix([-3.1666, 3.6667])\r\n",
    "\r\n",
    "print(arr)"
   ],
   "outputs": [
    {
     "output_type": "stream",
     "name": "stdout",
     "text": [
      "[-3.  3.]\n"
     ]
    }
   ],
   "metadata": {}
  },
  {
   "cell_type": "code",
   "execution_count": 45,
   "source": [
    "# around() : Làm tròn theo ... số\r\n",
    "\r\n",
    "import numpy as np\r\n",
    "\r\n",
    "arr = np.around(3.1666, 2)\r\n",
    "print(arr)\r\n",
    "\r\n",
    "arr1 = np.around([-3.1666, 3.6667], 2)\r\n",
    "print(arr1)"
   ],
   "outputs": [
    {
     "output_type": "stream",
     "name": "stdout",
     "text": [
      "3.17\n",
      "[-3.17  3.67]\n"
     ]
    }
   ],
   "metadata": {}
  },
  {
   "cell_type": "code",
   "execution_count": 46,
   "source": [
    "# floor() :Làm tròn lùi 1 đơn vị./ Lấy phần nguyên dưới\r\n",
    "\r\n",
    "import numpy as np\r\n",
    "\r\n",
    "arr = np.floor([-3.1666, 3.6667])\r\n",
    "\r\n",
    "print(arr)"
   ],
   "outputs": [
    {
     "output_type": "stream",
     "name": "stdout",
     "text": [
      "[-4.  3.]\n"
     ]
    }
   ],
   "metadata": {}
  },
  {
   "cell_type": "code",
   "execution_count": 47,
   "source": [
    "# ceil() :Làm tròn lên 1 đơn vị. / Lây phần nguyên trên\r\n",
    "\r\n",
    "import numpy as np\r\n",
    "\r\n",
    "arr = np.ceil([-3.1666, 3.6667])\r\n",
    "\r\n",
    "print(arr)"
   ],
   "outputs": [
    {
     "output_type": "stream",
     "name": "stdout",
     "text": [
      "[-3.  4.]\n"
     ]
    }
   ],
   "metadata": {}
  },
  {
   "cell_type": "code",
   "execution_count": null,
   "source": [
    "4/ Logs: log2, log10, log, log any base"
   ],
   "outputs": [],
   "metadata": {}
  },
  {
   "cell_type": "code",
   "execution_count": 48,
   "source": [
    "# Log at Base 2\r\n",
    "\r\n",
    "import numpy as np\r\n",
    "\r\n",
    "arr = np.arange(1, 10)\r\n",
    "\r\n",
    "print(np.log2(arr))"
   ],
   "outputs": [
    {
     "output_type": "stream",
     "name": "stdout",
     "text": [
      "[0.         1.         1.5849625  2.         2.32192809 2.5849625\n",
      " 2.80735492 3.         3.169925  ]\n"
     ]
    }
   ],
   "metadata": {}
  },
  {
   "cell_type": "code",
   "execution_count": 49,
   "source": [
    "# Log at Base 10\r\n",
    "\r\n",
    "import numpy as np\r\n",
    "\r\n",
    "arr = np.arange(1, 10)\r\n",
    "\r\n",
    "print(np.log10(arr))"
   ],
   "outputs": [
    {
     "output_type": "stream",
     "name": "stdout",
     "text": [
      "[0.         0.30103    0.47712125 0.60205999 0.69897    0.77815125\n",
      " 0.84509804 0.90308999 0.95424251]\n"
     ]
    }
   ],
   "metadata": {}
  },
  {
   "cell_type": "code",
   "execution_count": 50,
   "source": [
    "# Natural Log, or Log at Base e\r\n",
    "\r\n",
    "import numpy as np\r\n",
    "\r\n",
    "arr = np.arange(1, 10)\r\n",
    "\r\n",
    "print(np.log(arr))"
   ],
   "outputs": [
    {
     "output_type": "stream",
     "name": "stdout",
     "text": [
      "[0.         0.69314718 1.09861229 1.38629436 1.60943791 1.79175947\n",
      " 1.94591015 2.07944154 2.19722458]\n"
     ]
    }
   ],
   "metadata": {}
  },
  {
   "cell_type": "code",
   "execution_count": 1,
   "source": [
    "# Log at Any Base\r\n",
    "# NumPy does not provide any function to take log at any base,\r\n",
    "# so we can use the frompyfunc() function along with inbuilt function math.log()\r\n",
    "# with two input parameters and one output parameter:\r\n",
    "\r\n",
    "from math import log\r\n",
    "import numpy as np\r\n",
    "\r\n",
    "nplog = np.frompyfunc(log, 2, 1)\r\n",
    "\r\n",
    "print(nplog(np.array([[100],[200]]), 15),'\\n')\r\n",
    "print(np.power(15, nplog(100, 15)))"
   ],
   "outputs": [
    {
     "output_type": "stream",
     "name": "stdout",
     "text": [
      "[[1.7005483074552052]\n",
      " [1.9565063322650205]] \n",
      "\n",
      "100.00000000000001\n"
     ]
    }
   ],
   "metadata": {}
  },
  {
   "cell_type": "code",
   "execution_count": 6,
   "source": [
    "from math import log\r\n",
    "import numpy as np\r\n",
    "\r\n",
    "log_np= np.frompyfunc(log, 2, 1)\r\n",
    "print(np.around(log_np(100,15),2))"
   ],
   "outputs": [
    {
     "output_type": "stream",
     "name": "stdout",
     "text": [
      "1.7\n"
     ]
    }
   ],
   "metadata": {}
  },
  {
   "cell_type": "code",
   "execution_count": null,
   "source": [
    "# 5/ Summations: sum, cumsum"
   ],
   "outputs": [],
   "metadata": {}
  },
  {
   "cell_type": "code",
   "execution_count": 59,
   "source": [
    "import numpy as np\r\n",
    "\r\n",
    "arr1 = np.array([1, 2, 3])\r\n",
    "arr2 = np.array([1, 2, 3])\r\n",
    "\r\n",
    "newarr = np.add(arr1, arr2)\r\n",
    "\r\n",
    "print(newarr)"
   ],
   "outputs": [
    {
     "output_type": "stream",
     "name": "stdout",
     "text": [
      "[2 4 6]\n"
     ]
    }
   ],
   "metadata": {}
  },
  {
   "cell_type": "code",
   "execution_count": 60,
   "source": [
    "# sum()\r\n",
    "\r\n",
    "import numpy as np\r\n",
    "\r\n",
    "arr1 = np.array([1, 2, 3])\r\n",
    "arr2 = np.array([1, 2, 3])\r\n",
    "\r\n",
    "newarr = np.sum([arr1, arr2])\r\n",
    "\r\n",
    "print(newarr)"
   ],
   "outputs": [
    {
     "output_type": "stream",
     "name": "stdout",
     "text": [
      "12\n"
     ]
    }
   ],
   "metadata": {}
  },
  {
   "cell_type": "code",
   "execution_count": 70,
   "source": [
    "import numpy as np\r\n",
    "\r\n",
    "arr1 = np.array([1, 2, 3])\r\n",
    "arr2 = np.array([1, 2, 3])\r\n",
    "\r\n",
    "newarr = np.sum([arr1, arr2], axis=0)\r\n",
    "\r\n",
    "print(newarr)"
   ],
   "outputs": [
    {
     "output_type": "stream",
     "name": "stdout",
     "text": [
      "[2 4 6]\n"
     ]
    }
   ],
   "metadata": {}
  },
  {
   "cell_type": "code",
   "execution_count": 61,
   "source": [
    "import numpy as np\r\n",
    "\r\n",
    "arr1 = np.array([1, 2, 3])\r\n",
    "arr2 = np.array([1, 2, 3])\r\n",
    "\r\n",
    "newarr = np.sum([arr1, arr2], axis=1)\r\n",
    "\r\n",
    "print(newarr)"
   ],
   "outputs": [
    {
     "output_type": "stream",
     "name": "stdout",
     "text": [
      "[6 6]\n"
     ]
    }
   ],
   "metadata": {}
  },
  {
   "cell_type": "code",
   "execution_count": 62,
   "source": [
    "# cumsum()\r\n",
    "\r\n",
    "import numpy as np\r\n",
    "\r\n",
    "arr = np.array([1, 2, 3])\r\n",
    "\r\n",
    "newarr = np.cumsum(arr) # [1, 1+2, 1+2+3]\r\n",
    "\r\n",
    "print(newarr)"
   ],
   "outputs": [
    {
     "output_type": "stream",
     "name": "stdout",
     "text": [
      "[1 3 6]\n"
     ]
    }
   ],
   "metadata": {}
  },
  {
   "cell_type": "code",
   "execution_count": null,
   "source": [
    "6/ Products: prod(), cumprod()"
   ],
   "outputs": [],
   "metadata": {}
  },
  {
   "cell_type": "code",
   "execution_count": 63,
   "source": [
    "# prod()\r\n",
    "import numpy as np\r\n",
    "\r\n",
    "arr = np.array([1, 2, 3, 4])\r\n",
    "\r\n",
    "x = np.prod(arr)\r\n",
    "\r\n",
    "print(x)"
   ],
   "outputs": [
    {
     "output_type": "stream",
     "name": "stdout",
     "text": [
      "24\n"
     ]
    }
   ],
   "metadata": {}
  },
  {
   "cell_type": "code",
   "execution_count": 64,
   "source": [
    "import numpy as np\r\n",
    "\r\n",
    "arr1 = np.array([1, 2, 3, 4])\r\n",
    "arr2 = np.array([5, 6, 7, 8])\r\n",
    "\r\n",
    "x = np.prod([arr1, arr2]) # 1*2*3*4*5*6*7*8\r\n",
    "\r\n",
    "print(x)"
   ],
   "outputs": [
    {
     "output_type": "stream",
     "name": "stdout",
     "text": [
      "40320\n"
     ]
    }
   ],
   "metadata": {}
  },
  {
   "cell_type": "code",
   "execution_count": 68,
   "source": [
    "import numpy as np\r\n",
    "\r\n",
    "arr1 = np.array([1, 2, 3, 4])\r\n",
    "arr2 = np.array([5, 6, 7, 8])\r\n",
    "\r\n",
    "newarr = np.prod([arr1, arr2], axis=0)\r\n",
    "\r\n",
    "print(newarr)"
   ],
   "outputs": [
    {
     "output_type": "stream",
     "name": "stdout",
     "text": [
      "[ 5 12 21 32]\n"
     ]
    }
   ],
   "metadata": {}
  },
  {
   "cell_type": "code",
   "execution_count": 69,
   "source": [
    "import numpy as np\r\n",
    "\r\n",
    "arr1 = np.array([1, 2, 3, 4])\r\n",
    "arr2 = np.array([5, 6, 7, 8])\r\n",
    "\r\n",
    "newarr = np.prod([arr1, arr2], axis=1)\r\n",
    "\r\n",
    "print(newarr)"
   ],
   "outputs": [
    {
     "output_type": "stream",
     "name": "stdout",
     "text": [
      "[  24 1680]\n"
     ]
    }
   ],
   "metadata": {}
  },
  {
   "cell_type": "code",
   "execution_count": 71,
   "source": [
    "# cumprod()\r\n",
    "\r\n",
    "import numpy as np\r\n",
    "\r\n",
    "arr = np.array([1, 2, 3, 4])\r\n",
    "\r\n",
    "newarr = np.cumprod(arr) # [1, 1*2, 1*2*3, 1*2*3*4]\r\n",
    "\r\n",
    "print(newarr)"
   ],
   "outputs": [
    {
     "output_type": "stream",
     "name": "stdout",
     "text": [
      "[ 1  2  6 24]\n"
     ]
    }
   ],
   "metadata": {}
  },
  {
   "cell_type": "code",
   "execution_count": 72,
   "source": [
    "# 7/ Differences\r\n",
    "\r\n",
    "import numpy as np\r\n",
    "\r\n",
    "arr = np.array([10, 15, 25, 5])\r\n",
    "\r\n",
    "newarr = np.diff(arr) # 15-10=5, 25-15=10, and 5-25=-20\r\n",
    "\r\n",
    "print(newarr)"
   ],
   "outputs": [
    {
     "output_type": "stream",
     "name": "stdout",
     "text": [
      "[  5  10 -20]\n"
     ]
    }
   ],
   "metadata": {}
  },
  {
   "cell_type": "code",
   "execution_count": 73,
   "source": [
    "import numpy as np\r\n",
    "\r\n",
    "arr = np.array([10, 15, 25, 5])\r\n",
    "\r\n",
    "newarr = np.diff(arr, n=2) # 15-10=5, 25-15=10, and 5-25=-20 => [5 10 -20], 10-5=5, -20-10=-30 =>[5, -30]\r\n",
    "\r\n",
    "print(newarr)"
   ],
   "outputs": [
    {
     "output_type": "stream",
     "name": "stdout",
     "text": [
      "[  5 -30]\n"
     ]
    }
   ],
   "metadata": {}
  },
  {
   "cell_type": "code",
   "execution_count": 76,
   "source": [
    "# LCM Lowest Common Multiple"
   ],
   "outputs": [],
   "metadata": {}
  },
  {
   "cell_type": "code",
   "execution_count": 78,
   "source": [
    "import numpy as np\r\n",
    "\r\n",
    "num1 = 4\r\n",
    "num2 = 6\r\n",
    "\r\n",
    "x = np.lcm(num1, num2)\r\n",
    "\r\n",
    "print(x)"
   ],
   "outputs": [
    {
     "output_type": "stream",
     "name": "stdout",
     "text": [
      "12\n",
      "<class 'numpy.ufunc'>\n"
     ]
    }
   ],
   "metadata": {}
  },
  {
   "cell_type": "code",
   "execution_count": 79,
   "source": [
    "import numpy as np\r\n",
    "\r\n",
    "arr = np.array([3, 6, 9])\r\n",
    "\r\n",
    "x = np.lcm.reduce(arr)\r\n",
    "\r\n",
    "print(x)"
   ],
   "outputs": [
    {
     "output_type": "stream",
     "name": "stdout",
     "text": [
      "18\n"
     ]
    }
   ],
   "metadata": {}
  },
  {
   "cell_type": "code",
   "execution_count": 80,
   "source": [
    "import numpy as np\r\n",
    "\r\n",
    "arr = np.arange(1, 11)\r\n",
    "\r\n",
    "x = np.lcm.reduce(arr)\r\n",
    "\r\n",
    "print(x)"
   ],
   "outputs": [
    {
     "output_type": "stream",
     "name": "stdout",
     "text": [
      "2520\n"
     ]
    }
   ],
   "metadata": {}
  },
  {
   "cell_type": "code",
   "execution_count": null,
   "source": [
    "# 9/ GCD Greatest Common Denominator"
   ],
   "outputs": [],
   "metadata": {}
  },
  {
   "cell_type": "code",
   "execution_count": 81,
   "source": [
    "import numpy as np\r\n",
    "\r\n",
    "num1 = 6\r\n",
    "num2 = 9\r\n",
    "\r\n",
    "x = np.gcd(num1, num2)\r\n",
    "\r\n",
    "print(x)"
   ],
   "outputs": [
    {
     "output_type": "stream",
     "name": "stdout",
     "text": [
      "3\n"
     ]
    }
   ],
   "metadata": {}
  },
  {
   "cell_type": "code",
   "execution_count": 82,
   "source": [
    "import numpy as np\r\n",
    "\r\n",
    "arr = np.array([20, 8, 32, 36, 16])\r\n",
    "\r\n",
    "x = np.gcd.reduce(arr)\r\n",
    "\r\n",
    "print(x)"
   ],
   "outputs": [
    {
     "output_type": "stream",
     "name": "stdout",
     "text": [
      "4\n"
     ]
    }
   ],
   "metadata": {}
  },
  {
   "cell_type": "code",
   "execution_count": null,
   "source": [
    "# 10/ Trigonometric Functions"
   ],
   "outputs": [],
   "metadata": {}
  },
  {
   "cell_type": "code",
   "execution_count": null,
   "source": [
    "# sin(), cos() and tan()"
   ],
   "outputs": [],
   "metadata": {}
  },
  {
   "cell_type": "code",
   "execution_count": 83,
   "source": [
    "import numpy as np\r\n",
    "\r\n",
    "x = np.sin(np.pi/2)\r\n",
    "\r\n",
    "print(x)"
   ],
   "outputs": [
    {
     "output_type": "stream",
     "name": "stdout",
     "text": [
      "1.0\n"
     ]
    }
   ],
   "metadata": {}
  },
  {
   "cell_type": "code",
   "execution_count": 84,
   "source": [
    "import numpy as np\r\n",
    "\r\n",
    "arr = np.array([np.pi/2, np.pi/3, np.pi/4, np.pi/5])\r\n",
    "\r\n",
    "x = np.sin(arr)\r\n",
    "\r\n",
    "print(x)"
   ],
   "outputs": [
    {
     "output_type": "stream",
     "name": "stdout",
     "text": [
      "[1.         0.8660254  0.70710678 0.58778525]\n"
     ]
    }
   ],
   "metadata": {}
  },
  {
   "cell_type": "code",
   "execution_count": 85,
   "source": [
    "# Convert Degrees Into Radians\r\n",
    "\r\n",
    "import numpy as np\r\n",
    "\r\n",
    "arr = np.array([90, 180, 270, 360])\r\n",
    "\r\n",
    "x = np.deg2rad(arr)\r\n",
    "\r\n",
    "print(x)"
   ],
   "outputs": [
    {
     "output_type": "stream",
     "name": "stdout",
     "text": [
      "[1.57079633 3.14159265 4.71238898 6.28318531]\n"
     ]
    }
   ],
   "metadata": {}
  },
  {
   "cell_type": "code",
   "execution_count": 86,
   "source": [
    "# Radians to Degrees\r\n",
    "\r\n",
    "import numpy as np\r\n",
    "\r\n",
    "arr = np.array([np.pi/2, np.pi, 1.5*np.pi, 2*np.pi])\r\n",
    "\r\n",
    "x = np.rad2deg(arr)\r\n",
    "\r\n",
    "print(x)"
   ],
   "outputs": [
    {
     "output_type": "stream",
     "name": "stdout",
     "text": [
      "[ 90. 180. 270. 360.]\n"
     ]
    }
   ],
   "metadata": {}
  },
  {
   "cell_type": "code",
   "execution_count": null,
   "source": [
    "# arcsin(), arccos() and arctan()"
   ],
   "outputs": [],
   "metadata": {}
  },
  {
   "cell_type": "code",
   "execution_count": 87,
   "source": [
    "import numpy as np\r\n",
    "\r\n",
    "x = np.arcsin(1.0)\r\n",
    "\r\n",
    "print(x)"
   ],
   "outputs": [
    {
     "output_type": "stream",
     "name": "stdout",
     "text": [
      "1.5707963267948966\n"
     ]
    }
   ],
   "metadata": {}
  },
  {
   "cell_type": "code",
   "execution_count": 88,
   "source": [
    "import numpy as np\r\n",
    "\r\n",
    "arr = np.array([1, -1, 0.1])\r\n",
    "\r\n",
    "x = np.arcsin(arr)\r\n",
    "\r\n",
    "print(x)"
   ],
   "outputs": [
    {
     "output_type": "stream",
     "name": "stdout",
     "text": [
      "[ 1.57079633 -1.57079633  0.10016742]\n"
     ]
    }
   ],
   "metadata": {}
  },
  {
   "cell_type": "code",
   "execution_count": 89,
   "source": [
    "# Hypotenues : Tìm cạnh thứ 3 trong tam giác Pitago\r\n",
    "# hypot() function that takes the base and perpendicular values\r\n",
    "# and produces hypotenues based on pythagoras theorem\r\n",
    "\r\n",
    "import numpy as np\r\n",
    "\r\n",
    "base = 3\r\n",
    "perp = 4\r\n",
    "\r\n",
    "x = np.hypot(base, perp)\r\n",
    "\r\n",
    "print(x)"
   ],
   "outputs": [
    {
     "output_type": "stream",
     "name": "stdout",
     "text": [
      "5.0\n"
     ]
    }
   ],
   "metadata": {}
  },
  {
   "cell_type": "code",
   "execution_count": null,
   "source": [
    "# 11/ Set Operations"
   ],
   "outputs": [],
   "metadata": {}
  },
  {
   "cell_type": "code",
   "execution_count": 90,
   "source": [
    "# unique() : Tổng hợp các phần tử không trùng nhau\r\n",
    "# to find unique elements from any array. E.g. create a set array,\r\n",
    "# but remember that the set arrays should only be 1-D arrays.\r\n",
    "\r\n",
    "import numpy as np\r\n",
    "\r\n",
    "arr = np.array([1, 1, 1, 2, 3, 4, 5, 5, 6, 7])\r\n",
    "\r\n",
    "x = np.unique(arr)\r\n",
    "\r\n",
    "print(x)"
   ],
   "outputs": [
    {
     "output_type": "stream",
     "name": "stdout",
     "text": [
      "[1 2 3 4 5 6 7]\n"
     ]
    }
   ],
   "metadata": {}
  },
  {
   "cell_type": "code",
   "execution_count": 91,
   "source": [
    "# union1d() : Tổng hợp các phần tử 2 array không trùng nhau\r\n",
    "\r\n",
    "import numpy as np\r\n",
    "\r\n",
    "arr1 = np.array([1, 2, 3, 4])\r\n",
    "arr2 = np.array([3, 4, 5, 6])\r\n",
    "\r\n",
    "newarr = np.union1d(arr1, arr2)\r\n",
    "\r\n",
    "print(newarr)"
   ],
   "outputs": [
    {
     "output_type": "stream",
     "name": "stdout",
     "text": [
      "[1 2 3 4 5 6]\n"
     ]
    }
   ],
   "metadata": {}
  },
  {
   "cell_type": "code",
   "execution_count": 97,
   "source": [
    "# intersect1d() : Chọn các phần tử trùng nhau ở 2 array\r\n",
    "# Phần tử chung\r\n",
    "import numpy as np\r\n",
    "\r\n",
    "arr1 = np.array([1, 2, 3, 3,  4])\r\n",
    "arr2 = np.array([3, 4, 4, 5, 6])\r\n",
    "\r\n",
    "newarr = np.intersect1d(arr1, arr2, assume_unique=True)\r\n",
    "# intersect1d() method takes an optional argument assume_unique,\r\n",
    "# which if set to True can speed up computation.\r\n",
    "# It should always be set to True when dealing with sets.\r\n",
    "\r\n",
    "print(newarr)"
   ],
   "outputs": [
    {
     "output_type": "stream",
     "name": "stdout",
     "text": [
      "[3 3 4 4]\n"
     ]
    }
   ],
   "metadata": {}
  },
  {
   "cell_type": "code",
   "execution_count": 98,
   "source": [
    "import numpy as np\r\n",
    "\r\n",
    "arr1 = np.array([1, 2, 3, 3,  4])\r\n",
    "arr2 = np.array([3, 4, 4, 5, 6])\r\n",
    "\r\n",
    "newarr = np.intersect1d(arr1, arr2, assume_unique=False)\r\n",
    "\r\n",
    "print(newarr)"
   ],
   "outputs": [
    {
     "output_type": "stream",
     "name": "stdout",
     "text": [
      "[3 4]\n"
     ]
    }
   ],
   "metadata": {}
  },
  {
   "cell_type": "code",
   "execution_count": 93,
   "source": [
    "# setdiff1d()\r\n",
    "# Phần tử trong set1 không có trong set2\r\n",
    "import numpy as np\r\n",
    "\r\n",
    "set1 = np.array([1, 2, 3, 4])\r\n",
    "set2 = np.array([3, 4, 5, 6])\r\n",
    "\r\n",
    "newarr = np.setdiff1d(set1, set2, assume_unique=True)\r\n",
    "\r\n",
    "print(newarr)"
   ],
   "outputs": [
    {
     "output_type": "stream",
     "name": "stdout",
     "text": [
      "[1 2]\n"
     ]
    }
   ],
   "metadata": {}
  },
  {
   "cell_type": "code",
   "execution_count": 104,
   "source": [
    "# setxor1d()\r\n",
    "# Phần tử riêng của set1 và set2\r\n",
    "import numpy as np\r\n",
    "\r\n",
    "set1 = np.array([1, 2, 3, 3, 4])\r\n",
    "set2 = np.array([3, 4, 4, 5, 6])\r\n",
    "\r\n",
    "newarr = np.setxor1d(set1, set2, assume_unique=True)\r\n",
    "\r\n",
    "print(newarr)"
   ],
   "outputs": [
    {
     "output_type": "stream",
     "name": "stdout",
     "text": [
      "[1 2 5 6]\n"
     ]
    }
   ],
   "metadata": {}
  }
 ],
 "metadata": {
  "kernelspec": {
   "name": "python3",
   "display_name": "Python 3.9.1 64-bit"
  },
  "language_info": {
   "codemirror_mode": {
    "name": "ipython",
    "version": 3
   },
   "file_extension": ".py",
   "mimetype": "text/x-python",
   "name": "python",
   "nbconvert_exporter": "python",
   "pygments_lexer": "ipython3",
   "version": "3.9.1"
  },
  "interpreter": {
   "hash": "8da01e5a71448ea74f54d88afa8911010d1d12e23bc7e103d40d5def4a09152c"
  }
 },
 "nbformat": 4,
 "nbformat_minor": 4
}
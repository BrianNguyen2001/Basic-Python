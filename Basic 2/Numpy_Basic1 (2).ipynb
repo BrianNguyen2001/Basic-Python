{
 "cells": [
  {
   "cell_type": "code",
   "execution_count": null,
   "source": [
    "NumPy stands for Numerical Python.\r\n",
    "NumPy is a Python library used for working with arrays.\r\n",
    "It also has functions for working in domain of linear algebra, fourier transform, and matrices."
   ],
   "outputs": [],
   "metadata": {}
  },
  {
   "cell_type": "code",
   "execution_count": null,
   "source": [
    "In Python we have lists that serve the purpose of arrays, but they are slow to process.\r\n",
    "NumPy aims to provide an array object that is up to 50x faster than traditional Python lists.\r\n",
    "The array object in NumPy is called ndarray, it provides a lot of supporting functions\r\n",
    "that make working with ndarray very easy.\r\n",
    "Arrays are very frequently used in data science, where speed and resources are very important."
   ],
   "outputs": [],
   "metadata": {}
  },
  {
   "cell_type": "code",
   "execution_count": null,
   "source": [
    "The source code for NumPy is located at this github repository https://github.com/numpy/numpy"
   ],
   "outputs": [],
   "metadata": {}
  },
  {
   "cell_type": "code",
   "execution_count": null,
   "source": [
    "Table of content:\r\n",
    "1/ A list, tuple or any array-like object into the array() method, narray\r\n",
    "2/ numpy.array(object, dtype = None, copy = True, order = None, subok = False, ndmin = 0)\r\n",
    "3/ Accessing: array indexing, negative indexing, slicing\r\n",
    "\tinteger indexing, boolean Array Indexing\r\n",
    "4/ NaN (Not a Number), ~np.isnan(a)\r\n",
    "\tnp.iscomplex(a)\r\n",
    "5/ Data Types in NumPy, dtype, np.dtype\r\n",
    "Converting Data Type on Existing Arrays: astype()\r\n",
    "6/ Shape of an Array: shape, reshape\r\n",
    "7/ Copy (Deep Copy), View (Shallow Copy), No Copy (=)\r\n",
    "\tReshape returns View\r\n",
    "8/ Array Iterating, nditer(), ndenumerate(), Modifying Array Values, External Loop (optional), Broadcasting Iteration\r\n",
    "9/ Array Manipulation\r\n",
    "\tTranspose Operations\r\n",
    "\tJoining Array: concatenate(), stack(), hstack(), vstack(), dstack()\r\n",
    "\tSplitting Array: array_split(), hsplit()\r\n",
    "\tAdding / Removing Elements: resize, append, insert, delete, unique\r\n",
    "10/ Searching: where(), extract(), nonzero() , numpy.argmax() & numpy.argmin(),\r\n",
    "11/ Sort: searchsorted(), side='right', lexsort()\r\n",
    "12/ Filter Array\r\n",
    "13/ count_nonzero()"
   ],
   "outputs": [],
   "metadata": {}
  },
  {
   "cell_type": "code",
   "execution_count": null,
   "source": [
    "# ndarray Object (N-dimensional array) "
   ],
   "outputs": [],
   "metadata": {}
  },
  {
   "cell_type": "code",
   "execution_count": 1,
   "source": [
    "import numpy as np\r\n",
    "\r\n",
    "arr = np.array([1, 2, 3, 4, 5])\r\n",
    "\r\n",
    "print(arr)\r\n",
    "\r\n",
    "print(type(arr))"
   ],
   "outputs": [
    {
     "output_type": "stream",
     "name": "stdout",
     "text": [
      "[1 2 3 4 5]\n",
      "<class 'numpy.ndarray'>\n"
     ]
    }
   ],
   "metadata": {}
  },
  {
   "cell_type": "code",
   "execution_count": 2,
   "source": [
    "# To create an ndarray, we can pass a list, tuple or any array-like object into the array() method, \r\n",
    "# and it will be converted into an ndarray\r\n",
    "import numpy as np\r\n",
    "\r\n",
    "arr = np.array((1, 2, 3, 4, 5))\r\n",
    "\r\n",
    "print(arr)\r\n",
    "print(type(arr))"
   ],
   "outputs": [
    {
     "output_type": "stream",
     "name": "stdout",
     "text": [
      "[1 2 3 4 5]\n",
      "<class 'numpy.ndarray'>\n"
     ]
    }
   ],
   "metadata": {}
  },
  {
   "cell_type": "code",
   "execution_count": 3,
   "source": [
    "# 0-D Arrays\r\n",
    "# 0-D arrays, or Scalars, are the elements in an array. Each value in an array is a 0-D array.\r\n",
    "import numpy as np\r\n",
    "\r\n",
    "arr = np.array(42)\r\n",
    "\r\n",
    "print(arr)"
   ],
   "outputs": [
    {
     "output_type": "stream",
     "name": "stdout",
     "text": [
      "42\n"
     ]
    }
   ],
   "metadata": {}
  },
  {
   "cell_type": "code",
   "execution_count": 2,
   "source": [
    "# 1-D Arrays\r\n",
    "# An array that has 0-D arrays as its elements is called uni-dimensional or 1-D array.\r\n",
    "import numpy as np\r\n",
    "\r\n",
    "arr = np.array([1, 2, 3, 4, 5])\r\n",
    "\r\n",
    "print(arr)\r\n",
    "\r\n",
    "for i in arr:\r\n",
    "    print(i, end=' ')"
   ],
   "outputs": [
    {
     "output_type": "stream",
     "name": "stdout",
     "text": [
      "[1 2 3 4 5]\n",
      "1 2 3 4 5 "
     ]
    }
   ],
   "metadata": {}
  },
  {
   "cell_type": "code",
   "execution_count": 7,
   "source": [
    "# 2-D Arrays\r\n",
    "# An array that has 1-D arrays as its elements is called a 2-D array.\r\n",
    "# These are often used to represent matrix or 2nd order tensors\r\n",
    "# => NumPy has a whole sub module dedicated towards matrix operations called numpy.mat\r\n",
    "import numpy as np\r\n",
    "\r\n",
    "arr = np.array([[1, 2, 3], [4, 5, 6]])\r\n",
    "\r\n",
    "print(arr)\r\n",
    "\r\n",
    "for i in arr:\r\n",
    "    print(i, end='')\r\n"
   ],
   "outputs": [
    {
     "output_type": "stream",
     "name": "stdout",
     "text": [
      "[[1 2 3]\n",
      " [4 5 6]]\n",
      "[1 2 3][4 5 6]"
     ]
    }
   ],
   "metadata": {}
  },
  {
   "cell_type": "code",
   "execution_count": 6,
   "source": [
    "#3-D arrays\r\n",
    "#An array that has 2-D arrays (matrices) as its elements is called 3-D array.\r\n",
    "#These are often used to represent a 3rd order tensor.\r\n",
    "import numpy as np\r\n",
    "\r\n",
    "arr = np.array([[[1, 2, 3], [4, 5, 6]], [[1, 2, 3], [4, 5, 6]]])\r\n",
    "\r\n",
    "print(arr)"
   ],
   "outputs": [
    {
     "output_type": "stream",
     "name": "stdout",
     "text": [
      "[[[1 2 3]\n",
      "  [4 5 6]]\n",
      "\n",
      " [[1 2 3]\n",
      "  [4 5 6]]]\n"
     ]
    }
   ],
   "metadata": {}
  },
  {
   "cell_type": "code",
   "execution_count": 7,
   "source": [
    "# Check Number of Dimensions? \r\n",
    "\r\n",
    "import numpy as np\r\n",
    "\r\n",
    "a = np.array(42)\r\n",
    "b = np.array([1, 2, 3, 4, 5])\r\n",
    "c = np.array([[1, 2, 3], [4, 5, 6]])\r\n",
    "d = np.array([[[1, 2, 3], [4, 5, 6]], [[1, 2, 3], [4, 5, 6]]])\r\n",
    "\r\n",
    "print(a.ndim)\r\n",
    "print(b.ndim)\r\n",
    "print(c.ndim)\r\n",
    "print(d.ndim)"
   ],
   "outputs": [
    {
     "output_type": "stream",
     "name": "stdout",
     "text": [
      "0\n",
      "1\n",
      "2\n",
      "3\n"
     ]
    }
   ],
   "metadata": {}
  },
  {
   "cell_type": "code",
   "execution_count": null,
   "source": [
    "numpy.array(object, dtype = None, copy = True, order = None, subok = False, ndmin = 0)\r\n",
    "1\t\r\n",
    "object\r\n",
    "\r\n",
    "Any object exposing the array interface method returns an array, or any (nested) sequence.\r\n",
    "\r\n",
    "2\t\r\n",
    "dtype\r\n",
    "\r\n",
    "Desired data type of array, optional\r\n",
    "\r\n",
    "3\t\r\n",
    "copy\r\n",
    "\r\n",
    "Optional. By default (true), the object is copied\r\n",
    "\r\n",
    "4\t\r\n",
    "order\r\n",
    "\r\n",
    "C (row major) or F (column major) or A (any) (default)\r\n",
    "\r\n",
    "5\t\r\n",
    "subok\r\n",
    "\r\n",
    "By default, returned array forced to be a base class array. If true, sub-classes passed through\r\n",
    "\r\n",
    "6\t\r\n",
    "ndmin\r\n",
    "\r\n",
    "Specifies minimum dimensions of resultant array"
   ],
   "outputs": [],
   "metadata": {}
  },
  {
   "cell_type": "code",
   "execution_count": 9,
   "source": [
    "import numpy as np \r\n",
    "a = np.array([1, 2, 3,4,5], ndmin = 1) \r\n",
    "print(a)"
   ],
   "outputs": [
    {
     "output_type": "stream",
     "name": "stdout",
     "text": [
      "[1 2 3 4 5]\n"
     ]
    }
   ],
   "metadata": {}
  },
  {
   "cell_type": "code",
   "execution_count": 8,
   "source": [
    "import numpy as np \r\n",
    "a = np.array([1, 2, 3,4,5], ndmin = 2) \r\n",
    "print(a)"
   ],
   "outputs": [
    {
     "output_type": "stream",
     "name": "stdout",
     "text": [
      "[[1 2 3 4 5]]\n"
     ]
    }
   ],
   "metadata": {}
  },
  {
   "cell_type": "code",
   "execution_count": 10,
   "source": [
    "import numpy as np \r\n",
    "a = np.array([1, 2, 3], dtype = complex) \r\n",
    "print(a)"
   ],
   "outputs": [
    {
     "output_type": "stream",
     "name": "stdout",
     "text": [
      "[1.+0.j 2.+0.j 3.+0.j]\n"
     ]
    }
   ],
   "metadata": {}
  },
  {
   "cell_type": "code",
   "execution_count": 11,
   "source": [
    "import numpy as np\r\n",
    "\r\n",
    "arr = np.array([1, 2, 3, 4], ndmin=5)\r\n",
    "\r\n",
    "print(arr)\r\n",
    "print('number of dimensions :', arr.ndim)"
   ],
   "outputs": [
    {
     "output_type": "stream",
     "name": "stdout",
     "text": [
      "[[[[[1 2 3 4]]]]]\n",
      "number of dimensions : 5\n"
     ]
    }
   ],
   "metadata": {}
  },
  {
   "cell_type": "code",
   "execution_count": null,
   "source": [
    "NumPy Array Indexing"
   ],
   "outputs": [],
   "metadata": {}
  },
  {
   "cell_type": "code",
   "execution_count": 16,
   "source": [
    "import numpy as np\r\n",
    "\r\n",
    "arr = np.array([1, 2, 3, 4])\r\n",
    "\r\n",
    "print(arr[2] + arr[3]) # 3+4"
   ],
   "outputs": [
    {
     "output_type": "stream",
     "name": "stdout",
     "text": [
      "7\n"
     ]
    }
   ],
   "metadata": {}
  },
  {
   "cell_type": "code",
   "execution_count": 14,
   "source": [
    "# Access 2-D Arrays\r\n",
    "\r\n",
    "import numpy as np\r\n",
    "\r\n",
    "arr = np.array([[1,2,3,4,5], [6,7,8,9,10]])\r\n",
    "\r\n",
    "print(arr)\r\n",
    "print('\\n2nd element on 1st dim: ', arr[0, 1])\r\n",
    "print('\\n1st element on 2nd dim: ', arr[1][0])"
   ],
   "outputs": [
    {
     "output_type": "stream",
     "name": "stdout",
     "text": [
      "[[ 1  2  3  4  5]\n",
      " [ 6  7  8  9 10]]\n",
      "\n",
      "2nd element on 1st dim:  2\n",
      "\n",
      "1st element on 2nd dim:  6\n"
     ]
    }
   ],
   "metadata": {}
  },
  {
   "cell_type": "code",
   "execution_count": 4,
   "source": [
    "import numpy as np\r\n",
    "\r\n",
    "arr = np.array([[1,2,3,4,5], [6,7,8,9,10]])\r\n",
    "\r\n",
    "print(arr)\r\n",
    "print('5th element on 2nd dim: ', arr[1, 4])"
   ],
   "outputs": [
    {
     "output_type": "stream",
     "name": "stdout",
     "text": [
      "[[ 1  2  3  4  5]\n",
      " [ 6  7  8  9 10]]\n",
      "5th element on 2nd dim:  10\n"
     ]
    }
   ],
   "metadata": {}
  },
  {
   "cell_type": "code",
   "execution_count": 5,
   "source": [
    "# Access 3-D Arrays\r\n",
    "import numpy as np\r\n",
    "\r\n",
    "arr = np.array([[[1, 2, 3], [4, 5, 6]], [[7, 8, 9], [10, 11, 12]]])\r\n",
    "\r\n",
    "print(arr, '\\n')\r\n",
    "print(arr[0, 1, 2])"
   ],
   "outputs": [
    {
     "output_type": "stream",
     "name": "stdout",
     "text": [
      "[[[ 1  2  3]\n",
      "  [ 4  5  6]]\n",
      "\n",
      " [[ 7  8  9]\n",
      "  [10 11 12]]] \n",
      "\n",
      "6\n"
     ]
    }
   ],
   "metadata": {}
  },
  {
   "cell_type": "code",
   "execution_count": 20,
   "source": [
    "# Negative Indexing\r\n",
    "\r\n",
    "arr = np.array([[1,2,3,4,5], [6,7,8,9,10]])\r\n",
    "\r\n",
    "print('Last element from 2nd dim: ', arr[1, -1])"
   ],
   "outputs": [
    {
     "output_type": "stream",
     "name": "stdout",
     "text": [
      "Last element from 2nd dim:  10\n"
     ]
    }
   ],
   "metadata": {}
  },
  {
   "cell_type": "code",
   "execution_count": null,
   "source": [
    "# Slicing arrays\r\n",
    "Slicing in python means taking elements from one given index to another given index.\r\n",
    "\r\n",
    "We pass slice instead of index like this: [start:end].\r\n",
    "\r\n",
    "We can also define the step, like this: [start:end:step].\r\n",
    "\r\n",
    "If we don't pass start its considered 0\r\n",
    "\r\n",
    "If we don't pass end its considered length of array in that dimension\r\n",
    "\r\n",
    "If we don't pass step its considered 1\r\n"
   ],
   "outputs": [],
   "metadata": {}
  },
  {
   "cell_type": "code",
   "execution_count": 19,
   "source": [
    "import numpy as np\r\n",
    "\r\n",
    "arr = np.array([1, 2, 3, 4, 5, 6, 7])\r\n",
    "\r\n",
    "print(arr[:5])\r\n",
    "\r\n",
    "print(arr[:len(arr)])\r\n",
    "\r\n",
    "print(arr[1:5])\r\n"
   ],
   "outputs": [
    {
     "output_type": "stream",
     "name": "stdout",
     "text": [
      "[1 2 3 4 5]\n",
      "[1 2 3 4 5 6 7]\n",
      "[2 3 4 5]\n"
     ]
    }
   ],
   "metadata": {}
  },
  {
   "cell_type": "code",
   "execution_count": 22,
   "source": [
    "import numpy as np\r\n",
    "\r\n",
    "arr = np.array([1, 2, 3, 4, 5, 6, 7])\r\n",
    "\r\n",
    "print(arr[4:])"
   ],
   "outputs": [
    {
     "output_type": "stream",
     "name": "stdout",
     "text": [
      "[5 6 7]\n"
     ]
    }
   ],
   "metadata": {}
  },
  {
   "cell_type": "code",
   "execution_count": 23,
   "source": [
    "import numpy as np\r\n",
    "\r\n",
    "arr = np.array([1, 2, 3, 4, 5, 6, 7])\r\n",
    "\r\n",
    "print(arr[:4])"
   ],
   "outputs": [
    {
     "output_type": "stream",
     "name": "stdout",
     "text": [
      "[1 2 3 4]\n"
     ]
    }
   ],
   "metadata": {}
  },
  {
   "cell_type": "code",
   "execution_count": 24,
   "source": [
    "# Negative Slicing\r\n",
    "import numpy as np\r\n",
    "\r\n",
    "arr = np.array([1, 2, 3, 4, 5, 6, 7])\r\n",
    "\r\n",
    "print(arr[-3:-1])"
   ],
   "outputs": [
    {
     "output_type": "stream",
     "name": "stdout",
     "text": [
      "[5 6]\n"
     ]
    }
   ],
   "metadata": {}
  },
  {
   "cell_type": "code",
   "execution_count": 25,
   "source": [
    "# STEP\r\n",
    "import numpy as np\r\n",
    "\r\n",
    "arr = np.array([1, 2, 3, 4, 5, 6, 7])\r\n",
    "\r\n",
    "print(arr[1:5:2])"
   ],
   "outputs": [
    {
     "output_type": "stream",
     "name": "stdout",
     "text": [
      "[2 4]\n"
     ]
    }
   ],
   "metadata": {}
  },
  {
   "cell_type": "code",
   "execution_count": 26,
   "source": [
    "import numpy as np\r\n",
    "\r\n",
    "arr = np.array([1, 2, 3, 4, 5, 6, 7])\r\n",
    "\r\n",
    "print(arr[::2])"
   ],
   "outputs": [
    {
     "output_type": "stream",
     "name": "stdout",
     "text": [
      "[1 3 5 7]\n"
     ]
    }
   ],
   "metadata": {}
  },
  {
   "cell_type": "code",
   "execution_count": 3,
   "source": [
    "import numpy as np \r\n",
    "a = np.arange(10,20) \r\n",
    "b = np.arange(10)\r\n",
    "s = slice(2,7,2) # Lấy từ vị trí 2 đến vị trí 6 step = 2\r\n",
    "print(f'a: {a}')\r\n",
    "print(f'b: {b}')\r\n",
    "print(s)\r\n",
    "# Cách 1\r\n",
    "print(f'Slice of b: {b[s]}')\r\n",
    "# Cách 2\r\n",
    "print(f'Slice of a: {a[2:7:2]}')"
   ],
   "outputs": [
    {
     "output_type": "stream",
     "name": "stdout",
     "text": [
      "a: [10 11 12 13 14 15 16 17 18 19]\n",
      "b: [0 1 2 3 4 5 6 7 8 9]\n",
      "slice(2, 7, 2)\n",
      "Slice of b: [2 4 6]\n",
      "Slice of a: [12 14 16]\n"
     ]
    }
   ],
   "metadata": {}
  },
  {
   "cell_type": "code",
   "execution_count": 27,
   "source": [
    "# Slicing 2-D Arrays\r\n",
    "import numpy as np\r\n",
    "\r\n",
    "arr = np.array([[1, 2, 3, 4, 5], [6, 7, 8, 9, 10]])\r\n",
    "\r\n",
    "print(arr[1, 1:4])"
   ],
   "outputs": [
    {
     "output_type": "stream",
     "name": "stdout",
     "text": [
      "[7 8 9]\n"
     ]
    }
   ],
   "metadata": {}
  },
  {
   "cell_type": "code",
   "execution_count": 4,
   "source": [
    "import numpy as np\r\n",
    "\r\n",
    "arr = np.array([[1, 2, 3, 4, 5], [6, 7, 8, 9, 10]])\r\n",
    "\r\n",
    "print(arr,'\\n')\r\n",
    "\r\n",
    "print(arr[0:2, 2])\r\n",
    "\r\n",
    "# print(arr[:,2])"
   ],
   "outputs": [
    {
     "output_type": "stream",
     "name": "stdout",
     "text": [
      "[[ 1  2  3  4  5]\n",
      " [ 6  7  8  9 10]] \n",
      "\n",
      "[3 8]\n",
      "[3 8]\n"
     ]
    }
   ],
   "metadata": {}
  },
  {
   "cell_type": "code",
   "execution_count": 15,
   "source": [
    "import numpy as np\r\n",
    "\r\n",
    "arr = np.array([[1, 2, 3, 4, 5], [6, 7, 8, 9, 10]])\r\n",
    "\r\n",
    "print(arr, '\\n')\r\n",
    "print(arr[0:2, 1:4])\r\n",
    "# print(arr[:,1:4])"
   ],
   "outputs": [
    {
     "output_type": "stream",
     "name": "stdout",
     "text": [
      "[[ 1  2  3  4  5]\n",
      " [ 6  7  8  9 10]] \n",
      "\n",
      "[[2 3 4]\n",
      " [7 8 9]]\n"
     ]
    }
   ],
   "metadata": {}
  },
  {
   "cell_type": "code",
   "execution_count": 35,
   "source": [
    "import numpy as np \r\n",
    "a = np.array([[1,2,3],[3,4,5],[4,5,6]]) \r\n",
    "print(a)\r\n",
    "\r\n",
    "# slice items starting from index\r\n",
    "print('Now we will slice the array from the index a[1:]') \r\n",
    "print(a[1:])"
   ],
   "outputs": [
    {
     "output_type": "stream",
     "name": "stdout",
     "text": [
      "[[1 2 3]\n",
      " [3 4 5]\n",
      " [4 5 6]]\n",
      "Now we will slice the array from the index a[1:]\n",
      "[[3 4 5]\n",
      " [4 5 6]]\n"
     ]
    }
   ],
   "metadata": {}
  },
  {
   "cell_type": "code",
   "execution_count": 17,
   "source": [
    "import numpy as np \r\n",
    "a = np.array([[1,2,3],[3,4,5],[4,5,6]]) \r\n",
    "\r\n",
    "print('Our array is:') \r\n",
    "print(a) \r\n",
    "print('\\n')  \r\n",
    "\r\n",
    "# this returns array of items in the second column \r\n",
    "print('The items in the second column are:')\r\n",
    "print(a[...,1]) \r\n",
    "# print(a[:,1])\r\n",
    "print('\\n')  \r\n",
    "\r\n",
    "# Now we will slice all items from the second row \r\n",
    "print('The items in the second row are:') \r\n",
    "print(a[1,...]) \r\n",
    "# print(a[1])\r\n",
    "print('\\n')  \r\n",
    "\r\n",
    "# Now we will slice all items from column 1 onwards \r\n",
    "print('The items column 1 onwards are:') \r\n",
    "print(a[...,1:])\r\n",
    "# print(a[:,1:])"
   ],
   "outputs": [
    {
     "output_type": "stream",
     "name": "stdout",
     "text": [
      "Our array is:\n",
      "[[1 2 3]\n",
      " [3 4 5]\n",
      " [4 5 6]]\n",
      "\n",
      "\n",
      "The items in the second column are:\n",
      "[2 4 5]\n",
      "\n",
      "\n",
      "The items in the second row are:\n",
      "[3 4 5]\n",
      "\n",
      "\n",
      "The items column 1 onwards are:\n",
      "[[2 3]\n",
      " [4 5]\n",
      " [5 6]]\n"
     ]
    }
   ],
   "metadata": {}
  },
  {
   "cell_type": "code",
   "execution_count": null,
   "source": [
    "Advanced Indexing"
   ],
   "outputs": [],
   "metadata": {}
  },
  {
   "cell_type": "code",
   "execution_count": null,
   "source": [
    "Integer Indexing"
   ],
   "outputs": [],
   "metadata": {}
  },
  {
   "cell_type": "code",
   "execution_count": 5,
   "source": [
    "import numpy as np \r\n",
    "\r\n",
    "x = np.array([[1, 2], [3, 4], [5, 6]]) \r\n",
    "print(x)\r\n",
    "print('\\n')\r\n",
    "y = x[[0,1,2], [0,1,0]] \r\n",
    "Explain = '''\r\n",
    "[Index  0 của arr 0, Index 1 của arr 1, Index 0 của arr 2]\r\n",
    "'''\r\n",
    "\r\n",
    "print(y)\r\n",
    "print(Explain)"
   ],
   "outputs": [
    {
     "output_type": "stream",
     "name": "stdout",
     "text": [
      "[[1 2]\n",
      " [3 4]\n",
      " [5 6]]\n",
      "\n",
      "\n",
      "[1 4 5]\n",
      "\n",
      "[Index  0 của arr 0, Index 1 của arr 1, Index 0 của arr 2]\n",
      "\n"
     ]
    }
   ],
   "metadata": {}
  },
  {
   "cell_type": "code",
   "execution_count": 63,
   "source": [
    "import numpy as np \r\n",
    "x = np.array([[ 0,  1,  2],[ 3,  4,  5],[ 6,  7,  8],[ 9, 10, 11]]) \r\n",
    "   \r\n",
    "print('Our array is:') \r\n",
    "print(x) \r\n",
    "print('\\n') \r\n",
    "\r\n",
    "rows = np.array([[0,0],[3,3]])\r\n",
    "cols = np.array([[0,2],[0,2]]) \r\n",
    "y = x[rows,cols] \r\n",
    "Explain = '''\r\n",
    "[Index 0 của arr 0, index 2 của arr 0\r\n",
    "Index 0 của arr 3, index 2 của arr 3]\r\n",
    "'''\r\n",
    "print('The corner elements of this array are:') \r\n",
    "print(y)"
   ],
   "outputs": [
    {
     "output_type": "stream",
     "name": "stdout",
     "text": [
      "Our array is:\n",
      "[[ 0  1  2]\n",
      " [ 3  4  5]\n",
      " [ 6  7  8]\n",
      " [ 9 10 11]]\n",
      "\n",
      "\n",
      "The corner elements of this array are:\n",
      "[[ 0  2]\n",
      " [ 9 11]]\n"
     ]
    }
   ],
   "metadata": {}
  },
  {
   "cell_type": "code",
   "execution_count": 42,
   "source": [
    "import numpy as np \r\n",
    "x = np.array([[ 0,  1,  2],[ 3,  4,  5],[ 6,  7,  8],[ 9, 10, 11]]) \r\n",
    "\r\n",
    "print('Our array is:') \r\n",
    "print(x) \r\n",
    "print('\\n')\r\n",
    "\r\n",
    "# slicing \r\n",
    "z = x[1:4,1:3] \r\n",
    "\r\n",
    "print('After slicing, our array becomes:')\r\n",
    "print(z) \r\n",
    "print('\\n')  \r\n",
    "\r\n",
    "# using advanced index for column \r\n",
    "# Slice nhiều cột cùng lúc\r\n",
    "y = x[1:4,[1,2]] \r\n",
    "\r\n",
    "print('Slicing using advanced index for column:') \r\n",
    "print(y)"
   ],
   "outputs": [
    {
     "output_type": "stream",
     "name": "stdout",
     "text": [
      "Our array is:\n",
      "[[ 0  1  2]\n",
      " [ 3  4  5]\n",
      " [ 6  7  8]\n",
      " [ 9 10 11]]\n",
      "\n",
      "\n",
      "After slicing, our array becomes:\n",
      "[[ 4  5]\n",
      " [ 7  8]\n",
      " [10 11]]\n",
      "\n",
      "\n",
      "Slicing using advanced index for column:\n",
      "[[ 4  5]\n",
      " [ 7  8]\n",
      " [10 11]]\n"
     ]
    }
   ],
   "metadata": {}
  },
  {
   "cell_type": "code",
   "execution_count": null,
   "source": [
    "Boolean Array Indexing"
   ],
   "outputs": [],
   "metadata": {}
  },
  {
   "cell_type": "code",
   "execution_count": 43,
   "source": [
    "import numpy as np \r\n",
    "x = np.array([[ 0,  1,  2],[ 3,  4,  5],[ 6,  7,  8],[ 9, 10, 11]]) \r\n",
    "\r\n",
    "print('Our array is:')\r\n",
    "print(x) \r\n",
    "print('\\n')  \r\n",
    "\r\n",
    "# Now we will print the items greater than 5 \r\n",
    "print('The items greater than 5 are:')\r\n",
    "print(x[x > 5])"
   ],
   "outputs": [
    {
     "output_type": "stream",
     "name": "stdout",
     "text": [
      "Our array is:\n",
      "[[ 0  1  2]\n",
      " [ 3  4  5]\n",
      " [ 6  7  8]\n",
      " [ 9 10 11]]\n",
      "\n",
      "\n",
      "The items greater than 5 are:\n",
      "[ 6  7  8  9 10 11]\n"
     ]
    }
   ],
   "metadata": {}
  },
  {
   "cell_type": "code",
   "execution_count": 4,
   "source": [
    "# NaN (Not a Number) elements are omitted by using ~ (complement operator)\r\n",
    "import numpy as np \r\n",
    "a = np.array([np.nan, 1,2,np.nan,3,4,5]) \r\n",
    "print(a)\r\n",
    "print(a[~np.isnan(a)]) #In những số không phải NaN\r\n",
    "print(a[np.isnan(a)])"
   ],
   "outputs": [
    {
     "output_type": "stream",
     "name": "stdout",
     "text": [
      "[nan  1.  2. nan  3.  4.  5.]\n",
      "[1. 2. 3. 4. 5.]\n",
      "[nan nan]\n"
     ]
    }
   ],
   "metadata": {}
  },
  {
   "cell_type": "code",
   "execution_count": 8,
   "source": [
    "import numpy as np \r\n",
    "a = np.array([1, 2+6j, 5, 3.5+5j]) \r\n",
    "print(f'a:\\n{a}')\r\n",
    "print(f'Complex in a:\\n{a[np.iscomplex(a)]}')\r\n",
    "print(f'Not complex in a::\\n{a[~np.iscomplex(a)]}') #In những số không phải số phức"
   ],
   "outputs": [
    {
     "output_type": "stream",
     "name": "stdout",
     "text": [
      "a:\n",
      "[1. +0.j 2. +6.j 5. +0.j 3.5+5.j]\n",
      "Complex in a:\n",
      "[2. +6.j 3.5+5.j]\n",
      "Not complex in a::\n",
      "[1.+0.j 5.+0.j]\n"
     ]
    }
   ],
   "metadata": {}
  },
  {
   "cell_type": "code",
   "execution_count": null,
   "source": [
    "Data Types in NumPy\r\n",
    "\r\n",
    "i - integer\r\n",
    "b - boolean\r\n",
    "u - unsigned integer\r\n",
    "f - float\r\n",
    "c - complex float\r\n",
    "m - timedelta\r\n",
    "M - datetime\r\n",
    "O - object\r\n",
    "S - string\r\n",
    "U - unicode string\r\n",
    "V - fixed chunk of memory for other type ( void )"
   ],
   "outputs": [],
   "metadata": {}
  },
  {
   "cell_type": "code",
   "execution_count": 47,
   "source": [
    "import numpy as np\r\n",
    "\r\n",
    "arr = np.array([1, 2, 3, 4])\r\n",
    "\r\n",
    "print(arr.dtype)"
   ],
   "outputs": [
    {
     "output_type": "stream",
     "name": "stdout",
     "text": [
      "int32\n"
     ]
    }
   ],
   "metadata": {}
  },
  {
   "cell_type": "code",
   "execution_count": 49,
   "source": [
    "import numpy as np\r\n",
    "\r\n",
    "arr = np.array(['apple', 'banana', 'cherry'])\r\n",
    "\r\n",
    "print(arr.dtype)"
   ],
   "outputs": [
    {
     "output_type": "stream",
     "name": "stdout",
     "text": [
      "<U6\n"
     ]
    }
   ],
   "metadata": {}
  },
  {
   "cell_type": "code",
   "execution_count": null,
   "source": [
    "Creating Arrays With a Defined Data Type"
   ],
   "outputs": [],
   "metadata": {}
  },
  {
   "cell_type": "code",
   "execution_count": 50,
   "source": [
    "import numpy as np\r\n",
    "\r\n",
    "arr = np.array([1, 2, 3, 4], dtype='S')\r\n",
    "\r\n",
    "print(arr)\r\n",
    "print(arr.dtype)"
   ],
   "outputs": [
    {
     "output_type": "stream",
     "name": "stdout",
     "text": [
      "[b'1' b'2' b'3' b'4']\n",
      "|S1\n"
     ]
    }
   ],
   "metadata": {}
  },
  {
   "cell_type": "code",
   "execution_count": 51,
   "source": [
    "# For i, u, f, S and U we can define size as well.\r\n",
    "\r\n",
    "import numpy as np\r\n",
    "\r\n",
    "arr = np.array([1, 2, 3, 4], dtype='i4')\r\n",
    "# #int8, int16, int32, int64 can be replaced by equivalent string 'i1', 'i2','i4', etc.\r\n",
    "print(arr)\r\n",
    "print(arr.dtype)"
   ],
   "outputs": [
    {
     "output_type": "stream",
     "name": "stdout",
     "text": [
      "[1 2 3 4]\n",
      "int32\n"
     ]
    }
   ],
   "metadata": {}
  },
  {
   "cell_type": "code",
   "execution_count": 9,
   "source": [
    "import numpy as np\r\n",
    "\r\n",
    "arr = np.array([1, 2, 3, 4], dtype='b')\r\n",
    "# #int8, int16, int32, int64 can be replaced by equivalent string 'i1', 'i2','i4', etc.\r\n",
    "print(arr)\r\n",
    "print(arr.dtype)"
   ],
   "outputs": [
    {
     "output_type": "stream",
     "name": "stdout",
     "text": [
      "[1 2 3 4]\n",
      "int8\n"
     ]
    }
   ],
   "metadata": {}
  },
  {
   "cell_type": "code",
   "execution_count": null,
   "source": [
    "1\t\r\n",
    "bool_\r\n",
    "\r\n",
    "Boolean (True or False) stored as a byte\r\n",
    "\r\n",
    "2\t\r\n",
    "int_\r\n",
    "\r\n",
    "Default integer type (same as C long; normally either int64 or int32)\r\n",
    "\r\n",
    "3\t\r\n",
    "intc\r\n",
    "\r\n",
    "Identical to C int (normally int32 or int64)\r\n",
    "\r\n",
    "4\t\r\n",
    "intp\r\n",
    "\r\n",
    "Integer used for indexing (same as C ssize_t; normally either int32 or int64)\r\n",
    "\r\n",
    "5\t\r\n",
    "int8\r\n",
    "\r\n",
    "Byte (-128 to 127)\r\n",
    "\r\n",
    "6\t\r\n",
    "int16\r\n",
    "\r\n",
    "Integer (-32768 to 32767)\r\n",
    "\r\n",
    "7\t\r\n",
    "int32\r\n",
    "\r\n",
    "Integer (-2147483648 to 2147483647)\r\n",
    "\r\n",
    "8\t\r\n",
    "int64\r\n",
    "\r\n",
    "Integer (-9223372036854775808 to 9223372036854775807)\r\n",
    "\r\n",
    "9\t\r\n",
    "uint8\r\n",
    "\r\n",
    "Unsigned integer (0 to 255)\r\n",
    "\r\n",
    "10\t\r\n",
    "uint16\r\n",
    "\r\n",
    "Unsigned integer (0 to 65535)\r\n",
    "\r\n",
    "11\t\r\n",
    "uint32\r\n",
    "\r\n",
    "Unsigned integer (0 to 4294967295)\r\n",
    "\r\n",
    "12\t\r\n",
    "uint64\r\n",
    "\r\n",
    "Unsigned integer (0 to 18446744073709551615)\r\n",
    "\r\n",
    "13\t\r\n",
    "float_\r\n",
    "\r\n",
    "Shorthand for float64\r\n",
    "\r\n",
    "14\t\r\n",
    "float16\r\n",
    "\r\n",
    "Half precision float: sign bit, 5 bits exponent, 10 bits mantissa\r\n",
    "\r\n",
    "15\t\r\n",
    "float32\r\n",
    "\r\n",
    "Single precision float: sign bit, 8 bits exponent, 23 bits mantissa\r\n",
    "\r\n",
    "16\t\r\n",
    "float64\r\n",
    "\r\n",
    "Double precision float: sign bit, 11 bits exponent, 52 bits mantissa\r\n",
    "\r\n",
    "17\t\r\n",
    "complex_\r\n",
    "\r\n",
    "Shorthand for complex128\r\n",
    "\r\n",
    "18\t\r\n",
    "complex64\r\n",
    "\r\n",
    "Complex number, represented by two 32-bit floats (real and imaginary components)\r\n",
    "\r\n",
    "19\t\r\n",
    "complex128\r\n",
    "\r\n",
    "Complex number, represented by two 64-bit floats (real and imaginary components)"
   ],
   "outputs": [],
   "metadata": {}
  },
  {
   "cell_type": "code",
   "execution_count": 72,
   "source": [
    "# dtype of array is int8 (1 byte) \r\n",
    "import numpy as np \r\n",
    "x = np.array([1,2,3,4,5], dtype = np.int8) \r\n",
    "print(x.itemsize)"
   ],
   "outputs": [
    {
     "output_type": "stream",
     "name": "stdout",
     "text": [
      "1\n"
     ]
    }
   ],
   "metadata": {}
  },
  {
   "cell_type": "code",
   "execution_count": 73,
   "source": [
    "# dtype of array is now float32 (4 bytes) \r\n",
    "import numpy as np \r\n",
    "x = np.array([1,2,3,4,5], dtype = np.float32) \r\n",
    "print(x.itemsize)"
   ],
   "outputs": [
    {
     "output_type": "stream",
     "name": "stdout",
     "text": [
      "4\n"
     ]
    }
   ],
   "metadata": {}
  },
  {
   "cell_type": "code",
   "execution_count": 53,
   "source": [
    "import numpy as np\r\n",
    "\r\n",
    "arr = np.array(['a', '2', '3'], dtype='i')"
   ],
   "outputs": [
    {
     "output_type": "error",
     "ename": "ValueError",
     "evalue": "invalid literal for int() with base 10: 'a'",
     "traceback": [
      "\u001b[1;31m---------------------------------------------------------------------------\u001b[0m",
      "\u001b[1;31mValueError\u001b[0m                                Traceback (most recent call last)",
      "\u001b[1;32m<ipython-input-53-3d3a7c165e54>\u001b[0m in \u001b[0;36m<module>\u001b[1;34m\u001b[0m\n\u001b[0;32m      1\u001b[0m \u001b[1;32mimport\u001b[0m \u001b[0mnumpy\u001b[0m \u001b[1;32mas\u001b[0m \u001b[0mnp\u001b[0m\u001b[1;33m\u001b[0m\u001b[1;33m\u001b[0m\u001b[0m\n\u001b[0;32m      2\u001b[0m \u001b[1;33m\u001b[0m\u001b[0m\n\u001b[1;32m----> 3\u001b[1;33m \u001b[0marr\u001b[0m \u001b[1;33m=\u001b[0m \u001b[0mnp\u001b[0m\u001b[1;33m.\u001b[0m\u001b[0marray\u001b[0m\u001b[1;33m(\u001b[0m\u001b[1;33m[\u001b[0m\u001b[1;34m'a'\u001b[0m\u001b[1;33m,\u001b[0m \u001b[1;34m'2'\u001b[0m\u001b[1;33m,\u001b[0m \u001b[1;34m'3'\u001b[0m\u001b[1;33m]\u001b[0m\u001b[1;33m,\u001b[0m \u001b[0mdtype\u001b[0m\u001b[1;33m=\u001b[0m\u001b[1;34m'i'\u001b[0m\u001b[1;33m)\u001b[0m\u001b[1;33m\u001b[0m\u001b[1;33m\u001b[0m\u001b[0m\n\u001b[0m",
      "\u001b[1;31mValueError\u001b[0m: invalid literal for int() with base 10: 'a'"
     ]
    }
   ],
   "metadata": {}
  },
  {
   "cell_type": "code",
   "execution_count": null,
   "source": [
    "the use of structured data type\r\n",
    "the field name and the corresponding scalar data type is to be declared.\r\n",
    "\r\n",
    "# dtype()"
   ],
   "outputs": [],
   "metadata": {}
  },
  {
   "cell_type": "code",
   "execution_count": 58,
   "source": [
    "import numpy as np \r\n",
    "\r\n",
    "dt = np.dtype([('age',np.int8)]) \r\n",
    "a = np.array([(10,),(20,),(30,)], dtype = dt) \r\n",
    "print(dt)\r\n",
    "print(a)\r\n",
    "print(a['age'])"
   ],
   "outputs": [
    {
     "output_type": "stream",
     "name": "stdout",
     "text": [
      "[('age', 'i1')]\n",
      "[(10,) (20,) (30,)]\n",
      "[10 20 30]\n"
     ]
    }
   ],
   "metadata": {}
  },
  {
   "cell_type": "code",
   "execution_count": 11,
   "source": [
    "import numpy as np \r\n",
    "\r\n",
    "dt = np.dtype([('age',np.int8)]) \r\n",
    "a = np.array([(10,),(20,),(30,)], dtype = np.dtype([('age',np.int8)])) \r\n",
    "print(dt)\r\n",
    "print(a)\r\n",
    "print(a['age'])"
   ],
   "outputs": [
    {
     "output_type": "stream",
     "name": "stdout",
     "text": [
      "[('age', 'i1')]\n",
      "[(10,) (20,) (30,)]\n",
      "[10 20 30]\n"
     ]
    }
   ],
   "metadata": {}
  },
  {
   "cell_type": "code",
   "execution_count": 4,
   "source": [
    "import numpy as np \r\n",
    "\r\n",
    "student = np.dtype([('name','S20'), ('age', 'i1'), ('marks', 'f4')]) \r\n",
    "a = np.array([('abc', 21, 50),('xyz', 18, 75)], dtype = student) \r\n",
    "print(student)\r\n",
    "print(a)\r\n",
    "print(a['name'])\r\n",
    "print(a['age'])\r\n",
    "print(a['marks'])\r\n"
   ],
   "outputs": [
    {
     "output_type": "stream",
     "name": "stdout",
     "text": [
      "[('name', 'S20'), ('age', 'i1'), ('marks', '<f4')]\n",
      "[(b'abc', 21, 50.) (b'xyz', 18, 75.)]\n",
      "[b'abc' b'xyz']\n",
      "[21 18]\n",
      "[50. 75.]\n"
     ]
    }
   ],
   "metadata": {}
  },
  {
   "cell_type": "code",
   "execution_count": null,
   "source": [
    "The byte order is decided by prefixing '<' or '>' to data type.\r\n",
    "'<' means that encoding is little-endian (least significant is stored in smallest address).\r\n",
    "'>' means that encoding is big-endian (most significant byte is stored in smallest address)."
   ],
   "outputs": [],
   "metadata": {}
  },
  {
   "cell_type": "code",
   "execution_count": null,
   "source": [
    "Converting Data Type on Existing Arrays\r\n",
    "# astype() method\r\n",
    "\r\n",
    "The data type can be specified using a string, like 'f' for float, 'i' for integer etc.\r\n",
    "or you can use the data type directly like float for float and int for integer."
   ],
   "outputs": [],
   "metadata": {}
  },
  {
   "cell_type": "code",
   "execution_count": 54,
   "source": [
    "import numpy as np\r\n",
    "\r\n",
    "arr = np.array([1.1, 2.1, 3.1])\r\n",
    "\r\n",
    "newarr = arr.astype('i')\r\n",
    "\r\n",
    "print(newarr)\r\n",
    "print(newarr.dtype)"
   ],
   "outputs": [
    {
     "output_type": "stream",
     "name": "stdout",
     "text": [
      "[1 2 3]\n",
      "int32\n"
     ]
    }
   ],
   "metadata": {}
  },
  {
   "cell_type": "code",
   "execution_count": 18,
   "source": [
    "import numpy as np\r\n",
    "\r\n",
    "arr = np.array([1.1, 2.1, 3.1])\r\n",
    "\r\n",
    "newarr = arr.astype('i')\r\n",
    "\r\n",
    "print(newarr)\r\n",
    "print(newarr.dtype)"
   ],
   "outputs": [
    {
     "output_type": "stream",
     "name": "stdout",
     "text": [
      "[1 2 3]\n",
      "int32\n"
     ]
    }
   ],
   "metadata": {}
  },
  {
   "cell_type": "code",
   "execution_count": 55,
   "source": [
    "import numpy as np\r\n",
    "\r\n",
    "arr = np.array([1.1, 2.1, 3.1])\r\n",
    "\r\n",
    "newarr = arr.astype(int)\r\n",
    "\r\n",
    "print(newarr)\r\n",
    "print(newarr.dtype)"
   ],
   "outputs": [
    {
     "output_type": "stream",
     "name": "stdout",
     "text": [
      "[1 2 3]\n",
      "int32\n"
     ]
    }
   ],
   "metadata": {}
  },
  {
   "cell_type": "code",
   "execution_count": 56,
   "source": [
    "import numpy as np\r\n",
    "\r\n",
    "arr = np.array([1, 0, 3])\r\n",
    "\r\n",
    "# Chuyển đổi dạng dữ liệu int sang bool\r\n",
    "newarr = arr.astype(bool)\r\n",
    "\r\n",
    "\r\n",
    "print(newarr)\r\n",
    "print(newarr.dtype)"
   ],
   "outputs": [
    {
     "output_type": "stream",
     "name": "stdout",
     "text": [
      "[ True False  True]\n",
      "bool\n"
     ]
    }
   ],
   "metadata": {}
  },
  {
   "cell_type": "code",
   "execution_count": 3,
   "source": [
    "import numpy as np\r\n",
    "\r\n",
    "arr = np.array([1, 0, 3], dtype= np.bool8)\r\n",
    "\r\n",
    "# Chuyển đổi dạng dữ liệu int sang bool\r\n",
    "print(arr)\r\n"
   ],
   "outputs": [
    {
     "output_type": "stream",
     "name": "stdout",
     "text": [
      "[ True False  True]\n"
     ]
    }
   ],
   "metadata": {}
  },
  {
   "cell_type": "code",
   "execution_count": 19,
   "source": [
    "import numpy as np\r\n",
    "\r\n",
    "arr = np.array([1, 0, 3])\r\n",
    "\r\n",
    "# Chuyển đổi dạng dữ liệu int sang str\r\n",
    "newarr = arr.astype(str)\r\n",
    "\r\n",
    "\r\n",
    "print(newarr)\r\n",
    "print(newarr.dtype)"
   ],
   "outputs": [
    {
     "output_type": "stream",
     "name": "stdout",
     "text": [
      "['1' '0' '3']\n",
      "<U11\n"
     ]
    }
   ],
   "metadata": {}
  },
  {
   "cell_type": "code",
   "execution_count": null,
   "source": [
    "# Shape of an Array\r\n",
    "NumPy arrays have an attribute called shape that returns\r\n",
    "a tuple with each index having the number of corresponding elements."
   ],
   "outputs": [],
   "metadata": {}
  },
  {
   "cell_type": "code",
   "execution_count": 8,
   "source": [
    "import numpy as np\r\n",
    "\r\n",
    "arr = np.array([[1, 2, 3, 4], [5, 6, 7, 8]])\r\n",
    "print(arr, '\\n')\r\n",
    "print(arr.shape)"
   ],
   "outputs": [
    {
     "output_type": "stream",
     "name": "stdout",
     "text": [
      "[[1 2 3 4]\n",
      " [5 6 7 8]] \n",
      "\n",
      "(2, 4)\n"
     ]
    }
   ],
   "metadata": {}
  },
  {
   "cell_type": "code",
   "execution_count": 76,
   "source": [
    "import numpy as np\r\n",
    "\r\n",
    "arr = np.array([1, 2, 3, 4], ndmin=5)\r\n",
    "\r\n",
    "print(arr)\r\n",
    "print('shape of array :', arr.shape)"
   ],
   "outputs": [
    {
     "output_type": "stream",
     "name": "stdout",
     "text": [
      "[[[[[1 2 3 4]]]]]\n",
      "shape of array : (1, 1, 1, 1, 4)\n"
     ]
    }
   ],
   "metadata": {}
  },
  {
   "cell_type": "code",
   "execution_count": 5,
   "source": [
    "# reshape\r\n",
    "# this resizes the ndarray \r\n",
    "import numpy as np \r\n",
    "\r\n",
    "a = np.array([[1,2,3],[4,5,6]]) \r\n",
    "print(a, '\\n')\r\n",
    "a.shape = (3,2) \r\n",
    "print(a) "
   ],
   "outputs": [
    {
     "output_type": "stream",
     "name": "stdout",
     "text": [
      "[[1 2 3]\n",
      " [4 5 6]] \n",
      "\n",
      "[[1 2]\n",
      " [3 4]\n",
      " [5 6]]\n"
     ]
    }
   ],
   "metadata": {}
  },
  {
   "cell_type": "code",
   "execution_count": 83,
   "source": [
    "import numpy as np \r\n",
    "a = np.array([[1,2,3],[4,5,6]]) \r\n",
    "print(a)\r\n",
    "print('id(a): ',id(a))\r\n",
    "b = a.reshape(3,2) \r\n",
    "print(b)\r\n",
    "print('id(b): ',id(b))\r\n",
    "print('b is a? ', b is a )"
   ],
   "outputs": [
    {
     "output_type": "stream",
     "name": "stdout",
     "text": [
      "[[1 2 3]\n",
      " [4 5 6]]\n",
      "id(a):  2048636934464\n",
      "[[1 2]\n",
      " [3 4]\n",
      " [5 6]]\n",
      "id(b):  2048636930448\n",
      "b is a?  False\n"
     ]
    }
   ],
   "metadata": {}
  },
  {
   "cell_type": "code",
   "execution_count": 84,
   "source": [
    "import numpy as np\r\n",
    "\r\n",
    "arr = np.array([1, 2, 3, 4, 5, 6, 7, 8, 9, 10, 11, 12])\r\n",
    "\r\n",
    "newarr = arr.reshape(4, 3)\r\n",
    "\r\n",
    "print(newarr)"
   ],
   "outputs": [
    {
     "output_type": "stream",
     "name": "stdout",
     "text": [
      "[[ 1  2  3]\n",
      " [ 4  5  6]\n",
      " [ 7  8  9]\n",
      " [10 11 12]]\n"
     ]
    }
   ],
   "metadata": {}
  },
  {
   "cell_type": "code",
   "execution_count": 6,
   "source": [
    "import numpy as np\r\n",
    "\r\n",
    "arr = np.array([1, 2, 3, 4, 5, 6, 7, 8, 9, 10, 11, 12])\r\n",
    "\r\n",
    "newarr = arr.reshape(2, 3, 2)\r\n",
    "\r\n",
    "print(newarr)"
   ],
   "outputs": [
    {
     "output_type": "stream",
     "name": "stdout",
     "text": [
      "[[[ 1  2]\n",
      "  [ 3  4]\n",
      "  [ 5  6]]\n",
      "\n",
      " [[ 7  8]\n",
      "  [ 9 10]\n",
      "  [11 12]]]\n"
     ]
    }
   ],
   "metadata": {}
  },
  {
   "cell_type": "code",
   "execution_count": 87,
   "source": [
    "import numpy as np\r\n",
    "\r\n",
    "arr = np.array([1, 2, 3, 4, 5, 6, 7, 8])\r\n",
    "\r\n",
    "newarr = arr.reshape(3, 3)\r\n",
    "\r\n",
    "print(newarr)"
   ],
   "outputs": [
    {
     "output_type": "error",
     "ename": "ValueError",
     "evalue": "cannot reshape array of size 8 into shape (3,3)",
     "traceback": [
      "\u001b[1;31m---------------------------------------------------------------------------\u001b[0m",
      "\u001b[1;31mValueError\u001b[0m                                Traceback (most recent call last)",
      "\u001b[1;32m<ipython-input-87-79494d80387a>\u001b[0m in \u001b[0;36m<module>\u001b[1;34m\u001b[0m\n\u001b[0;32m      3\u001b[0m \u001b[0marr\u001b[0m \u001b[1;33m=\u001b[0m \u001b[0mnp\u001b[0m\u001b[1;33m.\u001b[0m\u001b[0marray\u001b[0m\u001b[1;33m(\u001b[0m\u001b[1;33m[\u001b[0m\u001b[1;36m1\u001b[0m\u001b[1;33m,\u001b[0m \u001b[1;36m2\u001b[0m\u001b[1;33m,\u001b[0m \u001b[1;36m3\u001b[0m\u001b[1;33m,\u001b[0m \u001b[1;36m4\u001b[0m\u001b[1;33m,\u001b[0m \u001b[1;36m5\u001b[0m\u001b[1;33m,\u001b[0m \u001b[1;36m6\u001b[0m\u001b[1;33m,\u001b[0m \u001b[1;36m7\u001b[0m\u001b[1;33m,\u001b[0m \u001b[1;36m8\u001b[0m\u001b[1;33m]\u001b[0m\u001b[1;33m)\u001b[0m\u001b[1;33m\u001b[0m\u001b[1;33m\u001b[0m\u001b[0m\n\u001b[0;32m      4\u001b[0m \u001b[1;33m\u001b[0m\u001b[0m\n\u001b[1;32m----> 5\u001b[1;33m \u001b[0mnewarr\u001b[0m \u001b[1;33m=\u001b[0m \u001b[0marr\u001b[0m\u001b[1;33m.\u001b[0m\u001b[0mreshape\u001b[0m\u001b[1;33m(\u001b[0m\u001b[1;36m3\u001b[0m\u001b[1;33m,\u001b[0m \u001b[1;36m3\u001b[0m\u001b[1;33m)\u001b[0m\u001b[1;33m\u001b[0m\u001b[1;33m\u001b[0m\u001b[0m\n\u001b[0m\u001b[0;32m      6\u001b[0m \u001b[1;33m\u001b[0m\u001b[0m\n\u001b[0;32m      7\u001b[0m \u001b[0mprint\u001b[0m\u001b[1;33m(\u001b[0m\u001b[0mnewarr\u001b[0m\u001b[1;33m)\u001b[0m\u001b[1;33m\u001b[0m\u001b[1;33m\u001b[0m\u001b[0m\n",
      "\u001b[1;31mValueError\u001b[0m: cannot reshape array of size 8 into shape (3,3)"
     ]
    }
   ],
   "metadata": {}
  },
  {
   "cell_type": "markdown",
   "source": [
    "The Difference Between copy() and view()\r\n",
    "\r\n",
    "The main difference between a copy and a view of an array is that the copy is a new array,\r\n",
    "and the view is just a view of the original array.\r\n",
    "\r\n",
    "The copy owns the data and any changes made to the copy will not affect original array,\r\n",
    "and any changes made to the original array will not affect the copy.\r\n",
    "\r\n",
    "The view does not own the data and any changes made to the view will affect the original array,\r\n",
    "and any changes made to the original array will affect the view."
   ],
   "metadata": {}
  },
  {
   "cell_type": "code",
   "execution_count": 22,
   "source": [
    "# COPY\r\n",
    "# Deep Copy\r\n",
    "# The ndarray.copy() function creates a deep copy. It is a complete copy of the array and its data,\r\n",
    "# and doesn’t share with the original array.\r\n",
    "import numpy as np\r\n",
    "# Hàm copy sao chép dữ liệu vào một vùng nhớ khác, khi arr cũ thay đổi thì arr mới không bị thay đổi và không trả về Base được.\r\n",
    "arr = np.array([0, 1, 2, 3, 4, 5])\r\n",
    "x = arr.copy()\r\n",
    "arr[0] = 42\r\n",
    "\r\n",
    "print(arr)\r\n",
    "print(id(arr))\r\n",
    "print(x)\r\n",
    "print(id(x))\r\n",
    "\r\n",
    "x.shape = (2, 3)\r\n",
    "\r\n",
    "print('arr:\\n', arr)\r\n",
    "print('x:\\n', x)\r\n",
    "print(f'Base: {x.base}')"
   ],
   "outputs": [
    {
     "output_type": "stream",
     "name": "stdout",
     "text": [
      "[42  1  2  3  4  5]\n",
      "2292198117264\n",
      "[0 1 2 3 4 5]\n",
      "2292198116880\n",
      "arr:\n",
      " [42  1  2  3  4  5]\n",
      "x:\n",
      " [[0 1 2]\n",
      " [3 4 5]]\n",
      "Base: None\n"
     ]
    }
   ],
   "metadata": {}
  },
  {
   "cell_type": "code",
   "execution_count": 12,
   "source": [
    "# VIEW\r\n",
    "# Shallow Copy\r\n",
    "# ndarray.view() method which is a new array object that looks at the same data of the original array.\r\n",
    "# Change in dimensions of the new array doesn’t change dimensions of the original.\r\n",
    "\r\n",
    "import numpy as np\r\n",
    "\r\n",
    "# Hàm view sao chép dữ liệu vào một vùng nhớ khác, khi arr cũ thay đổi thì arr mới bị thay đổi theo và có thể trả về Base được.\r\n",
    "arr = np.array([0, 1, 2, 3, 4, 5])\r\n",
    "x = arr.view()\r\n",
    "arr[0] = 42\r\n",
    "\r\n",
    "print(arr)\r\n",
    "print(id(arr))\r\n",
    "print(x)\r\n",
    "print(id(x))\r\n",
    "\r\n",
    "x.shape = (2, 3)\r\n",
    "print('arr:\\n',arr)\r\n",
    "print('x:\\n',x)\r\n",
    "print(f'Base of x: {x.base}')"
   ],
   "outputs": [
    {
     "output_type": "stream",
     "name": "stdout",
     "text": [
      "[42  1  2  3  4  5]\n",
      "1970671040912\n",
      "[42  1  2  3  4  5]\n",
      "1970671040816\n",
      "arr:\n",
      " [42  1  2  3  4  5]\n",
      "x:\n",
      " [[42  1  2]\n",
      " [ 3  4  5]]\n",
      "Base of x: [42  1  2  3  4  5]\n"
     ]
    }
   ],
   "metadata": {}
  },
  {
   "cell_type": "code",
   "execution_count": 62,
   "source": [
    "import numpy as np\r\n",
    "\r\n",
    "arr = np.array([1, 2, 3, 4, 5])\r\n",
    "x = arr.view()\r\n",
    "x[0] = 31\r\n",
    "\r\n",
    "print(arr)\r\n",
    "print(x)"
   ],
   "outputs": [
    {
     "output_type": "stream",
     "name": "stdout",
     "text": [
      "[31  2  3  4  5]\n",
      "[31  2  3  4  5]\n"
     ]
    }
   ],
   "metadata": {}
  },
  {
   "cell_type": "code",
   "execution_count": 91,
   "source": [
    "import numpy as np \r\n",
    "# To begin with, a is 3X2 array \r\n",
    "a = np.arange(6).reshape(3,2) \r\n",
    "\r\n",
    "print('Array a:')\r\n",
    "print (a)  \r\n",
    "\r\n",
    "print('Create view of a:') \r\n",
    "b = a.view() \r\n",
    "print(b)  \r\n",
    "\r\n",
    "print('id() for both the arrays are different:') \r\n",
    "print('id() of a:')\r\n",
    "print(id(a))  \r\n",
    "print('id() of b:') \r\n",
    "print(id(b))  \r\n",
    "\r\n",
    "# Change the shape of b. It does not change the shape of a \r\n",
    "b.shape = 2,3 \r\n",
    "\r\n",
    "# b[0,0] = 8\r\n",
    "# a[2,1] = 9\r\n",
    "\r\n",
    "print('Shape of b:') \r\n",
    "print(b)  \r\n",
    "\r\n",
    "print('Shape of a:') \r\n",
    "print(a)\r\n",
    "\r\n",
    "print('a.base:\\n',a.base)\r\n",
    "print('b.base:\\n',b.base)"
   ],
   "outputs": [
    {
     "output_type": "stream",
     "name": "stdout",
     "text": [
      "Array a:\n",
      "[[0 1]\n",
      " [2 3]\n",
      " [4 5]]\n",
      "Create view of a:\n",
      "[[0 1]\n",
      " [2 3]\n",
      " [4 5]]\n",
      "id() for both the arrays are different:\n",
      "id() of a:\n",
      "2048636935264\n",
      "id() of b:\n",
      "2048636935184\n",
      "Shape of b:\n",
      "[[0 1 2]\n",
      " [3 4 5]]\n",
      "Shape of a:\n",
      "[[0 1]\n",
      " [2 3]\n",
      " [4 5]]\n",
      "a.base:\n",
      " [0 1 2 3 4 5]\n",
      "b.base:\n",
      " [0 1 2 3 4 5]\n"
     ]
    }
   ],
   "metadata": {}
  },
  {
   "cell_type": "code",
   "execution_count": 63,
   "source": [
    "# Check if Array Owns it's Data\r\n",
    "import numpy as np\r\n",
    "\r\n",
    "arr = np.array([1, 2, 3, 4, 5])\r\n",
    "\r\n",
    "x = arr.copy()\r\n",
    "y = arr.view()\r\n",
    "\r\n",
    "print(x.base) # The copy returns None.\r\n",
    "print(y.base) # The view returns the original array."
   ],
   "outputs": [
    {
     "output_type": "stream",
     "name": "stdout",
     "text": [
      "None\n",
      "[1 2 3 4 5]\n"
     ]
    }
   ],
   "metadata": {}
  },
  {
   "cell_type": "code",
   "execution_count": 26,
   "source": [
    "# No Copy\r\n",
    "# Dùng \"=\" (No copy) sao chép dữ liệu vào chung một vùng nhớ  \r\n",
    "# khi arr cũ thay đổi thì arr mới bị thay đổi theo và không trả về Base được.\r\n",
    "import numpy as np \r\n",
    "a = np.arange(6) \r\n",
    "\r\n",
    "print('Our array is:') \r\n",
    "print(a)  \r\n",
    "\r\n",
    "print('Applying id() function:') \r\n",
    "print(id(a))  \r\n",
    "\r\n",
    "print('a is assigned to b:') \r\n",
    "b = a \r\n",
    "print(b)\r\n",
    "a[0] = 3\r\n",
    "print('b has same id():')\r\n",
    "print(id(b))\r\n",
    "\r\n",
    "print('Change shape of b:') \r\n",
    "b.shape = 3,2 \r\n",
    "print(b)  \r\n",
    "print(f'Base of b: {b.base}')\r\n",
    "\r\n",
    "print('Shape of a also gets changed:')\r\n",
    "print(a)\r\n",
    "print(f'Base of a: {a.base}')"
   ],
   "outputs": [
    {
     "output_type": "stream",
     "name": "stdout",
     "text": [
      "Our array is:\n",
      "[0 1 2 3 4 5]\n",
      "Applying id() function:\n",
      "2292170132720\n",
      "a is assigned to b:\n",
      "[0 1 2 3 4 5]\n",
      "b has same id():\n",
      "2292170132720\n",
      "Change shape of b:\n",
      "[[3 1]\n",
      " [2 3]\n",
      " [4 5]]\n",
      "Base of b: None\n",
      "Shape of a also gets changed:\n",
      "[[3 1]\n",
      " [2 3]\n",
      " [4 5]]\n",
      "Base of a: None\n"
     ]
    }
   ],
   "metadata": {}
  },
  {
   "cell_type": "code",
   "execution_count": 92,
   "source": [
    "# Reshape returns Copy or View?\r\n",
    "import numpy as np\r\n",
    "\r\n",
    "arr = np.array([1, 2, 3, 4, 5, 6, 7, 8])\r\n",
    "\r\n",
    "print(arr.reshape(2, 4).base)"
   ],
   "outputs": [
    {
     "output_type": "stream",
     "name": "stdout",
     "text": [
      "[1 2 3 4 5 6 7 8]\n"
     ]
    }
   ],
   "metadata": {}
  },
  {
   "cell_type": "code",
   "execution_count": null,
   "source": [
    "# Array Iterating\r\n",
    "Iterating means going through elements one by one.\r\n",
    "\r\n",
    "As we deal with multi-dimensional arrays in numpy, we can do this using basic for loop of python.\r\n",
    "\r\n",
    "If we iterate on a 1-D array it will go through each element one by one."
   ],
   "outputs": [],
   "metadata": {}
  },
  {
   "cell_type": "code",
   "execution_count": 93,
   "source": [
    "import numpy as np\r\n",
    "\r\n",
    "arr = np.array([1, 2, 3])\r\n",
    "\r\n",
    "for x in arr:\r\n",
    "  print(x)"
   ],
   "outputs": [
    {
     "output_type": "stream",
     "name": "stdout",
     "text": [
      "1\n",
      "2\n",
      "3\n"
     ]
    }
   ],
   "metadata": {}
  },
  {
   "cell_type": "code",
   "execution_count": 94,
   "source": [
    "import numpy as np\r\n",
    "\r\n",
    "arr = np.array([[1, 2, 3], [4, 5, 6]])\r\n",
    "\r\n",
    "for x in arr:\r\n",
    "  print(x)"
   ],
   "outputs": [
    {
     "output_type": "stream",
     "name": "stdout",
     "text": [
      "[1 2 3]\n",
      "[4 5 6]\n"
     ]
    }
   ],
   "metadata": {}
  },
  {
   "cell_type": "code",
   "execution_count": 95,
   "source": [
    "import numpy as np\r\n",
    "\r\n",
    "arr = np.array([[1, 2, 3], [4, 5, 6]])\r\n",
    "\r\n",
    "for x in arr:\r\n",
    "  for y in x:\r\n",
    "    print(y)"
   ],
   "outputs": [
    {
     "output_type": "stream",
     "name": "stdout",
     "text": [
      "1\n",
      "2\n",
      "3\n",
      "4\n",
      "5\n",
      "6\n"
     ]
    }
   ],
   "metadata": {}
  },
  {
   "cell_type": "code",
   "execution_count": 96,
   "source": [
    "import numpy as np\r\n",
    "\r\n",
    "arr = np.array([[[1, 2, 3], [4, 5, 6]], [[7, 8, 9], [10, 11, 12]]])\r\n",
    "\r\n",
    "for x in arr:\r\n",
    "  print(x)"
   ],
   "outputs": [
    {
     "output_type": "stream",
     "name": "stdout",
     "text": [
      "[[1 2 3]\n",
      " [4 5 6]]\n",
      "[[ 7  8  9]\n",
      " [10 11 12]]\n"
     ]
    }
   ],
   "metadata": {}
  },
  {
   "cell_type": "code",
   "execution_count": 97,
   "source": [
    "import numpy as np\r\n",
    "\r\n",
    "arr = np.array([[[1, 2, 3], [4, 5, 6]], [[7, 8, 9], [10, 11, 12]]])\r\n",
    "\r\n",
    "for x in arr:\r\n",
    "  for y in x:\r\n",
    "    for z in y:\r\n",
    "      print(z)"
   ],
   "outputs": [
    {
     "output_type": "stream",
     "name": "stdout",
     "text": [
      "1\n",
      "2\n",
      "3\n",
      "4\n",
      "5\n",
      "6\n",
      "7\n",
      "8\n",
      "9\n",
      "10\n",
      "11\n",
      "12\n"
     ]
    }
   ],
   "metadata": {}
  },
  {
   "cell_type": "code",
   "execution_count": 101,
   "source": [
    "# nditer()\r\n",
    "# In Index trong arr có điều kiện\r\n",
    "import numpy as np\r\n",
    "\r\n",
    "arr = np.array([[[1, 2], [3, 4]], [[5, 6], [7, 8]]])\r\n",
    "print('ndim: ', np.ndim(arr))\r\n",
    "for x in np.nditer(arr):\r\n",
    "  print(x)"
   ],
   "outputs": [
    {
     "output_type": "stream",
     "name": "stdout",
     "text": [
      "ndim:  3\n",
      "1\n",
      "2\n",
      "3\n",
      "4\n",
      "5\n",
      "6\n",
      "7\n",
      "8\n"
     ]
    }
   ],
   "metadata": {}
  },
  {
   "cell_type": "markdown",
   "source": [
    "Iterating Array With Different Data Types\r\n",
    "We can use op_dtypes argument and pass it the expected datatype to chang\r\n",
    "the datatype of elementswhile iterating.\r\n",
    "\r\n",
    "NumPy does not change the data type of the element in-place (where the element is in array)\r\n",
    "so it needs some other space to perform this action, that extra space is called buffer,\r\n",
    "and in order to enable it in nditer() we pass flags=['buffered']."
   ],
   "metadata": {}
  },
  {
   "cell_type": "code",
   "execution_count": 107,
   "source": [
    "# Optional\r\n",
    "import numpy as np\r\n",
    "\r\n",
    "arr = np.array([1, 2, 3])\r\n",
    "\r\n",
    "for x in np.nditer(arr, flags=['buffered'], op_dtypes=['S']):\r\n",
    "  print(x)"
   ],
   "outputs": [
    {
     "output_type": "stream",
     "name": "stdout",
     "text": [
      "b'1'\n",
      "b'2'\n",
      "b'3'\n"
     ]
    }
   ],
   "metadata": {}
  },
  {
   "cell_type": "code",
   "execution_count": 103,
   "source": [
    "import numpy as np\r\n",
    "\r\n",
    "arr = np.array([[1, 2, 3, 4], [5, 6, 7, 8]])\r\n",
    "\r\n",
    "for x in np.nditer(arr[:, ::2]):\r\n",
    "  print(x)"
   ],
   "outputs": [
    {
     "output_type": "stream",
     "name": "stdout",
     "text": [
      "1\n",
      "3\n",
      "5\n",
      "7\n"
     ]
    }
   ],
   "metadata": {}
  },
  {
   "cell_type": "markdown",
   "source": [
    "***#Enumerated Iteration Using ndenumerate()***\r\n",
    "\r\n",
    "Enumeration means mentioning sequence number of somethings one by one.\r\n",
    "\r\n",
    "Sometimes we require corresponding index of the element while iterating,\r\n",
    "the ndenumerate() method can be used for those usecases."
   ],
   "metadata": {}
  },
  {
   "cell_type": "code",
   "execution_count": 15,
   "source": [
    "import numpy as np\r\n",
    "\r\n",
    "arr = np.array([1, 2, 3, 1])\r\n",
    "\r\n",
    "for idx,x in np.ndenumerate(arr):\r\n",
    "  print(idx,x)\r\n",
    "\r\n",
    "print('\\n')\r\n",
    "print(type(idx))\r\n",
    "print(type(x))"
   ],
   "outputs": [
    {
     "output_type": "stream",
     "name": "stdout",
     "text": [
      "(0,) 1\n",
      "(1,) 2\n",
      "(2,) 3\n",
      "(3,) 1\n",
      "\n",
      "\n",
      "<class 'tuple'>\n",
      "<class 'numpy.int32'>\n"
     ]
    }
   ],
   "metadata": {}
  },
  {
   "cell_type": "code",
   "execution_count": 15,
   "source": [
    "import numpy as np\r\n",
    "\r\n",
    "arr = np.array([[1, 2, 3, 4], [5, 6, 7, 8]])\r\n",
    "\r\n",
    "print(arr, '\\n')\r\n",
    "for idx, x in np.ndenumerate(arr):\r\n",
    "  print(idx, x)\r\n",
    "\r\n",
    "print('\\n')\r\n",
    "print(type(idx))\r\n",
    "print(type(x))"
   ],
   "outputs": [
    {
     "output_type": "stream",
     "name": "stdout",
     "text": [
      "[[1 2 3 4]\n",
      " [5 6 7 8]] \n",
      "\n",
      "(0, 0) 1\n",
      "(0, 1) 2\n",
      "(0, 2) 3\n",
      "(0, 3) 4\n",
      "(1, 0) 5\n",
      "(1, 1) 6\n",
      "(1, 2) 7\n",
      "(1, 3) 8\n",
      "\n",
      "\n",
      "<class 'tuple'>\n",
      "<class 'numpy.int32'>\n"
     ]
    }
   ],
   "metadata": {}
  },
  {
   "cell_type": "code",
   "execution_count": 18,
   "source": [
    "import numpy as np \r\n",
    "a = np.arange(0,60,5) \r\n",
    "a = a.reshape(3,4) \r\n",
    "   \r\n",
    "print('Original array is:')\r\n",
    "print(a) \r\n",
    "print('id(a): ', id(a))\r\n",
    "print('\\n')  \r\n",
    "   \r\n",
    "print('Transpose of the original array is:') \r\n",
    "b = a.T # View\r\n",
    "print (b)\r\n",
    "print('id(b): ', id(b))\r\n",
    "print('\\n')\r\n",
    "print('b.base:\\n', b.base)\r\n",
    "print('\\n')\r\n",
    "\r\n",
    "print('Modified array is:') \r\n",
    "for x in np.nditer(b): \r\n",
    "   print (x)\r\n",
    "\r\n",
    "b[0,0] = 60\r\n",
    "print('a:\\n', a)\r\n",
    "print('b:\\n', b)"
   ],
   "outputs": [
    {
     "output_type": "stream",
     "name": "stdout",
     "text": [
      "Original array is:\n",
      "[[ 0  5 10 15]\n",
      " [20 25 30 35]\n",
      " [40 45 50 55]]\n",
      "id(a):  2073819302688\n",
      "\n",
      "\n",
      "Transpose of the original array is:\n",
      "[[ 0 20 40]\n",
      " [ 5 25 45]\n",
      " [10 30 50]\n",
      " [15 35 55]]\n",
      "id(b):  2073826768256\n",
      "\n",
      "\n",
      "b.base:\n",
      " [ 0  5 10 15 20 25 30 35 40 45 50 55]\n",
      "\n",
      "\n",
      "Modified array is:\n",
      "0\n",
      "5\n",
      "10\n",
      "15\n",
      "20\n",
      "25\n",
      "30\n",
      "35\n",
      "40\n",
      "45\n",
      "50\n",
      "55\n",
      "a:\n",
      " [[60  5 10 15]\n",
      " [20 25 30 35]\n",
      " [40 45 50 55]]\n",
      "b:\n",
      " [[60 20 40]\n",
      " [ 5 25 45]\n",
      " [10 30 50]\n",
      " [15 35 55]]\n"
     ]
    }
   ],
   "metadata": {}
  },
  {
   "cell_type": "code",
   "execution_count": 115,
   "source": [
    "# Iteration Order\r\n",
    "\r\n",
    "import numpy as np\r\n",
    "a = np.arange(0,60,5)\r\n",
    "a = a.reshape(3,4)\r\n",
    "print('Original array is:')\r\n",
    "print(a)\r\n",
    "print('\\n')\r\n",
    "\r\n",
    "print('Transpose of the original array is:')\r\n",
    "b = a.T\r\n",
    "print(b)\r\n",
    "print('\\n')\r\n",
    "\r\n",
    "print('Sorted in C-style order:')\r\n",
    "c = b.copy(order = 'C') # by row\r\n",
    "print(c)\r\n",
    "for x in np.nditer(c):\r\n",
    "   print(x)\r\n",
    "\r\n",
    "print('\\n')\r\n",
    "\r\n",
    "print('Sorted in F-style order:')\r\n",
    "c = b.copy(order = 'F') # by collumn\r\n",
    "print(c)\r\n",
    "for x in np.nditer(c):\r\n",
    "   print(x)"
   ],
   "outputs": [
    {
     "output_type": "stream",
     "name": "stdout",
     "text": [
      "Original array is:\n",
      "[[ 0  5 10 15]\n",
      " [20 25 30 35]\n",
      " [40 45 50 55]]\n",
      "\n",
      "\n",
      "Transpose of the original array is:\n",
      "[[ 0 20 40]\n",
      " [ 5 25 45]\n",
      " [10 30 50]\n",
      " [15 35 55]]\n",
      "\n",
      "\n",
      "Sorted in C-style order:\n",
      "[[ 0 20 40]\n",
      " [ 5 25 45]\n",
      " [10 30 50]\n",
      " [15 35 55]]\n",
      "0\n",
      "20\n",
      "40\n",
      "5\n",
      "25\n",
      "45\n",
      "10\n",
      "30\n",
      "50\n",
      "15\n",
      "35\n",
      "55\n",
      "\n",
      "\n",
      "Sorted in F-style order:\n",
      "[[ 0 20 40]\n",
      " [ 5 25 45]\n",
      " [10 30 50]\n",
      " [15 35 55]]\n",
      "0\n",
      "5\n",
      "10\n",
      "15\n",
      "20\n",
      "25\n",
      "30\n",
      "35\n",
      "40\n",
      "45\n",
      "50\n",
      "55\n"
     ]
    }
   ],
   "metadata": {}
  },
  {
   "cell_type": "code",
   "execution_count": 30,
   "source": [
    "import numpy as np \r\n",
    "a = np.arange(0,60,5) \r\n",
    "a = a.reshape(3,4) \r\n",
    "\r\n",
    "print('Original array is:')\r\n",
    "print(a)\r\n",
    "print('\\n')  \r\n",
    "\r\n",
    "print('Sorted in C-style order:')\r\n",
    "for x in np.nditer(a, order = 'C'): \r\n",
    "   print(x) \r\n",
    "print('\\n') \r\n",
    "\r\n",
    "print('Sorted in F-style order:') \r\n",
    "for x in np.nditer(a, order = 'F'): \r\n",
    "   print(x)"
   ],
   "outputs": [
    {
     "output_type": "stream",
     "name": "stdout",
     "text": [
      "Original array is:\n",
      "[[ 0  5 10 15]\n",
      " [20 25 30 35]\n",
      " [40 45 50 55]]\n",
      "\n",
      "\n",
      "Sorted in C-style order:\n",
      "0\n",
      "5\n",
      "10\n",
      "15\n",
      "20\n",
      "25\n",
      "30\n",
      "35\n",
      "40\n",
      "45\n",
      "50\n",
      "55\n",
      "\n",
      "\n",
      "Sorted in F-style order:\n",
      "0\n",
      "20\n",
      "40\n",
      "5\n",
      "25\n",
      "45\n",
      "10\n",
      "30\n",
      "50\n",
      "15\n",
      "35\n",
      "55\n"
     ]
    }
   ],
   "metadata": {}
  },
  {
   "cell_type": "code",
   "execution_count": 21,
   "source": [
    "# Modifying Array Values\r\n",
    "\r\n",
    "import numpy as np\r\n",
    "a = np.arange(0,60,5)\r\n",
    "a = a.reshape(3,4)\r\n",
    "print('Original array is:')\r\n",
    "print(a)\r\n",
    "print('\\n')\r\n",
    "\r\n",
    "# Nhân 2 vào các Index trong arr\r\n",
    "for x in np.nditer(a, op_flags = ['readwrite']):\r\n",
    "   x[...] = 2*x\r\n",
    "print('Modified array is:')\r\n",
    "print(a)"
   ],
   "outputs": [
    {
     "output_type": "stream",
     "name": "stdout",
     "text": [
      "Original array is:\n",
      "[[ 0  5 10 15]\n",
      " [20 25 30 35]\n",
      " [40 45 50 55]]\n",
      "\n",
      "\n",
      "Modified array is:\n",
      "[[  0  10  20  30]\n",
      " [ 40  50  60  70]\n",
      " [ 80  90 100 110]]\n"
     ]
    }
   ],
   "metadata": {}
  },
  {
   "cell_type": "code",
   "execution_count": 28,
   "source": [
    "# Optional\r\n",
    "# External Loop\r\n",
    "# Ma trận hoán vị\r\n",
    "\r\n",
    "import numpy as np \r\n",
    "a = np.arange(0,60,5) \r\n",
    "a = a.reshape(3,4) \r\n",
    "\r\n",
    "print('Original array is:')\r\n",
    "print(a) \r\n",
    "print('\\n')  \r\n",
    "\r\n",
    "\r\n",
    "print('Modified array is:') \r\n",
    "for x in np.nditer(a, flags = ['external_loop'], order = 'F'):\r\n",
    "   print (x)"
   ],
   "outputs": [
    {
     "output_type": "stream",
     "name": "stdout",
     "text": [
      "Original array is:\n",
      "[[ 0  5 10 15]\n",
      " [20 25 30 35]\n",
      " [40 45 50 55]]\n",
      "\n",
      "\n",
      "Modified array is:\n",
      "[ 0 20 40]\n",
      "[ 5 25 45]\n",
      "[10 30 50]\n",
      "[15 35 55]\n"
     ]
    }
   ],
   "metadata": {}
  },
  {
   "cell_type": "code",
   "execution_count": 23,
   "source": [
    "# Broadcasting Iteration\r\n",
    "\r\n",
    "import numpy as np \r\n",
    "a = np.arange(0,60,5) \r\n",
    "a = a.reshape(3,4) \r\n",
    "\r\n",
    "print('First array is:') \r\n",
    "print(a)\r\n",
    "print('\\n')  \r\n",
    "\r\n",
    "print('Second array is:') \r\n",
    "b = np.array([1, 2, 3, 4], dtype = int) \r\n",
    "print(b)  \r\n",
    "print('\\n') \r\n",
    "\r\n",
    "print('Modified array is:') \r\n",
    "for x,y in np.nditer([a,b]): \r\n",
    "   print(\"%d:%d\" % (x,y))"
   ],
   "outputs": [
    {
     "output_type": "stream",
     "name": "stdout",
     "text": [
      "First array is:\n",
      "[[ 0  5 10 15]\n",
      " [20 25 30 35]\n",
      " [40 45 50 55]]\n",
      "\n",
      "\n",
      "Second array is:\n",
      "[1 2 3 4]\n",
      "\n",
      "\n",
      "Modified array is:\n",
      "0:1\n",
      "5:2\n",
      "10:3\n",
      "15:4\n",
      "20:1\n",
      "25:2\n",
      "30:3\n",
      "35:4\n",
      "40:1\n",
      "45:2\n",
      "50:3\n",
      "55:4\n"
     ]
    }
   ],
   "metadata": {
    "scrolled": true
   }
  },
  {
   "cell_type": "code",
   "execution_count": 24,
   "source": [
    "# Broadcasting Iteration\r\n",
    "\r\n",
    "import numpy as np \r\n",
    "a = np.arange(0,60,5) \r\n",
    "a = a.reshape(3,4) \r\n",
    "\r\n",
    "print('First array is:') \r\n",
    "print(a)\r\n",
    "print('\\n')  \r\n",
    "\r\n",
    "print('Second array is:') \r\n",
    "b = np.array([1, 2, 3, 4], dtype = int) \r\n",
    "print(b)  \r\n",
    "print('\\n') \r\n",
    "\r\n",
    "print('Modified array is:') \r\n",
    "for x,y in np.nditer([a,b]): \r\n",
    "   print(f\"{x}:{y}\")"
   ],
   "outputs": [
    {
     "output_type": "stream",
     "name": "stdout",
     "text": [
      "First array is:\n",
      "[[ 0  5 10 15]\n",
      " [20 25 30 35]\n",
      " [40 45 50 55]]\n",
      "\n",
      "\n",
      "Second array is:\n",
      "[1 2 3 4]\n",
      "\n",
      "\n",
      "Modified array is:\n",
      "0:1\n",
      "5:2\n",
      "10:3\n",
      "15:4\n",
      "20:1\n",
      "25:2\n",
      "30:3\n",
      "35:4\n",
      "40:1\n",
      "45:2\n",
      "50:3\n",
      "55:4\n"
     ]
    }
   ],
   "metadata": {}
  },
  {
   "cell_type": "code",
   "execution_count": null,
   "source": [
    "# Array Manipulation"
   ],
   "outputs": [],
   "metadata": {}
  },
  {
   "cell_type": "code",
   "execution_count": null,
   "source": [
    "# Transpose Operations\r\n"
   ],
   "outputs": [],
   "metadata": {}
  },
  {
   "cell_type": "code",
   "execution_count": 31,
   "source": [
    "a = np.arange(12).reshape(3,4) \r\n",
    "print(a)\r\n",
    "print('a.base?:', a.base, '\\n')\r\n",
    "b = np.transpose(a)\r\n",
    "print(b)\r\n",
    "print('b.base?:', b.base)\r\n",
    "print('\\nb is a?:', b is a)"
   ],
   "outputs": [
    {
     "output_type": "stream",
     "name": "stdout",
     "text": [
      "[[ 0  1  2  3]\n",
      " [ 4  5  6  7]\n",
      " [ 8  9 10 11]]\n",
      "a.base?: [ 0  1  2  3  4  5  6  7  8  9 10 11] \n",
      "\n",
      "[[ 0  4  8]\n",
      " [ 1  5  9]\n",
      " [ 2  6 10]\n",
      " [ 3  7 11]]\n",
      "b.base?: [ 0  1  2  3  4  5  6  7  8  9 10 11]\n",
      "\n",
      "b is a?: False\n"
     ]
    }
   ],
   "metadata": {}
  },
  {
   "cell_type": "code",
   "execution_count": 32,
   "source": [
    "a = np.arange(12).reshape(3,4) \r\n",
    "print(a, '\\n')\r\n",
    "b = a.T\r\n",
    "print(b)\r\n",
    "print('b.base?:', b.base)\r\n",
    "print('\\nb is a?:', b is a)"
   ],
   "outputs": [
    {
     "output_type": "stream",
     "name": "stdout",
     "text": [
      "[[ 0  1  2  3]\n",
      " [ 4  5  6  7]\n",
      " [ 8  9 10 11]] \n",
      "\n",
      "[[ 0  4  8]\n",
      " [ 1  5  9]\n",
      " [ 2  6 10]\n",
      " [ 3  7 11]]\n",
      "b.base?: [ 0  1  2  3  4  5  6  7  8  9 10 11]\n",
      "\n",
      "b is a?: False\n"
     ]
    }
   ],
   "metadata": {}
  },
  {
   "cell_type": "code",
   "execution_count": null,
   "source": [
    "# Joining Array\r\n",
    "# Nối 2 array\r\n",
    "axis = 0: ngang, axis = 1 : đứng\r\n",
    "# concatenate()"
   ],
   "outputs": [],
   "metadata": {}
  },
  {
   "cell_type": "code",
   "execution_count": 18,
   "source": [
    "import numpy as np\r\n",
    "\r\n",
    "arr1 = np.array([1, 2, 3])\r\n",
    "\r\n",
    "arr2 = np.array([4, 5, 6])\r\n",
    "\r\n",
    "arr = np.concatenate((arr1, arr2)) #arr = np.concatenate((arr1, arr2), axis =0)\r\n",
    "# arr = np.concatenate((arr1, arr2), axis =1) error\r\n",
    "print(arr)"
   ],
   "outputs": [
    {
     "output_type": "stream",
     "name": "stdout",
     "text": [
      "[1 2 3 4 5 6]\n"
     ]
    }
   ],
   "metadata": {}
  },
  {
   "cell_type": "code",
   "execution_count": 35,
   "source": [
    "import numpy as np\r\n",
    "\r\n",
    "arr1 = np.array([1, 2, 3]).reshape(3,1)\r\n",
    "print(arr1)\r\n",
    "print('ndim arr1:', np.ndim(arr1))\r\n",
    "\r\n",
    "arr2 = np.array([4, 5, 6]).reshape(3,1)\r\n",
    "print(arr2)\r\n",
    "print('ndim arr2:', np.ndim(arr2))\r\n",
    "\r\n",
    "arr = np.concatenate((arr1, arr2),axis = 0) #arr = np.concatenate((arr1, arr2), axis =0)\r\n",
    "\r\n",
    "print('concatenate:\\n', arr)"
   ],
   "outputs": [
    {
     "output_type": "stream",
     "name": "stdout",
     "text": [
      "[[1]\n",
      " [2]\n",
      " [3]]\n",
      "ndim arr1: 2\n",
      "[[4]\n",
      " [5]\n",
      " [6]]\n",
      "ndim arr2: 2\n",
      "concatenate:\n",
      " [[1]\n",
      " [2]\n",
      " [3]\n",
      " [4]\n",
      " [5]\n",
      " [6]]\n"
     ]
    }
   ],
   "metadata": {}
  },
  {
   "cell_type": "code",
   "execution_count": 6,
   "source": [
    "import numpy as np\r\n",
    "\r\n",
    "arr1 = np.array([1, 2, 3]).reshape(3,1)\r\n",
    "print(arr1)\r\n",
    "print('ndim arr1:', np.ndim(arr1))\r\n",
    "\r\n",
    "arr2 = np.array([4, 5, 6]).reshape(3,1)\r\n",
    "print(arr2)\r\n",
    "print('ndim arr2:', np.ndim(arr2))\r\n",
    "\r\n",
    "arr = np.concatenate((arr1, arr2), axis = 1)\r\n",
    "\r\n",
    "print('concatenate:\\n', arr)"
   ],
   "outputs": [
    {
     "output_type": "stream",
     "name": "stdout",
     "text": [
      "[[1]\n",
      " [2]\n",
      " [3]]\n",
      "ndim arr1: 2\n",
      "[[4]\n",
      " [5]\n",
      " [6]]\n",
      "ndim arr2: 2\n",
      "concatenate:\n",
      " [[1 4]\n",
      " [2 5]\n",
      " [3 6]]\n"
     ]
    }
   ],
   "metadata": {}
  },
  {
   "cell_type": "code",
   "execution_count": 8,
   "source": [
    "import numpy as np\r\n",
    "\r\n",
    "arr1 = np.array([[1, 2], [3, 4]])\r\n",
    "print(arr1,'\\n')\r\n",
    "\r\n",
    "arr2 = np.array([[5, 6], [7, 8]])\r\n",
    "print(arr2,'\\n')\r\n",
    "\r\n",
    "arr = np.concatenate((arr1, arr2), axis= 0)\r\n",
    "print(arr)"
   ],
   "outputs": [
    {
     "output_type": "stream",
     "name": "stdout",
     "text": [
      "[[1 2]\n",
      " [3 4]] \n",
      "\n",
      "[[5 6]\n",
      " [7 8]] \n",
      "\n",
      "[[1 2]\n",
      " [3 4]\n",
      " [5 6]\n",
      " [7 8]]\n"
     ]
    }
   ],
   "metadata": {}
  },
  {
   "cell_type": "code",
   "execution_count": 35,
   "source": [
    "import numpy as np\r\n",
    "\r\n",
    "arr1 = np.array([[1, 2], [3, 4]])\r\n",
    "print(arr1,'\\n')\r\n",
    "\r\n",
    "arr2 = np.array([[5, 6], [7, 8]])\r\n",
    "print(arr2,'\\n')\r\n",
    "\r\n",
    "arr = np.concatenate((arr1, arr2), axis= 1)\r\n",
    "print(arr)"
   ],
   "outputs": [
    {
     "output_type": "stream",
     "name": "stdout",
     "text": [
      "[[1 2 5 6]\n",
      " [3 4 7 8]]\n"
     ]
    }
   ],
   "metadata": {}
  },
  {
   "cell_type": "code",
   "execution_count": 8,
   "source": [
    "# stack(), ndim + 1 in result\r\n",
    "# Nối 2 array\r\n",
    "import numpy as np\r\n",
    "\r\n",
    "arr1 = np.array([1, 2, 3])\r\n",
    "\r\n",
    "arr2 = np.array([4, 5, 6])\r\n",
    "\r\n",
    "arr = np.stack((arr1, arr2)) # arr = np.stack((arr1, arr2), axis=0)\r\n",
    "\r\n",
    "print(arr)"
   ],
   "outputs": [
    {
     "output_type": "stream",
     "name": "stdout",
     "text": [
      "[[1 2 3]\n",
      " [4 5 6]]\n"
     ]
    }
   ],
   "metadata": {}
  },
  {
   "cell_type": "code",
   "execution_count": 12,
   "source": [
    "import numpy as np\r\n",
    "\r\n",
    "arr1 = np.array([1, 2, 3])\r\n",
    "\r\n",
    "arr2 = np.array([4, 5, 6])\r\n",
    "\r\n",
    "# Nối 2 array\r\n",
    "arr = np.stack((arr1, arr2), axis=1)\r\n",
    "\r\n",
    "print(arr)"
   ],
   "outputs": [
    {
     "output_type": "stream",
     "name": "stdout",
     "text": [
      "[[1 4]\n",
      " [2 5]\n",
      " [3 6]]\n"
     ]
    }
   ],
   "metadata": {}
  },
  {
   "cell_type": "code",
   "execution_count": 36,
   "source": [
    "import numpy as np \r\n",
    "a = np.array([[1,2],[3,4]]) \r\n",
    "\r\n",
    "print('First Array:') \r\n",
    "print(a)\r\n",
    "print('\\n')\r\n",
    "b = np.array([[5,6],[7,8]]) \r\n",
    "\r\n",
    "print('Second Array:') \r\n",
    "print(b)\r\n",
    "print('\\n')  \r\n",
    "\r\n",
    "print('Stack the two arrays along axis 0:') \r\n",
    "print(np.stack((a,b),0)) #axis = 0\r\n",
    "print('\\n')  \r\n",
    "\r\n",
    "print('Stack the two arrays along axis 1:')\r\n",
    "print (np.stack((a,b),1)) #axis = 1"
   ],
   "outputs": [
    {
     "output_type": "stream",
     "name": "stdout",
     "text": [
      "First Array:\n",
      "[[1 2]\n",
      " [3 4]]\n",
      "\n",
      "\n",
      "Second Array:\n",
      "[[5 6]\n",
      " [7 8]]\n",
      "\n",
      "\n",
      "Stack the two arrays along axis 0:\n",
      "[[[1 2]\n",
      "  [3 4]]\n",
      "\n",
      " [[5 6]\n",
      "  [7 8]]]\n",
      "\n",
      "\n",
      "Stack the two arrays along axis 1:\n",
      "[[[1 2]\n",
      "  [5 6]]\n",
      "\n",
      " [[3 4]\n",
      "  [7 8]]]\n"
     ]
    }
   ],
   "metadata": {}
  },
  {
   "cell_type": "code",
   "execution_count": 11,
   "source": [
    "# Stacking Along Rows\r\n",
    "# Nối 2 array theo dòng và không dùng axis được\r\n",
    "# hstack()\r\n",
    "import numpy as np\r\n",
    "\r\n",
    "arr1 = np.array([1, 2, 3])\r\n",
    "\r\n",
    "arr2 = np.array([4, 5, 6])\r\n",
    "\r\n",
    "arr = np.hstack((arr1, arr2)) # No axis\r\n",
    "\r\n",
    "print(arr)"
   ],
   "outputs": [
    {
     "output_type": "stream",
     "name": "stdout",
     "text": [
      "[1 2 3 4 5 6]\n"
     ]
    }
   ],
   "metadata": {}
  },
  {
   "cell_type": "code",
   "execution_count": 41,
   "source": [
    "import numpy as np\r\n",
    "\r\n",
    "arr1 = np.array([[1,2],[3,4]])\r\n",
    "\r\n",
    "arr2 = np.array([[5,6],[7,8]])\r\n",
    "\r\n",
    "arr = np.hstack((arr1, arr2)) # No axis\r\n",
    "\r\n",
    "print(arr1,'\\n')\r\n",
    "print(arr2,'\\n')\r\n",
    "print(arr)"
   ],
   "outputs": [
    {
     "output_type": "stream",
     "name": "stdout",
     "text": [
      "[[1 2]\n",
      " [3 4]] \n",
      "\n",
      "[[5 6]\n",
      " [7 8]] \n",
      "\n",
      "[[1 2 5 6]\n",
      " [3 4 7 8]]\n"
     ]
    }
   ],
   "metadata": {}
  },
  {
   "cell_type": "code",
   "execution_count": 26,
   "source": [
    "# Stacking Along Columns\r\n",
    "# vstack()\r\n",
    "# Nối 2 array theo cột và không dùng axis được\r\n",
    "import numpy as np\r\n",
    "\r\n",
    "arr1 = np.array([1, 2, 3])\r\n",
    "\r\n",
    "arr2 = np.array([4, 5, 6])\r\n",
    "\r\n",
    "arr = np.vstack((arr1, arr2)) # no axis\r\n",
    "\r\n",
    "print(arr)"
   ],
   "outputs": [
    {
     "output_type": "stream",
     "name": "stdout",
     "text": [
      "[[1 2 3]\n",
      " [4 5 6]]\n"
     ]
    }
   ],
   "metadata": {}
  },
  {
   "cell_type": "code",
   "execution_count": 43,
   "source": [
    "import numpy as np\r\n",
    "\r\n",
    "arr1 = np.array([[1,2],[3,4]])\r\n",
    "\r\n",
    "arr2 = np.array([[5,6],[7,8]])\r\n",
    "\r\n",
    "arr = np.vstack((arr1, arr2)) # no axis\r\n",
    "\r\n",
    "print(arr1,'\\n')\r\n",
    "print(arr2,'\\n')\r\n",
    "print(arr)"
   ],
   "outputs": [
    {
     "output_type": "stream",
     "name": "stdout",
     "text": [
      "[[1 2]\n",
      " [3 4]] \n",
      "\n",
      "[[5 6]\n",
      " [7 8]] \n",
      "\n",
      "[[1 2]\n",
      " [3 4]\n",
      " [5 6]\n",
      " [7 8]]\n"
     ]
    }
   ],
   "metadata": {}
  },
  {
   "cell_type": "code",
   "execution_count": 47,
   "source": [
    "# Stacking Along Height (depth)\r\n",
    "# dstack()\r\n",
    "import numpy as np\r\n",
    "\r\n",
    "arr1 = np.array([1, 2, 3])\r\n",
    "\r\n",
    "arr2 = np.array([4, 5, 6])\r\n",
    "\r\n",
    "arr = np.dstack((arr1, arr2))# No axis\r\n",
    "\r\n",
    "print(arr)\r\n",
    "print('ndim:', np.ndim(arr))"
   ],
   "outputs": [
    {
     "output_type": "stream",
     "name": "stdout",
     "text": [
      "[[[1 4]\n",
      "  [2 5]\n",
      "  [3 6]]]\n",
      "ndim: 3\n"
     ]
    }
   ],
   "metadata": {}
  },
  {
   "cell_type": "code",
   "execution_count": null,
   "source": [
    "# Splitting Array\r\n",
    " # array_split()"
   ],
   "outputs": [],
   "metadata": {}
  },
  {
   "cell_type": "code",
   "execution_count": 51,
   "source": [
    "import numpy as np\r\n",
    "\r\n",
    "arr = np.array([1, 2, 3, 4, 5, 6])\r\n",
    "\r\n",
    "newarr = np.array_split(arr, 3)\r\n",
    "\r\n",
    "print(newarr)"
   ],
   "outputs": [
    {
     "output_type": "stream",
     "name": "stdout",
     "text": [
      "[array([1, 2]), array([3, 4]), array([5, 6])]\n"
     ]
    }
   ],
   "metadata": {}
  },
  {
   "cell_type": "code",
   "execution_count": 7,
   "source": [
    "import numpy as np\r\n",
    "\r\n",
    "arr = np.array([1, 2, 3, 4, 5, 6])\r\n",
    "\r\n",
    "newarr = np.array_split(arr, 4)\r\n",
    "#newarr = np.split(arr, 4) #error\r\n",
    "print(newarr)"
   ],
   "outputs": [
    {
     "output_type": "stream",
     "name": "stdout",
     "text": [
      "[array([1, 2]), array([3, 4]), array([5]), array([6])]\n"
     ]
    }
   ],
   "metadata": {}
  },
  {
   "cell_type": "code",
   "execution_count": 50,
   "source": [
    "import numpy as np\r\n",
    "\r\n",
    "arr = np.array([1, 2, 3, 4, 5, 6])\r\n",
    "\r\n",
    "newarr = np.array_split(arr, 3)\r\n",
    "\r\n",
    "print(newarr,'\\n')\r\n",
    "print(newarr[0])\r\n",
    "print(newarr[1])\r\n",
    "print(newarr[2])\r\n",
    "\r\n",
    "newarr1 = np.array(newarr)\r\n",
    "print('newarr1:\\n', newarr1)"
   ],
   "outputs": [
    {
     "output_type": "stream",
     "name": "stdout",
     "text": [
      "[array([1, 2]), array([3, 4]), array([5, 6])] \n",
      "\n",
      "[1 2]\n",
      "[3 4]\n",
      "[5 6]\n",
      "newarr1:\n",
      " [[1 2]\n",
      " [3 4]\n",
      " [5 6]]\n"
     ]
    }
   ],
   "metadata": {}
  },
  {
   "cell_type": "code",
   "execution_count": 1,
   "source": [
    "#Splitting 2-D Arrays\r\n",
    "import numpy as np\r\n",
    "\r\n",
    "arr = np.array([[1, 2], [3, 4], [5, 6], [7, 8], [9, 10], [11, 12]])\r\n",
    "\r\n",
    "newarr = np.array_split(arr, 3)\r\n",
    "\r\n",
    "print(arr,'\\n')\r\n",
    "print(newarr)"
   ],
   "outputs": [
    {
     "output_type": "stream",
     "name": "stdout",
     "text": [
      "[[ 1  2]\n",
      " [ 3  4]\n",
      " [ 5  6]\n",
      " [ 7  8]\n",
      " [ 9 10]\n",
      " [11 12]] \n",
      "\n",
      "[array([[1, 2],\n",
      "       [3, 4]]), array([[5, 6],\n",
      "       [7, 8]]), array([[ 9, 10],\n",
      "       [11, 12]])]\n"
     ]
    }
   ],
   "metadata": {}
  },
  {
   "cell_type": "code",
   "execution_count": 55,
   "source": [
    "import numpy as np\r\n",
    "\r\n",
    "arr = np.array([[1, 2, 3], [4, 5, 6], [7, 8, 9], [10, 11, 12], [13, 14, 15], [16, 17, 18]])\r\n",
    "\r\n",
    "newarr = np.array_split(arr, 3)\r\n",
    "\r\n",
    "print(arr,'\\n')\r\n",
    "print(newarr)"
   ],
   "outputs": [
    {
     "output_type": "stream",
     "name": "stdout",
     "text": [
      "[[ 1  2  3]\n",
      " [ 4  5  6]\n",
      " [ 7  8  9]\n",
      " [10 11 12]\n",
      " [13 14 15]\n",
      " [16 17 18]] \n",
      "\n",
      "[array([[1, 2, 3],\n",
      "       [4, 5, 6]]), array([[ 7,  8,  9],\n",
      "       [10, 11, 12]]), array([[13, 14, 15],\n",
      "       [16, 17, 18]])]\n"
     ]
    }
   ],
   "metadata": {}
  },
  {
   "cell_type": "code",
   "execution_count": 54,
   "source": [
    "import numpy as np\r\n",
    "\r\n",
    "arr = np.array([[1, 2, 3], [4, 5, 6], [7, 8, 9], [10, 11, 12], [13, 14, 15], [16, 17, 18]])\r\n",
    "\r\n",
    "print(arr,'\\n')\r\n",
    "newarr = np.array_split(arr, 3, axis=1)\r\n",
    "\r\n",
    "print(newarr)\r\n",
    "print('newarr.shape: ', newarr[0].shape)"
   ],
   "outputs": [
    {
     "output_type": "stream",
     "name": "stdout",
     "text": [
      "[[ 1  2  3]\n",
      " [ 4  5  6]\n",
      " [ 7  8  9]\n",
      " [10 11 12]\n",
      " [13 14 15]\n",
      " [16 17 18]] \n",
      "\n",
      "[array([[ 1],\n",
      "       [ 4],\n",
      "       [ 7],\n",
      "       [10],\n",
      "       [13],\n",
      "       [16]]), array([[ 2],\n",
      "       [ 5],\n",
      "       [ 8],\n",
      "       [11],\n",
      "       [14],\n",
      "       [17]]), array([[ 3],\n",
      "       [ 6],\n",
      "       [ 9],\n",
      "       [12],\n",
      "       [15],\n",
      "       [18]])]\n",
      "newarr.shape:  (6, 1)\n"
     ]
    }
   ],
   "metadata": {}
  },
  {
   "cell_type": "code",
   "execution_count": 7,
   "source": [
    "import numpy as np \r\n",
    "a = np.arange(9) \r\n",
    "\r\n",
    "print(a,'\\n') \r\n",
    "\r\n",
    "print('split the array in 3 equal-sized subarrays:')\r\n",
    "b = np.split(a,3) \r\n",
    "print(b,'\\n') \r\n",
    "\r\n",
    "print('Split the array at positions indicated in 1-D array:')\r\n",
    "# Split tại index số 4 và số 7\r\n",
    "b = np.split(a,[4,7])\r\n",
    "print(b) "
   ],
   "outputs": [
    {
     "output_type": "stream",
     "name": "stdout",
     "text": [
      "[0 1 2 3 4 5 6 7 8] \n",
      "\n",
      "split the array in 3 equal-sized subarrays:\n",
      "[array([0, 1, 2]), array([3, 4, 5]), array([6, 7, 8])] \n",
      "\n",
      "Split the array at positions indicated in 1-D array:\n",
      "[array([0, 1, 2, 3]), array([4, 5, 6]), array([7, 8])]\n"
     ]
    }
   ],
   "metadata": {}
  },
  {
   "cell_type": "code",
   "execution_count": 57,
   "source": [
    "# hsplit()\r\n",
    "# Split theo chiều dọc array\r\n",
    "import numpy as np\r\n",
    "\r\n",
    "arr = np.array([[1, 2, 3], [4, 5, 6], [7, 8, 9], [10, 11, 12], [13, 14, 15], [16, 17, 18]])\r\n",
    "\r\n",
    "newarr = np.hsplit(arr, 3)\r\n",
    "\r\n",
    "print(newarr)"
   ],
   "outputs": [
    {
     "output_type": "stream",
     "name": "stdout",
     "text": [
      "[array([[ 1],\n",
      "       [ 4],\n",
      "       [ 7],\n",
      "       [10],\n",
      "       [13],\n",
      "       [16]]), array([[ 2],\n",
      "       [ 5],\n",
      "       [ 8],\n",
      "       [11],\n",
      "       [14],\n",
      "       [17]]), array([[ 3],\n",
      "       [ 6],\n",
      "       [ 9],\n",
      "       [12],\n",
      "       [15],\n",
      "       [18]])]\n"
     ]
    }
   ],
   "metadata": {}
  },
  {
   "cell_type": "code",
   "execution_count": 9,
   "source": [
    "import numpy as np \r\n",
    "a = np.arange(16).reshape(4,4) \r\n",
    "\r\n",
    "print(a,'\\n')  \r\n",
    "\r\n",
    "b = np.hsplit(a,1) \r\n",
    "print(b) "
   ],
   "outputs": [
    {
     "output_type": "stream",
     "name": "stdout",
     "text": [
      "[[ 0  1  2  3]\n",
      " [ 4  5  6  7]\n",
      " [ 8  9 10 11]\n",
      " [12 13 14 15]] \n",
      "\n",
      "[array([[ 0,  1,  2,  3],\n",
      "       [ 4,  5,  6,  7],\n",
      "       [ 8,  9, 10, 11],\n",
      "       [12, 13, 14, 15]])]\n"
     ]
    }
   ],
   "metadata": {}
  },
  {
   "cell_type": "code",
   "execution_count": 8,
   "source": [
    "import numpy as np \r\n",
    "a = np.arange(16).reshape(4,4) \r\n",
    "\r\n",
    "print(a,'\\n')  \r\n",
    "\r\n",
    "b = np.hsplit(a,2) \r\n",
    "print(b) \r\n"
   ],
   "outputs": [
    {
     "output_type": "stream",
     "name": "stdout",
     "text": [
      "[[ 0  1  2  3]\n",
      " [ 4  5  6  7]\n",
      " [ 8  9 10 11]\n",
      " [12 13 14 15]] \n",
      "\n",
      "[array([[ 0,  1],\n",
      "       [ 4,  5],\n",
      "       [ 8,  9],\n",
      "       [12, 13]]), array([[ 2,  3],\n",
      "       [ 6,  7],\n",
      "       [10, 11],\n",
      "       [14, 15]])]\n"
     ]
    }
   ],
   "metadata": {}
  },
  {
   "cell_type": "code",
   "execution_count": 58,
   "source": [
    "import numpy as np \r\n",
    "a = np.arange(16).reshape(4,4) \r\n",
    "\r\n",
    "print(a,'\\n')  \r\n",
    "\r\n",
    "# b = np.hsplit(a,3) # Error \r\n",
    "b = np.hsplit(a,4)\r\n",
    "print(b) "
   ],
   "outputs": [
    {
     "output_type": "stream",
     "name": "stdout",
     "text": [
      "[[ 0  1  2  3]\n",
      " [ 4  5  6  7]\n",
      " [ 8  9 10 11]\n",
      " [12 13 14 15]] \n",
      "\n",
      "[array([[ 0],\n",
      "       [ 4],\n",
      "       [ 8],\n",
      "       [12]]), array([[ 1],\n",
      "       [ 5],\n",
      "       [ 9],\n",
      "       [13]]), array([[ 2],\n",
      "       [ 6],\n",
      "       [10],\n",
      "       [14]]), array([[ 3],\n",
      "       [ 7],\n",
      "       [11],\n",
      "       [15]])]\n"
     ]
    }
   ],
   "metadata": {}
  },
  {
   "cell_type": "code",
   "execution_count": 59,
   "source": [
    "# vsplit()\r\n",
    "# Split theo hàng ngang\r\n",
    "import numpy as np\r\n",
    "\r\n",
    "arr = np.array([[1, 2, 3], [4, 5, 6], [7, 8, 9], [10, 11, 12], [13, 14, 15], [16, 17, 18]])\r\n",
    "\r\n",
    "print(arr,'\\n')\r\n",
    "newarr = np.vsplit(arr, 1)\r\n",
    "\r\n",
    "print(newarr)"
   ],
   "outputs": [
    {
     "output_type": "stream",
     "name": "stdout",
     "text": [
      "[[ 1  2  3]\n",
      " [ 4  5  6]\n",
      " [ 7  8  9]\n",
      " [10 11 12]\n",
      " [13 14 15]\n",
      " [16 17 18]] \n",
      "\n",
      "[array([[ 1,  2,  3],\n",
      "       [ 4,  5,  6],\n",
      "       [ 7,  8,  9],\n",
      "       [10, 11, 12],\n",
      "       [13, 14, 15],\n",
      "       [16, 17, 18]])]\n"
     ]
    }
   ],
   "metadata": {}
  },
  {
   "cell_type": "code",
   "execution_count": 60,
   "source": [
    "import numpy as np\r\n",
    "\r\n",
    "arr = np.array([[1, 2, 3], [4, 5, 6], [7, 8, 9], [10, 11, 12], [13, 14, 15], [16, 17, 18]])\r\n",
    "\r\n",
    "print(arr,'\\n')\r\n",
    "newarr = np.vsplit(arr, 2)\r\n",
    "\r\n",
    "print(newarr)"
   ],
   "outputs": [
    {
     "output_type": "stream",
     "name": "stdout",
     "text": [
      "[[ 1  2  3]\n",
      " [ 4  5  6]\n",
      " [ 7  8  9]\n",
      " [10 11 12]\n",
      " [13 14 15]\n",
      " [16 17 18]] \n",
      "\n",
      "[array([[1, 2, 3],\n",
      "       [4, 5, 6],\n",
      "       [7, 8, 9]]), array([[10, 11, 12],\n",
      "       [13, 14, 15],\n",
      "       [16, 17, 18]])]\n"
     ]
    }
   ],
   "metadata": {}
  },
  {
   "cell_type": "code",
   "execution_count": 17,
   "source": [
    "import numpy as np\r\n",
    "\r\n",
    "arr = np.array([[1, 2, 3], [4, 5, 6], [7, 8, 9], [10, 11, 12], [13, 14, 15], [16, 17, 18]])\r\n",
    "\r\n",
    "print(arr,'\\n')\r\n",
    "newarr = np.vsplit(arr, 3)\r\n",
    "\r\n",
    "print(newarr)"
   ],
   "outputs": [
    {
     "output_type": "stream",
     "name": "stdout",
     "text": [
      "[[ 1  2  3]\n",
      " [ 4  5  6]\n",
      " [ 7  8  9]\n",
      " [10 11 12]\n",
      " [13 14 15]\n",
      " [16 17 18]] \n",
      "\n",
      "[array([[1, 2, 3],\n",
      "       [4, 5, 6]]), array([[ 7,  8,  9],\n",
      "       [10, 11, 12]]), array([[13, 14, 15],\n",
      "       [16, 17, 18]])]\n"
     ]
    }
   ],
   "metadata": {}
  },
  {
   "cell_type": "code",
   "execution_count": 63,
   "source": [
    "import numpy as np\r\n",
    "\r\n",
    "arr = np.array([[1, 2, 3], [4, 5, 6], [7, 8, 9], [10, 11, 12], [13, 14, 15], [16, 17, 18]])\r\n",
    "\r\n",
    "print(arr,'\\n')\r\n",
    "#newarr = np.vsplit(arr, 5) #Error\r\n",
    "newarr = np.vsplit(arr, 6)\r\n",
    "\r\n",
    "print(newarr)"
   ],
   "outputs": [
    {
     "output_type": "stream",
     "name": "stdout",
     "text": [
      "[[ 1  2  3]\n",
      " [ 4  5  6]\n",
      " [ 7  8  9]\n",
      " [10 11 12]\n",
      " [13 14 15]\n",
      " [16 17 18]] \n",
      "\n",
      "[array([[1, 2, 3]]), array([[4, 5, 6]]), array([[7, 8, 9]]), array([[10, 11, 12]]), array([[13, 14, 15]]), array([[16, 17, 18]])]\n"
     ]
    }
   ],
   "metadata": {}
  },
  {
   "cell_type": "code",
   "execution_count": 13,
   "source": [
    "import numpy as np\r\n",
    "\r\n",
    "arr = np.array([[1, 2, 3], [4, 5, 6], [7, 8, 9], [10, 11, 12], [13, 14, 15], [16, 17, 18]])\r\n",
    "\r\n",
    "print(arr,'\\n')\r\n",
    "newarr_h = np.hsplit(arr, 3)\r\n",
    "newarr_v = np.vsplit(arr, 3)\r\n",
    "\r\n",
    "print(f'Split with H-style:\\n{newarr_h}\\n')\r\n",
    "print(f'Split with V-style:\\n{newarr_v}')"
   ],
   "outputs": [
    {
     "output_type": "stream",
     "name": "stdout",
     "text": [
      "[[ 1  2  3]\n",
      " [ 4  5  6]\n",
      " [ 7  8  9]\n",
      " [10 11 12]\n",
      " [13 14 15]\n",
      " [16 17 18]] \n",
      "\n",
      "Split with H-style:\n",
      "[array([[ 1],\n",
      "       [ 4],\n",
      "       [ 7],\n",
      "       [10],\n",
      "       [13],\n",
      "       [16]]), array([[ 2],\n",
      "       [ 5],\n",
      "       [ 8],\n",
      "       [11],\n",
      "       [14],\n",
      "       [17]]), array([[ 3],\n",
      "       [ 6],\n",
      "       [ 9],\n",
      "       [12],\n",
      "       [15],\n",
      "       [18]])]\n",
      "\n",
      "Split with V-style:\n",
      "[array([[1, 2, 3],\n",
      "       [4, 5, 6]]), array([[ 7,  8,  9],\n",
      "       [10, 11, 12]]), array([[13, 14, 15],\n",
      "       [16, 17, 18]])]\n"
     ]
    }
   ],
   "metadata": {}
  },
  {
   "cell_type": "code",
   "execution_count": null,
   "source": [
    "# Adding / Removing Elements"
   ],
   "outputs": [],
   "metadata": {}
  },
  {
   "cell_type": "code",
   "execution_count": 14,
   "source": [
    "# resize\r\n",
    "\r\n",
    "import numpy as np \r\n",
    "a = np.array([[1,2,3],[4,5,6]]) \r\n",
    "\r\n",
    "print(a,'\\n') \r\n",
    "\r\n",
    "print('The shape of first array:') \r\n",
    "print(a.shape, '\\n') \r\n",
    "  \r\n",
    "b = np.resize(a, (3,2)) \r\n",
    "\r\n",
    "print('Second array:') \r\n",
    "print(b,'\\n') \r\n",
    "\r\n",
    "print('The shape of second array:') \r\n",
    "print(b.shape,'\\n') \r\n",
    "  \r\n",
    "# Observe that first row of a is repeated in b since size is bigger \r\n",
    "\r\n",
    "print('Resize the second array:')\r\n",
    "b = np.resize(a,(3,3)) \r\n",
    "print(b)"
   ],
   "outputs": [
    {
     "output_type": "stream",
     "name": "stdout",
     "text": [
      "[[1 2 3]\n",
      " [4 5 6]] \n",
      "\n",
      "The shape of first array:\n",
      "(2, 3) \n",
      "\n",
      "Second array:\n",
      "[[1 2]\n",
      " [3 4]\n",
      " [5 6]] \n",
      "\n",
      "The shape of second array:\n",
      "(3, 2) \n",
      "\n",
      "Resize the second array:\n",
      "[[1 2 3]\n",
      " [4 5 6]\n",
      " [1 2 3]]\n"
     ]
    }
   ],
   "metadata": {}
  },
  {
   "cell_type": "code",
   "execution_count": 16,
   "source": [
    "# append, Appends the values to the end of an array\r\n",
    "import numpy as np \r\n",
    "a = np.array([[1,2,3],[4,5,6]]) \r\n",
    "\r\n",
    "print('First array:\\n',a,'\\n')\r\n",
    "\r\n",
    "print('Append elements to array:\\n', (np.append(a, [7,8,9])),'\\n') \r\n",
    "\r\n",
    "print('Append elements to array after reshape(3,3):\\n', (np.append(a, [7,8,9])).reshape(3,3),'\\n') \r\n",
    "\r\n",
    "print('Append elements along axis 0:\\n', np.append(a, [[7,8,9]],axis = 0),'\\n')\r\n",
    "\r\n",
    "print('Append elements along axis 1:\\n', np.append(a, [[5,5,5],[7,8,9]],axis = 1))"
   ],
   "outputs": [
    {
     "output_type": "stream",
     "name": "stdout",
     "text": [
      "First array:\n",
      " [[1 2 3]\n",
      " [4 5 6]] \n",
      "\n",
      "Append elements to array:\n",
      " [1 2 3 4 5 6 7 8 9] \n",
      "\n",
      "Append elements to array after reshape(3,3):\n",
      " [[1 2 3]\n",
      " [4 5 6]\n",
      " [7 8 9]] \n",
      "\n",
      "Append elements along axis 0:\n",
      " [[1 2 3]\n",
      " [4 5 6]\n",
      " [7 8 9]] \n",
      "\n",
      "Append elements along axis 1:\n",
      " [[1 2 3 5 5 5]\n",
      " [4 5 6 7 8 9]]\n"
     ]
    }
   ],
   "metadata": {}
  },
  {
   "cell_type": "code",
   "execution_count": 19,
   "source": [
    "# insert, Inserts the values along the given axis before the given indices\r\n",
    "# np.insert(array,vị trí,[giá trị cần gán], axis= )\r\n",
    "import numpy as np \r\n",
    "a = np.array([[0,1],[2,3],[4,5]]) \r\n",
    "\r\n",
    "print('First array:\\n', a, '\\n')\r\n",
    "\r\n",
    "print('Axis parameter not passed. The input array is flattened before insertion.')\r\n",
    "print(np.insert(a,3,[11,12]), '\\n')\r\n",
    "\r\n",
    "print('Axis parameter passed. The values array is broadcast to match input array.')\r\n",
    "\r\n",
    "print('Broadcast along axis 0:') \r\n",
    "print(np.insert(a,2,[11,12],axis = 0), '\\n') \r\n",
    "\r\n",
    "print('Broadcast along axis 0:') \r\n",
    "print(np.insert(a,2,[11],axis = 0), '\\n') \r\n",
    "\r\n",
    "print('Broadcast along axis 1:')\r\n",
    "print(np.insert(a,1,11,axis = 1))\r\n",
    "\r\n",
    "print('Broadcast along axis 1:')\r\n",
    "print(np.insert(a,1,[11,12,14],axis = 1))"
   ],
   "outputs": [
    {
     "output_type": "stream",
     "name": "stdout",
     "text": [
      "First array:\n",
      " [[0 1]\n",
      " [2 3]\n",
      " [4 5]] \n",
      "\n",
      "Axis parameter not passed. The input array is flattened before insertion.\n",
      "[ 0  1  2 11 12  3  4  5] \n",
      "\n",
      "Axis parameter passed. The values array is broadcast to match input array.\n",
      "Broadcast along axis 0:\n",
      "[[ 0  1]\n",
      " [ 2  3]\n",
      " [11 12]\n",
      " [ 4  5]] \n",
      "\n",
      "Broadcast along axis 0:\n",
      "[[ 0  1]\n",
      " [ 2  3]\n",
      " [11 11]\n",
      " [ 4  5]] \n",
      "\n",
      "Broadcast along axis 1:\n",
      "[[ 0 11  1]\n",
      " [ 2 11  3]\n",
      " [ 4 11  5]]\n",
      "Broadcast along axis 1:\n",
      "[[ 0 11  1]\n",
      " [ 2 12  3]\n",
      " [ 4 14  5]]\n"
     ]
    }
   ],
   "metadata": {}
  },
  {
   "cell_type": "code",
   "execution_count": 97,
   "source": [
    "import numpy as np \r\n",
    "a = np.array([[0,1],[2,3],[4,5]]) \r\n",
    "\r\n",
    "print('First array:\\n', a, '\\n')\r\n",
    "\r\n",
    "print('Axis parameter not passed. The input array is flattened before insertion.')\r\n",
    "print(np.insert(a,3,[11,12]), '\\n')\r\n",
    "\r\n",
    "print('Axis parameter passed. The values array is broadcast to match input array.')\r\n",
    "\r\n",
    "print('Broadcast along axis 0:') \r\n",
    "print(np.insert(a,2,[11, 12],axis = 0), '\\n') \r\n",
    "\r\n",
    "print('Broadcast along axis 1:')\r\n",
    "print(np.insert(a,1,[11, 12, 13],axis = 1))"
   ],
   "outputs": [
    {
     "output_type": "stream",
     "name": "stdout",
     "text": [
      "First array:\n",
      " [[0 1]\n",
      " [2 3]\n",
      " [4 5]] \n",
      "\n",
      "Axis parameter not passed. The input array is flattened before insertion.\n",
      "[ 0  1  2 11 12  3  4  5] \n",
      "\n",
      "Axis parameter passed. The values array is broadcast to match input array.\n",
      "Broadcast along axis 0:\n",
      "[[ 0  1]\n",
      " [ 2  3]\n",
      " [11 12]\n",
      " [ 4  5]] \n",
      "\n",
      "Broadcast along axis 1:\n",
      "[[ 0 11  1]\n",
      " [ 2 12  3]\n",
      " [ 4 13  5]]\n"
     ]
    }
   ],
   "metadata": {}
  },
  {
   "cell_type": "code",
   "execution_count": null,
   "source": [
    "# delete, Returns a new array with sub-arrays along an axis deleted\r\n",
    "# Numpy.delete(arr, obj, axis)\r\n",
    "\r\n",
    "arr: Input array\r\n",
    "\r\n",
    "obj: Can be a slice, an integer or array of integers, indicating the subarray to be deleted from the input array\r\n",
    "\r\n",
    "axis: The axis along which to delete the given subarray. If not given, arr is flattened"
   ],
   "outputs": [],
   "metadata": {}
  },
  {
   "cell_type": "code",
   "execution_count": 99,
   "source": [
    "import numpy as np \r\n",
    "a = np.arange(12).reshape(3,4) \r\n",
    "\r\n",
    "print('First array:\\n', a, '\\n')\r\n",
    "\r\n",
    "print('Array flattened before delete operation as axis not used:') \r\n",
    "print(np.delete(a,5), '\\n') \r\n",
    "\r\n",
    "print('Column 2 deleted:')  \r\n",
    "print(np.delete(a,1,axis = 1),'\\n')\r\n",
    "# print(np.delete(a,2,axis = 1),'\\n')\r\n",
    "\r\n",
    "print('Row 2 deleted:')  \r\n",
    "print(np.delete(a,1,axis = 0),'\\n')\r\n",
    "\r\n",
    "# Xóa phần tử array có điều kiện\r\n",
    "# Xóa các phần tử số lẻ trong array\r\n",
    "print('A slice containing alternate values from array deleted:' )\r\n",
    "a = np.array([1,2,3,4,5,6,7,8,9,10]) \r\n",
    "print(np.delete(a, np.s_[::2]))"
   ],
   "outputs": [
    {
     "output_type": "stream",
     "name": "stdout",
     "text": [
      "First array:\n",
      " [[ 0  1  2  3]\n",
      " [ 4  5  6  7]\n",
      " [ 8  9 10 11]] \n",
      "\n",
      "Array flattened before delete operation as axis not used:\n",
      "[ 0  1  2  3  4  6  7  8  9 10 11] \n",
      "\n",
      "Column 2 deleted:\n",
      "[[ 0  2  3]\n",
      " [ 4  6  7]\n",
      " [ 8 10 11]] \n",
      "\n",
      "Row 2 deleted:\n",
      "[[ 0  1  2  3]\n",
      " [ 8  9 10 11]] \n",
      "\n",
      "A slice containing alternate values from array deleted:\n",
      "[ 2  4  6  8 10]\n"
     ]
    }
   ],
   "metadata": {}
  },
  {
   "cell_type": "code",
   "execution_count": 101,
   "source": [
    "import numpy as np \r\n",
    "a = np.arange(12).reshape(3,4) \r\n",
    "a = np.transpose(a)\r\n",
    "\r\n",
    "print('First array:\\n', a, '\\n')\r\n",
    "\r\n",
    "print('Column 3 deleted:')  \r\n",
    "print(np.delete(a,2,axis = 1),'\\n')"
   ],
   "outputs": [
    {
     "output_type": "stream",
     "name": "stdout",
     "text": [
      "First array:\n",
      " [[ 0  4  8]\n",
      " [ 1  5  9]\n",
      " [ 2  6 10]\n",
      " [ 3  7 11]] \n",
      "\n",
      "Column 3 deleted:\n",
      "[[0 4]\n",
      " [1 5]\n",
      " [2 6]\n",
      " [3 7]] \n",
      "\n"
     ]
    }
   ],
   "metadata": {}
  },
  {
   "cell_type": "code",
   "execution_count": 28,
   "source": [
    "import numpy as np \r\n",
    "a = np.arange(12).reshape(3,4) \r\n",
    "\r\n",
    "print('First array:\\n', a, '\\n')\r\n",
    "\r\n",
    "print('Row 2 deleted:')  \r\n",
    "print(np.delete(a,1,axis = 0),'\\n')"
   ],
   "outputs": [
    {
     "output_type": "stream",
     "name": "stdout",
     "text": [
      "First array:\n",
      " [[ 0  1  2  3]\n",
      " [ 4  5  6  7]\n",
      " [ 8  9 10 11]] \n",
      "\n",
      "Row 2 deleted:\n",
      "[[ 0  1  2  3]\n",
      " [ 8  9 10 11]] \n",
      "\n"
     ]
    }
   ],
   "metadata": {}
  },
  {
   "cell_type": "code",
   "execution_count": null,
   "source": [
    "# unique, Finds the unique elements of an array\r\n",
    "# numpy.unique(arr, return_index, return_inverse, return_counts)\r\n",
    "\r\n",
    "1\t\r\n",
    "arr\r\n",
    "\r\n",
    "The input array. Will be flattened if not 1-D array\r\n",
    "\r\n",
    "2\t\r\n",
    "return_index\r\n",
    "\r\n",
    "If True, returns the indices of elements in the input array\r\n",
    "\r\n",
    "3\t\r\n",
    "return_inverse\r\n",
    "\r\n",
    "If True, returns the indices of unique array, which can be used to reconstruct the input array\r\n",
    "\r\n",
    "4\t\r\n",
    "return_counts\r\n",
    "\r\n",
    "If True, returns the number of times the element in unique array appears in the original array"
   ],
   "outputs": [],
   "metadata": {}
  },
  {
   "cell_type": "code",
   "execution_count": 4,
   "source": [
    "import numpy as np \r\n",
    "a = np.array([5,2,6,2,7,5,6,8,2,9]) \r\n",
    "\r\n",
    "print('First array:\\n',a,'\\n') \r\n",
    "\r\n",
    "# Sort các số khác nhau\r\n",
    "# Xóa phần tử trùng lắp\r\n",
    "print('Unique values of first array:')\r\n",
    "u = np.unique(a) \r\n",
    "print(u, '\\n') \r\n",
    "\r\n",
    "# Sort các số khác nhau bằng index\r\n",
    "print('Unique array and Indices array:')\r\n",
    "u,indices = np.unique(a, return_index = True) \r\n",
    "print(indices,'\\n') \r\n",
    "\r\n",
    "\r\n",
    "print('We can see each number corresponds to index in original array:') \r\n",
    "print(a,'\\n') \r\n",
    "\r\n",
    "print('Indices of unique array:')\r\n",
    "u,indices_inverse = np.unique(a,return_inverse = True) \r\n",
    "print(u,'\\n') \r\n",
    "\r\n",
    "# Index\r\n",
    "print('Indices_inverse are:')\r\n",
    "print(indices_inverse)\r\n",
    "\r\n",
    "# Khôi phục array đã xóa\r\n",
    "print('Reconstruct the original array using indices:') \r\n",
    "print(u[indices_inverse],'\\n')\r\n",
    "\r\n",
    "# Trả về số lần lặp lại của các phần tử duy nhất\r\n",
    "print('Return the count of repetitions of unique elements:')\r\n",
    "u,counts = np.unique(a,return_counts = True) \r\n",
    "print(u) \r\n",
    "print(counts)\r\n",
    "print(u.base)"
   ],
   "outputs": [
    {
     "output_type": "stream",
     "name": "stdout",
     "text": [
      "First array:\n",
      " [5 2 6 2 7 5 6 8 2 9] \n",
      "\n",
      "Unique values of first array:\n",
      "[2 5 6 7 8 9] \n",
      "\n",
      "Unique array and Indices array:\n",
      "[1 0 2 4 7 9] \n",
      "\n",
      "We can see each number corresponds to index in original array:\n",
      "[5 2 6 2 7 5 6 8 2 9] \n",
      "\n",
      "Indices of unique array:\n",
      "[2 5 6 7 8 9] \n",
      "\n",
      "Indices_inverse are:\n",
      "[1 0 2 0 3 1 2 4 0 5]\n",
      "Reconstruct the original array using indices:\n",
      "[5 2 6 2 7 5 6 8 2 9] \n",
      "\n",
      "Return the count of repetitions of unique elements:\n",
      "[2 5 6 7 8 9]\n",
      "[3 2 2 1 1 1]\n",
      "None\n"
     ]
    }
   ],
   "metadata": {}
  },
  {
   "cell_type": "code",
   "execution_count": null,
   "source": [
    "# Searching Arrays"
   ],
   "outputs": [],
   "metadata": {}
  },
  {
   "cell_type": "code",
   "execution_count": 5,
   "source": [
    "# where(), return the indexes that get a match\r\n",
    "import numpy as np\r\n",
    "\r\n",
    "arr = np.array([1, 2, 3, 4, 5, 4, 4])\r\n",
    "\r\n",
    "# Trả về index arr == 4\r\n",
    "x = np.where(arr == 4)\r\n",
    "\r\n",
    "print(x)"
   ],
   "outputs": [
    {
     "output_type": "stream",
     "name": "stdout",
     "text": [
      "(array([3, 5, 6], dtype=int64),)\n"
     ]
    }
   ],
   "metadata": {}
  },
  {
   "cell_type": "code",
   "execution_count": 6,
   "source": [
    "import numpy as np\r\n",
    "\r\n",
    "arr = np.array([1, 2, 3, 4, 5, 6, 7, 8])\r\n",
    "\r\n",
    "# Trả về index arr % 2 == 0\r\n",
    "x = np.where(arr%2 == 0)\r\n",
    "\r\n",
    "print(x)"
   ],
   "outputs": [
    {
     "output_type": "stream",
     "name": "stdout",
     "text": [
      "(array([1, 3, 5, 7], dtype=int64),)\n"
     ]
    }
   ],
   "metadata": {}
  },
  {
   "cell_type": "code",
   "execution_count": 22,
   "source": [
    "import numpy as np\r\n",
    "\r\n",
    "arr = np.array([1, 2, 3, 4, 5, 6, 7, 8])\r\n",
    "\r\n",
    "# Trả về index arr % 2 == 1\r\n",
    "x = np.where(arr%2 == 1)\r\n",
    "\r\n",
    "print(x)"
   ],
   "outputs": [
    {
     "output_type": "stream",
     "name": "stdout",
     "text": [
      "(array([0, 2, 4, 6], dtype=int64),)\n"
     ]
    }
   ],
   "metadata": {}
  },
  {
   "cell_type": "code",
   "execution_count": 24,
   "source": [
    "import numpy as np \r\n",
    "x = np.arange(9).reshape(3, 3) \r\n",
    "\r\n",
    "print('x:\\n',x)\r\n",
    "\r\n",
    "print('Indices of elements > 3') \r\n",
    "# Trả về index x > 3\r\n",
    "y = np.where(x > 3) \r\n",
    "print(y)\r\n",
    "\r\n",
    "print('Use these indices to get elements satisfying the condition')\r\n",
    "print(x[y])"
   ],
   "outputs": [
    {
     "output_type": "stream",
     "name": "stdout",
     "text": [
      "x:\n",
      " [[0 1 2]\n",
      " [3 4 5]\n",
      " [6 7 8]]\n",
      "Indices of elements > 3\n",
      "(array([1, 1, 2, 2, 2], dtype=int64), array([1, 2, 0, 1, 2], dtype=int64))\n",
      "Use these indices to get elements satisfying the condition\n",
      "[4 5 6 7 8]\n"
     ]
    }
   ],
   "metadata": {}
  },
  {
   "cell_type": "code",
   "execution_count": 24,
   "source": [
    "# extract() function returns the elements satisfying any condition\r\n",
    "import numpy as np \r\n",
    "x = np.arange(9).reshape(3, 3) \r\n",
    "\r\n",
    "print('x:\\n',x)\r\n",
    "\r\n",
    "# define a condition \r\n",
    "condition = np.mod(x,2) == 0 \r\n",
    "\r\n",
    "print('Element-wise value of condition\\n', condition) \r\n",
    "\r\n",
    "print('Extract elements using condition')\r\n",
    "print(np.extract(condition, x))\r\n",
    "print(np.extract(np.mod(x,2)==0, x))"
   ],
   "outputs": [
    {
     "output_type": "stream",
     "name": "stdout",
     "text": [
      "x:\n",
      " [[0 1 2]\n",
      " [3 4 5]\n",
      " [6 7 8]]\n",
      "Element-wise value of condition\n",
      " [[ True False  True]\n",
      " [False  True False]\n",
      " [ True False  True]]\n",
      "Extract elements using condition\n",
      "[0 2 4 6 8]\n",
      "[0 2 4 6 8]\n"
     ]
    }
   ],
   "metadata": {}
  },
  {
   "cell_type": "code",
   "execution_count": 29,
   "source": [
    "# nonzero() function returns the indices of non-zero elements in the input array\r\n",
    "import numpy as np \r\n",
    "a = np.array([[30,40,0],[0,20,10],[50,0,60]]) \r\n",
    "\r\n",
    "print('a:\\n',a,'\\n')\r\n",
    "\r\n",
    "print('Applying nonzero() function:') \r\n",
    "b = np.nonzero(a)\r\n",
    "print(b)\r\n",
    "print(a[b])"
   ],
   "outputs": [
    {
     "output_type": "stream",
     "name": "stdout",
     "text": [
      "a:\n",
      " [[30 40  0]\n",
      " [ 0 20 10]\n",
      " [50  0 60]] \n",
      "\n",
      "Applying nonzero() function:\n",
      "(array([0, 0, 1, 1, 2, 2], dtype=int64), array([0, 1, 1, 2, 0, 2], dtype=int64))\n",
      "[30 40 20 10 50 60]\n"
     ]
    }
   ],
   "metadata": {}
  },
  {
   "cell_type": "code",
   "execution_count": 30,
   "source": [
    "# numpy.argmax() and numpy.argmin()\r\n",
    "# These two functions return the indices of maximum and minimum elements\r\n",
    "# respectively along the given axis.\r\n",
    "\r\n",
    "import numpy as np \r\n",
    "a = np.array([[30,40,70],[80,20,10],[50,90,60]]) \r\n",
    "\r\n",
    "print('a:\\n',a,'\\n')\r\n",
    "\r\n",
    "print('Applying argmax() function:') \r\n",
    "print (np.argmax(a),'\\n') \r\n",
    "\r\n",
    "print('Index of maximum number in flattened array') \r\n",
    "print(a.flatten(),'\\n') \r\n",
    "\r\n",
    "print('Array containing indices of maximum along axis 0:') \r\n",
    "maxindex = np.argmax(a, axis = 0) \r\n",
    "print(maxindex, '\\n')  \r\n",
    "\r\n",
    "print('Array containing indices of maximum along axis 1:') \r\n",
    "maxindex = np.argmax(a, axis = 1) \r\n",
    "print(maxindex,'\\n')  \r\n",
    "\r\n",
    "print('Applying argmin() function:')\r\n",
    "minindex = np.argmin(a) \r\n",
    "print(minindex, '\\n')  \r\n",
    "   \r\n",
    "print('Flattened array:') \r\n",
    "print(a.flatten()[minindex], '\\n')  \r\n",
    "\r\n",
    "print('Flattened array along axis 0:') \r\n",
    "minindex = np.argmin(a, axis = 0) \r\n",
    "print(minindex,'\\n')\r\n",
    "\r\n",
    "print('Flattened array along axis 1:') \r\n",
    "minindex = np.argmin(a, axis = 1) \r\n",
    "print(minindex)"
   ],
   "outputs": [
    {
     "output_type": "stream",
     "name": "stdout",
     "text": [
      "a:\n",
      " [[30 40 70]\n",
      " [80 20 10]\n",
      " [50 90 60]] \n",
      "\n",
      "Applying argmax() function:\n",
      "7 \n",
      "\n",
      "Index of maximum number in flattened array\n",
      "[30 40 70 80 20 10 50 90 60] \n",
      "\n",
      "Array containing indices of maximum along axis 0:\n",
      "[1 2 0] \n",
      "\n",
      "Array containing indices of maximum along axis 1:\n",
      "[2 0 1] \n",
      "\n",
      "Applying argmin() function:\n",
      "5 \n",
      "\n",
      "Flattened array:\n",
      "10 \n",
      "\n",
      "Flattened array along axis 0:\n",
      "[0 1 1] \n",
      "\n",
      "Flattened array along axis 1:\n",
      "[0 2 0]\n"
     ]
    }
   ],
   "metadata": {}
  },
  {
   "cell_type": "code",
   "execution_count": 20,
   "source": [
    "# searchsorted(), performs a binary search in the array, \r\n",
    "# and returns the index where the specified value would be inserted to maintain the search order.\r\n",
    "import numpy as np\r\n",
    "\r\n",
    "arr = np.array([6, 7, 8, 9])\r\n",
    "# arr = np.array([6, 8, 9])\r\n",
    "\r\n",
    "# Index của số 7 trong array\r\n",
    "x = np.searchsorted(arr, 7)\r\n",
    "\r\n",
    "print(x)\r\n",
    "\r\n",
    "# The number 7 should be inserted on index 1 to remain the sort order.\r\n",
    "\r\n",
    "# The method starts the search from the left and returns the first index \r\n",
    "# where the number 7 is no longer larger than the next value."
   ],
   "outputs": [
    {
     "output_type": "stream",
     "name": "stdout",
     "text": [
      "1\n"
     ]
    }
   ],
   "metadata": {}
  },
  {
   "cell_type": "code",
   "execution_count": 22,
   "source": [
    "# Search From the Right Side\r\n",
    "import numpy as np\r\n",
    "\r\n",
    "arr = np.array([6, 7, 8, 9])\r\n",
    "\r\n",
    "# Index số 7 trong array từ phải sang trái\r\n",
    "x = np.searchsorted(arr, 7, side='right')\r\n",
    "\r\n",
    "print(x)\r\n",
    "# The number 7 should be inserted on index 2 to remain the sort order.\r\n",
    "\r\n",
    "# The method starts the search from the right and returns the first index\r\n",
    "# where the number 7 is no longer less than the next value."
   ],
   "outputs": [
    {
     "output_type": "stream",
     "name": "stdout",
     "text": [
      "2\n"
     ]
    }
   ],
   "metadata": {}
  },
  {
   "cell_type": "code",
   "execution_count": 16,
   "source": [
    "# Multiple Values\r\n",
    "import numpy as np\r\n",
    "\r\n",
    "arr = np.array([1, 3, 5, 7])\r\n",
    "\r\n",
    "# Chèn vào arry đúng thứ tự\r\n",
    "x = np.searchsorted(arr, [2, 4, 6])\r\n",
    "\r\n",
    "print(x)\r\n",
    "\r\n",
    "# The return value is an array: [1 2 3] containing the three indexes\r\n",
    "# where 2, 4, 6 would be inserted in the original array to maintain the order."
   ],
   "outputs": [
    {
     "output_type": "stream",
     "name": "stdout",
     "text": [
      "[1 2 3]\n"
     ]
    }
   ],
   "metadata": {}
  },
  {
   "cell_type": "code",
   "execution_count": null,
   "source": [
    "# Sorting Arrays"
   ],
   "outputs": [],
   "metadata": {}
  },
  {
   "cell_type": "code",
   "execution_count": 31,
   "source": [
    "# sort()\r\n",
    "import numpy as np\r\n",
    "\r\n",
    "arr = np.array([3, 2, 0, 1])\r\n",
    "\r\n",
    "print(np.sort(arr))"
   ],
   "outputs": [
    {
     "output_type": "stream",
     "name": "stdout",
     "text": [
      "[0 1 2 3]\n"
     ]
    }
   ],
   "metadata": {}
  },
  {
   "cell_type": "code",
   "execution_count": 32,
   "source": [
    "import numpy as np\r\n",
    "\r\n",
    "arr = np.array(['banana', 'cherry', 'apple'])\r\n",
    "\r\n",
    "print(np.sort(arr))"
   ],
   "outputs": [
    {
     "output_type": "stream",
     "name": "stdout",
     "text": [
      "['apple' 'banana' 'cherry']\n"
     ]
    }
   ],
   "metadata": {}
  },
  {
   "cell_type": "code",
   "execution_count": 33,
   "source": [
    "import numpy as np\r\n",
    "\r\n",
    "arr = np.array([True, False, True])\r\n",
    "\r\n",
    "print(np.sort(arr))"
   ],
   "outputs": [
    {
     "output_type": "stream",
     "name": "stdout",
     "text": [
      "[False  True  True]\n"
     ]
    }
   ],
   "metadata": {}
  },
  {
   "cell_type": "code",
   "execution_count": 34,
   "source": [
    "import numpy as np\r\n",
    "\r\n",
    "arr = np.array([[3, 2, 4], [5, 0, 1]])\r\n",
    "\r\n",
    "print(np.sort(arr))"
   ],
   "outputs": [
    {
     "output_type": "stream",
     "name": "stdout",
     "text": [
      "[[2 3 4]\n",
      " [0 1 5]]\n"
     ]
    }
   ],
   "metadata": {}
  },
  {
   "cell_type": "code",
   "execution_count": null,
   "source": [
    "numpy.sort(a, axis, kind, order)\r\n",
    "1\t\r\n",
    "a\r\n",
    "\r\n",
    "Array to be sorted\r\n",
    "\r\n",
    "2\t\r\n",
    "axis\r\n",
    "\r\n",
    "The axis along which the array is to be sorted. If none, the array is flattened, sorting on the last axis\r\n",
    "\r\n",
    "3\t\r\n",
    "kind (‘quicksort’, ‘mergesort’, ‘heapsort’)\r\n",
    "\r\n",
    "Default is quicksort\r\n",
    "\r\n",
    "4\t\r\n",
    "order\r\n",
    "\r\n",
    "If the array contains fields, the order of fields to be sorted"
   ],
   "outputs": [],
   "metadata": {}
  },
  {
   "cell_type": "code",
   "execution_count": 27,
   "source": [
    "import numpy as np  \r\n",
    "a = np.array([[3,7],[9,1]]) \r\n",
    "\r\n",
    "print('a:\\n', a, '\\n') \r\n",
    "\r\n",
    "print('Applying sort() function:','\\n',np.sort(a), '\\n') \r\n",
    "  \r\n",
    "print('Sort along axis 0:') \r\n",
    "print(np.sort(a, axis = 0), '\\n') \r\n",
    "\r\n",
    "# Order parameter in sort function \r\n",
    "dt = np.dtype([('name', 'S10'),('age', int)]) \r\n",
    "a = np.array([(\"raju\",27),(\"anil\",25),(\"ravi\", 17), (\"raju\",21)], dtype = dt) \r\n",
    "\r\n",
    "print('Our array is:\\n',a,'\\n') \r\n",
    "\r\n",
    "# Sort theo điều kiện\r\n",
    "print('Order by name, then by age:') \r\n",
    "print(np.sort(a, order = ['name', 'age']))"
   ],
   "outputs": [
    {
     "output_type": "stream",
     "name": "stdout",
     "text": [
      "a:\n",
      " [[3 7]\n",
      " [9 1]] \n",
      "\n",
      "Applying sort() function: \n",
      " [[3 7]\n",
      " [1 9]] \n",
      "\n",
      "Sort along axis 0:\n",
      "[[3 1]\n",
      " [9 7]] \n",
      "\n",
      "Our array is:\n",
      " [(b'raju', 27) (b'anil', 25) (b'ravi', 17) (b'raju', 21)] \n",
      "\n",
      "Order by name, then by age:\n",
      "[(b'anil', 25) (b'raju', 21) (b'raju', 27) (b'ravi', 17)]\n"
     ]
    }
   ],
   "metadata": {}
  },
  {
   "cell_type": "code",
   "execution_count": 41,
   "source": [
    "# numpy.argsort() function performs an indirect sort on input array, \r\n",
    "# along the given axis and using a specified kind of sort to return the array of indices of data.\r\n",
    "# This indices array is used to construct the sorted array\r\n",
    "\r\n",
    "import numpy as np \r\n",
    "x = np.array([3, 1, 2]) \r\n",
    "\r\n",
    "print('Our array is:\\n', x, '\\n') \r\n",
    "\r\n",
    "# Sort theo index\r\n",
    "print('Applying argsort() to x:') \r\n",
    "y = np.argsort(x) \r\n",
    "print(y,'\\n') \r\n",
    "\r\n",
    "# Print các số được sort\r\n",
    "print('Reconstruct original array in sorted order:') \r\n",
    "print(x[y],'\\n') \r\n",
    "\r\n",
    "print('Reconstruct the original array using loop:')\r\n",
    "for i in y: \r\n",
    "   print(x[i])"
   ],
   "outputs": [
    {
     "output_type": "stream",
     "name": "stdout",
     "text": [
      "Our array is:\n",
      " [3 1 2] \n",
      "\n",
      "Applying argsort() to x:\n",
      "[1 2 0] \n",
      "\n",
      "Reconstruct original array in sorted order:\n",
      "[1 2 3] \n",
      "\n",
      "Reconstruct the original array using loop:\n",
      "1\n",
      "2\n",
      "3\n"
     ]
    }
   ],
   "metadata": {}
  },
  {
   "cell_type": "code",
   "execution_count": 44,
   "source": [
    "# lexsort()\r\n",
    "# function performs an indirect sort using a sequence of keys.\r\n",
    "# The keys can be seen as a column in a spreadsheet.\r\n",
    "# The function returns an array of indices, using which the sorted data can be obtained.\r\n",
    "# Note, that the last key happens to be the primary key of sort\r\n",
    "import numpy as np \r\n",
    "\r\n",
    "nm = ('raju','anil','raju','amar') \r\n",
    "dv = ('s.y.', 's.y.', 'f.y.', 'f.y.') \r\n",
    "ind = np.lexsort((dv,nm)) \r\n",
    "\r\n",
    "print('Applying lexsort() function:')\r\n",
    "print(ind, '\\n') \r\n",
    "\r\n",
    "print('Use this index to get sorted data:')\r\n",
    "print([nm[i] + \", \" + dv[i] for i in ind]) "
   ],
   "outputs": [
    {
     "output_type": "stream",
     "name": "stdout",
     "text": [
      "Applying lexsort() function:\n",
      "[3 1 2 0] \n",
      "\n",
      "Use this index to get sorted data:\n",
      "['amar, f.y.', 'anil, s.y.', 'raju, f.y.', 'raju, s.y.']\n"
     ]
    }
   ],
   "metadata": {}
  },
  {
   "cell_type": "code",
   "execution_count": 45,
   "source": [
    "# Filtering Arrays\r\n",
    "# Getting some elements out of an existing array and creating a new array out of them\r\n",
    "# you filter an array using a boolean index list\r\n",
    "\r\n",
    "import numpy as np\r\n",
    "\r\n",
    "arr = np.array([41, 42, 43, 44])\r\n",
    "\r\n",
    "x = [True, False, True, False]\r\n",
    "\r\n",
    "# In các phần tử True\r\n",
    "newarr = arr[x]\r\n",
    "\r\n",
    "print(newarr)"
   ],
   "outputs": [
    {
     "output_type": "stream",
     "name": "stdout",
     "text": [
      "[41 43]\n"
     ]
    }
   ],
   "metadata": {}
  },
  {
   "cell_type": "code",
   "execution_count": 46,
   "source": [
    "# Creating the Filter Array\r\n",
    "\r\n",
    "import numpy as np\r\n",
    "\r\n",
    "arr = np.array([41, 42, 43, 44])\r\n",
    "\r\n",
    "# Create an empty list\r\n",
    "filter_arr = []\r\n",
    "\r\n",
    "# go through each element in arr\r\n",
    "for element in arr:\r\n",
    "  # if the element is higher than 42, set the value to True, otherwise False:\r\n",
    "  if element > 42:\r\n",
    "    filter_arr.append(True)\r\n",
    "  else:\r\n",
    "    filter_arr.append(False)\r\n",
    "\r\n",
    "newarr = arr[filter_arr]\r\n",
    "\r\n",
    "print(filter_arr)\r\n",
    "print(newarr)"
   ],
   "outputs": [
    {
     "output_type": "stream",
     "name": "stdout",
     "text": [
      "[False, False, True, True]\n",
      "[43 44]\n"
     ]
    }
   ],
   "metadata": {}
  },
  {
   "cell_type": "code",
   "execution_count": 47,
   "source": [
    "import numpy as np\r\n",
    "\r\n",
    "arr = np.array([1, 2, 3, 4, 5, 6, 7])\r\n",
    "\r\n",
    "# Create an empty list\r\n",
    "filter_arr = []\r\n",
    "\r\n",
    "# go through each element in arr\r\n",
    "for element in arr:\r\n",
    "  # if the element is completely divisble by 2, set the value to True, otherwise False\r\n",
    "  if element % 2 == 0:\r\n",
    "    filter_arr.append(True)\r\n",
    "  else:\r\n",
    "    filter_arr.append(False)\r\n",
    "\r\n",
    "newarr = arr[filter_arr]\r\n",
    "\r\n",
    "print(filter_arr)\r\n",
    "print(newarr)"
   ],
   "outputs": [
    {
     "output_type": "stream",
     "name": "stdout",
     "text": [
      "[False, True, False, True, False, True, False]\n",
      "[2 4 6]\n"
     ]
    }
   ],
   "metadata": {}
  },
  {
   "cell_type": "code",
   "execution_count": 48,
   "source": [
    "# Creating Filter Directly From Array\r\n",
    "import numpy as np\r\n",
    "\r\n",
    "arr = np.array([41, 42, 43, 44])\r\n",
    "\r\n",
    "filter_arr = arr > 42\r\n",
    "\r\n",
    "newarr = arr[filter_arr]\r\n",
    "\r\n",
    "print(filter_arr)\r\n",
    "print(newarr)"
   ],
   "outputs": [
    {
     "output_type": "stream",
     "name": "stdout",
     "text": [
      "[False False  True  True]\n",
      "[43 44]\n"
     ]
    }
   ],
   "metadata": {}
  },
  {
   "cell_type": "code",
   "execution_count": 49,
   "source": [
    "import numpy as np\r\n",
    "\r\n",
    "arr = np.array([1, 2, 3, 4, 5, 6, 7])\r\n",
    "\r\n",
    "filter_arr = arr % 2 == 0\r\n",
    "\r\n",
    "newarr = arr[filter_arr]\r\n",
    "\r\n",
    "print(filter_arr)\r\n",
    "print(newarr)"
   ],
   "outputs": [
    {
     "output_type": "stream",
     "name": "stdout",
     "text": [
      "[False  True False  True False  True False]\n",
      "[2 4 6]\n"
     ]
    }
   ],
   "metadata": {}
  },
  {
   "cell_type": "code",
   "execution_count": 53,
   "source": [
    "a = np.array([[0, 1, 7, 0],\r\n",
    "              [3, 0, 2, 19]])\r\n",
    "print(np.count_nonzero(a),'\\n')\r\n",
    "\r\n",
    "print(np.count_nonzero(a, axis=0),'\\n')\r\n",
    "\r\n",
    "print(np.count_nonzero(a, axis=1),'\\n')\r\n",
    "\r\n",
    "print(np.count_nonzero(a, axis=1, keepdims=True))"
   ],
   "outputs": [
    {
     "output_type": "stream",
     "name": "stdout",
     "text": [
      "5 \n",
      "\n",
      "[1 1 2 1] \n",
      "\n",
      "[2 3] \n",
      "\n",
      "[[2]\n",
      " [3]]\n"
     ]
    }
   ],
   "metadata": {}
  }
 ],
 "metadata": {
  "interpreter": {
   "hash": "8da01e5a71448ea74f54d88afa8911010d1d12e23bc7e103d40d5def4a09152c"
  },
  "kernelspec": {
   "name": "python3",
   "display_name": "Python 3.9.1 64-bit"
  },
  "language_info": {
   "name": "python",
   "version": "3.9.1",
   "mimetype": "text/x-python",
   "codemirror_mode": {
    "name": "ipython",
    "version": 3
   },
   "pygments_lexer": "ipython3",
   "nbconvert_exporter": "python",
   "file_extension": ".py"
  }
 },
 "nbformat": 4,
 "nbformat_minor": 4
}
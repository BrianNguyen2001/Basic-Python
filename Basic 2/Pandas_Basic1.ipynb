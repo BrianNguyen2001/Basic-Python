{
 "cells": [
  {
   "cell_type": "code",
   "execution_count": null,
   "source": [
    "Pandas is a Python library used for working with data sets.\r\n",
    "\r\n",
    "It has functions for analyzing, cleaning, exploring, and manipulating data.\r\n",
    "\r\n",
    "The name \"Pandas\" has a reference to both \"Panel Data\", and \"Python Data Analysis\"\r\n",
    "\r\n",
    "Source Code: https://github.com/pandas-dev/pandas"
   ],
   "outputs": [],
   "metadata": {}
  },
  {
   "cell_type": "code",
   "execution_count": null,
   "source": [
    "1/ Pandas Series\r\n",
    "Labels (Index)\r\n",
    "Key/Value Objects as Series\r\n",
    "Create a Series from Scalar\r\n",
    "Accessing Data from Series with Position\r\n",
    "\r\n",
    "2/ DataFrame\r\n",
    "Locate Row\r\n",
    "pandas.DataFrame( data, index, columns, dtype, copy)\r\n",
    "Create a DataFrame from Lists\r\n",
    "Create a DataFrame from Dict of ndarrays / Lists\r\n",
    "Create a DataFrame from List of Dicts\r\n",
    "Create a DataFrame from Dict of Series\r\n",
    "Column Selection\r\n",
    "Column Addition\r\n",
    "Column Deletion (del, pd.pop)\r\n",
    "Row Selection, Addition, and Deletion,\r\n",
    "\tSelection by Label, Selection by integer location, Slice Rows\r\n",
    "reset_index, MultiIndex\r\n",
    "\r\n",
    "3/ Read file, Viewing the Data\r\n",
    "\r\n",
    "4/ Basic Functionality\r\n",
    "Series Basic Functionality\r\n",
    "DataFrame Basic Functionality\r\n",
    "\r\n",
    "5/ Cleaning Data\r\n",
    "Cleaning Empty Cells\r\n",
    "\tReplace Empty Values\r\n",
    "\tReplace Only For a Specified Columns\r\n",
    "\tReplace Using Mean, Median, or Mode\r\n",
    "Cleaning Data of Wrong Format\r\n",
    "\tConvert Into a Correct Format\r\n",
    "\tRemoving Rows\r\n",
    "Fixing Wrong Data\r\n",
    "\tReplacing Values\r\n",
    "\tRemoving Rows\r\n",
    "Removing Duplicates\r\n",
    "\r\n",
    "6/ Indexing and Selecting Data: .loc(), .iloc(), Use of Notations, Attribute Access"
   ],
   "outputs": [],
   "metadata": {}
  },
  {
   "cell_type": "code",
   "execution_count": 2,
   "source": [
    "import pandas as pd\r\n",
    "\r\n",
    "print(pd.__version__)"
   ],
   "outputs": [
    {
     "output_type": "stream",
     "name": "stdout",
     "text": [
      "1.1.3\n"
     ]
    }
   ],
   "metadata": {}
  },
  {
   "cell_type": "code",
   "execution_count": 3,
   "source": [
    "import pandas as pd\r\n",
    "\r\n",
    "mydataset = {\r\n",
    "  'cars': [\"BMW\", \"Volvo\", \"Ford\"],\r\n",
    "  'passings': [3, 7, 2]\r\n",
    "}\r\n",
    "\r\n",
    "myvar = pd.DataFrame(mydataset)\r\n",
    "\r\n",
    "print(myvar)"
   ],
   "outputs": [
    {
     "output_type": "stream",
     "name": "stdout",
     "text": [
      "    cars  passings\n",
      "0    BMW         3\n",
      "1  Volvo         7\n",
      "2   Ford         2\n"
     ]
    }
   ],
   "metadata": {}
  },
  {
   "cell_type": "code",
   "execution_count": null,
   "source": [
    "1/Pandas Series\r\n",
    "\r\n",
    "A Pandas Series is like a column in a table.\r\n",
    "\r\n",
    "It is a one-dimensional array holding data of any type."
   ],
   "outputs": [],
   "metadata": {}
  },
  {
   "cell_type": "code",
   "execution_count": 4,
   "source": [
    "import pandas as pd\r\n",
    "\r\n",
    "a = [1, 7, 2]\r\n",
    "\r\n",
    "myvar = pd.Series(a)\r\n",
    "\r\n",
    "print(myvar)"
   ],
   "outputs": [
    {
     "output_type": "stream",
     "name": "stdout",
     "text": [
      "0    1\n",
      "1    7\n",
      "2    2\n",
      "dtype: int64\n"
     ]
    }
   ],
   "metadata": {}
  },
  {
   "cell_type": "code",
   "execution_count": null,
   "source": [
    "# Labels\r\n",
    "If nothing else is specified, the values are labeled with their index number. First value has index 0, second value has index 1 etc.\r\n",
    "\r\n",
    "This label can be used to access a specified value"
   ],
   "outputs": [],
   "metadata": {}
  },
  {
   "cell_type": "code",
   "execution_count": 5,
   "source": [
    "import pandas as pd\r\n",
    "\r\n",
    "a = [1, 7, 2]\r\n",
    "\r\n",
    "myvar = pd.Series(a)\r\n",
    "\r\n",
    "print(myvar[0])"
   ],
   "outputs": [
    {
     "output_type": "stream",
     "name": "stdout",
     "text": [
      "1\n"
     ]
    }
   ],
   "metadata": {}
  },
  {
   "cell_type": "code",
   "execution_count": null,
   "source": [
    "# Create Labels\r\n",
    "With the index argument, you can name your own labels."
   ],
   "outputs": [],
   "metadata": {}
  },
  {
   "cell_type": "code",
   "execution_count": 6,
   "source": [
    "import pandas as pd\r\n",
    "\r\n",
    "a = [1, 7, 2]\r\n",
    "\r\n",
    "myvar = pd.Series(a, index = [\"x\", \"y\", \"z\"])\r\n",
    "\r\n",
    "print(myvar,'\\n')\r\n",
    "\r\n",
    "print(myvar[\"y\"])"
   ],
   "outputs": [
    {
     "output_type": "stream",
     "name": "stdout",
     "text": [
      "x    1\n",
      "y    7\n",
      "z    2\n",
      "dtype: int64 \n",
      "\n",
      "7\n"
     ]
    }
   ],
   "metadata": {}
  },
  {
   "cell_type": "code",
   "execution_count": null,
   "source": [
    "# Key/Value Objects as Series\r\n",
    "You can also use a key/value object, like a dictionary, when creating a Series."
   ],
   "outputs": [],
   "metadata": {}
  },
  {
   "cell_type": "code",
   "execution_count": 7,
   "source": [
    "import pandas as pd\r\n",
    "\r\n",
    "calories = {\"day1\": 420, \"day2\": 380, \"day3\": 390} # Dictionary keys are used to construct index\r\n",
    "\r\n",
    "myvar = pd.Series(calories)\r\n",
    "\r\n",
    "print(myvar)\r\n"
   ],
   "outputs": [
    {
     "output_type": "stream",
     "name": "stdout",
     "text": [
      "day1    420\n",
      "day2    380\n",
      "day3    390\n",
      "dtype: int64\n"
     ]
    }
   ],
   "metadata": {}
  },
  {
   "cell_type": "code",
   "execution_count": 8,
   "source": [
    "# To select only some of the items in the dictionary, use the index argument\r\n",
    "# and specify only the items you want to include in the Series.\r\n",
    "import pandas as pd\r\n",
    "\r\n",
    "calories = {\"day1\": 420, \"day2\": 380, \"day3\": 390} # Dictionary keys are used to construct index\r\n",
    "\r\n",
    "myvar = pd.Series(calories, index = [\"day1\", \"day2\"])\r\n",
    "\r\n",
    "print(myvar)"
   ],
   "outputs": [
    {
     "output_type": "stream",
     "name": "stdout",
     "text": [
      "day1    420\n",
      "day2    380\n",
      "dtype: int64\n"
     ]
    }
   ],
   "metadata": {}
  },
  {
   "cell_type": "code",
   "execution_count": null,
   "source": [
    "# pandas.Series( data, index, dtype, copy)\r\n",
    "1\t\r\n",
    "data\r\n",
    "\r\n",
    "data takes various forms like ndarray, list, constants\r\n",
    "\r\n",
    "2\t\r\n",
    "index\r\n",
    "\r\n",
    "Index values must be unique and hashable, same length as data. Default np.arrange(n) if no index is passed.\r\n",
    "\r\n",
    "3\t\r\n",
    "dtype\r\n",
    "\r\n",
    "dtype is for data type. If None, data type will be inferred\r\n",
    "\r\n",
    "4\t\r\n",
    "copy\r\n",
    "\r\n",
    "Copy data. Default False"
   ],
   "outputs": [],
   "metadata": {}
  },
  {
   "cell_type": "code",
   "execution_count": 9,
   "source": [
    "#Empty series\r\n",
    "import pandas as pd\r\n",
    "s = pd.Series()\r\n",
    "print(s)"
   ],
   "outputs": [
    {
     "output_type": "stream",
     "name": "stdout",
     "text": [
      "Series([], dtype: float64)\n"
     ]
    },
    {
     "output_type": "stream",
     "name": "stderr",
     "text": [
      "<ipython-input-9-ecf98cd0fec1>:3: DeprecationWarning: The default dtype for empty Series will be 'object' instead of 'float64' in a future version. Specify a dtype explicitly to silence this warning.\n",
      "  s = pd.Series()\n"
     ]
    }
   ],
   "metadata": {}
  },
  {
   "cell_type": "code",
   "execution_count": 10,
   "source": [
    "# Create a Series from ndarray\r\n",
    "import pandas as pd\r\n",
    "import numpy as np\r\n",
    "data = np.array(['a','b','c','d'])\r\n",
    "s = pd.Series(data)\r\n",
    "print(s)"
   ],
   "outputs": [
    {
     "output_type": "stream",
     "name": "stdout",
     "text": [
      "0    a\n",
      "1    b\n",
      "2    c\n",
      "3    d\n",
      "dtype: object\n"
     ]
    }
   ],
   "metadata": {}
  },
  {
   "cell_type": "code",
   "execution_count": 11,
   "source": [
    "import pandas as pd\r\n",
    "import numpy as np\r\n",
    "data = np.array(['a','b','c','d'])\r\n",
    "s = pd.Series(data,index=[100,101,102,103])\r\n",
    "print(s)"
   ],
   "outputs": [
    {
     "output_type": "stream",
     "name": "stdout",
     "text": [
      "100    a\n",
      "101    b\n",
      "102    c\n",
      "103    d\n",
      "dtype: object\n"
     ]
    }
   ],
   "metadata": {}
  },
  {
   "cell_type": "code",
   "execution_count": 12,
   "source": [
    "import pandas as pd\r\n",
    "import numpy as np\r\n",
    "data = {'a' : 0., 'b' : 1., 'c' : 2.}\r\n",
    "s = pd.Series(data,index=['b','c','d','a'])\r\n",
    "print(s)\r\n",
    "#Index order is persisted and the missing element is filled with NaN (Not a Number)"
   ],
   "outputs": [
    {
     "output_type": "stream",
     "name": "stdout",
     "text": [
      "b    1.0\n",
      "c    2.0\n",
      "d    NaN\n",
      "a    0.0\n",
      "dtype: float64\n"
     ]
    }
   ],
   "metadata": {}
  },
  {
   "cell_type": "code",
   "execution_count": 13,
   "source": [
    "# Create a Series from Scalar\r\n",
    "import pandas as pd\r\n",
    "import numpy as np\r\n",
    "s = pd.Series(5, index=[0, 1, 2, 3])\r\n",
    "print(s)"
   ],
   "outputs": [
    {
     "output_type": "stream",
     "name": "stdout",
     "text": [
      "0    5\n",
      "1    5\n",
      "2    5\n",
      "3    5\n",
      "dtype: int64\n"
     ]
    }
   ],
   "metadata": {}
  },
  {
   "cell_type": "code",
   "execution_count": null,
   "source": [
    "# Accessing Data from Series with Position"
   ],
   "outputs": [],
   "metadata": {}
  },
  {
   "cell_type": "code",
   "execution_count": 14,
   "source": [
    "import pandas as pd\r\n",
    "s = pd.Series([1,2,3,4,5],index = ['a','b','c','d','e'])\r\n",
    "\r\n",
    "#retrieve the first element\r\n",
    "print(s[0])"
   ],
   "outputs": [
    {
     "output_type": "stream",
     "name": "stdout",
     "text": [
      "1\n"
     ]
    }
   ],
   "metadata": {}
  },
  {
   "cell_type": "code",
   "execution_count": 15,
   "source": [
    "import pandas as pd\r\n",
    "s = pd.Series([1,2,3,4,5],index = ['a','b','c','d','e'])\r\n",
    "\r\n",
    "#retrieve the first three element\r\n",
    "print(s[:3])"
   ],
   "outputs": [
    {
     "output_type": "stream",
     "name": "stdout",
     "text": [
      "a    1\n",
      "b    2\n",
      "c    3\n",
      "dtype: int64\n"
     ]
    }
   ],
   "metadata": {}
  },
  {
   "cell_type": "code",
   "execution_count": 16,
   "source": [
    "import pandas as pd\r\n",
    "s = pd.Series([1,2,3,4,5],index = ['a','b','c','d','e'])\r\n",
    "\r\n",
    "#retrieve the last three element\r\n",
    "print(s[-3:])"
   ],
   "outputs": [
    {
     "output_type": "stream",
     "name": "stdout",
     "text": [
      "c    3\n",
      "d    4\n",
      "e    5\n",
      "dtype: int64\n"
     ]
    }
   ],
   "metadata": {}
  },
  {
   "cell_type": "code",
   "execution_count": 2,
   "source": [
    "import pandas as pd\r\n",
    "s = pd.Series([1,2,3,4,5],index = ['a','b','c','d','e'])\r\n",
    "\r\n",
    "print(s[['a','c','d']])"
   ],
   "outputs": [
    {
     "output_type": "stream",
     "name": "stdout",
     "text": [
      "a    1\n",
      "c    3\n",
      "d    4\n",
      "dtype: int64\n"
     ]
    }
   ],
   "metadata": {}
  },
  {
   "cell_type": "code",
   "execution_count": 18,
   "source": [
    "# If a label is not contained, an exception is raised\r\n",
    "\r\n",
    "import pandas as pd\r\n",
    "s = pd.Series([1,2,3,4,5],index = ['a','b','c','d','e'])\r\n",
    "\r\n",
    "print(s['f'])"
   ],
   "outputs": [
    {
     "output_type": "error",
     "ename": "KeyError",
     "evalue": "'f'",
     "traceback": [
      "\u001b[1;31m---------------------------------------------------------------------------\u001b[0m",
      "\u001b[1;31mKeyError\u001b[0m                                  Traceback (most recent call last)",
      "\u001b[1;32mC:\\ProgramData\\Anaconda3\\lib\\site-packages\\pandas\\core\\indexes\\base.py\u001b[0m in \u001b[0;36mget_loc\u001b[1;34m(self, key, method, tolerance)\u001b[0m\n\u001b[0;32m   2894\u001b[0m             \u001b[1;32mtry\u001b[0m\u001b[1;33m:\u001b[0m\u001b[1;33m\u001b[0m\u001b[1;33m\u001b[0m\u001b[0m\n\u001b[1;32m-> 2895\u001b[1;33m                 \u001b[1;32mreturn\u001b[0m \u001b[0mself\u001b[0m\u001b[1;33m.\u001b[0m\u001b[0m_engine\u001b[0m\u001b[1;33m.\u001b[0m\u001b[0mget_loc\u001b[0m\u001b[1;33m(\u001b[0m\u001b[0mcasted_key\u001b[0m\u001b[1;33m)\u001b[0m\u001b[1;33m\u001b[0m\u001b[1;33m\u001b[0m\u001b[0m\n\u001b[0m\u001b[0;32m   2896\u001b[0m             \u001b[1;32mexcept\u001b[0m \u001b[0mKeyError\u001b[0m \u001b[1;32mas\u001b[0m \u001b[0merr\u001b[0m\u001b[1;33m:\u001b[0m\u001b[1;33m\u001b[0m\u001b[1;33m\u001b[0m\u001b[0m\n",
      "\u001b[1;32mpandas\\_libs\\index.pyx\u001b[0m in \u001b[0;36mpandas._libs.index.IndexEngine.get_loc\u001b[1;34m()\u001b[0m\n",
      "\u001b[1;32mpandas\\_libs\\index.pyx\u001b[0m in \u001b[0;36mpandas._libs.index.IndexEngine.get_loc\u001b[1;34m()\u001b[0m\n",
      "\u001b[1;32mpandas\\_libs\\hashtable_class_helper.pxi\u001b[0m in \u001b[0;36mpandas._libs.hashtable.PyObjectHashTable.get_item\u001b[1;34m()\u001b[0m\n",
      "\u001b[1;32mpandas\\_libs\\hashtable_class_helper.pxi\u001b[0m in \u001b[0;36mpandas._libs.hashtable.PyObjectHashTable.get_item\u001b[1;34m()\u001b[0m\n",
      "\u001b[1;31mKeyError\u001b[0m: 'f'",
      "\nThe above exception was the direct cause of the following exception:\n",
      "\u001b[1;31mKeyError\u001b[0m                                  Traceback (most recent call last)",
      "\u001b[1;32m<ipython-input-18-e26e8247cfdb>\u001b[0m in \u001b[0;36m<module>\u001b[1;34m\u001b[0m\n\u001b[0;32m      4\u001b[0m \u001b[0ms\u001b[0m \u001b[1;33m=\u001b[0m \u001b[0mpd\u001b[0m\u001b[1;33m.\u001b[0m\u001b[0mSeries\u001b[0m\u001b[1;33m(\u001b[0m\u001b[1;33m[\u001b[0m\u001b[1;36m1\u001b[0m\u001b[1;33m,\u001b[0m\u001b[1;36m2\u001b[0m\u001b[1;33m,\u001b[0m\u001b[1;36m3\u001b[0m\u001b[1;33m,\u001b[0m\u001b[1;36m4\u001b[0m\u001b[1;33m,\u001b[0m\u001b[1;36m5\u001b[0m\u001b[1;33m]\u001b[0m\u001b[1;33m,\u001b[0m\u001b[0mindex\u001b[0m \u001b[1;33m=\u001b[0m \u001b[1;33m[\u001b[0m\u001b[1;34m'a'\u001b[0m\u001b[1;33m,\u001b[0m\u001b[1;34m'b'\u001b[0m\u001b[1;33m,\u001b[0m\u001b[1;34m'c'\u001b[0m\u001b[1;33m,\u001b[0m\u001b[1;34m'd'\u001b[0m\u001b[1;33m,\u001b[0m\u001b[1;34m'e'\u001b[0m\u001b[1;33m]\u001b[0m\u001b[1;33m)\u001b[0m\u001b[1;33m\u001b[0m\u001b[1;33m\u001b[0m\u001b[0m\n\u001b[0;32m      5\u001b[0m \u001b[1;33m\u001b[0m\u001b[0m\n\u001b[1;32m----> 6\u001b[1;33m \u001b[0mprint\u001b[0m\u001b[1;33m(\u001b[0m\u001b[0ms\u001b[0m\u001b[1;33m[\u001b[0m\u001b[1;34m'f'\u001b[0m\u001b[1;33m]\u001b[0m\u001b[1;33m)\u001b[0m\u001b[1;33m\u001b[0m\u001b[1;33m\u001b[0m\u001b[0m\n\u001b[0m",
      "\u001b[1;32mC:\\ProgramData\\Anaconda3\\lib\\site-packages\\pandas\\core\\series.py\u001b[0m in \u001b[0;36m__getitem__\u001b[1;34m(self, key)\u001b[0m\n\u001b[0;32m    880\u001b[0m \u001b[1;33m\u001b[0m\u001b[0m\n\u001b[0;32m    881\u001b[0m         \u001b[1;32melif\u001b[0m \u001b[0mkey_is_scalar\u001b[0m\u001b[1;33m:\u001b[0m\u001b[1;33m\u001b[0m\u001b[1;33m\u001b[0m\u001b[0m\n\u001b[1;32m--> 882\u001b[1;33m             \u001b[1;32mreturn\u001b[0m \u001b[0mself\u001b[0m\u001b[1;33m.\u001b[0m\u001b[0m_get_value\u001b[0m\u001b[1;33m(\u001b[0m\u001b[0mkey\u001b[0m\u001b[1;33m)\u001b[0m\u001b[1;33m\u001b[0m\u001b[1;33m\u001b[0m\u001b[0m\n\u001b[0m\u001b[0;32m    883\u001b[0m \u001b[1;33m\u001b[0m\u001b[0m\n\u001b[0;32m    884\u001b[0m         \u001b[1;32mif\u001b[0m \u001b[0mis_hashable\u001b[0m\u001b[1;33m(\u001b[0m\u001b[0mkey\u001b[0m\u001b[1;33m)\u001b[0m\u001b[1;33m:\u001b[0m\u001b[1;33m\u001b[0m\u001b[1;33m\u001b[0m\u001b[0m\n",
      "\u001b[1;32mC:\\ProgramData\\Anaconda3\\lib\\site-packages\\pandas\\core\\series.py\u001b[0m in \u001b[0;36m_get_value\u001b[1;34m(self, label, takeable)\u001b[0m\n\u001b[0;32m    987\u001b[0m \u001b[1;33m\u001b[0m\u001b[0m\n\u001b[0;32m    988\u001b[0m         \u001b[1;31m# Similar to Index.get_value, but we do not fall back to positional\u001b[0m\u001b[1;33m\u001b[0m\u001b[1;33m\u001b[0m\u001b[1;33m\u001b[0m\u001b[0m\n\u001b[1;32m--> 989\u001b[1;33m         \u001b[0mloc\u001b[0m \u001b[1;33m=\u001b[0m \u001b[0mself\u001b[0m\u001b[1;33m.\u001b[0m\u001b[0mindex\u001b[0m\u001b[1;33m.\u001b[0m\u001b[0mget_loc\u001b[0m\u001b[1;33m(\u001b[0m\u001b[0mlabel\u001b[0m\u001b[1;33m)\u001b[0m\u001b[1;33m\u001b[0m\u001b[1;33m\u001b[0m\u001b[0m\n\u001b[0m\u001b[0;32m    990\u001b[0m         \u001b[1;32mreturn\u001b[0m \u001b[0mself\u001b[0m\u001b[1;33m.\u001b[0m\u001b[0mindex\u001b[0m\u001b[1;33m.\u001b[0m\u001b[0m_get_values_for_loc\u001b[0m\u001b[1;33m(\u001b[0m\u001b[0mself\u001b[0m\u001b[1;33m,\u001b[0m \u001b[0mloc\u001b[0m\u001b[1;33m,\u001b[0m \u001b[0mlabel\u001b[0m\u001b[1;33m)\u001b[0m\u001b[1;33m\u001b[0m\u001b[1;33m\u001b[0m\u001b[0m\n\u001b[0;32m    991\u001b[0m \u001b[1;33m\u001b[0m\u001b[0m\n",
      "\u001b[1;32mC:\\ProgramData\\Anaconda3\\lib\\site-packages\\pandas\\core\\indexes\\base.py\u001b[0m in \u001b[0;36mget_loc\u001b[1;34m(self, key, method, tolerance)\u001b[0m\n\u001b[0;32m   2895\u001b[0m                 \u001b[1;32mreturn\u001b[0m \u001b[0mself\u001b[0m\u001b[1;33m.\u001b[0m\u001b[0m_engine\u001b[0m\u001b[1;33m.\u001b[0m\u001b[0mget_loc\u001b[0m\u001b[1;33m(\u001b[0m\u001b[0mcasted_key\u001b[0m\u001b[1;33m)\u001b[0m\u001b[1;33m\u001b[0m\u001b[1;33m\u001b[0m\u001b[0m\n\u001b[0;32m   2896\u001b[0m             \u001b[1;32mexcept\u001b[0m \u001b[0mKeyError\u001b[0m \u001b[1;32mas\u001b[0m \u001b[0merr\u001b[0m\u001b[1;33m:\u001b[0m\u001b[1;33m\u001b[0m\u001b[1;33m\u001b[0m\u001b[0m\n\u001b[1;32m-> 2897\u001b[1;33m                 \u001b[1;32mraise\u001b[0m \u001b[0mKeyError\u001b[0m\u001b[1;33m(\u001b[0m\u001b[0mkey\u001b[0m\u001b[1;33m)\u001b[0m \u001b[1;32mfrom\u001b[0m \u001b[0merr\u001b[0m\u001b[1;33m\u001b[0m\u001b[1;33m\u001b[0m\u001b[0m\n\u001b[0m\u001b[0;32m   2898\u001b[0m \u001b[1;33m\u001b[0m\u001b[0m\n\u001b[0;32m   2899\u001b[0m         \u001b[1;32mif\u001b[0m \u001b[0mtolerance\u001b[0m \u001b[1;32mis\u001b[0m \u001b[1;32mnot\u001b[0m \u001b[1;32mNone\u001b[0m\u001b[1;33m:\u001b[0m\u001b[1;33m\u001b[0m\u001b[1;33m\u001b[0m\u001b[0m\n",
      "\u001b[1;31mKeyError\u001b[0m: 'f'"
     ]
    }
   ],
   "metadata": {}
  },
  {
   "cell_type": "code",
   "execution_count": null,
   "source": [
    "2/ DataFrame\r\n",
    "\r\n",
    "A Pandas DataFrame is a 2 dimensional data structure, \r\n",
    "like a 2 dimensional array, or a table with rows and columns."
   ],
   "outputs": [],
   "metadata": {}
  },
  {
   "cell_type": "code",
   "execution_count": 7,
   "source": [
    "import pandas as pd\r\n",
    "\r\n",
    "data = {\r\n",
    "  \"calories\": [420, 380, 390],\r\n",
    "  \"duration\": [50, 40, 45]\r\n",
    "}\r\n",
    "\r\n",
    "df = pd.Series(data)\r\n",
    "print(f'Seri:\\n{df}')\r\n",
    "\r\n",
    "df = pd.DataFrame(data, index=[1,2,3])\r\n",
    "print(f'DataFrame:\\n{df}') "
   ],
   "outputs": [
    {
     "output_type": "stream",
     "name": "stdout",
     "text": [
      "Seri:\n",
      "calories    [420, 380, 390]\n",
      "duration       [50, 40, 45]\n",
      "dtype: object\n",
      "DataFrame:\n",
      "   calories  duration\n",
      "1       420        50\n",
      "2       380        40\n",
      "3       390        45\n"
     ]
    }
   ],
   "metadata": {}
  },
  {
   "cell_type": "code",
   "execution_count": 11,
   "source": [
    "#Locate Row\r\n",
    "\r\n",
    "import pandas as pd\r\n",
    "\r\n",
    "data = {\r\n",
    "  \"calories\": [420, 380, 390],\r\n",
    "  \"duration\": [50, 40, 45]\r\n",
    "}\r\n",
    "\r\n",
    "df = pd.DataFrame(data)\r\n",
    "\r\n",
    "print(df,'\\n') \r\n",
    "\r\n",
    "# Truy cập vào index 0\r\n",
    "print(df.loc[0])\r\n"
   ],
   "outputs": [
    {
     "output_type": "stream",
     "name": "stdout",
     "text": [
      "   calories  duration\n",
      "0       420        50\n",
      "1       380        40\n",
      "2       390        45 \n",
      "\n",
      "calories    420\n",
      "duration     50\n",
      "Name: 0, dtype: int64\n"
     ]
    }
   ],
   "metadata": {}
  },
  {
   "cell_type": "code",
   "execution_count": 21,
   "source": [
    "import pandas as pd\r\n",
    "\r\n",
    "data = {\r\n",
    "  \"calories\": [420, 380, 390],\r\n",
    "  \"duration\": [50, 40, 45]\r\n",
    "}\r\n",
    "\r\n",
    "df = pd.DataFrame(data)\r\n",
    "\r\n",
    "print(df,'\\n') \r\n",
    "\r\n",
    "# Slicing DataFrame\r\n",
    "print(df.loc[[0,2]])"
   ],
   "outputs": [
    {
     "output_type": "stream",
     "name": "stdout",
     "text": [
      "   calories  duration\n",
      "0       420        50\n",
      "1       380        40\n",
      "2       390        45 \n",
      "\n",
      "   calories  duration\n",
      "0       420        50\n",
      "2       390        45\n"
     ]
    }
   ],
   "metadata": {}
  },
  {
   "cell_type": "code",
   "execution_count": 22,
   "source": [
    "import pandas as pd\r\n",
    "\r\n",
    "data = {\r\n",
    "  \"calories\": [420, 380, 390],\r\n",
    "  \"duration\": [50, 40, 45]\r\n",
    "}\r\n",
    "\r\n",
    "df = pd.DataFrame(data)\r\n",
    "\r\n",
    "print(df,'\\n') \r\n",
    "\r\n",
    "print(df.loc[0:])"
   ],
   "outputs": [
    {
     "output_type": "stream",
     "name": "stdout",
     "text": [
      "   calories  duration\n",
      "0       420        50\n",
      "1       380        40\n",
      "2       390        45 \n",
      "\n",
      "   calories  duration\n",
      "0       420        50\n",
      "1       380        40\n",
      "2       390        45\n"
     ]
    }
   ],
   "metadata": {}
  },
  {
   "cell_type": "code",
   "execution_count": 23,
   "source": [
    "import pandas as pd\r\n",
    "\r\n",
    "data = {\r\n",
    "  \"calories\": [420, 380, 390],\r\n",
    "  \"duration\": [50, 40, 45]\r\n",
    "}\r\n",
    "\r\n",
    "df = pd.DataFrame(data)\r\n",
    "\r\n",
    "print(df,'\\n') \r\n",
    "\r\n",
    "print(df.loc[[]])"
   ],
   "outputs": [
    {
     "output_type": "stream",
     "name": "stdout",
     "text": [
      "   calories  duration\n",
      "0       420        50\n",
      "1       380        40\n",
      "2       390        45 \n",
      "\n",
      "Empty DataFrame\n",
      "Columns: [calories, duration]\n",
      "Index: []\n"
     ]
    }
   ],
   "metadata": {}
  },
  {
   "cell_type": "code",
   "execution_count": 14,
   "source": [
    "import pandas as pd\r\n",
    "\r\n",
    "data = {\r\n",
    "  \"calories\": [420, 380, 390],\r\n",
    "  \"duration\": [50, 40, 45]\r\n",
    "}\r\n",
    "\r\n",
    "df = pd.DataFrame(data, index = [\"day1\", \"day2\", \"day3\"])\r\n",
    "\r\n",
    "print(df) "
   ],
   "outputs": [
    {
     "output_type": "stream",
     "name": "stdout",
     "text": [
      "      calories  duration\n",
      "day1       420        50\n",
      "day2       380        40\n",
      "day3       390        45\n"
     ]
    }
   ],
   "metadata": {}
  },
  {
   "cell_type": "code",
   "execution_count": 25,
   "source": [
    "import pandas as pd\r\n",
    "\r\n",
    "data = {\r\n",
    "  \"calories\": [420, 380, 390],\r\n",
    "  \"duration\": [50, 40, 45]\r\n",
    "}\r\n",
    "\r\n",
    "df = pd.DataFrame(data, index = [\"day1\", \"day2\", \"day3\"])\r\n",
    "\r\n",
    "print(df,'\\n')\r\n",
    "\r\n",
    "print(df.loc[\"day2\"])"
   ],
   "outputs": [
    {
     "output_type": "stream",
     "name": "stdout",
     "text": [
      "      calories  duration\n",
      "day1       420        50\n",
      "day2       380        40\n",
      "day3       390        45 \n",
      "\n",
      "calories    380\n",
      "duration     40\n",
      "Name: day2, dtype: int64\n"
     ]
    }
   ],
   "metadata": {}
  },
  {
   "cell_type": "code",
   "execution_count": null,
   "source": [
    "pandas.DataFrame( data, index, columns, dtype, copy)\r\n",
    "\r\n",
    "1\t\r\n",
    "data\r\n",
    "\r\n",
    "data takes various forms like ndarray, series, map, lists, dict, constants and also another DataFrame.\r\n",
    "\r\n",
    "2\t\r\n",
    "index\r\n",
    "\r\n",
    "For the row labels, the Index to be used for the resulting frame is Optional Default np.arange(n) if no index is passed.\r\n",
    "\r\n",
    "3\t\r\n",
    "columns\r\n",
    "\r\n",
    "For column labels, the optional default syntax is - np.arange(n). This is only true if no index is passed.\r\n",
    "\r\n",
    "4\t\r\n",
    "dtype\r\n",
    "\r\n",
    "Data type of each column.\r\n",
    "\r\n",
    "5\t\r\n",
    "copy\r\n",
    "\r\n",
    "This command (or whatever it is) is used for copying of data, if the default is False.\r\n",
    "\r\n",
    "----\r\n",
    "A pandas DataFrame can be created using various inputs like −\r\n",
    "\r\n",
    "Lists\r\n",
    "dict\r\n",
    "Series\r\n",
    "Numpy ndarrays\r\n",
    "Another DataFrame"
   ],
   "outputs": [],
   "metadata": {}
  },
  {
   "cell_type": "code",
   "execution_count": 26,
   "source": [
    "import pandas as pd\r\n",
    "df = pd.DataFrame()\r\n",
    "print(df)"
   ],
   "outputs": [
    {
     "output_type": "stream",
     "name": "stdout",
     "text": [
      "Empty DataFrame\n",
      "Columns: []\n",
      "Index: []\n"
     ]
    }
   ],
   "metadata": {}
  },
  {
   "cell_type": "code",
   "execution_count": 27,
   "source": [
    "# Create a DataFrame from Lists\r\n",
    "import pandas as pd\r\n",
    "data = [1,2,3,4,5]\r\n",
    "df = pd.DataFrame(data)\r\n",
    "print(df)"
   ],
   "outputs": [
    {
     "output_type": "stream",
     "name": "stdout",
     "text": [
      "   0\n",
      "0  1\n",
      "1  2\n",
      "2  3\n",
      "3  4\n",
      "4  5\n"
     ]
    }
   ],
   "metadata": {}
  },
  {
   "cell_type": "code",
   "execution_count": 29,
   "source": [
    "import pandas as pd\r\n",
    "data = [['Alex',10],['Bob',12],['Clarke',13]]\r\n",
    "df = pd.DataFrame(data,columns=['Name','Age'])\r\n",
    "print (df,'\\n')\r\n",
    "print('Type of data:', type(data))"
   ],
   "outputs": [
    {
     "output_type": "stream",
     "name": "stdout",
     "text": [
      "     Name  Age\n",
      "0    Alex   10\n",
      "1     Bob   12\n",
      "2  Clarke   13 \n",
      "\n",
      "Type of data: <class 'list'>\n"
     ]
    }
   ],
   "metadata": {}
  },
  {
   "cell_type": "code",
   "execution_count": 30,
   "source": [
    "import pandas as pd\r\n",
    "data = [['Alex',10],['Bob',12],['Clarke',13]]\r\n",
    "df = pd.DataFrame(data,columns=['Name','Age'],dtype=float)\r\n",
    "print(df)"
   ],
   "outputs": [
    {
     "output_type": "stream",
     "name": "stdout",
     "text": [
      "     Name   Age\n",
      "0    Alex  10.0\n",
      "1     Bob  12.0\n",
      "2  Clarke  13.0\n"
     ]
    }
   ],
   "metadata": {}
  },
  {
   "cell_type": "code",
   "execution_count": 31,
   "source": [
    "# Create a DataFrame from Dict of ndarrays / Lists\r\n",
    "\r\n",
    "import pandas as pd\r\n",
    "data = {'Name':['Tom', 'Jack', 'Steve', 'Ricky'],'Age':[28,34,29,42]}\r\n",
    "df = pd.DataFrame(data)\r\n",
    "print(df)"
   ],
   "outputs": [
    {
     "output_type": "stream",
     "name": "stdout",
     "text": [
      "    Name  Age\n",
      "0    Tom   28\n",
      "1   Jack   34\n",
      "2  Steve   29\n",
      "3  Ricky   42\n"
     ]
    }
   ],
   "metadata": {}
  },
  {
   "cell_type": "code",
   "execution_count": 32,
   "source": [
    "import pandas as pd\r\n",
    "data = {'Name':['Tom', 'Jack', 'Steve', 'Ricky'],'Age':[28,34,29,42]}\r\n",
    "df = pd.DataFrame(data, index=['rank1','rank2','rank3','rank4'])\r\n",
    "print(df)"
   ],
   "outputs": [
    {
     "output_type": "stream",
     "name": "stdout",
     "text": [
      "        Name  Age\n",
      "rank1    Tom   28\n",
      "rank2   Jack   34\n",
      "rank3  Steve   29\n",
      "rank4  Ricky   42\n"
     ]
    }
   ],
   "metadata": {}
  },
  {
   "cell_type": "code",
   "execution_count": 33,
   "source": [
    "# Create a DataFrame from List of Dicts\r\n",
    "import pandas as pd\r\n",
    "data = [{'a': 1, 'b': 2},{'a': 5, 'b': 10, 'c': 20}]\r\n",
    "df = pd.DataFrame(data)\r\n",
    "print(df)"
   ],
   "outputs": [
    {
     "output_type": "stream",
     "name": "stdout",
     "text": [
      "   a   b     c\n",
      "0  1   2   NaN\n",
      "1  5  10  20.0\n"
     ]
    }
   ],
   "metadata": {}
  },
  {
   "cell_type": "code",
   "execution_count": 34,
   "source": [
    "import pandas as pd\r\n",
    "data = [{'a': 1, 'b': 2},{'a': 5, 'b': 10, 'c': 20}]\r\n",
    "df = pd.DataFrame(data, index=['first', 'second'])\r\n",
    "print(df)"
   ],
   "outputs": [
    {
     "output_type": "stream",
     "name": "stdout",
     "text": [
      "        a   b     c\n",
      "first   1   2   NaN\n",
      "second  5  10  20.0\n"
     ]
    }
   ],
   "metadata": {}
  },
  {
   "cell_type": "code",
   "execution_count": 35,
   "source": [
    "import pandas as pd\r\n",
    "data = [{'a': 1, 'b': 2},{'a': 5, 'b': 10, 'c': 20}]\r\n",
    "\r\n",
    "#With two column indices, values same as dictionary keys\r\n",
    "df1 = pd.DataFrame(data, index=['first', 'second'], columns=['a', 'b'])\r\n",
    "\r\n",
    "#With two column indices with one index with other name\r\n",
    "df2 = pd.DataFrame(data, index=['first', 'second'], columns=['a', 'b1'])\r\n",
    "print(df1,'\\n')\r\n",
    "print(df2)"
   ],
   "outputs": [
    {
     "output_type": "stream",
     "name": "stdout",
     "text": [
      "        a   b\n",
      "first   1   2\n",
      "second  5  10 \n",
      "\n",
      "        a  b1\n",
      "first   1 NaN\n",
      "second  5 NaN\n"
     ]
    }
   ],
   "metadata": {}
  },
  {
   "cell_type": "code",
   "execution_count": 36,
   "source": [
    "# Create a DataFrame from Dict of Series\r\n",
    "import pandas as pd\r\n",
    "\r\n",
    "d = {'one' : pd.Series([1, 2, 3], index=['a', 'b', 'c']),\r\n",
    "   'two' : pd.Series([1, 2, 3, 4], index=['a', 'b', 'c', 'd'])}\r\n",
    "\r\n",
    "df = pd.DataFrame(d)\r\n",
    "print(df)"
   ],
   "outputs": [
    {
     "output_type": "stream",
     "name": "stdout",
     "text": [
      "   one  two\n",
      "a  1.0    1\n",
      "b  2.0    2\n",
      "c  3.0    3\n",
      "d  NaN    4\n"
     ]
    }
   ],
   "metadata": {}
  },
  {
   "cell_type": "code",
   "execution_count": 38,
   "source": [
    "# Column Selection\r\n",
    "\r\n",
    "import pandas as pd\r\n",
    "\r\n",
    "d = {'one' : pd.Series([1, 2, 3], index=['a', 'b', 'c']),\r\n",
    "   'two' : pd.Series([1, 2, 3, 4], index=['a', 'b', 'c', 'd'])}\r\n",
    "\r\n",
    "df = pd.DataFrame(d)\r\n",
    "\r\n",
    "# Truy xuất cột trong DataFrame\r\n",
    "print(df['one'])"
   ],
   "outputs": [
    {
     "output_type": "stream",
     "name": "stdout",
     "text": [
      "a    1.0\n",
      "b    2.0\n",
      "c    3.0\n",
      "d    NaN\n",
      "Name: one, dtype: float64\n"
     ]
    }
   ],
   "metadata": {}
  },
  {
   "cell_type": "code",
   "execution_count": 7,
   "source": [
    "# Column Addition\r\n",
    "# Thêm cột\r\n",
    "import pandas as pd\r\n",
    "\r\n",
    "d = {'one' : pd.Series([1, 2, 3], index=['a', 'b', 'c']),\r\n",
    "   'two' : pd.Series([1, 2, 3, 4], index=['a', 'b', 'c', 'd'])}\r\n",
    "\r\n",
    "df = pd.DataFrame(d)\r\n",
    "\r\n",
    "print(df,'\\n')\r\n",
    "\r\n",
    "# Adding a new column to an existing DataFrame object with column label by passing new series\r\n",
    "\r\n",
    "print (\"Adding a new column by passing as Series:\")\r\n",
    "df['three']= pd.Series([10,20,30],index=['a','b','c'])\r\n",
    "print(df,'\\n')\r\n",
    "\r\n",
    "print (\"Adding a new column using the existing columns in DataFrame:\")\r\n",
    "df['four']= df['one']+df['three']\r\n",
    "\r\n",
    "print(df,'\\n')\r\n",
    "\r\n",
    "print (\"Adding a new column using the existing columns in DataFrame:\")\r\n",
    "df['five']= df['one']+df['two']\r\n",
    "print(df,'\\n')"
   ],
   "outputs": [
    {
     "output_type": "stream",
     "name": "stdout",
     "text": [
      "   one  two\n",
      "a  1.0    1\n",
      "b  2.0    2\n",
      "c  3.0    3\n",
      "d  NaN    4 \n",
      "\n",
      "Adding a new column by passing as Series:\n",
      "   one  two  three\n",
      "a  1.0    1   10.0\n",
      "b  2.0    2   20.0\n",
      "c  3.0    3   30.0\n",
      "d  NaN    4    NaN \n",
      "\n",
      "Adding a new column using the existing columns in DataFrame:\n",
      "   one  two  three  four\n",
      "a  1.0    1   10.0  11.0\n",
      "b  2.0    2   20.0  22.0\n",
      "c  3.0    3   30.0  33.0\n",
      "d  NaN    4    NaN   NaN \n",
      "\n",
      "Adding a new column using the existing columns in DataFrame:\n",
      "   one  two  three  four  five\n",
      "a  1.0    1   10.0  11.0   2.0\n",
      "b  2.0    2   20.0  22.0   4.0\n",
      "c  3.0    3   30.0  33.0   6.0\n",
      "d  NaN    4    NaN   NaN   NaN \n",
      "\n"
     ]
    }
   ],
   "metadata": {}
  },
  {
   "cell_type": "code",
   "execution_count": 40,
   "source": [
    "# Column Deletion\r\n",
    "\r\n",
    "# Using the previous DataFrame, we will delete a column\r\n",
    "# using del function\r\n",
    "import pandas as pd\r\n",
    "\r\n",
    "d = {'one' : pd.Series([1, 2, 3], index=['a', 'b', 'c']), \r\n",
    "   'two' : pd.Series([1, 2, 3, 4], index=['a', 'b', 'c', 'd']), \r\n",
    "   'three' : pd.Series([10,20,30], index=['a','b','c'])}\r\n",
    "\r\n",
    "df = pd.DataFrame(d)\r\n",
    "print (\"Our dataframe is:\")\r\n",
    "print(df,'\\n')\r\n",
    "\r\n",
    "# using del function\r\n",
    "# Xóa cột trong DataFrame bằng del\r\n",
    "print (\"Deleting the first column using DEL function:\")\r\n",
    "del(df['one'])\r\n",
    "print(df,'\\n')\r\n",
    "\r\n",
    "# using pop function\r\n",
    "# Xóa cột trong DataFrame bằng pop('')\r\n",
    "print (\"Deleting another column using POP function:\")\r\n",
    "df.pop('two') # Xóa cột\r\n",
    "print(df)"
   ],
   "outputs": [
    {
     "output_type": "stream",
     "name": "stdout",
     "text": [
      "Our dataframe is:\n",
      "   one  two  three\n",
      "a  1.0    1   10.0\n",
      "b  2.0    2   20.0\n",
      "c  3.0    3   30.0\n",
      "d  NaN    4    NaN \n",
      "\n",
      "Deleting the first column using DEL function:\n",
      "   two  three\n",
      "a    1   10.0\n",
      "b    2   20.0\n",
      "c    3   30.0\n",
      "d    4    NaN \n",
      "\n",
      "Deleting another column using POP function:\n",
      "   three\n",
      "a   10.0\n",
      "b   20.0\n",
      "c   30.0\n",
      "d    NaN\n"
     ]
    }
   ],
   "metadata": {}
  },
  {
   "cell_type": "code",
   "execution_count": null,
   "source": [
    "# Row Selection, Addition, and Deletion\r\n",
    "# Chọn, thêm và xóa dòng"
   ],
   "outputs": [],
   "metadata": {}
  },
  {
   "cell_type": "code",
   "execution_count": 4,
   "source": [
    "# Selection by Label\r\n",
    "# Chọn dòng \r\n",
    "# df.loc() khi truy cập bằng tên label của index or df.iloc() khi truy cập bằng index\r\n",
    "import pandas as pd\r\n",
    "\r\n",
    "d = {'one' : pd.Series([1, 2, 3], index=['a', 'b', 'c']), \r\n",
    "   'two' : pd.Series([1, 2, 3, 4], index=['a', 'b', 'c', 'd'])}\r\n",
    "\r\n",
    "df = pd.DataFrame(d)\r\n",
    "\r\n",
    "print(df,'\\n')\r\n",
    "\r\n",
    "print(df.loc['b'])\r\n",
    "\r\n",
    "print(df.iloc[0])"
   ],
   "outputs": [
    {
     "output_type": "stream",
     "name": "stdout",
     "text": [
      "   one  two\n",
      "a  1.0    1\n",
      "b  2.0    2\n",
      "c  3.0    3\n",
      "d  NaN    4 \n",
      "\n",
      "one    2.0\n",
      "two    2.0\n",
      "Name: b, dtype: float64\n",
      "one    1.0\n",
      "two    1.0\n",
      "Name: a, dtype: float64\n"
     ]
    }
   ],
   "metadata": {}
  },
  {
   "cell_type": "code",
   "execution_count": 42,
   "source": [
    "# Selection by integer location\r\n",
    "\r\n",
    "import pandas as pd\r\n",
    "\r\n",
    "d = {'one' : pd.Series([1, 2, 3], index=['a', 'b', 'c']),\r\n",
    "   'two' : pd.Series([1, 2, 3, 4], index=['a', 'b', 'c', 'd'])}\r\n",
    "\r\n",
    "df = pd.DataFrame(d)\r\n",
    "\r\n",
    "print(df,'\\n')\r\n",
    "\r\n",
    "print(df.iloc[2])"
   ],
   "outputs": [
    {
     "output_type": "stream",
     "name": "stdout",
     "text": [
      "   one  two\n",
      "a  1.0    1\n",
      "b  2.0    2\n",
      "c  3.0    3\n",
      "d  NaN    4 \n",
      "\n",
      "one    3.0\n",
      "two    3.0\n",
      "Name: c, dtype: float64\n"
     ]
    }
   ],
   "metadata": {}
  },
  {
   "cell_type": "code",
   "execution_count": 44,
   "source": [
    "# Slice Rows\r\n",
    "import pandas as pd\r\n",
    "\r\n",
    "d = {'one' : pd.Series([1, 2, 3], index=['a', 'b', 'c']), \r\n",
    "   'two' : pd.Series([1, 2, 3, 4], index=['a', 'b', 'c', 'd'])}\r\n",
    "\r\n",
    "df = pd.DataFrame(d)\r\n",
    "\r\n",
    "print(df,'\\n')\r\n",
    "\r\n",
    "print(df[2:4])"
   ],
   "outputs": [
    {
     "output_type": "stream",
     "name": "stdout",
     "text": [
      "   one  two\n",
      "a  1.0    1\n",
      "b  2.0    2\n",
      "c  3.0    3\n",
      "d  NaN    4 \n",
      "\n",
      "   one  two\n",
      "c  3.0    3\n",
      "d  NaN    4\n"
     ]
    }
   ],
   "metadata": {}
  },
  {
   "cell_type": "code",
   "execution_count": 45,
   "source": [
    "# Addition of Rows\r\n",
    "# Thêm dòng vào DataFrame df = pd.append(new_df)\r\n",
    "import pandas as pd\r\n",
    "\r\n",
    "df = pd.DataFrame([[1, 2], [3, 4]], columns = ['a','b'])\r\n",
    "df2 = pd.DataFrame([[5, 6], [7, 8]], columns = ['a','b'])\r\n",
    "\r\n",
    "df = df.append(df2)\r\n",
    "print(df,'\\n')\r\n",
    "\r\n",
    "print(type([[5, 6], [7, 8]]))"
   ],
   "outputs": [
    {
     "output_type": "stream",
     "name": "stdout",
     "text": [
      "   a  b\n",
      "0  1  2\n",
      "1  3  4\n",
      "0  5  6\n",
      "1  7  8 \n",
      "\n",
      "<class 'list'>\n"
     ]
    }
   ],
   "metadata": {}
  },
  {
   "cell_type": "code",
   "execution_count": 46,
   "source": [
    "# reset_index()\r\n",
    "\r\n",
    "import pandas as pd\r\n",
    "\r\n",
    "df = pd.DataFrame([[1, 2], [3, 4]], columns = ['a','b'])\r\n",
    "df2 = pd.DataFrame([[5, 6], [7, 8]], columns = ['a','b'])\r\n",
    "\r\n",
    "df = df.append(df2)\r\n",
    "print(df,'\\n')\r\n",
    "\r\n",
    "df = df.reset_index()\r\n",
    "print(df,'\\n')\r\n",
    "print(df.iloc[2])\r\n"
   ],
   "outputs": [
    {
     "output_type": "stream",
     "name": "stdout",
     "text": [
      "   a  b\n",
      "0  1  2\n",
      "1  3  4\n",
      "0  5  6\n",
      "1  7  8 \n",
      "\n",
      "   index  a  b\n",
      "0      0  1  2\n",
      "1      1  3  4\n",
      "2      0  5  6\n",
      "3      1  7  8 \n",
      "\n",
      "index    0\n",
      "a        5\n",
      "b        6\n",
      "Name: 2, dtype: int64\n"
     ]
    }
   ],
   "metadata": {}
  },
  {
   "cell_type": "code",
   "execution_count": 47,
   "source": [
    "# reset_index()\r\n",
    "\r\n",
    "import pandas as pd\r\n",
    "\r\n",
    "df = pd.DataFrame([[1, 2], [3, 4]], columns = ['a','b'])\r\n",
    "df2 = pd.DataFrame([[5, 6], [7, 8]], columns = ['a','b'])\r\n",
    "\r\n",
    "df = df.append(df2)\r\n",
    "print(df,'\\n')\r\n",
    "\r\n",
    "df = df.reset_index(drop=True)\r\n",
    "print(df,'\\n')\r\n",
    "print(df.iloc[2])"
   ],
   "outputs": [
    {
     "output_type": "stream",
     "name": "stdout",
     "text": [
      "   a  b\n",
      "0  1  2\n",
      "1  3  4\n",
      "0  5  6\n",
      "1  7  8 \n",
      "\n",
      "   a  b\n",
      "0  1  2\n",
      "1  3  4\n",
      "2  5  6\n",
      "3  7  8 \n",
      "\n",
      "a    5\n",
      "b    6\n",
      "Name: 2, dtype: int64\n"
     ]
    }
   ],
   "metadata": {}
  },
  {
   "cell_type": "code",
   "execution_count": 48,
   "source": [
    "# Deletion of Rows\r\n",
    "# df = df.drop(label of index wanting to delete)\r\n",
    "\r\n",
    "import pandas as pd\r\n",
    "\r\n",
    "df = pd.DataFrame([[1, 2], [3, 4]], columns = ['a','b'])\r\n",
    "df2 = pd.DataFrame([[5, 6], [7, 8]], columns = ['a','b'])\r\n",
    "\r\n",
    "df = df.append(df2)\r\n",
    "print(df,'\\n')\r\n",
    "\r\n",
    "# Drop rows with label 0\r\n",
    "df = df.drop(0)  #Xóa dòng\r\n",
    "\r\n",
    "print(df)"
   ],
   "outputs": [
    {
     "output_type": "stream",
     "name": "stdout",
     "text": [
      "   a  b\n",
      "0  1  2\n",
      "1  3  4\n",
      "0  5  6\n",
      "1  7  8 \n",
      "\n",
      "   a  b\n",
      "1  3  4\n",
      "1  7  8\n"
     ]
    }
   ],
   "metadata": {}
  },
  {
   "cell_type": "code",
   "execution_count": 8,
   "source": [
    "# reset_index()\r\n",
    "\r\n",
    "import pandas as pd\r\n",
    "\r\n",
    "df = pd.DataFrame([[1, 2], [3, 4]], columns = ['a','b'])\r\n",
    "df2 = pd.DataFrame([[5, 6], [7, 8]], columns = ['a','b'])\r\n",
    "\r\n",
    "df = df.append(df2)\r\n",
    "print(df,'\\n')\r\n",
    "\r\n",
    "df = df.reset_index(drop= True)\r\n",
    "print(df,'\\n')\r\n",
    "\r\n",
    "# Drop rows with label 0\r\n",
    "df = df.drop(0)\r\n",
    "\r\n",
    "print(df)"
   ],
   "outputs": [
    {
     "output_type": "stream",
     "name": "stdout",
     "text": [
      "   a  b\n",
      "0  1  2\n",
      "1  3  4\n",
      "0  5  6\n",
      "1  7  8 \n",
      "\n",
      "   a  b\n",
      "0  1  2\n",
      "1  3  4\n",
      "2  5  6\n",
      "3  7  8 \n",
      "\n",
      "   a  b\n",
      "1  3  4\n",
      "2  5  6\n",
      "3  7  8\n"
     ]
    }
   ],
   "metadata": {}
  },
  {
   "cell_type": "code",
   "execution_count": 50,
   "source": [
    "# MultiIndex\r\n",
    "# Index nhiều lớp\r\n",
    "\r\n",
    "import pandas as pd\r\n",
    "import numpy as np\r\n",
    "\r\n",
    "# Index have two class and four name \r\n",
    "index = pd.MultiIndex.from_tuples([('bird', 'falcon'),\r\n",
    "                                   ('bird', 'parrot'),\r\n",
    "                                   ('mammal', 'lion'),\r\n",
    "                                   ('mammal', 'monkey')],\r\n",
    "                                  names=['class', 'name'])\r\n",
    "# Columns\r\n",
    "columns = pd.MultiIndex.from_tuples([('speed', 'max'),\r\n",
    "                                     ('species', 'type')])\r\n",
    "                                     \r\n",
    "df = pd.DataFrame([(389.0, 'fly'),\r\n",
    "                   ( 24.0, 'fly'),\r\n",
    "                   ( 80.5, 'run'),\r\n",
    "                   (np.nan, 'jump')],\r\n",
    "                  index=index,\r\n",
    "                  columns=columns)\r\n",
    "\r\n",
    "print(df)\r\n"
   ],
   "outputs": [
    {
     "output_type": "stream",
     "name": "stdout",
     "text": [
      "               speed species\n",
      "                 max    type\n",
      "class  name                 \n",
      "bird   falcon  389.0     fly\n",
      "       parrot   24.0     fly\n",
      "mammal lion     80.5     run\n",
      "       monkey    NaN    jump\n"
     ]
    }
   ],
   "metadata": {}
  },
  {
   "cell_type": "code",
   "execution_count": null,
   "source": [
    "3/ Read file"
   ],
   "outputs": [],
   "metadata": {}
  },
  {
   "cell_type": "code",
   "execution_count": 57,
   "source": [
    "# Read CSV Files\r\n",
    "# A simple way to store big data sets is to use CSV files (comma separated files).\r\n",
    "\r\n",
    "import pandas as pd\r\n",
    "\r\n",
    "df = pd.read_csv('data.csv')\r\n",
    "\r\n",
    "print(df.to_string()) # to print the entire DataFrame."
   ],
   "outputs": [
    {
     "output_type": "stream",
     "name": "stdout",
     "text": [
      "     Duration  Pulse  Maxpulse  Calories\n",
      "0          60    110       130     409.1\n",
      "1          60    117       145     479.0\n",
      "2          60    103       135     340.0\n",
      "3          45    109       175     282.4\n",
      "4          45    117       148     406.0\n",
      "5          60    102       127     300.0\n",
      "6          60    110       136     374.0\n",
      "7          45    104       134     253.3\n",
      "8          30    109       133     195.1\n",
      "9          60     98       124     269.0\n",
      "10         60    103       147     329.3\n",
      "11         60    100       120     250.7\n",
      "12         60    106       128     345.3\n",
      "13         60    104       132     379.3\n",
      "14         60     98       123     275.0\n",
      "15         60     98       120     215.2\n",
      "16         60    100       120     300.0\n",
      "17         45     90       112       NaN\n",
      "18         60    103       123     323.0\n",
      "19         45     97       125     243.0\n",
      "20         60    108       131     364.2\n",
      "21         45    100       119     282.0\n",
      "22         60    130       101     300.0\n",
      "23         45    105       132     246.0\n",
      "24         60    102       126     334.5\n",
      "25         60    100       120     250.0\n",
      "26         60     92       118     241.0\n",
      "27         60    103       132       NaN\n",
      "28         60    100       132     280.0\n",
      "29         60    102       129     380.3\n",
      "30         60     92       115     243.0\n",
      "31         45     90       112     180.1\n",
      "32         60    101       124     299.0\n",
      "33         60     93       113     223.0\n",
      "34         60    107       136     361.0\n",
      "35         60    114       140     415.0\n",
      "36         60    102       127     300.0\n",
      "37         60    100       120     300.0\n",
      "38         60    100       120     300.0\n",
      "39         45    104       129     266.0\n",
      "40         45     90       112     180.1\n",
      "41         60     98       126     286.0\n",
      "42         60    100       122     329.4\n",
      "43         60    111       138     400.0\n",
      "44         60    111       131     397.0\n",
      "45         60     99       119     273.0\n",
      "46         60    109       153     387.6\n",
      "47         45    111       136     300.0\n",
      "48         45    108       129     298.0\n",
      "49         60    111       139     397.6\n",
      "50         60    107       136     380.2\n",
      "51         80    123       146     643.1\n",
      "52         60    106       130     263.0\n",
      "53         60    118       151     486.0\n",
      "54         30    136       175     238.0\n",
      "55         60    121       146     450.7\n",
      "56         60    118       121     413.0\n",
      "57         45    115       144     305.0\n",
      "58         20    153       172     226.4\n",
      "59         45    123       152     321.0\n",
      "60        210    108       160    1376.0\n",
      "61        160    110       137    1034.4\n",
      "62        160    109       135     853.0\n",
      "63         45    118       141     341.0\n",
      "64         20    110       130     131.4\n",
      "65        180     90       130     800.4\n",
      "66        150    105       135     873.4\n",
      "67        150    107       130     816.0\n",
      "68         20    106       136     110.4\n",
      "69        300    108       143    1500.2\n",
      "70        150     97       129    1115.0\n",
      "71         60    109       153     387.6\n",
      "72         90    100       127     700.0\n",
      "73        150     97       127     953.2\n",
      "74         45    114       146     304.0\n",
      "75         90     98       125     563.2\n",
      "76         45    105       134     251.0\n",
      "77         45    110       141     300.0\n",
      "78        120    100       130     500.4\n",
      "79        270    100       131    1729.0\n",
      "80         30    159       182     319.2\n",
      "81         45    149       169     344.0\n",
      "82         30    103       139     151.1\n",
      "83        120    100       130     500.0\n",
      "84         45    100       120     225.3\n",
      "85         30    151       170     300.0\n",
      "86         45    102       136     234.0\n",
      "87        120    100       157    1000.1\n",
      "88         45    129       103     242.0\n",
      "89         20     83       107      50.3\n",
      "90        180    101       127     600.1\n",
      "91         45    107       137       NaN\n",
      "92         30     90       107     105.3\n",
      "93         15     80       100      50.5\n",
      "94         20    150       171     127.4\n",
      "95         20    151       168     229.4\n",
      "96         30     95       128     128.2\n",
      "97         25    152       168     244.2\n",
      "98         30    109       131     188.2\n",
      "99         90     93       124     604.1\n",
      "100        20     95       112      77.7\n",
      "101        90     90       110     500.0\n",
      "102        90     90       100     500.0\n",
      "103        90     90       100     500.4\n",
      "104        30     92       108      92.7\n",
      "105        30     93       128     124.0\n",
      "106       180     90       120     800.3\n",
      "107        30     90       120      86.2\n",
      "108        90     90       120     500.3\n",
      "109       210    137       184    1860.4\n",
      "110        60    102       124     325.2\n",
      "111        45    107       124     275.0\n",
      "112        15    124       139     124.2\n",
      "113        45    100       120     225.3\n",
      "114        60    108       131     367.6\n",
      "115        60    108       151     351.7\n",
      "116        60    116       141     443.0\n",
      "117        60     97       122     277.4\n",
      "118        60    105       125       NaN\n",
      "119        60    103       124     332.7\n",
      "120        30    112       137     193.9\n",
      "121        45    100       120     100.7\n",
      "122        60    119       169     336.7\n",
      "123        60    107       127     344.9\n",
      "124        60    111       151     368.5\n",
      "125        60     98       122     271.0\n",
      "126        60     97       124     275.3\n",
      "127        60    109       127     382.0\n",
      "128        90     99       125     466.4\n",
      "129        60    114       151     384.0\n",
      "130        60    104       134     342.5\n",
      "131        60    107       138     357.5\n",
      "132        60    103       133     335.0\n",
      "133        60    106       132     327.5\n",
      "134        60    103       136     339.0\n",
      "135        20    136       156     189.0\n",
      "136        45    117       143     317.7\n",
      "137        45    115       137     318.0\n",
      "138        45    113       138     308.0\n",
      "139        20    141       162     222.4\n",
      "140        60    108       135     390.0\n",
      "141        60     97       127       NaN\n",
      "142        45    100       120     250.4\n",
      "143        45    122       149     335.4\n",
      "144        60    136       170     470.2\n",
      "145        45    106       126     270.8\n",
      "146        60    107       136     400.0\n",
      "147        60    112       146     361.9\n",
      "148        30    103       127     185.0\n",
      "149        60    110       150     409.4\n",
      "150        60    106       134     343.0\n",
      "151        60    109       129     353.2\n",
      "152        60    109       138     374.0\n",
      "153        30    150       167     275.8\n",
      "154        60    105       128     328.0\n",
      "155        60    111       151     368.5\n",
      "156        60     97       131     270.4\n",
      "157        60    100       120     270.4\n",
      "158        60    114       150     382.8\n",
      "159        30     80       120     240.9\n",
      "160        30     85       120     250.4\n",
      "161        45     90       130     260.4\n",
      "162        45     95       130     270.0\n",
      "163        45    100       140     280.9\n",
      "164        60    105       140     290.8\n",
      "165        60    110       145     300.0\n",
      "166        60    115       145     310.2\n",
      "167        75    120       150     320.4\n",
      "168        75    125       150     330.4\n"
     ]
    }
   ],
   "metadata": {}
  },
  {
   "cell_type": "code",
   "execution_count": null,
   "source": [
    "# pandas.read_csv(filepath_or_buffer, sep=',', delimiter=None, header='infer', names=None, index_col=None, usecols=None\r\n",
    "\r\n",
    "# pandas.read_csv(filepath_or_buffer, sep='\\t', delimiter=None, header='infer', names=None, index_col=None, usecols=None"
   ],
   "outputs": [],
   "metadata": {}
  },
  {
   "cell_type": "code",
   "execution_count": 87,
   "source": [
    "import pandas as pd\r\n",
    "\r\n",
    "df=pd.read_csv(\"temp.csv\")\r\n",
    "print(df)"
   ],
   "outputs": [
    {
     "output_type": "stream",
     "name": "stdout",
     "text": [
      "   S.No    Name  Age       City  Salary\n",
      "0     1     Tom   28    Toronto   20000\n",
      "1     2     Lee   32   HongKong    3000\n",
      "2     3  Steven   43   Bay Area    8300\n",
      "3     4     Ram   38  Hyderabad    3900\n"
     ]
    }
   ],
   "metadata": {}
  },
  {
   "cell_type": "code",
   "execution_count": 92,
   "source": [
    "import pandas as pd\r\n",
    "\r\n",
    "df=pd.read_csv(\"temp.csv\",index_col=['S.No']) \r\n",
    "#This specifies a column in the csv file to customize the index using index_col.\r\n",
    "\r\n",
    "print(df)"
   ],
   "outputs": [
    {
     "output_type": "stream",
     "name": "stdout",
     "text": [
      "        Name  Age       City  Salary\n",
      "S.No                                \n",
      "1        Tom   28    Toronto   20000\n",
      "2        Lee   32   HongKong    3000\n",
      "3     Steven   43   Bay Area    8300\n",
      "4        Ram   38  Hyderabad    3900\n"
     ]
    }
   ],
   "metadata": {}
  },
  {
   "cell_type": "code",
   "execution_count": 94,
   "source": [
    "import pandas as pd\r\n",
    "import numpy as np\r\n",
    "\r\n",
    "# Gán type cho 1 dữ liệu trong DataFrame\r\n",
    "df = pd.read_csv(\"temp.csv\", dtype={'Salary': np.float64})\r\n",
    "print(df.dtypes,'\\n')\r\n",
    "\r\n",
    "print(df)"
   ],
   "outputs": [
    {
     "output_type": "stream",
     "name": "stdout",
     "text": [
      "S.No        int64\n",
      "Name       object\n",
      "Age         int64\n",
      "City       object\n",
      "Salary    float64\n",
      "dtype: object \n",
      "\n",
      "   S.No    Name  Age       City   Salary\n",
      "0     1     Tom   28    Toronto  20000.0\n",
      "1     2     Lee   32   HongKong   3000.0\n",
      "2     3  Steven   43   Bay Area   8300.0\n",
      "3     4     Ram   38  Hyderabad   3900.0\n"
     ]
    }
   ],
   "metadata": {}
  },
  {
   "cell_type": "code",
   "execution_count": 95,
   "source": [
    "import pandas as pd\r\n",
    " \r\n",
    "df=pd.read_csv(\"temp.csv\", names=['a', 'b', 'c','d','e'])\r\n",
    "# Specify the names of the header using the names argument.\r\n",
    "\r\n",
    "print(df)"
   ],
   "outputs": [
    {
     "output_type": "stream",
     "name": "stdout",
     "text": [
      "      a       b    c          d       e\n",
      "0  S.No    Name  Age       City  Salary\n",
      "1     1     Tom   28    Toronto   20000\n",
      "2     2     Lee   32   HongKong    3000\n",
      "3     3  Steven   43   Bay Area    8300\n",
      "4     4     Ram   38  Hyderabad    3900\n"
     ]
    }
   ],
   "metadata": {}
  },
  {
   "cell_type": "code",
   "execution_count": 97,
   "source": [
    "# Observe, the header names are appended with the custom names, but the header in the file has not been eliminated.\r\n",
    "# Now, we use the header argument to remove that.\r\n",
    "\r\n",
    "# If the header is in a row other than the first, pass the row number to header.\r\n",
    "# This will skip the preceding rows.\r\n",
    "\r\n",
    "import pandas as pd \r\n",
    "# Thay đổi tên mỗi cột bằng func header= 0\r\n",
    "df=pd.read_csv(\"temp.csv\",names=['a','b','c','d','e'],header=0)\r\n",
    "print(df)"
   ],
   "outputs": [
    {
     "output_type": "stream",
     "name": "stdout",
     "text": [
      "   a       b   c          d      e\n",
      "0  1     Tom  28    Toronto  20000\n",
      "1  2     Lee  32   HongKong   3000\n",
      "2  3  Steven  43   Bay Area   8300\n",
      "3  4     Ram  38  Hyderabad   3900\n"
     ]
    }
   ],
   "metadata": {}
  },
  {
   "cell_type": "code",
   "execution_count": 98,
   "source": [
    "import pandas as pd\r\n",
    "\r\n",
    "df=pd.read_csv(\"temp.csv\", skiprows=2)\r\n",
    "print(df)"
   ],
   "outputs": [
    {
     "output_type": "stream",
     "name": "stdout",
     "text": [
      "   2     Lee  32   HongKong  3000\n",
      "0  3  Steven  43   Bay Area  8300\n",
      "1  4     Ram  38  Hyderabad  3900\n"
     ]
    }
   ],
   "metadata": {}
  },
  {
   "cell_type": "code",
   "execution_count": 56,
   "source": [
    "# Read JSON\r\n",
    "# Big data sets are often stored, or extracted as JSON.\r\n",
    "# JSON is plain text, but has the format of an object, and is well known in the world of programming\r\n",
    "\r\n",
    "import pandas as pd\r\n",
    "\r\n",
    "df = pd.read_json('data.json')\r\n",
    "\r\n",
    "print(df.to_string()) "
   ],
   "outputs": [
    {
     "output_type": "stream",
     "name": "stdout",
     "text": [
      "     Duration  Pulse  Maxpulse  Calories\n",
      "0          60    110       130     409.1\n",
      "1          60    117       145     479.0\n",
      "2          60    103       135     340.0\n",
      "3          45    109       175     282.4\n",
      "4          45    117       148     406.0\n",
      "5          60    102       127     300.5\n",
      "6          60    110       136     374.0\n",
      "7          45    104       134     253.3\n",
      "8          30    109       133     195.1\n",
      "9          60     98       124     269.0\n",
      "10         60    103       147     329.3\n",
      "11         60    100       120     250.7\n",
      "12         60    106       128     345.3\n",
      "13         60    104       132     379.3\n",
      "14         60     98       123     275.0\n",
      "15         60     98       120     215.2\n",
      "16         60    100       120     300.0\n",
      "17         45     90       112       NaN\n",
      "18         60    103       123     323.0\n",
      "19         45     97       125     243.0\n",
      "20         60    108       131     364.2\n",
      "21         45    100       119     282.0\n",
      "22         60    130       101     300.0\n",
      "23         45    105       132     246.0\n",
      "24         60    102       126     334.5\n",
      "25         60    100       120     250.0\n",
      "26         60     92       118     241.0\n",
      "27         60    103       132       NaN\n",
      "28         60    100       132     280.0\n",
      "29         60    102       129     380.3\n",
      "30         60     92       115     243.0\n",
      "31         45     90       112     180.1\n",
      "32         60    101       124     299.0\n",
      "33         60     93       113     223.0\n",
      "34         60    107       136     361.0\n",
      "35         60    114       140     415.0\n",
      "36         60    102       127     300.5\n",
      "37         60    100       120     300.1\n",
      "38         60    100       120     300.0\n",
      "39         45    104       129     266.0\n",
      "40         45     90       112     180.1\n",
      "41         60     98       126     286.0\n",
      "42         60    100       122     329.4\n",
      "43         60    111       138     400.0\n",
      "44         60    111       131     397.0\n",
      "45         60     99       119     273.0\n",
      "46         60    109       153     387.6\n",
      "47         45    111       136     300.0\n",
      "48         45    108       129     298.0\n",
      "49         60    111       139     397.6\n",
      "50         60    107       136     380.2\n",
      "51         80    123       146     643.1\n",
      "52         60    106       130     263.0\n",
      "53         60    118       151     486.0\n",
      "54         30    136       175     238.0\n",
      "55         60    121       146     450.7\n",
      "56         60    118       121     413.0\n",
      "57         45    115       144     305.0\n",
      "58         20    153       172     226.4\n",
      "59         45    123       152     321.0\n",
      "60        210    108       160    1376.0\n",
      "61        160    110       137    1034.4\n",
      "62        160    109       135     853.0\n",
      "63         45    118       141     341.0\n",
      "64         20    110       130     131.4\n",
      "65        180     90       130     800.4\n",
      "66        150    105       135     873.4\n",
      "67        150    107       130     816.0\n",
      "68         20    106       136     110.4\n",
      "69        300    108       143    1500.2\n",
      "70        150     97       129    1115.0\n",
      "71         60    109       153     387.6\n",
      "72         90    100       127     700.0\n",
      "73        150     97       127     953.2\n",
      "74         45    114       146     304.0\n",
      "75         90     98       125     563.2\n",
      "76         45    105       134     251.0\n",
      "77         45    110       141     300.0\n",
      "78        120    100       130     500.4\n",
      "79        270    100       131    1729.0\n",
      "80         30    159       182     319.2\n",
      "81         45    149       169     344.0\n",
      "82         30    103       139     151.1\n",
      "83        120    100       130     500.0\n",
      "84         45    100       120     225.3\n",
      "85         30    151       170     300.1\n",
      "86         45    102       136     234.0\n",
      "87        120    100       157    1000.1\n",
      "88         45    129       103     242.0\n",
      "89         20     83       107      50.3\n",
      "90        180    101       127     600.1\n",
      "91         45    107       137       NaN\n",
      "92         30     90       107     105.3\n",
      "93         15     80       100      50.5\n",
      "94         20    150       171     127.4\n",
      "95         20    151       168     229.4\n",
      "96         30     95       128     128.2\n",
      "97         25    152       168     244.2\n",
      "98         30    109       131     188.2\n",
      "99         90     93       124     604.1\n",
      "100        20     95       112      77.7\n",
      "101        90     90       110     500.0\n",
      "102        90     90       100     500.0\n",
      "103        90     90       100     500.4\n",
      "104        30     92       108      92.7\n",
      "105        30     93       128     124.0\n",
      "106       180     90       120     800.3\n",
      "107        30     90       120      86.2\n",
      "108        90     90       120     500.3\n",
      "109       210    137       184    1860.4\n",
      "110        60    102       124     325.2\n",
      "111        45    107       124     275.0\n",
      "112        15    124       139     124.2\n",
      "113        45    100       120     225.3\n",
      "114        60    108       131     367.6\n",
      "115        60    108       151     351.7\n",
      "116        60    116       141     443.0\n",
      "117        60     97       122     277.4\n",
      "118        60    105       125       NaN\n",
      "119        60    103       124     332.7\n",
      "120        30    112       137     193.9\n",
      "121        45    100       120     100.7\n",
      "122        60    119       169     336.7\n",
      "123        60    107       127     344.9\n",
      "124        60    111       151     368.5\n",
      "125        60     98       122     271.0\n",
      "126        60     97       124     275.3\n",
      "127        60    109       127     382.0\n",
      "128        90     99       125     466.4\n",
      "129        60    114       151     384.0\n",
      "130        60    104       134     342.5\n",
      "131        60    107       138     357.5\n",
      "132        60    103       133     335.0\n",
      "133        60    106       132     327.5\n",
      "134        60    103       136     339.0\n",
      "135        20    136       156     189.0\n",
      "136        45    117       143     317.7\n",
      "137        45    115       137     318.0\n",
      "138        45    113       138     308.0\n",
      "139        20    141       162     222.4\n",
      "140        60    108       135     390.0\n",
      "141        60     97       127       NaN\n",
      "142        45    100       120     250.4\n",
      "143        45    122       149     335.4\n",
      "144        60    136       170     470.2\n",
      "145        45    106       126     270.8\n",
      "146        60    107       136     400.0\n",
      "147        60    112       146     361.9\n",
      "148        30    103       127     185.0\n",
      "149        60    110       150     409.4\n",
      "150        60    106       134     343.0\n",
      "151        60    109       129     353.2\n",
      "152        60    109       138     374.0\n",
      "153        30    150       167     275.8\n",
      "154        60    105       128     328.0\n",
      "155        60    111       151     368.5\n",
      "156        60     97       131     270.4\n",
      "157        60    100       120     270.4\n",
      "158        60    114       150     382.8\n",
      "159        30     80       120     240.9\n",
      "160        30     85       120     250.4\n",
      "161        45     90       130     260.4\n",
      "162        45     95       130     270.0\n",
      "163        45    100       140     280.9\n",
      "164        60    105       140     290.8\n",
      "165        60    110       145     300.4\n",
      "166        60    115       145     310.2\n",
      "167        75    120       150     320.4\n",
      "168        75    125       150     330.4\n"
     ]
    }
   ],
   "metadata": {}
  },
  {
   "cell_type": "code",
   "execution_count": null,
   "source": [
    "# Viewing the Data"
   ],
   "outputs": [],
   "metadata": {}
  },
  {
   "cell_type": "code",
   "execution_count": 58,
   "source": [
    "# The head() method returns the headers and a specified number of rows, starting from the top\r\n",
    "\r\n",
    "import pandas as pd\r\n",
    "\r\n",
    "df = pd.read_csv('data.csv')\r\n",
    "\r\n",
    "print(df.head(10))"
   ],
   "outputs": [
    {
     "output_type": "stream",
     "name": "stdout",
     "text": [
      "   Duration  Pulse  Maxpulse  Calories\n",
      "0        60    110       130     409.1\n",
      "1        60    117       145     479.0\n",
      "2        60    103       135     340.0\n",
      "3        45    109       175     282.4\n",
      "4        45    117       148     406.0\n",
      "5        60    102       127     300.0\n",
      "6        60    110       136     374.0\n",
      "7        45    104       134     253.3\n",
      "8        30    109       133     195.1\n",
      "9        60     98       124     269.0\n"
     ]
    }
   ],
   "metadata": {}
  },
  {
   "cell_type": "code",
   "execution_count": 59,
   "source": [
    "# if the number of rows is not specified, the head() method will return the top 5 rows\r\n",
    "\r\n",
    "import pandas as pd\r\n",
    "\r\n",
    "df = pd.read_csv('data.csv')\r\n",
    "\r\n",
    "print(df.head())"
   ],
   "outputs": [
    {
     "output_type": "stream",
     "name": "stdout",
     "text": [
      "   Duration  Pulse  Maxpulse  Calories\n",
      "0        60    110       130     409.1\n",
      "1        60    117       145     479.0\n",
      "2        60    103       135     340.0\n",
      "3        45    109       175     282.4\n",
      "4        45    117       148     406.0\n"
     ]
    }
   ],
   "metadata": {}
  },
  {
   "cell_type": "code",
   "execution_count": 60,
   "source": [
    "# The tail() method returns the headers and a specified number of rows, starting from the bottom.\r\n",
    "\r\n",
    "import pandas as pd\r\n",
    "\r\n",
    "df = pd.read_csv('data.csv')\r\n",
    "\r\n",
    "print(df.tail()) "
   ],
   "outputs": [
    {
     "output_type": "stream",
     "name": "stdout",
     "text": [
      "     Duration  Pulse  Maxpulse  Calories\n",
      "164        60    105       140     290.8\n",
      "165        60    110       145     300.0\n",
      "166        60    115       145     310.2\n",
      "167        75    120       150     320.4\n",
      "168        75    125       150     330.4\n"
     ]
    }
   ],
   "metadata": {}
  },
  {
   "cell_type": "code",
   "execution_count": 61,
   "source": [
    "# The DataFrames object has a method called info(), that gives you more information about the data set.\r\n",
    "\r\n",
    "import pandas as pd\r\n",
    "\r\n",
    "df = pd.read_csv('data.csv')\r\n",
    "\r\n",
    "print(df.info()) "
   ],
   "outputs": [
    {
     "output_type": "stream",
     "name": "stdout",
     "text": [
      "<class 'pandas.core.frame.DataFrame'>\n",
      "RangeIndex: 169 entries, 0 to 168\n",
      "Data columns (total 4 columns):\n",
      " #   Column    Non-Null Count  Dtype  \n",
      "---  ------    --------------  -----  \n",
      " 0   Duration  169 non-null    int64  \n",
      " 1   Pulse     169 non-null    int64  \n",
      " 2   Maxpulse  169 non-null    int64  \n",
      " 3   Calories  164 non-null    float64\n",
      "dtypes: float64(1), int64(3)\n",
      "memory usage: 5.4 KB\n",
      "None\n"
     ]
    }
   ],
   "metadata": {}
  },
  {
   "cell_type": "code",
   "execution_count": null,
   "source": [
    "4/ Basic Functionality"
   ],
   "outputs": [],
   "metadata": {}
  },
  {
   "cell_type": "code",
   "execution_count": null,
   "source": [
    "# Series Basic Functionality\r\n",
    "\r\n",
    "1\t\r\n",
    "axes\r\n",
    "\r\n",
    "Returns a list of the row axis labels\r\n",
    "\r\n",
    "2\t\r\n",
    "dtype\r\n",
    "\r\n",
    "Returns the dtype of the object.\r\n",
    "\r\n",
    "3\t\r\n",
    "empty\r\n",
    "\r\n",
    "Returns True if series is empty.\r\n",
    "\r\n",
    "4\t\r\n",
    "ndim\r\n",
    "\r\n",
    "Returns the number of dimensions of the underlying data, by definition 1.\r\n",
    "\r\n",
    "5\t\r\n",
    "size\r\n",
    "\r\n",
    "Returns the number of elements in the underlying data.\r\n",
    "\r\n",
    "6\t\r\n",
    "values\r\n",
    "\r\n",
    "Returns the Series as ndarray.\r\n",
    "\r\n",
    "7\t\r\n",
    "head()\r\n",
    "\r\n",
    "Returns the first n rows.\r\n",
    "\r\n",
    "8\t\r\n",
    "tail()\r\n",
    "\r\n",
    "Returns the last n rows."
   ],
   "outputs": [],
   "metadata": {}
  },
  {
   "cell_type": "code",
   "execution_count": 62,
   "source": [
    "import pandas as pd\r\n",
    "import numpy as np\r\n",
    "\r\n",
    "#Create a series with random numbers\r\n",
    "s = pd.Series(np.random.randn(4))\r\n",
    "print(s)"
   ],
   "outputs": [
    {
     "output_type": "stream",
     "name": "stdout",
     "text": [
      "0   -0.431328\n",
      "1    2.334845\n",
      "2    0.801181\n",
      "3   -1.405264\n",
      "dtype: float64\n"
     ]
    }
   ],
   "metadata": {}
  },
  {
   "cell_type": "code",
   "execution_count": 63,
   "source": [
    "import pandas as pd\r\n",
    "import numpy as np\r\n",
    "\r\n",
    "#Create a series with random numbers\r\n",
    "s = pd.Series(np.random.randn(4))\r\n",
    "print (\"The axes are:\")\r\n",
    "print(s.axes)"
   ],
   "outputs": [
    {
     "output_type": "stream",
     "name": "stdout",
     "text": [
      "The axes are:\n",
      "[RangeIndex(start=0, stop=4, step=1)]\n"
     ]
    }
   ],
   "metadata": {}
  },
  {
   "cell_type": "code",
   "execution_count": 64,
   "source": [
    "import pandas as pd\r\n",
    "import numpy as np\r\n",
    "\r\n",
    "#Create a series with 100 random numbers\r\n",
    "s = pd.Series(np.random.randn(4))\r\n",
    "\r\n",
    "print (\"Is the Object empty?\")\r\n",
    "print(s.empty)"
   ],
   "outputs": [
    {
     "output_type": "stream",
     "name": "stdout",
     "text": [
      "Is the Object empty?\n",
      "False\n"
     ]
    }
   ],
   "metadata": {}
  },
  {
   "cell_type": "code",
   "execution_count": 67,
   "source": [
    "import pandas as pd\r\n",
    "import numpy as np\r\n",
    "\r\n",
    "#Create a series with 4 random numbers\r\n",
    "s = pd.Series(np.random.randn(4))\r\n",
    "print(s,'\\n')\r\n",
    "\r\n",
    "# Lớp/cấp data của đối tượng\r\n",
    "print (\"The dimensions of the object:\")\r\n",
    "print(s.ndim)"
   ],
   "outputs": [
    {
     "output_type": "stream",
     "name": "stdout",
     "text": [
      "0   -1.704164\n",
      "1    0.318729\n",
      "2    0.772673\n",
      "3   -1.278755\n",
      "dtype: float64 \n",
      "\n",
      "The dimensions of the object:\n",
      "1\n"
     ]
    }
   ],
   "metadata": {}
  },
  {
   "cell_type": "code",
   "execution_count": 69,
   "source": [
    "import pandas as pd\r\n",
    "import numpy as np\r\n",
    "\r\n",
    "#Create a series with 4 random numbers\r\n",
    "s = pd.Series(np.random.randn(4))\r\n",
    "print(s,'\\n')\r\n",
    "\r\n",
    "print (\"The size of the object:\")\r\n",
    "print(s.size)"
   ],
   "outputs": [
    {
     "output_type": "stream",
     "name": "stdout",
     "text": [
      "0    0.265895\n",
      "1   -0.183017\n",
      "2   -2.414352\n",
      "3    0.522727\n",
      "dtype: float64 \n",
      "\n",
      "The size of the object:\n",
      "4\n"
     ]
    }
   ],
   "metadata": {}
  },
  {
   "cell_type": "code",
   "execution_count": 71,
   "source": [
    "import pandas as pd\r\n",
    "import numpy as np\r\n",
    "\r\n",
    "#Create a series with 4 random numbers\r\n",
    "s = pd.Series(np.random.randn(4))\r\n",
    "print(s,'\\n')\r\n",
    "\r\n",
    "print (\"The actual data series is:\")\r\n",
    "print(s.values)"
   ],
   "outputs": [
    {
     "output_type": "stream",
     "name": "stdout",
     "text": [
      "0   -0.928588\n",
      "1   -0.044351\n",
      "2    0.420543\n",
      "3   -1.583830\n",
      "dtype: float64 \n",
      "\n",
      "The actual data series is:\n",
      "[-0.92858786 -0.04435106  0.42054341 -1.58382966]\n"
     ]
    }
   ],
   "metadata": {}
  },
  {
   "cell_type": "code",
   "execution_count": 72,
   "source": [
    "import pandas as pd\r\n",
    "import numpy as np\r\n",
    "\r\n",
    "#Create a series with 4 random numbers\r\n",
    "s = pd.Series(np.random.randn(4))\r\n",
    "print (\"The original series is:\")\r\n",
    "print(s,'\\n')\r\n",
    "\r\n",
    "print (\"The first two rows of the data series:\")\r\n",
    "print(s.head(2))"
   ],
   "outputs": [
    {
     "output_type": "stream",
     "name": "stdout",
     "text": [
      "The original series is:\n",
      "0   -1.931532\n",
      "1    0.055712\n",
      "2    0.821316\n",
      "3   -1.118863\n",
      "dtype: float64 \n",
      "\n",
      "The first two rows of the data series:\n",
      "0   -1.931532\n",
      "1    0.055712\n",
      "dtype: float64\n"
     ]
    }
   ],
   "metadata": {}
  },
  {
   "cell_type": "code",
   "execution_count": 74,
   "source": [
    "import pandas as pd\r\n",
    "import numpy as np\r\n",
    "\r\n",
    "#Create a series with 4 random numbers\r\n",
    "s = pd.Series(np.random.randn(4))\r\n",
    "print (\"The original series is:\")\r\n",
    "print(s,'\\n')\r\n",
    "\r\n",
    "print (\"The last two rows of the data series:\")\r\n",
    "print(s.tail(2))"
   ],
   "outputs": [
    {
     "output_type": "stream",
     "name": "stdout",
     "text": [
      "The original series is:\n",
      "0    0.076576\n",
      "1   -0.422421\n",
      "2    0.204938\n",
      "3    1.428690\n",
      "dtype: float64 \n",
      "\n",
      "The last two rows of the data series:\n",
      "2    0.204938\n",
      "3    1.428690\n",
      "dtype: float64\n"
     ]
    }
   ],
   "metadata": {}
  },
  {
   "cell_type": "code",
   "execution_count": null,
   "source": [
    "# DataFrame Basic Functionality\r\n",
    "\r\n",
    "1\t\r\n",
    "T\r\n",
    "\r\n",
    "Transposes rows and columns.\r\n",
    "\r\n",
    "2\t\r\n",
    "axes\r\n",
    "\r\n",
    "Returns a list with the row axis labels and column axis labels as the only members.\r\n",
    "\r\n",
    "3\t\r\n",
    "dtypes\r\n",
    "\r\n",
    "Returns the dtypes in this object.\r\n",
    "\r\n",
    "4\t\r\n",
    "empty\r\n",
    "\r\n",
    "True if NDFrame is entirely empty [no items]; if any of the axes are of length 0.\r\n",
    "\r\n",
    "5\t\r\n",
    "ndim\r\n",
    "\r\n",
    "Number of axes / array dimensions.\r\n",
    "\r\n",
    "6\t\r\n",
    "shape\r\n",
    "\r\n",
    "Returns a tuple representing the dimensionality of the DataFrame.\r\n",
    "\r\n",
    "7\t\r\n",
    "size\r\n",
    "\r\n",
    "Number of elements in the NDFrame.\r\n",
    "\r\n",
    "8\t\r\n",
    "values\r\n",
    "\r\n",
    "Numpy representation of NDFrame.\r\n",
    "\r\n",
    "9\t\r\n",
    "head()\r\n",
    "\r\n",
    "Returns the first n rows.\r\n",
    "\r\n",
    "10\t\r\n",
    "tail()\r\n",
    "\r\n",
    "Returns last n rows."
   ],
   "outputs": [],
   "metadata": {}
  },
  {
   "cell_type": "code",
   "execution_count": 75,
   "source": [
    "import pandas as pd\r\n",
    "import numpy as np\r\n",
    "\r\n",
    "#Create a Dictionary of series\r\n",
    "d = {'Name':pd.Series(['Tom','James','Ricky','Vin','Steve','Smith','Jack']),\r\n",
    "   'Age':pd.Series([25,26,25,23,30,29,23]),\r\n",
    "   'Rating':pd.Series([4.23,3.24,3.98,2.56,3.20,4.6,3.8])}\r\n",
    "\r\n",
    "#Create a DataFrame\r\n",
    "df = pd.DataFrame(d)\r\n",
    "print (\"Our data series is:\")\r\n",
    "print(df)"
   ],
   "outputs": [
    {
     "output_type": "stream",
     "name": "stdout",
     "text": [
      "Our data series is:\n",
      "    Name  Age  Rating\n",
      "0    Tom   25    4.23\n",
      "1  James   26    3.24\n",
      "2  Ricky   25    3.98\n",
      "3    Vin   23    2.56\n",
      "4  Steve   30    3.20\n",
      "5  Smith   29    4.60\n",
      "6   Jack   23    3.80\n"
     ]
    }
   ],
   "metadata": {}
  },
  {
   "cell_type": "code",
   "execution_count": 76,
   "source": [
    "import pandas as pd\r\n",
    "import numpy as np\r\n",
    " \r\n",
    "# Create a Dictionary of series\r\n",
    "d = {'Name':pd.Series(['Tom','James','Ricky','Vin','Steve','Smith','Jack']),\r\n",
    "   'Age':pd.Series([25,26,25,23,30,29,23]),\r\n",
    "   'Rating':pd.Series([4.23,3.24,3.98,2.56,3.20,4.6,3.8])}\r\n",
    "\r\n",
    "# Create a DataFrame\r\n",
    "df = pd.DataFrame(d)\r\n",
    "\r\n",
    "print (\"The transpose of the data series is:\")\r\n",
    "print(df.T)"
   ],
   "outputs": [
    {
     "output_type": "stream",
     "name": "stdout",
     "text": [
      "The transpose of the data series is:\n",
      "           0      1      2     3      4      5     6\n",
      "Name     Tom  James  Ricky   Vin  Steve  Smith  Jack\n",
      "Age       25     26     25    23     30     29    23\n",
      "Rating  4.23   3.24   3.98  2.56    3.2    4.6   3.8\n"
     ]
    }
   ],
   "metadata": {}
  },
  {
   "cell_type": "code",
   "execution_count": 77,
   "source": [
    "import pandas as pd\r\n",
    "import numpy as np\r\n",
    "\r\n",
    "#Create a Dictionary of series\r\n",
    "d = {'Name':pd.Series(['Tom','James','Ricky','Vin','Steve','Smith','Jack']),\r\n",
    "   'Age':pd.Series([25,26,25,23,30,29,23]),\r\n",
    "   'Rating':pd.Series([4.23,3.24,3.98,2.56,3.20,4.6,3.8])}\r\n",
    "\r\n",
    "#Create a DataFrame\r\n",
    "df = pd.DataFrame(d)\r\n",
    "\r\n",
    "print (\"Row axis labels and column axis labels are:\")\r\n",
    "print (df.axes)"
   ],
   "outputs": [
    {
     "output_type": "stream",
     "name": "stdout",
     "text": [
      "Row axis labels and column axis labels are:\n",
      "[RangeIndex(start=0, stop=7, step=1), Index(['Name', 'Age', 'Rating'], dtype='object')]\n"
     ]
    }
   ],
   "metadata": {}
  },
  {
   "cell_type": "code",
   "execution_count": 78,
   "source": [
    "import pandas as pd\r\n",
    "import numpy as np\r\n",
    "\r\n",
    "#Create a Dictionary of series\r\n",
    "d = {'Name':pd.Series(['Tom','James','Ricky','Vin','Steve','Smith','Jack']),\r\n",
    "   'Age':pd.Series([25,26,25,23,30,29,23]),\r\n",
    "   'Rating':pd.Series([4.23,3.24,3.98,2.56,3.20,4.6,3.8])}\r\n",
    "\r\n",
    "#Create a DataFrame\r\n",
    "df = pd.DataFrame(d)\r\n",
    "print (\"The data types of each column are:\")\r\n",
    "print(df.dtypes)"
   ],
   "outputs": [
    {
     "output_type": "stream",
     "name": "stdout",
     "text": [
      "The data types of each column are:\n",
      "Name       object\n",
      "Age         int64\n",
      "Rating    float64\n",
      "dtype: object\n"
     ]
    }
   ],
   "metadata": {}
  },
  {
   "cell_type": "code",
   "execution_count": 79,
   "source": [
    "import pandas as pd\r\n",
    "import numpy as np\r\n",
    " \r\n",
    "#Create a Dictionary of series\r\n",
    "d = {'Name':pd.Series(['Tom','James','Ricky','Vin','Steve','Smith','Jack']),\r\n",
    "   'Age':pd.Series([25,26,25,23,30,29,23]),\r\n",
    "   'Rating':pd.Series([4.23,3.24,3.98,2.56,3.20,4.6,3.8])}\r\n",
    " \r\n",
    "#Create a DataFrame\r\n",
    "df = pd.DataFrame(d)\r\n",
    "print (\"Is the object empty?\")\r\n",
    "print(df.empty)"
   ],
   "outputs": [
    {
     "output_type": "stream",
     "name": "stdout",
     "text": [
      "Is the object empty?\n",
      "False\n"
     ]
    }
   ],
   "metadata": {}
  },
  {
   "cell_type": "code",
   "execution_count": 80,
   "source": [
    "import pandas as pd\r\n",
    "import numpy as np\r\n",
    "\r\n",
    "#Create a Dictionary of series\r\n",
    "d = {'Name':pd.Series(['Tom','James','Ricky','Vin','Steve','Smith','Jack']),\r\n",
    "   'Age':pd.Series([25,26,25,23,30,29,23]),\r\n",
    "   'Rating':pd.Series([4.23,3.24,3.98,2.56,3.20,4.6,3.8])}\r\n",
    "\r\n",
    "#Create a DataFrame\r\n",
    "df = pd.DataFrame(d)\r\n",
    "print (\"Our object is:\")\r\n",
    "print(df,'\\n')\r\n",
    "\r\n",
    "print (\"The dimension of the object is:\")\r\n",
    "print(df.ndim)"
   ],
   "outputs": [
    {
     "output_type": "stream",
     "name": "stdout",
     "text": [
      "Our object is:\n",
      "    Name  Age  Rating\n",
      "0    Tom   25    4.23\n",
      "1  James   26    3.24\n",
      "2  Ricky   25    3.98\n",
      "3    Vin   23    2.56\n",
      "4  Steve   30    3.20\n",
      "5  Smith   29    4.60\n",
      "6   Jack   23    3.80 \n",
      "\n",
      "The dimension of the object is:\n",
      "2\n"
     ]
    }
   ],
   "metadata": {}
  },
  {
   "cell_type": "code",
   "execution_count": 81,
   "source": [
    "import pandas as pd\r\n",
    "import numpy as np\r\n",
    " \r\n",
    "#Create a Dictionary of series\r\n",
    "d = {'Name':pd.Series(['Tom','James','Ricky','Vin','Steve','Smith','Jack']),\r\n",
    "   'Age':pd.Series([25,26,25,23,30,29,23]),\r\n",
    "   'Rating':pd.Series([4.23,3.24,3.98,2.56,3.20,4.6,3.8])}\r\n",
    " \r\n",
    "#Create a DataFrame\r\n",
    "df = pd.DataFrame(d)\r\n",
    "print (\"Our object is:\")\r\n",
    "print(df,'\\n')\r\n",
    "\r\n",
    "print (\"The shape of the object is:\")\r\n",
    "print(df.shape) # return Tuple"
   ],
   "outputs": [
    {
     "output_type": "stream",
     "name": "stdout",
     "text": [
      "Our object is:\n",
      "    Name  Age  Rating\n",
      "0    Tom   25    4.23\n",
      "1  James   26    3.24\n",
      "2  Ricky   25    3.98\n",
      "3    Vin   23    2.56\n",
      "4  Steve   30    3.20\n",
      "5  Smith   29    4.60\n",
      "6   Jack   23    3.80 \n",
      "\n",
      "The shape of the object is:\n",
      "(7, 3)\n"
     ]
    }
   ],
   "metadata": {}
  },
  {
   "cell_type": "code",
   "execution_count": 82,
   "source": [
    "import pandas as pd\r\n",
    "import numpy as np\r\n",
    " \r\n",
    "#Create a Dictionary of series\r\n",
    "d = {'Name':pd.Series(['Tom','James','Ricky','Vin','Steve','Smith','Jack']),\r\n",
    "   'Age':pd.Series([25,26,25,23,30,29,23]),\r\n",
    "   'Rating':pd.Series([4.23,3.24,3.98,2.56,3.20,4.6,3.8])}\r\n",
    " \r\n",
    "#Create a DataFrame\r\n",
    "df = pd.DataFrame(d)\r\n",
    "print (\"Our object is:\")\r\n",
    "print(df,'\\n')\r\n",
    "\r\n",
    "print (\"The total number of elements in our object is:\")\r\n",
    "print(df.size) #7x3=21"
   ],
   "outputs": [
    {
     "output_type": "stream",
     "name": "stdout",
     "text": [
      "Our object is:\n",
      "    Name  Age  Rating\n",
      "0    Tom   25    4.23\n",
      "1  James   26    3.24\n",
      "2  Ricky   25    3.98\n",
      "3    Vin   23    2.56\n",
      "4  Steve   30    3.20\n",
      "5  Smith   29    4.60\n",
      "6   Jack   23    3.80 \n",
      "\n",
      "The total number of elements in our object is:\n",
      "21\n"
     ]
    }
   ],
   "metadata": {}
  },
  {
   "cell_type": "code",
   "execution_count": 83,
   "source": [
    "import pandas as pd\r\n",
    "import numpy as np\r\n",
    " \r\n",
    "#Create a Dictionary of series\r\n",
    "d = {'Name':pd.Series(['Tom','James','Ricky','Vin','Steve','Smith','Jack']),\r\n",
    "   'Age':pd.Series([25,26,25,23,30,29,23]),\r\n",
    "   'Rating':pd.Series([4.23,3.24,3.98,2.56,3.20,4.6,3.8])}\r\n",
    " \r\n",
    "#Create a DataFrame\r\n",
    "df = pd.DataFrame(d)\r\n",
    "print (\"Our object is:\")\r\n",
    "print(df,'\\n')\r\n",
    "\r\n",
    "print (\"The actual data in our data frame is:\")\r\n",
    "print(df.values)"
   ],
   "outputs": [
    {
     "output_type": "stream",
     "name": "stdout",
     "text": [
      "Our object is:\n",
      "    Name  Age  Rating\n",
      "0    Tom   25    4.23\n",
      "1  James   26    3.24\n",
      "2  Ricky   25    3.98\n",
      "3    Vin   23    2.56\n",
      "4  Steve   30    3.20\n",
      "5  Smith   29    4.60\n",
      "6   Jack   23    3.80 \n",
      "\n",
      "The actual data in our data frame is:\n",
      "[['Tom' 25 4.23]\n",
      " ['James' 26 3.24]\n",
      " ['Ricky' 25 3.98]\n",
      " ['Vin' 23 2.56]\n",
      " ['Steve' 30 3.2]\n",
      " ['Smith' 29 4.6]\n",
      " ['Jack' 23 3.8]]\n"
     ]
    }
   ],
   "metadata": {}
  },
  {
   "cell_type": "code",
   "execution_count": 85,
   "source": [
    "import pandas as pd\r\n",
    "import numpy as np\r\n",
    " \r\n",
    "#Create a Dictionary of series\r\n",
    "d = {'Name':pd.Series(['Tom','James','Ricky','Vin','Steve','Smith','Jack']),\r\n",
    "   'Age':pd.Series([25,26,25,23,30,29,23]),\r\n",
    "   'Rating':pd.Series([4.23,3.24,3.98,2.56,3.20,4.6,3.8])}\r\n",
    "\r\n",
    "#Create a DataFrame\r\n",
    "df = pd.DataFrame(d)\r\n",
    "print (\"Our data frame is:\")\r\n",
    "print(df,'\\n')\r\n",
    "print (\"The first two rows of the data frame is:\")\r\n",
    "print(df.head(2))"
   ],
   "outputs": [
    {
     "output_type": "stream",
     "name": "stdout",
     "text": [
      "Our data frame is:\n",
      "    Name  Age  Rating\n",
      "0    Tom   25    4.23\n",
      "1  James   26    3.24\n",
      "2  Ricky   25    3.98\n",
      "3    Vin   23    2.56\n",
      "4  Steve   30    3.20\n",
      "5  Smith   29    4.60\n",
      "6   Jack   23    3.80 \n",
      "\n",
      "The first two rows of the data frame is:\n",
      "    Name  Age  Rating\n",
      "0    Tom   25    4.23\n",
      "1  James   26    3.24\n"
     ]
    }
   ],
   "metadata": {}
  },
  {
   "cell_type": "code",
   "execution_count": 86,
   "source": [
    "import pandas as pd\r\n",
    "import numpy as np\r\n",
    "\r\n",
    "#Create a Dictionary of series\r\n",
    "d = {'Name':pd.Series(['Tom','James','Ricky','Vin','Steve','Smith','Jack']),\r\n",
    "   'Age':pd.Series([25,26,25,23,30,29,23]), \r\n",
    "   'Rating':pd.Series([4.23,3.24,3.98,2.56,3.20,4.6,3.8])}\r\n",
    " \r\n",
    "#Create a DataFrame\r\n",
    "df = pd.DataFrame(d)\r\n",
    "print (\"Our data frame is:\")\r\n",
    "print(df,'\\n')\r\n",
    "print (\"The last two rows of the data frame is:\")\r\n",
    "print(df.tail(2))"
   ],
   "outputs": [
    {
     "output_type": "stream",
     "name": "stdout",
     "text": [
      "Our data frame is:\n",
      "    Name  Age  Rating\n",
      "0    Tom   25    4.23\n",
      "1  James   26    3.24\n",
      "2  Ricky   25    3.98\n",
      "3    Vin   23    2.56\n",
      "4  Steve   30    3.20\n",
      "5  Smith   29    4.60\n",
      "6   Jack   23    3.80 \n",
      "\n",
      "The last two rows of the data frame is:\n",
      "    Name  Age  Rating\n",
      "5  Smith   29     4.6\n",
      "6   Jack   23     3.8\n"
     ]
    }
   ],
   "metadata": {}
  },
  {
   "cell_type": "code",
   "execution_count": null,
   "source": [
    "5/ Cleaning Data"
   ],
   "outputs": [],
   "metadata": {}
  },
  {
   "cell_type": "code",
   "execution_count": 100,
   "source": [
    "import pandas as pd\r\n",
    "\r\n",
    "df = pd.read_csv('dirtydata.csv')\r\n",
    "\r\n",
    "print(df.to_string())"
   ],
   "outputs": [
    {
     "output_type": "stream",
     "name": "stdout",
     "text": [
      "    Duration          Date  Pulse  Maxpulse  Calories\n",
      "0         60  '2020/12/01'    110       130     409.1\n",
      "1         60  '2020/12/02'    117       145     479.0\n",
      "2         60  '2020/12/03'    103       135     340.0\n",
      "3         45  '2020/12/04'    109       175     282.4\n",
      "4         45  '2020/12/05'    117       148     406.0\n",
      "5         60  '2020/12/06'    102       127     300.0\n",
      "6         60  '2020/12/07'    110       136     374.0\n",
      "7        450  '2020/12/08'    104       134     253.3\n",
      "8         30  '2020/12/09'    109       133     195.1\n",
      "9         60  '2020/12/10'     98       124     269.0\n",
      "10        60  '2020/12/11'    103       147     329.3\n",
      "11        60  '2020/12/12'    100       120     250.7\n",
      "12        60  '2020/12/12'    100       120     250.7\n",
      "13        60  '2020/12/13'    106       128     345.3\n",
      "14        60  '2020/12/14'    104       132     379.3\n",
      "15        60  '2020/12/15'     98       123     275.0\n",
      "16        60  '2020/12/16'     98       120     215.2\n",
      "17        60  '2020/12/17'    100       120     300.0\n",
      "18        45  '2020/12/18'     90       112       NaN\n",
      "19        60  '2020/12/19'    103       123     323.0\n",
      "20        45  '2020/12/20'     97       125     243.0\n",
      "21        60  '2020/12/21'    108       131     364.2\n",
      "22        45           NaN    100       119     282.0\n",
      "23        60  '2020/12/23'    130       101     300.0\n",
      "24        45  '2020/12/24'    105       132     246.0\n",
      "25        60  '2020/12/25'    102       126     334.5\n",
      "26        60      20201226    100       120     250.0\n",
      "27        60  '2020/12/27'     92       118     241.0\n",
      "28        60  '2020/12/28'    103       132       NaN\n",
      "29        60  '2020/12/29'    100       132     280.0\n",
      "30        60  '2020/12/30'    102       129     380.3\n",
      "31        60  '2020/12/31'     92       115     243.0\n"
     ]
    }
   ],
   "metadata": {}
  },
  {
   "cell_type": "code",
   "execution_count": 105,
   "source": [
    "# Cleaning Empty Cells\r\n",
    "\r\n",
    "import pandas as pd\r\n",
    "\r\n",
    "df = pd.read_csv('dirtydata.csv')\r\n",
    "\r\n",
    "# Xóa phần tử NaN trong DataFrame, không thay đổi DataFrame gốc mà tạo ra DataFrame mới\r\n",
    "new_df = df.dropna()\r\n",
    "\r\n",
    "print(new_df.to_string())"
   ],
   "outputs": [
    {
     "output_type": "stream",
     "name": "stdout",
     "text": [
      "    Duration          Date  Pulse  Maxpulse  Calories\n",
      "0         60  '2020/12/01'    110       130     409.1\n",
      "1         60  '2020/12/02'    117       145     479.0\n",
      "2         60  '2020/12/03'    103       135     340.0\n",
      "3         45  '2020/12/04'    109       175     282.4\n",
      "4         45  '2020/12/05'    117       148     406.0\n",
      "5         60  '2020/12/06'    102       127     300.0\n",
      "6         60  '2020/12/07'    110       136     374.0\n",
      "7        450  '2020/12/08'    104       134     253.3\n",
      "8         30  '2020/12/09'    109       133     195.1\n",
      "9         60  '2020/12/10'     98       124     269.0\n",
      "10        60  '2020/12/11'    103       147     329.3\n",
      "11        60  '2020/12/12'    100       120     250.7\n",
      "12        60  '2020/12/12'    100       120     250.7\n",
      "13        60  '2020/12/13'    106       128     345.3\n",
      "14        60  '2020/12/14'    104       132     379.3\n",
      "15        60  '2020/12/15'     98       123     275.0\n",
      "16        60  '2020/12/16'     98       120     215.2\n",
      "17        60  '2020/12/17'    100       120     300.0\n",
      "19        60  '2020/12/19'    103       123     323.0\n",
      "20        45  '2020/12/20'     97       125     243.0\n",
      "21        60  '2020/12/21'    108       131     364.2\n",
      "23        60  '2020/12/23'    130       101     300.0\n",
      "24        45  '2020/12/24'    105       132     246.0\n",
      "25        60  '2020/12/25'    102       126     334.5\n",
      "26        60      20201226    100       120     250.0\n",
      "27        60  '2020/12/27'     92       118     241.0\n",
      "29        60  '2020/12/29'    100       132     280.0\n",
      "30        60  '2020/12/30'    102       129     380.3\n",
      "31        60  '2020/12/31'     92       115     243.0\n"
     ]
    }
   ],
   "metadata": {}
  },
  {
   "cell_type": "code",
   "execution_count": 104,
   "source": [
    "# By default, the dropna() method returns a new DataFrame, and will not change the original.\r\n",
    "\r\n",
    "# If you want to change the original DataFrame, use the inplace = True argument\r\n",
    "\r\n",
    "import pandas as pd\r\n",
    "\r\n",
    "df = pd.read_csv('dirtydata.csv')\r\n",
    "\r\n",
    "# Xóa phần tử NaN trong DataFrame và thay đổi DataFrame gốc\r\n",
    "df.dropna(inplace = True)\r\n",
    "\r\n",
    "print(df.to_string())"
   ],
   "outputs": [
    {
     "output_type": "stream",
     "name": "stdout",
     "text": [
      "    Duration          Date  Pulse  Maxpulse  Calories\n",
      "0         60  '2020/12/01'    110       130     409.1\n",
      "1         60  '2020/12/02'    117       145     479.0\n",
      "2         60  '2020/12/03'    103       135     340.0\n",
      "3         45  '2020/12/04'    109       175     282.4\n",
      "4         45  '2020/12/05'    117       148     406.0\n",
      "5         60  '2020/12/06'    102       127     300.0\n",
      "6         60  '2020/12/07'    110       136     374.0\n",
      "7        450  '2020/12/08'    104       134     253.3\n",
      "8         30  '2020/12/09'    109       133     195.1\n",
      "9         60  '2020/12/10'     98       124     269.0\n",
      "10        60  '2020/12/11'    103       147     329.3\n",
      "11        60  '2020/12/12'    100       120     250.7\n",
      "12        60  '2020/12/12'    100       120     250.7\n",
      "13        60  '2020/12/13'    106       128     345.3\n",
      "14        60  '2020/12/14'    104       132     379.3\n",
      "15        60  '2020/12/15'     98       123     275.0\n",
      "16        60  '2020/12/16'     98       120     215.2\n",
      "17        60  '2020/12/17'    100       120     300.0\n",
      "19        60  '2020/12/19'    103       123     323.0\n",
      "20        45  '2020/12/20'     97       125     243.0\n",
      "21        60  '2020/12/21'    108       131     364.2\n",
      "23        60  '2020/12/23'    130       101     300.0\n",
      "24        45  '2020/12/24'    105       132     246.0\n",
      "25        60  '2020/12/25'    102       126     334.5\n",
      "26        60      20201226    100       120     250.0\n",
      "27        60  '2020/12/27'     92       118     241.0\n",
      "29        60  '2020/12/29'    100       132     280.0\n",
      "30        60  '2020/12/30'    102       129     380.3\n",
      "31        60  '2020/12/31'     92       115     243.0\n"
     ]
    }
   ],
   "metadata": {}
  },
  {
   "cell_type": "code",
   "execution_count": 106,
   "source": [
    "# Replace Empty Values\r\n",
    "# Replace NULL values with the number 130\r\n",
    "\r\n",
    "import pandas as pd\r\n",
    "\r\n",
    "df = pd.read_csv('dirtydata.csv')\r\n",
    "\r\n",
    "# Thay thế số 130 vào cac dữ liệu NaN trong DataFrame gốc\r\n",
    "df.fillna(130, inplace = True)\r\n",
    "\r\n",
    "print(df.to_string())"
   ],
   "outputs": [
    {
     "output_type": "stream",
     "name": "stdout",
     "text": [
      "    Duration          Date  Pulse  Maxpulse  Calories\n",
      "0         60  '2020/12/01'    110       130     409.1\n",
      "1         60  '2020/12/02'    117       145     479.0\n",
      "2         60  '2020/12/03'    103       135     340.0\n",
      "3         45  '2020/12/04'    109       175     282.4\n",
      "4         45  '2020/12/05'    117       148     406.0\n",
      "5         60  '2020/12/06'    102       127     300.0\n",
      "6         60  '2020/12/07'    110       136     374.0\n",
      "7        450  '2020/12/08'    104       134     253.3\n",
      "8         30  '2020/12/09'    109       133     195.1\n",
      "9         60  '2020/12/10'     98       124     269.0\n",
      "10        60  '2020/12/11'    103       147     329.3\n",
      "11        60  '2020/12/12'    100       120     250.7\n",
      "12        60  '2020/12/12'    100       120     250.7\n",
      "13        60  '2020/12/13'    106       128     345.3\n",
      "14        60  '2020/12/14'    104       132     379.3\n",
      "15        60  '2020/12/15'     98       123     275.0\n",
      "16        60  '2020/12/16'     98       120     215.2\n",
      "17        60  '2020/12/17'    100       120     300.0\n",
      "18        45  '2020/12/18'     90       112     130.0\n",
      "19        60  '2020/12/19'    103       123     323.0\n",
      "20        45  '2020/12/20'     97       125     243.0\n",
      "21        60  '2020/12/21'    108       131     364.2\n",
      "22        45           130    100       119     282.0\n",
      "23        60  '2020/12/23'    130       101     300.0\n",
      "24        45  '2020/12/24'    105       132     246.0\n",
      "25        60  '2020/12/25'    102       126     334.5\n",
      "26        60      20201226    100       120     250.0\n",
      "27        60  '2020/12/27'     92       118     241.0\n",
      "28        60  '2020/12/28'    103       132     130.0\n",
      "29        60  '2020/12/29'    100       132     280.0\n",
      "30        60  '2020/12/30'    102       129     380.3\n",
      "31        60  '2020/12/31'     92       115     243.0\n"
     ]
    }
   ],
   "metadata": {}
  },
  {
   "cell_type": "code",
   "execution_count": 107,
   "source": [
    "# Replace Only For a Specified Columns\r\n",
    "\r\n",
    "\r\n",
    "df = pd.read_csv('dirtydata.csv')\r\n",
    "\r\n",
    "# Thay thế số 130 vào cac dữ liệu NaN ở 1 cột nhất định trong DataFrame gốc\r\n",
    "df[\"Calories\"].fillna(130, inplace = True)\r\n",
    "print(df.to_string())"
   ],
   "outputs": [
    {
     "output_type": "stream",
     "name": "stdout",
     "text": [
      "    Duration          Date  Pulse  Maxpulse  Calories\n",
      "0         60  '2020/12/01'    110       130     409.1\n",
      "1         60  '2020/12/02'    117       145     479.0\n",
      "2         60  '2020/12/03'    103       135     340.0\n",
      "3         45  '2020/12/04'    109       175     282.4\n",
      "4         45  '2020/12/05'    117       148     406.0\n",
      "5         60  '2020/12/06'    102       127     300.0\n",
      "6         60  '2020/12/07'    110       136     374.0\n",
      "7        450  '2020/12/08'    104       134     253.3\n",
      "8         30  '2020/12/09'    109       133     195.1\n",
      "9         60  '2020/12/10'     98       124     269.0\n",
      "10        60  '2020/12/11'    103       147     329.3\n",
      "11        60  '2020/12/12'    100       120     250.7\n",
      "12        60  '2020/12/12'    100       120     250.7\n",
      "13        60  '2020/12/13'    106       128     345.3\n",
      "14        60  '2020/12/14'    104       132     379.3\n",
      "15        60  '2020/12/15'     98       123     275.0\n",
      "16        60  '2020/12/16'     98       120     215.2\n",
      "17        60  '2020/12/17'    100       120     300.0\n",
      "18        45  '2020/12/18'     90       112     130.0\n",
      "19        60  '2020/12/19'    103       123     323.0\n",
      "20        45  '2020/12/20'     97       125     243.0\n",
      "21        60  '2020/12/21'    108       131     364.2\n",
      "22        45           NaN    100       119     282.0\n",
      "23        60  '2020/12/23'    130       101     300.0\n",
      "24        45  '2020/12/24'    105       132     246.0\n",
      "25        60  '2020/12/25'    102       126     334.5\n",
      "26        60      20201226    100       120     250.0\n",
      "27        60  '2020/12/27'     92       118     241.0\n",
      "28        60  '2020/12/28'    103       132     130.0\n",
      "29        60  '2020/12/29'    100       132     280.0\n",
      "30        60  '2020/12/30'    102       129     380.3\n",
      "31        60  '2020/12/31'     92       115     243.0\n"
     ]
    }
   ],
   "metadata": {}
  },
  {
   "cell_type": "code",
   "execution_count": 113,
   "source": [
    "# Replace Using Mean, Median, or Mode\r\n",
    "\r\n",
    "import pandas as pd\r\n",
    "\r\n",
    "df = pd.read_csv('dirtydata.csv')\r\n",
    "\r\n",
    "x = df[\"Calories\"].mean()\r\n",
    "print('x = ',x,'\\n')\r\n",
    "\r\n",
    "\r\n",
    "df[\"Calories\"].fillna(x, inplace = True)\r\n",
    "\r\n",
    "print(df.to_string())"
   ],
   "outputs": [
    {
     "output_type": "stream",
     "name": "stdout",
     "text": [
      "x =  304.68 \n",
      "\n",
      "    Duration          Date  Pulse  Maxpulse  Calories\n",
      "0         60  '2020/12/01'    110       130    409.10\n",
      "1         60  '2020/12/02'    117       145    479.00\n",
      "2         60  '2020/12/03'    103       135    340.00\n",
      "3         45  '2020/12/04'    109       175    282.40\n",
      "4         45  '2020/12/05'    117       148    406.00\n",
      "5         60  '2020/12/06'    102       127    300.00\n",
      "6         60  '2020/12/07'    110       136    374.00\n",
      "7        450  '2020/12/08'    104       134    253.30\n",
      "8         30  '2020/12/09'    109       133    195.10\n",
      "9         60  '2020/12/10'     98       124    269.00\n",
      "10        60  '2020/12/11'    103       147    329.30\n",
      "11        60  '2020/12/12'    100       120    250.70\n",
      "12        60  '2020/12/12'    100       120    250.70\n",
      "13        60  '2020/12/13'    106       128    345.30\n",
      "14        60  '2020/12/14'    104       132    379.30\n",
      "15        60  '2020/12/15'     98       123    275.00\n",
      "16        60  '2020/12/16'     98       120    215.20\n",
      "17        60  '2020/12/17'    100       120    300.00\n",
      "18        45  '2020/12/18'     90       112    304.68\n",
      "19        60  '2020/12/19'    103       123    323.00\n",
      "20        45  '2020/12/20'     97       125    243.00\n",
      "21        60  '2020/12/21'    108       131    364.20\n",
      "22        45           NaN    100       119    282.00\n",
      "23        60  '2020/12/23'    130       101    300.00\n",
      "24        45  '2020/12/24'    105       132    246.00\n",
      "25        60  '2020/12/25'    102       126    334.50\n",
      "26        60      20201226    100       120    250.00\n",
      "27        60  '2020/12/27'     92       118    241.00\n",
      "28        60  '2020/12/28'    103       132    304.68\n",
      "29        60  '2020/12/29'    100       132    280.00\n",
      "30        60  '2020/12/30'    102       129    380.30\n",
      "31        60  '2020/12/31'     92       115    243.00\n"
     ]
    }
   ],
   "metadata": {}
  },
  {
   "cell_type": "code",
   "execution_count": 122,
   "source": [
    "import pandas as pd\r\n",
    "\r\n",
    "df = pd.read_csv('dirtydata.csv')\r\n",
    "\r\n",
    "x = df[\"Calories\"].median()\r\n",
    "print('x = ',x,'\\n')\r\n",
    "\r\n",
    "df[\"Calories\"].fillna(x, inplace = True)\r\n",
    "print(df.to_string())"
   ],
   "outputs": [
    {
     "output_type": "stream",
     "name": "stdout",
     "text": [
      "x =  291.2 \n",
      "\n",
      "    Duration          Date  Pulse  Maxpulse  Calories\n",
      "0         60  '2020/12/01'    110       130     409.1\n",
      "1         60  '2020/12/02'    117       145     479.0\n",
      "2         60  '2020/12/03'    103       135     340.0\n",
      "3         45  '2020/12/04'    109       175     282.4\n",
      "4         45  '2020/12/05'    117       148     406.0\n",
      "5         60  '2020/12/06'    102       127     300.0\n",
      "6         60  '2020/12/07'    110       136     374.0\n",
      "7        450  '2020/12/08'    104       134     253.3\n",
      "8         30  '2020/12/09'    109       133     195.1\n",
      "9         60  '2020/12/10'     98       124     269.0\n",
      "10        60  '2020/12/11'    103       147     329.3\n",
      "11        60  '2020/12/12'    100       120     250.7\n",
      "12        60  '2020/12/12'    100       120     250.7\n",
      "13        60  '2020/12/13'    106       128     345.3\n",
      "14        60  '2020/12/14'    104       132     379.3\n",
      "15        60  '2020/12/15'     98       123     275.0\n",
      "16        60  '2020/12/16'     98       120     215.2\n",
      "17        60  '2020/12/17'    100       120     300.0\n",
      "18        45  '2020/12/18'     90       112     291.2\n",
      "19        60  '2020/12/19'    103       123     323.0\n",
      "20        45  '2020/12/20'     97       125     243.0\n",
      "21        60  '2020/12/21'    108       131     364.2\n",
      "22        45           NaN    100       119     282.0\n",
      "23        60  '2020/12/23'    130       101     300.0\n",
      "24        45  '2020/12/24'    105       132     246.0\n",
      "25        60  '2020/12/25'    102       126     334.5\n",
      "26        60      20201226    100       120     250.0\n",
      "27        60  '2020/12/27'     92       118     241.0\n",
      "28        60  '2020/12/28'    103       132     291.2\n",
      "29        60  '2020/12/29'    100       132     280.0\n",
      "30        60  '2020/12/30'    102       129     380.3\n",
      "31        60  '2020/12/31'     92       115     243.0\n"
     ]
    }
   ],
   "metadata": {}
  },
  {
   "cell_type": "code",
   "execution_count": 121,
   "source": [
    "import pandas as pd\r\n",
    "\r\n",
    "df = pd.read_csv('dirtydata.csv')\r\n",
    "\r\n",
    "print('mode:\\n', df[\"Calories\"].mode(), '\\n')\r\n",
    "\r\n",
    "x = df[\"Calories\"].mode()[0]\r\n",
    "print('x = ',x,'\\n')\r\n",
    "\r\n",
    "df[\"Calories\"].fillna(x, inplace = True)\r\n",
    "print(df.to_string())"
   ],
   "outputs": [
    {
     "output_type": "stream",
     "name": "stdout",
     "text": [
      "mode:\n",
      " 0    300.0\n",
      "dtype: float64 \n",
      "\n",
      "x =  300.0 \n",
      "\n",
      "    Duration          Date  Pulse  Maxpulse  Calories\n",
      "0         60  '2020/12/01'    110       130     409.1\n",
      "1         60  '2020/12/02'    117       145     479.0\n",
      "2         60  '2020/12/03'    103       135     340.0\n",
      "3         45  '2020/12/04'    109       175     282.4\n",
      "4         45  '2020/12/05'    117       148     406.0\n",
      "5         60  '2020/12/06'    102       127     300.0\n",
      "6         60  '2020/12/07'    110       136     374.0\n",
      "7        450  '2020/12/08'    104       134     253.3\n",
      "8         30  '2020/12/09'    109       133     195.1\n",
      "9         60  '2020/12/10'     98       124     269.0\n",
      "10        60  '2020/12/11'    103       147     329.3\n",
      "11        60  '2020/12/12'    100       120     250.7\n",
      "12        60  '2020/12/12'    100       120     250.7\n",
      "13        60  '2020/12/13'    106       128     345.3\n",
      "14        60  '2020/12/14'    104       132     379.3\n",
      "15        60  '2020/12/15'     98       123     275.0\n",
      "16        60  '2020/12/16'     98       120     215.2\n",
      "17        60  '2020/12/17'    100       120     300.0\n",
      "18        45  '2020/12/18'     90       112     300.0\n",
      "19        60  '2020/12/19'    103       123     323.0\n",
      "20        45  '2020/12/20'     97       125     243.0\n",
      "21        60  '2020/12/21'    108       131     364.2\n",
      "22        45           NaN    100       119     282.0\n",
      "23        60  '2020/12/23'    130       101     300.0\n",
      "24        45  '2020/12/24'    105       132     246.0\n",
      "25        60  '2020/12/25'    102       126     334.5\n",
      "26        60      20201226    100       120     250.0\n",
      "27        60  '2020/12/27'     92       118     241.0\n",
      "28        60  '2020/12/28'    103       132     300.0\n",
      "29        60  '2020/12/29'    100       132     280.0\n",
      "30        60  '2020/12/30'    102       129     380.3\n",
      "31        60  '2020/12/31'     92       115     243.0\n"
     ]
    }
   ],
   "metadata": {}
  },
  {
   "cell_type": "code",
   "execution_count": 123,
   "source": [
    "# Cleaning Data of Wrong Format\r\n",
    "import pandas as pd\r\n",
    "\r\n",
    "df = pd.read_csv('dirtydata.csv')\r\n",
    "\r\n",
    "print(df.to_string())"
   ],
   "outputs": [
    {
     "output_type": "stream",
     "name": "stdout",
     "text": [
      "    Duration          Date  Pulse  Maxpulse  Calories\n",
      "0         60  '2020/12/01'    110       130     409.1\n",
      "1         60  '2020/12/02'    117       145     479.0\n",
      "2         60  '2020/12/03'    103       135     340.0\n",
      "3         45  '2020/12/04'    109       175     282.4\n",
      "4         45  '2020/12/05'    117       148     406.0\n",
      "5         60  '2020/12/06'    102       127     300.0\n",
      "6         60  '2020/12/07'    110       136     374.0\n",
      "7        450  '2020/12/08'    104       134     253.3\n",
      "8         30  '2020/12/09'    109       133     195.1\n",
      "9         60  '2020/12/10'     98       124     269.0\n",
      "10        60  '2020/12/11'    103       147     329.3\n",
      "11        60  '2020/12/12'    100       120     250.7\n",
      "12        60  '2020/12/12'    100       120     250.7\n",
      "13        60  '2020/12/13'    106       128     345.3\n",
      "14        60  '2020/12/14'    104       132     379.3\n",
      "15        60  '2020/12/15'     98       123     275.0\n",
      "16        60  '2020/12/16'     98       120     215.2\n",
      "17        60  '2020/12/17'    100       120     300.0\n",
      "18        45  '2020/12/18'     90       112       NaN\n",
      "19        60  '2020/12/19'    103       123     323.0\n",
      "20        45  '2020/12/20'     97       125     243.0\n",
      "21        60  '2020/12/21'    108       131     364.2\n",
      "22        45           NaN    100       119     282.0\n",
      "23        60  '2020/12/23'    130       101     300.0\n",
      "24        45  '2020/12/24'    105       132     246.0\n",
      "25        60  '2020/12/25'    102       126     334.5\n",
      "26        60      20201226    100       120     250.0\n",
      "27        60  '2020/12/27'     92       118     241.0\n",
      "28        60  '2020/12/28'    103       132       NaN\n",
      "29        60  '2020/12/29'    100       132     280.0\n",
      "30        60  '2020/12/30'    102       129     380.3\n",
      "31        60  '2020/12/31'     92       115     243.0\n"
     ]
    }
   ],
   "metadata": {}
  },
  {
   "cell_type": "code",
   "execution_count": 125,
   "source": [
    "# Convert Into a Correct Format\r\n",
    "\r\n",
    "import pandas as pd\r\n",
    "\r\n",
    "df = pd.read_csv('dirtydata.csv')\r\n",
    "\r\n",
    "# Kiểm tra các dữ liệu sai format ngày\r\n",
    "df['Date'] = pd.to_datetime(df['Date'])\r\n",
    "\r\n",
    "print(df.to_string())"
   ],
   "outputs": [
    {
     "output_type": "stream",
     "name": "stdout",
     "text": [
      "    Duration       Date  Pulse  Maxpulse  Calories\n",
      "0         60 2020-12-01    110       130     409.1\n",
      "1         60 2020-12-02    117       145     479.0\n",
      "2         60 2020-12-03    103       135     340.0\n",
      "3         45 2020-12-04    109       175     282.4\n",
      "4         45 2020-12-05    117       148     406.0\n",
      "5         60 2020-12-06    102       127     300.0\n",
      "6         60 2020-12-07    110       136     374.0\n",
      "7        450 2020-12-08    104       134     253.3\n",
      "8         30 2020-12-09    109       133     195.1\n",
      "9         60 2020-12-10     98       124     269.0\n",
      "10        60 2020-12-11    103       147     329.3\n",
      "11        60 2020-12-12    100       120     250.7\n",
      "12        60 2020-12-12    100       120     250.7\n",
      "13        60 2020-12-13    106       128     345.3\n",
      "14        60 2020-12-14    104       132     379.3\n",
      "15        60 2020-12-15     98       123     275.0\n",
      "16        60 2020-12-16     98       120     215.2\n",
      "17        60 2020-12-17    100       120     300.0\n",
      "18        45 2020-12-18     90       112       NaN\n",
      "19        60 2020-12-19    103       123     323.0\n",
      "20        45 2020-12-20     97       125     243.0\n",
      "21        60 2020-12-21    108       131     364.2\n",
      "22        45        NaT    100       119     282.0\n",
      "23        60 2020-12-23    130       101     300.0\n",
      "24        45 2020-12-24    105       132     246.0\n",
      "25        60 2020-12-25    102       126     334.5\n",
      "26        60 2020-12-26    100       120     250.0\n",
      "27        60 2020-12-27     92       118     241.0\n",
      "28        60 2020-12-28    103       132       NaN\n",
      "29        60 2020-12-29    100       132     280.0\n",
      "30        60 2020-12-30    102       129     380.3\n",
      "31        60 2020-12-31     92       115     243.0\n"
     ]
    }
   ],
   "metadata": {}
  },
  {
   "cell_type": "code",
   "execution_count": 127,
   "source": [
    "# Removing Rows\r\n",
    "\r\n",
    "import pandas as pd\r\n",
    "\r\n",
    "df = pd.read_csv('dirtydata.csv')\r\n",
    "\r\n",
    "df['Date'] = pd.to_datetime(df['Date'])\r\n",
    "\r\n",
    "# Xóa dòng có dữ liệu NaN\r\n",
    "df.dropna(subset=['Date'], inplace = True)\r\n",
    "\r\n",
    "print(df.to_string())"
   ],
   "outputs": [
    {
     "output_type": "stream",
     "name": "stdout",
     "text": [
      "    Duration       Date  Pulse  Maxpulse  Calories\n",
      "0         60 2020-12-01    110       130     409.1\n",
      "1         60 2020-12-02    117       145     479.0\n",
      "2         60 2020-12-03    103       135     340.0\n",
      "3         45 2020-12-04    109       175     282.4\n",
      "4         45 2020-12-05    117       148     406.0\n",
      "5         60 2020-12-06    102       127     300.0\n",
      "6         60 2020-12-07    110       136     374.0\n",
      "7        450 2020-12-08    104       134     253.3\n",
      "8         30 2020-12-09    109       133     195.1\n",
      "9         60 2020-12-10     98       124     269.0\n",
      "10        60 2020-12-11    103       147     329.3\n",
      "11        60 2020-12-12    100       120     250.7\n",
      "12        60 2020-12-12    100       120     250.7\n",
      "13        60 2020-12-13    106       128     345.3\n",
      "14        60 2020-12-14    104       132     379.3\n",
      "15        60 2020-12-15     98       123     275.0\n",
      "16        60 2020-12-16     98       120     215.2\n",
      "17        60 2020-12-17    100       120     300.0\n",
      "18        45 2020-12-18     90       112       NaN\n",
      "19        60 2020-12-19    103       123     323.0\n",
      "20        45 2020-12-20     97       125     243.0\n",
      "21        60 2020-12-21    108       131     364.2\n",
      "23        60 2020-12-23    130       101     300.0\n",
      "24        45 2020-12-24    105       132     246.0\n",
      "25        60 2020-12-25    102       126     334.5\n",
      "26        60 2020-12-26    100       120     250.0\n",
      "27        60 2020-12-27     92       118     241.0\n",
      "28        60 2020-12-28    103       132       NaN\n",
      "29        60 2020-12-29    100       132     280.0\n",
      "30        60 2020-12-30    102       129     380.3\n",
      "31        60 2020-12-31     92       115     243.0\n"
     ]
    }
   ],
   "metadata": {}
  },
  {
   "cell_type": "code",
   "execution_count": null,
   "source": [
    "# Fixing Wrong Data"
   ],
   "outputs": [],
   "metadata": {}
  },
  {
   "cell_type": "code",
   "execution_count": 2,
   "source": [
    "#  Replacing Values\r\n",
    "\r\n",
    "import pandas as pd\r\n",
    "\r\n",
    "df = pd.read_csv('dirtydata.csv')\r\n",
    "\r\n",
    "# Thay đổi data trong DataFrame bằng df.loc[Index,Column]\r\n",
    "df.loc[7,'Duration'] = 45\r\n",
    "\r\n",
    "print(df.to_string())"
   ],
   "outputs": [
    {
     "output_type": "stream",
     "name": "stdout",
     "text": [
      "    Duration          Date  Pulse  Maxpulse  Calories\n",
      "0         60  '2020/12/01'    110       130     409.1\n",
      "1         60  '2020/12/02'    117       145     479.0\n",
      "2         60  '2020/12/03'    103       135     340.0\n",
      "3         45  '2020/12/04'    109       175     282.4\n",
      "4         45  '2020/12/05'    117       148     406.0\n",
      "5         60  '2020/12/06'    102       127     300.0\n",
      "6         60  '2020/12/07'    110       136     374.0\n",
      "7         45  '2020/12/08'    104       134     253.3\n",
      "8         30  '2020/12/09'    109       133     195.1\n",
      "9         60  '2020/12/10'     98       124     269.0\n",
      "10        60  '2020/12/11'    103       147     329.3\n",
      "11        60  '2020/12/12'    100       120     250.7\n",
      "12        60  '2020/12/12'    100       120     250.7\n",
      "13        60  '2020/12/13'    106       128     345.3\n",
      "14        60  '2020/12/14'    104       132     379.3\n",
      "15        60  '2020/12/15'     98       123     275.0\n",
      "16        60  '2020/12/16'     98       120     215.2\n",
      "17        60  '2020/12/17'    100       120     300.0\n",
      "18        45  '2020/12/18'     90       112       NaN\n",
      "19        60  '2020/12/19'    103       123     323.0\n",
      "20        45  '2020/12/20'     97       125     243.0\n",
      "21        60  '2020/12/21'    108       131     364.2\n",
      "22        45           NaN    100       119     282.0\n",
      "23        60  '2020/12/23'    130       101     300.0\n",
      "24        45  '2020/12/24'    105       132     246.0\n",
      "25        60  '2020/12/25'    102       126     334.5\n",
      "26        60      20201226    100       120     250.0\n",
      "27        60  '2020/12/27'     92       118     241.0\n",
      "28        60  '2020/12/28'    103       132       NaN\n",
      "29        60  '2020/12/29'    100       132     280.0\n",
      "30        60  '2020/12/30'    102       129     380.3\n",
      "31        60  '2020/12/31'     92       115     243.0\n"
     ]
    }
   ],
   "metadata": {}
  },
  {
   "cell_type": "code",
   "execution_count": 3,
   "source": [
    "#  Replacing Values\r\n",
    "\r\n",
    "import pandas as pd\r\n",
    "\r\n",
    "df = pd.read_csv('dirtydata.csv')\r\n",
    "\r\n",
    "# Thay đổi data trong DataFrame bằng df.loc[Index,Column]\r\n",
    "for x in df.index:\r\n",
    "  if df.loc[x, \"Duration\"] > 120:\r\n",
    "    df.loc[x, \"Duration\"] = 120\r\n",
    "\r\n",
    "print(df.to_string())"
   ],
   "outputs": [
    {
     "output_type": "stream",
     "name": "stdout",
     "text": [
      "    Duration          Date  Pulse  Maxpulse  Calories\n",
      "0         60  '2020/12/01'    110       130     409.1\n",
      "1         60  '2020/12/02'    117       145     479.0\n",
      "2         60  '2020/12/03'    103       135     340.0\n",
      "3         45  '2020/12/04'    109       175     282.4\n",
      "4         45  '2020/12/05'    117       148     406.0\n",
      "5         60  '2020/12/06'    102       127     300.0\n",
      "6         60  '2020/12/07'    110       136     374.0\n",
      "7        120  '2020/12/08'    104       134     253.3\n",
      "8         30  '2020/12/09'    109       133     195.1\n",
      "9         60  '2020/12/10'     98       124     269.0\n",
      "10        60  '2020/12/11'    103       147     329.3\n",
      "11        60  '2020/12/12'    100       120     250.7\n",
      "12        60  '2020/12/12'    100       120     250.7\n",
      "13        60  '2020/12/13'    106       128     345.3\n",
      "14        60  '2020/12/14'    104       132     379.3\n",
      "15        60  '2020/12/15'     98       123     275.0\n",
      "16        60  '2020/12/16'     98       120     215.2\n",
      "17        60  '2020/12/17'    100       120     300.0\n",
      "18        45  '2020/12/18'     90       112       NaN\n",
      "19        60  '2020/12/19'    103       123     323.0\n",
      "20        45  '2020/12/20'     97       125     243.0\n",
      "21        60  '2020/12/21'    108       131     364.2\n",
      "22        45           NaN    100       119     282.0\n",
      "23        60  '2020/12/23'    130       101     300.0\n",
      "24        45  '2020/12/24'    105       132     246.0\n",
      "25        60  '2020/12/25'    102       126     334.5\n",
      "26        60      20201226    100       120     250.0\n",
      "27        60  '2020/12/27'     92       118     241.0\n",
      "28        60  '2020/12/28'    103       132       NaN\n",
      "29        60  '2020/12/29'    100       132     280.0\n",
      "30        60  '2020/12/30'    102       129     380.3\n",
      "31        60  '2020/12/31'     92       115     243.0\n"
     ]
    }
   ],
   "metadata": {}
  },
  {
   "cell_type": "code",
   "execution_count": 4,
   "source": [
    "# Removing Rows\r\n",
    "\r\n",
    "import pandas as pd\r\n",
    "\r\n",
    "df = pd.read_csv('dirtydata.csv')\r\n",
    "\r\n",
    "# Xóa data trong DataFrame bằng df.loc[Index,Column]\r\n",
    "for x in df.index:\r\n",
    "  if df.loc[x, \"Duration\"] > 120:\r\n",
    "    df.drop(x, inplace = True)\r\n",
    "\r\n",
    "#remember to include the 'inplace = True' argument to make the changes in the original\r\n",
    "# DataFrame object instead of returning a copy\r\n",
    "\r\n",
    "print(df.to_string())"
   ],
   "outputs": [
    {
     "output_type": "stream",
     "name": "stdout",
     "text": [
      "    Duration          Date  Pulse  Maxpulse  Calories\n",
      "0         60  '2020/12/01'    110       130     409.1\n",
      "1         60  '2020/12/02'    117       145     479.0\n",
      "2         60  '2020/12/03'    103       135     340.0\n",
      "3         45  '2020/12/04'    109       175     282.4\n",
      "4         45  '2020/12/05'    117       148     406.0\n",
      "5         60  '2020/12/06'    102       127     300.0\n",
      "6         60  '2020/12/07'    110       136     374.0\n",
      "8         30  '2020/12/09'    109       133     195.1\n",
      "9         60  '2020/12/10'     98       124     269.0\n",
      "10        60  '2020/12/11'    103       147     329.3\n",
      "11        60  '2020/12/12'    100       120     250.7\n",
      "12        60  '2020/12/12'    100       120     250.7\n",
      "13        60  '2020/12/13'    106       128     345.3\n",
      "14        60  '2020/12/14'    104       132     379.3\n",
      "15        60  '2020/12/15'     98       123     275.0\n",
      "16        60  '2020/12/16'     98       120     215.2\n",
      "17        60  '2020/12/17'    100       120     300.0\n",
      "18        45  '2020/12/18'     90       112       NaN\n",
      "19        60  '2020/12/19'    103       123     323.0\n",
      "20        45  '2020/12/20'     97       125     243.0\n",
      "21        60  '2020/12/21'    108       131     364.2\n",
      "22        45           NaN    100       119     282.0\n",
      "23        60  '2020/12/23'    130       101     300.0\n",
      "24        45  '2020/12/24'    105       132     246.0\n",
      "25        60  '2020/12/25'    102       126     334.5\n",
      "26        60      20201226    100       120     250.0\n",
      "27        60  '2020/12/27'     92       118     241.0\n",
      "28        60  '2020/12/28'    103       132       NaN\n",
      "29        60  '2020/12/29'    100       132     280.0\n",
      "30        60  '2020/12/30'    102       129     380.3\n",
      "31        60  '2020/12/31'     92       115     243.0\n"
     ]
    }
   ],
   "metadata": {}
  },
  {
   "cell_type": "code",
   "execution_count": 5,
   "source": [
    "# Removing Duplicates\r\n",
    "# Xóa phần tử trùng lặp\r\n",
    "import pandas as pd\r\n",
    "\r\n",
    "df = pd.read_csv('dirtydata.csv')\r\n",
    "\r\n",
    "print(df.duplicated())"
   ],
   "outputs": [
    {
     "output_type": "stream",
     "name": "stdout",
     "text": [
      "0     False\n",
      "1     False\n",
      "2     False\n",
      "3     False\n",
      "4     False\n",
      "5     False\n",
      "6     False\n",
      "7     False\n",
      "8     False\n",
      "9     False\n",
      "10    False\n",
      "11    False\n",
      "12     True\n",
      "13    False\n",
      "14    False\n",
      "15    False\n",
      "16    False\n",
      "17    False\n",
      "18    False\n",
      "19    False\n",
      "20    False\n",
      "21    False\n",
      "22    False\n",
      "23    False\n",
      "24    False\n",
      "25    False\n",
      "26    False\n",
      "27    False\n",
      "28    False\n",
      "29    False\n",
      "30    False\n",
      "31    False\n",
      "dtype: bool\n"
     ]
    }
   ],
   "metadata": {}
  },
  {
   "cell_type": "code",
   "execution_count": 6,
   "source": [
    "# Removing Duplicates\r\n",
    "# Xóa phần tử trùng lặp\r\n",
    "\r\n",
    "import pandas as pd\r\n",
    "\r\n",
    "df = pd.read_csv('dirtydata.csv')\r\n",
    "\r\n",
    "df.drop_duplicates(inplace = True)\r\n",
    "\r\n",
    "print(df.to_string())\r\n",
    "\r\n",
    "#Notice that row 12 has been removed from the result"
   ],
   "outputs": [
    {
     "output_type": "stream",
     "name": "stdout",
     "text": [
      "    Duration          Date  Pulse  Maxpulse  Calories\n",
      "0         60  '2020/12/01'    110       130     409.1\n",
      "1         60  '2020/12/02'    117       145     479.0\n",
      "2         60  '2020/12/03'    103       135     340.0\n",
      "3         45  '2020/12/04'    109       175     282.4\n",
      "4         45  '2020/12/05'    117       148     406.0\n",
      "5         60  '2020/12/06'    102       127     300.0\n",
      "6         60  '2020/12/07'    110       136     374.0\n",
      "7        450  '2020/12/08'    104       134     253.3\n",
      "8         30  '2020/12/09'    109       133     195.1\n",
      "9         60  '2020/12/10'     98       124     269.0\n",
      "10        60  '2020/12/11'    103       147     329.3\n",
      "11        60  '2020/12/12'    100       120     250.7\n",
      "13        60  '2020/12/13'    106       128     345.3\n",
      "14        60  '2020/12/14'    104       132     379.3\n",
      "15        60  '2020/12/15'     98       123     275.0\n",
      "16        60  '2020/12/16'     98       120     215.2\n",
      "17        60  '2020/12/17'    100       120     300.0\n",
      "18        45  '2020/12/18'     90       112       NaN\n",
      "19        60  '2020/12/19'    103       123     323.0\n",
      "20        45  '2020/12/20'     97       125     243.0\n",
      "21        60  '2020/12/21'    108       131     364.2\n",
      "22        45           NaN    100       119     282.0\n",
      "23        60  '2020/12/23'    130       101     300.0\n",
      "24        45  '2020/12/24'    105       132     246.0\n",
      "25        60  '2020/12/25'    102       126     334.5\n",
      "26        60      20201226    100       120     250.0\n",
      "27        60  '2020/12/27'     92       118     241.0\n",
      "28        60  '2020/12/28'    103       132       NaN\n",
      "29        60  '2020/12/29'    100       132     280.0\n",
      "30        60  '2020/12/30'    102       129     380.3\n",
      "31        60  '2020/12/31'     92       115     243.0\n"
     ]
    }
   ],
   "metadata": {}
  },
  {
   "cell_type": "code",
   "execution_count": null,
   "source": [
    "6/ Indexing and Selecting Data\r\n",
    "\r\n",
    "1\t\r\n",
    ".loc()\r\n",
    "\r\n",
    "Label based\r\n",
    "\r\n",
    "2\t\r\n",
    ".iloc()\r\n",
    "\r\n",
    "Integer based\r\n",
    "\r\n",
    "3\t\r\n",
    ".ix()\r\n",
    "\r\n",
    "Both Label and Integer based"
   ],
   "outputs": [],
   "metadata": {}
  },
  {
   "cell_type": "code",
   "execution_count": null,
   "source": [
    "# .loc(): label based indexing"
   ],
   "outputs": [],
   "metadata": {}
  },
  {
   "cell_type": "code",
   "execution_count": 9,
   "source": [
    "#import the pandas library and aliasing as pd\r\n",
    "\r\n",
    "import pandas as pd\r\n",
    "import numpy as np\r\n",
    "\r\n",
    "df = pd.DataFrame(np.random.randn(8, 4),\r\n",
    "index = ['a','b','c','d','e','f','g','h'], columns = ['A', 'B', 'C', 'D'])\r\n",
    "print(df,'\\n')\r\n",
    "\r\n",
    "#select all rows for a specific column\r\n",
    "print(df.loc[:,'A'])"
   ],
   "outputs": [
    {
     "output_type": "stream",
     "name": "stdout",
     "text": [
      "          A         B         C         D\n",
      "a  0.032231  1.710102 -0.406286 -0.650530\n",
      "b -0.337577 -0.130484  0.977382  0.420346\n",
      "c -0.382591  0.744892  0.407402  1.624658\n",
      "d -0.217156 -0.285992  0.274899  1.678557\n",
      "e  0.767351 -0.424662  1.130122  1.782794\n",
      "f -0.140787 -2.747578 -0.642055  0.138521\n",
      "g  1.760604 -0.995976 -0.430783 -1.291813\n",
      "h -1.480150 -0.524667  0.895698 -1.406757 \n",
      "\n",
      "a    0.032231\n",
      "b   -0.337577\n",
      "c   -0.382591\n",
      "d   -0.217156\n",
      "e    0.767351\n",
      "f   -0.140787\n",
      "g    1.760604\n",
      "h   -1.480150\n",
      "Name: A, dtype: float64\n"
     ]
    }
   ],
   "metadata": {}
  },
  {
   "cell_type": "code",
   "execution_count": 11,
   "source": [
    "# import the pandas library and aliasing as pd\r\n",
    "import pandas as pd\r\n",
    "import numpy as np\r\n",
    "\r\n",
    "df = pd.DataFrame(np.random.randn(8, 4),\r\n",
    "index = ['a','b','c','d','e','f','g','h'], columns = ['A', 'B', 'C', 'D'])\r\n",
    "\r\n",
    "# Select all rows for multiple columns, say list[]\r\n",
    "print(df.loc[:,['A','C']])"
   ],
   "outputs": [
    {
     "output_type": "stream",
     "name": "stdout",
     "text": [
      "          A         C\n",
      "a -0.551918  0.501344\n",
      "b -2.019342 -0.790119\n",
      "c  0.949906  0.059830\n",
      "d  0.606092  1.785582\n",
      "e -0.437256 -0.950217\n",
      "f -0.133019 -1.947222\n",
      "g -1.487098  0.451721\n",
      "h  1.120517  1.094196\n"
     ]
    }
   ],
   "metadata": {}
  },
  {
   "cell_type": "code",
   "execution_count": 12,
   "source": [
    "# import the pandas library and aliasing as pd\r\n",
    "import pandas as pd\r\n",
    "import numpy as np\r\n",
    "\r\n",
    "df = pd.DataFrame(np.random.randn(8, 4),\r\n",
    "index = ['a','b','c','d','e','f','g','h'], columns = ['A', 'B', 'C', 'D'])\r\n",
    "\r\n",
    "# Select few rows for multiple columns, say list[]\r\n",
    "print(df.loc[['a','b','f','h'],['A','C']])"
   ],
   "outputs": [
    {
     "output_type": "stream",
     "name": "stdout",
     "text": [
      "          A         C\n",
      "a  0.565323  0.800168\n",
      "b  0.504103  1.508043\n",
      "f  0.316088 -0.398542\n",
      "h  0.541532  1.701761\n"
     ]
    }
   ],
   "metadata": {}
  },
  {
   "cell_type": "code",
   "execution_count": 13,
   "source": [
    "# import the pandas library and aliasing as pd\r\n",
    "import pandas as pd\r\n",
    "import numpy as np\r\n",
    "\r\n",
    "df = pd.DataFrame(np.random.randn(8, 4),\r\n",
    "index = ['a','b','c','d','e','f','g','h'], columns = ['A', 'B', 'C', 'D'])\r\n",
    "\r\n",
    "# Select range of rows for all columns\r\n",
    "print(df.loc['a':'h'])"
   ],
   "outputs": [
    {
     "output_type": "stream",
     "name": "stdout",
     "text": [
      "          A         B         C         D\n",
      "a  2.497578  0.825511 -0.587332 -0.178170\n",
      "b -1.342875 -0.857534  1.785159 -0.465970\n",
      "c -1.969197 -0.167030  0.708493 -1.562567\n",
      "d  0.340464  0.111025  1.480593 -1.430299\n",
      "e -0.660346 -0.032477 -0.183358 -0.655903\n",
      "f -0.377353 -0.729481  0.711332 -0.055284\n",
      "g -0.720922  1.100704 -1.182920 -0.461156\n",
      "h -0.197030 -0.900985  0.255263  0.549995\n"
     ]
    }
   ],
   "metadata": {}
  },
  {
   "cell_type": "code",
   "execution_count": 14,
   "source": [
    "# import the pandas library and aliasing as pd\r\n",
    "import pandas as pd\r\n",
    "import numpy as np\r\n",
    "\r\n",
    "df = pd.DataFrame(np.random.randn(8, 4),\r\n",
    "index = ['a','b','c','d','e','f','g','h'], columns = ['A', 'B', 'C', 'D'])\r\n",
    "\r\n",
    "# for getting values with a boolean array\r\n",
    "print(df.loc['a']>0)"
   ],
   "outputs": [
    {
     "output_type": "stream",
     "name": "stdout",
     "text": [
      "A     True\n",
      "B     True\n",
      "C     True\n",
      "D    False\n",
      "Name: a, dtype: bool\n"
     ]
    }
   ],
   "metadata": {}
  },
  {
   "cell_type": "code",
   "execution_count": null,
   "source": [
    "# .iloc(): integer based indexing, these are 0-based indexing"
   ],
   "outputs": [],
   "metadata": {}
  },
  {
   "cell_type": "code",
   "execution_count": 15,
   "source": [
    "# import the pandas library and aliasing as pd\r\n",
    "import pandas as pd\r\n",
    "import numpy as np\r\n",
    "\r\n",
    "df = pd.DataFrame(np.random.randn(8, 4), columns = ['A', 'B', 'C', 'D'])\r\n",
    "print(df,'\\n')\r\n",
    "\r\n",
    "# select all rows for a specific column\r\n",
    "print(df.iloc[:4])"
   ],
   "outputs": [
    {
     "output_type": "stream",
     "name": "stdout",
     "text": [
      "          A         B         C         D\n",
      "0 -0.939346 -0.252489 -1.832530  0.060521\n",
      "1 -1.121791 -0.362748  0.498058  1.484209\n",
      "2  1.423854  0.724084 -0.427629  0.950003\n",
      "3  0.417283  1.035395 -0.246549  0.947020\n",
      "4 -0.195449  0.280885 -0.156800  0.680459\n",
      "5 -1.356460 -1.424382 -0.039830 -0.145787\n",
      "6  0.585280 -1.036071 -1.458345  0.983578\n",
      "7  1.558409  0.393291  0.708942  0.534535 \n",
      "\n",
      "          A         B         C         D\n",
      "0 -0.939346 -0.252489 -1.832530  0.060521\n",
      "1 -1.121791 -0.362748  0.498058  1.484209\n",
      "2  1.423854  0.724084 -0.427629  0.950003\n",
      "3  0.417283  1.035395 -0.246549  0.947020\n"
     ]
    }
   ],
   "metadata": {}
  },
  {
   "cell_type": "code",
   "execution_count": 17,
   "source": [
    "import pandas as pd\r\n",
    "import numpy as np\r\n",
    "\r\n",
    "df = pd.DataFrame(np.random.randn(8, 4), columns = ['A', 'B', 'C', 'D'])\r\n",
    "print(df,'\\n')\r\n",
    "\r\n",
    "# Integer slicing\r\n",
    "print(df.iloc[:4],'\\n')\r\n",
    "print(df.iloc[1:5, 2:4])"
   ],
   "outputs": [
    {
     "output_type": "stream",
     "name": "stdout",
     "text": [
      "          A         B         C         D\n",
      "0  0.508991 -0.631971  1.025921 -0.038671\n",
      "1  0.099156  1.405303 -0.162422  1.147993\n",
      "2 -0.057451 -0.942810  1.094889 -0.277557\n",
      "3  0.630625 -1.009889  0.539244  0.864265\n",
      "4  1.244823 -2.419058 -0.577245  0.860149\n",
      "5 -1.398748  0.878590 -0.034408  0.688193\n",
      "6 -0.267334  0.703084  1.787470 -0.443317\n",
      "7  0.886146  0.270984  0.576683  0.251206 \n",
      "\n",
      "          A         B         C         D\n",
      "0  0.508991 -0.631971  1.025921 -0.038671\n",
      "1  0.099156  1.405303 -0.162422  1.147993\n",
      "2 -0.057451 -0.942810  1.094889 -0.277557\n",
      "3  0.630625 -1.009889  0.539244  0.864265 \n",
      "\n",
      "          C         D\n",
      "1 -0.162422  1.147993\n",
      "2  1.094889 -0.277557\n",
      "3  0.539244  0.864265\n",
      "4 -0.577245  0.860149\n"
     ]
    }
   ],
   "metadata": {}
  },
  {
   "cell_type": "code",
   "execution_count": 18,
   "source": [
    "import pandas as pd\r\n",
    "import numpy as np\r\n",
    "\r\n",
    "df = pd.DataFrame(np.random.randn(8, 4), columns = ['A', 'B', 'C', 'D'])\r\n",
    "print(df,'\\n')\r\n",
    "\r\n",
    "# Slicing through list of values\r\n",
    "print(df.iloc[[1, 3, 5], [1, 3]])\r\n",
    "print(df.iloc[1:3, :])\r\n",
    "print(df.iloc[:,1:3])"
   ],
   "outputs": [
    {
     "output_type": "stream",
     "name": "stdout",
     "text": [
      "          A         B         C         D\n",
      "0 -0.149176 -1.329345  1.121042  0.414872\n",
      "1  0.601060 -0.864247 -2.463929  0.319565\n",
      "2 -1.442024 -0.364388  0.377850  0.507419\n",
      "3  0.077342 -0.643479 -1.137063 -0.969031\n",
      "4 -0.640421 -0.606384 -0.042350  0.557902\n",
      "5  1.121401 -1.394893 -1.653649 -0.773037\n",
      "6  0.460993  0.184617  0.034266  0.678286\n",
      "7  2.281418  0.707392  0.282101  1.243078 \n",
      "\n",
      "          B         D\n",
      "1 -0.864247  0.319565\n",
      "3 -0.643479 -0.969031\n",
      "5 -1.394893 -0.773037\n",
      "          A         B         C         D\n",
      "1  0.601060 -0.864247 -2.463929  0.319565\n",
      "2 -1.442024 -0.364388  0.377850  0.507419\n",
      "          B         C\n",
      "0 -1.329345  1.121042\n",
      "1 -0.864247 -2.463929\n",
      "2 -0.364388  0.377850\n",
      "3 -0.643479 -1.137063\n",
      "4 -0.606384 -0.042350\n",
      "5 -1.394893 -1.653649\n",
      "6  0.184617  0.034266\n",
      "7  0.707392  0.282101\n"
     ]
    }
   ],
   "metadata": {}
  },
  {
   "cell_type": "code",
   "execution_count": null,
   "source": [
    "# Use of Notations"
   ],
   "outputs": [],
   "metadata": {}
  },
  {
   "cell_type": "code",
   "execution_count": 22,
   "source": [
    "import pandas as pd\r\n",
    "import numpy as np\r\n",
    "df = pd.DataFrame(np.random.randn(8, 4), columns = ['A', 'B', 'C', 'D'])\r\n",
    "print (df['A'])"
   ],
   "outputs": [
    {
     "output_type": "stream",
     "name": "stdout",
     "text": [
      "0   -0.581518\n",
      "1    1.764346\n",
      "2   -2.308650\n",
      "3    0.769129\n",
      "4    0.454080\n",
      "5   -0.657494\n",
      "6    1.568915\n",
      "7    0.065339\n",
      "Name: A, dtype: float64\n"
     ]
    }
   ],
   "metadata": {}
  },
  {
   "cell_type": "code",
   "execution_count": 23,
   "source": [
    "import pandas as pd\r\n",
    "import numpy as np\r\n",
    "df = pd.DataFrame(np.random.randn(8, 4), columns = ['A', 'B', 'C', 'D'])\r\n",
    "\r\n",
    "print(df[['A','B']])"
   ],
   "outputs": [
    {
     "output_type": "stream",
     "name": "stdout",
     "text": [
      "          A         B\n",
      "0  0.985295 -0.514421\n",
      "1 -1.179744  0.122600\n",
      "2 -0.339312  1.440944\n",
      "3  0.588394  1.612601\n",
      "4 -1.331583  0.486467\n",
      "5 -0.639251 -1.951794\n",
      "6  0.799704  0.518397\n",
      "7 -0.878966 -0.617220\n"
     ]
    }
   ],
   "metadata": {}
  },
  {
   "cell_type": "code",
   "execution_count": 26,
   "source": [
    "import pandas as pd\r\n",
    "import numpy as np\r\n",
    "df = pd.DataFrame(np.random.randn(8, 4), columns = ['A', 'B', 'C', 'D'])\r\n",
    "print(df,'\\n')\r\n",
    "print(df[2:2])"
   ],
   "outputs": [
    {
     "output_type": "stream",
     "name": "stdout",
     "text": [
      "          A         B         C         D\n",
      "0  0.291608 -0.223714  0.682195 -0.647281\n",
      "1  1.400273  1.636412 -1.896388  0.233792\n",
      "2  1.292454 -0.782892 -1.565604 -0.307082\n",
      "3 -0.871762  0.296187  0.631208 -0.293285\n",
      "4 -0.408937 -0.471210  0.355362 -1.210751\n",
      "5 -0.379288 -1.473282 -0.060324  0.537872\n",
      "6 -1.965574  0.248621 -0.539540 -0.510608\n",
      "7  0.794595  0.016958 -0.636813  0.371178 \n",
      "\n",
      "Empty DataFrame\n",
      "Columns: [A, B, C, D]\n",
      "Index: []\n"
     ]
    }
   ],
   "metadata": {}
  },
  {
   "cell_type": "code",
   "execution_count": null,
   "source": [
    "# Attribute Access"
   ],
   "outputs": [],
   "metadata": {}
  },
  {
   "cell_type": "code",
   "execution_count": 25,
   "source": [
    "import pandas as pd\r\n",
    "import numpy as np\r\n",
    "df = pd.DataFrame(np.random.randn(8, 4), columns = ['A', 'B', 'C', 'D'])\r\n",
    "\r\n",
    "print(df.A)"
   ],
   "outputs": [
    {
     "output_type": "stream",
     "name": "stdout",
     "text": [
      "0    1.353991\n",
      "1   -1.069002\n",
      "2   -0.682564\n",
      "3    1.267252\n",
      "4    1.240276\n",
      "5   -0.418326\n",
      "6   -0.854795\n",
      "7   -1.003206\n",
      "Name: A, dtype: float64\n"
     ]
    }
   ],
   "metadata": {}
  }
 ],
 "metadata": {
  "kernelspec": {
   "name": "python3",
   "display_name": "Python 3.9.1 64-bit"
  },
  "language_info": {
   "codemirror_mode": {
    "name": "ipython",
    "version": 3
   },
   "file_extension": ".py",
   "mimetype": "text/x-python",
   "name": "python",
   "nbconvert_exporter": "python",
   "pygments_lexer": "ipython3",
   "version": "3.9.1"
  },
  "interpreter": {
   "hash": "8da01e5a71448ea74f54d88afa8911010d1d12e23bc7e103d40d5def4a09152c"
  }
 },
 "nbformat": 4,
 "nbformat_minor": 4
}
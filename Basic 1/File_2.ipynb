{
 "cells": [
  {
   "cell_type": "markdown",
   "metadata": {},
   "source": [
    "Hàm kiểm tra năm nhuận"
   ]
  },
  {
   "cell_type": "code",
   "execution_count": 8,
   "metadata": {},
   "outputs": [
    {
     "name": "stdout",
     "output_type": "stream",
     "text": [
      "2010 is common year.\n"
     ]
    }
   ],
   "source": [
    "def leapyear(y):\n",
    "    if y% 400 == 0 or (y% 4 ==0 and y%100 != 0):\n",
    "        return True\n",
    "    return False\n",
    "y = int(input('Year: '))\n",
    "if leapyear(y):\n",
    "    print(f'{y} is leap year.')\n",
    "else:\n",
    "    print(f'{y} is common year.')"
   ]
  },
  {
   "cell_type": "markdown",
   "metadata": {},
   "source": [
    "Viết hàm chuyển đổi năm dương sang âm lịch"
   ]
  },
  {
   "cell_type": "code",
   "execution_count": 9,
   "metadata": {},
   "outputs": [
    {
     "name": "stdout",
     "output_type": "stream",
     "text": [
      "<class 'tuple'>\n"
     ]
    }
   ],
   "source": [
    "can = ['Canh', 'Tân', 'Nhâm,', 'Quý', 'Giáp', 'Ất', 'Bính', 'Đinh','Mậu','Kỷ']\n",
    "chi = ['Thân', 'Dậu', 'Tuất', 'Hợi','Tí','Sửu','Dần', 'Mão', 'Thìn', 'Tị', 'Ngọ', 'Mùi']\n",
    "def moonyear(y):\n",
    "    for i in range(11):\n",
    "        for j in range(13):\n",
    "            if y % 10 == i and y % 12 == j :\n",
    "                return can[i], chi[j]\n",
    "y = int(input('Year: '))\n",
    "print(moonyear(y))"
   ]
  },
  {
   "cell_type": "markdown",
   "metadata": {},
   "source": [
    "Hàm kiểm tra số nguyên tố"
   ]
  },
  {
   "cell_type": "code",
   "execution_count": 10,
   "metadata": {},
   "outputs": [
    {
     "name": "stdout",
     "output_type": "stream",
     "text": [
      "9 is not prime number\n"
     ]
    }
   ],
   "source": [
    "def primenumber(n):\n",
    "    count = 0\n",
    "    for i in range(1,n+1):\n",
    "        if n%i == 0:\n",
    "            count += 1\n",
    "    if count == 2:\n",
    "        return True\n",
    "    return False\n",
    "\n",
    "n = int(input('Number: '))\n",
    "if primenumber(n):\n",
    "    print(f'{n} is prime number')\n",
    "else:\n",
    "    print(f'{n} is not prime number')"
   ]
  },
  {
   "cell_type": "markdown",
   "metadata": {},
   "source": [
    "Hàm kiểm tra số chính phương"
   ]
  },
  {
   "cell_type": "code",
   "execution_count": 7,
   "metadata": {},
   "outputs": [
    {
     "name": "stdout",
     "output_type": "stream",
     "text": [
      "16 is square number\n"
     ]
    }
   ],
   "source": [
    "def squarenumber(n):\n",
    "    check = False\n",
    "    for j in range(1,n+1):\n",
    "        if pow(j,2) == n:\n",
    "            check = True\n",
    "            break\n",
    "    if check == True:\n",
    "        return True\n",
    "\n",
    "n = int(input('Number: '))\n",
    "if squarenumber(n):\n",
    "    print(f'{n} is square number')\n",
    "else:\n",
    "    print(f'{n} is not square number')\n"
   ]
  },
  {
   "cell_type": "markdown",
   "metadata": {},
   "source": [
    "Hàm tính UCLN của 2 số"
   ]
  },
  {
   "cell_type": "code",
   "execution_count": 15,
   "metadata": {},
   "outputs": [
    {
     "name": "stdout",
     "output_type": "stream",
     "text": [
      "UCLN of 6 and 4 is 2\n"
     ]
    }
   ],
   "source": [
    "def ucln(a,b):\n",
    "    result = 0\n",
    "    for i in range(1,a+1):\n",
    "        if a % i == 0 and b % i == 0:\n",
    "            result = i\n",
    "    return result\n",
    "\n",
    "\n",
    "a= int(input('a: '))\n",
    "b= int(input('b: '))\n",
    "print(f'UCLN of {a} and {b} is {ucln(a,b)}')"
   ]
  },
  {
   "cell_type": "markdown",
   "metadata": {},
   "source": [
    "Viết hàm tính phương trình bậc 2:\n",
    "ax2 + bx + c = 0"
   ]
  },
  {
   "cell_type": "code",
   "execution_count": 9,
   "metadata": {},
   "outputs": [
    {
     "name": "stdout",
     "output_type": "stream",
     "text": [
      "Quadratic equation test: (11.0, 3.0)\n"
     ]
    }
   ],
   "source": [
    "import math\n",
    "def quadratic_equation(a, b, c):\n",
    "    delta = pow(b,2) - (4*a*c)\n",
    "    if a == 0:\n",
    "        if b == 0:\n",
    "            return False\n",
    "        elif b != 0:\n",
    "            x = (-c)/b\n",
    "    elif a != 0:\n",
    "        if delta == 0:\n",
    "            x_multi = (-b)/(2*a)\n",
    "            return x_multi\n",
    "        elif delta > 0:\n",
    "            x_1 = (-b + math.sqrt(delta))/(2*a)\n",
    "            x_2 = (-b - math.sqrt(delta))/(2*a)\n",
    "            return round(x_1,0), round(x_2,0)\n",
    "        elif delta < 0:\n",
    "            return False\n",
    "\n",
    "a= int(input('a: '))\n",
    "b= int(input('b: '))\n",
    "c= int(input('c: '))\n",
    "if quadratic_equation(a, b, c):\n",
    "    print(f'Quadratic equation test: {quadratic_equation(a, b, c)}')\n",
    "else:\n",
    "    print('The equation has no solution')\n",
    "\n",
    "\n",
    "    "
   ]
  },
  {
   "cell_type": "markdown",
   "metadata": {},
   "source": [
    "Hàm BMI"
   ]
  },
  {
   "cell_type": "code",
   "execution_count": 18,
   "metadata": {},
   "outputs": [
    {
     "name": "stdout",
     "output_type": "stream",
     "text": [
      "You are Fit\n"
     ]
    }
   ],
   "source": [
    "def bmi(w,h):\n",
    "    bmi = w/(pow(h/100,2))\n",
    "    if bmi <18.5:\n",
    "        result = 'Thinny'\n",
    "        return result\n",
    "    elif 18.5 <= bmi < 25:\n",
    "        result = 'Fit'\n",
    "        return result\n",
    "    elif 25<= bmi < 30:\n",
    "        result = 'Fat'\n",
    "        return result\n",
    "    else:\n",
    "        result = 'Obese '\n",
    "        return result\n",
    "w= int(input('Your weight (unit: kg): '))\n",
    "h= int(input('Your height (unit: cm): '))\n",
    "print(f'You are {bmi(w,h)}')"
   ]
  },
  {
   "cell_type": "markdown",
   "metadata": {},
   "source": [
    "Hàm tính S(n): 1+2+3+...+n"
   ]
  },
  {
   "cell_type": "code",
   "execution_count": 28,
   "metadata": {},
   "outputs": [
    {
     "name": "stdout",
     "output_type": "stream",
     "text": [
      "1 +2 +3 +4 +5 +6 +7 +8 +9 +10 +11 +12 +13 +14 +15 = 120\n"
     ]
    }
   ],
   "source": [
    "def sum_odd(n):\n",
    "    sum = 0\n",
    "    for i in range(1,n+1):\n",
    "        sum += i\n",
    "    return sum\n",
    "n= int(input('n: '))\n",
    "for i in range(1,n):\n",
    "    print(i, end=' + ') \n",
    "print(f'{n} = {sum_odd(n)}')\n"
   ]
  },
  {
   "cell_type": "markdown",
   "metadata": {},
   "source": [
    "Hàm tính S(n): 2+4+6+...+n"
   ]
  },
  {
   "cell_type": "code",
   "execution_count": 15,
   "metadata": {},
   "outputs": [
    {
     "name": "stdout",
     "output_type": "stream",
     "text": [
      "2 + 4 + 4 = 6\n"
     ]
    }
   ],
   "source": [
    "def sum_even(n):\n",
    "    sum = 0\n",
    "    for i in range(2,n+1,2):\n",
    "        sum += i\n",
    "    return sum\n",
    "n= int(input('n: '))\n",
    "if n %2 == 0:\n",
    "    a = n\n",
    "else:\n",
    "    a = n-1\n",
    "for i in range(2,n,2):\n",
    "    print(i, end=' + ') \n",
    "print(f'{a} = {sum_even(n)}')"
   ]
  },
  {
   "cell_type": "markdown",
   "metadata": {},
   "source": []
  },
  {
   "cell_type": "code",
   "execution_count": 28,
   "metadata": {},
   "outputs": [
    {
     "name": "stdout",
     "output_type": "stream",
     "text": [
      "# # # #     # \n",
      "# # # #   # # \n",
      "# #   # # # # \n",
      "#     # # # # \n",
      "None\n"
     ]
    }
   ],
   "source": [
    "def hinh_aa(h):\n",
    "    for i in range(1,n+1):\n",
    "        for j in range(1,2*n):\n",
    "            if j == 1 or j == 2*n-1 or j == n or i+j<=n+1 or i+j >= 2*n:\n",
    "                print('#', end=' ')\n",
    "            else:\n",
    "                print(' ', end=' ')\n",
    "        print()\n",
    "h = int(input('h= '))\n",
    "print(hinh_aa(h))\n",
    "                "
   ]
  },
  {
   "cell_type": "code",
   "execution_count": 2,
   "metadata": {},
   "outputs": [
    {
     "name": "stdout",
     "output_type": "stream",
     "text": [
      "#           # # # # # # # \n",
      "# #         # #         # \n",
      "#   #       #   #       # \n",
      "#     #     #     #     # \n",
      "#       #   #       #   # \n",
      "#         # #         # # \n",
      "# # # # # # #           # \n"
     ]
    }
   ],
   "source": [
    "def hinh_bb(n):\n",
    "    for i in range(1,n+1):\n",
    "        for j in range(1,2*n):\n",
    "            if j == 1 or j == 2*n-1 or j == n or i == j or j-i== n-1 or (i == 1 and j>=n) or (i == n and j<=n):\n",
    "                print('#', end=' ')\n",
    "            else:\n",
    "                print(' ', end=' ')\n",
    "        print()\n",
    "h = int(input('h= '))\n",
    "hinh_bb(h)"
   ]
  },
  {
   "cell_type": "code",
   "execution_count": 37,
   "metadata": {},
   "outputs": [
    {
     "name": "stdout",
     "output_type": "stream",
     "text": [
      "496 is the perfect number\n"
     ]
    }
   ],
   "source": [
    "def perfect_number(n):\n",
    "    sum = 0\n",
    "    for i in range(1,n):\n",
    "        if n % i == 0:\n",
    "            sum += i\n",
    "    if sum == n:\n",
    "        return True\n",
    "    return False\n",
    "\n",
    "n = int(input('n= '))\n",
    "if perfect_number(n):\n",
    "    print(f'{n} is the perfect number')\n",
    "else:\n",
    "   print(f'{n} is not the perfect number') \n"
   ]
  },
  {
   "cell_type": "code",
   "execution_count": 45,
   "metadata": {},
   "outputs": [
    {
     "name": "stdout",
     "output_type": "stream",
     "text": [
      "2 is not the abundant number\n"
     ]
    }
   ],
   "source": [
    "def abundant_number(n):\n",
    "    sum = 0\n",
    "    for i in range(1,n):\n",
    "        if n % i == 0:\n",
    "            sum += i\n",
    "    if sum > n:\n",
    "        return True\n",
    "    return False\n",
    "\n",
    "n = int(input('n= '))\n",
    "if abundant_number(n):\n",
    "    print(f'{n} is the abundant number')\n",
    "else:\n",
    "   print(f'{n} is not the abundant number') "
   ]
  },
  {
   "cell_type": "code",
   "execution_count": 48,
   "metadata": {},
   "outputs": [
    {
     "name": "stdout",
     "output_type": "stream",
     "text": [
      "Fibonacci of 40 is 102334155\n"
     ]
    }
   ],
   "source": [
    "def fibonacci(n):\n",
    "    if n < 0:\n",
    "        return -1\n",
    "    if n == 1 or n == 2:\n",
    "        return 1\n",
    "    else:\n",
    "        fibo = fibonacci(n-1)+fibonacci(n-2)\n",
    "    return fibo\n",
    "\n",
    "n = int(input('n= '))\n",
    "print(f'Fibonacci of {n} is {fibonacci(n)}')"
   ]
  }
 ],
 "metadata": {
  "kernelspec": {
   "display_name": "Python 3.9.1 64-bit",
   "language": "python",
   "name": "python3"
  },
  "language_info": {
   "codemirror_mode": {
    "name": "ipython",
    "version": 3
   },
   "file_extension": ".py",
   "mimetype": "text/x-python",
   "name": "python",
   "nbconvert_exporter": "python",
   "pygments_lexer": "ipython3",
   "version": "3.9.1"
  },
  "orig_nbformat": 4,
  "vscode": {
   "interpreter": {
    "hash": "14958d3aee5f1cad06795f787e54b96185c25fb40dfec723a5be941f3a531b8c"
   }
  }
 },
 "nbformat": 4,
 "nbformat_minor": 2
}

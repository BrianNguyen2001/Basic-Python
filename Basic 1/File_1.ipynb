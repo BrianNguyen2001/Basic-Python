{
 "cells": [
  {
   "cell_type": "code",
   "execution_count": 4,
   "metadata": {},
   "outputs": [
    {
     "name": "stdout",
     "output_type": "stream",
     "text": [
      "Welcome to the birthday dictionary. We know the birthdays of:\n",
      "Albert Einstein\n",
      "Bill Gates\n",
      "Steve Jobs\n",
      "Albert Einstein birthday is 06/10/1964\n"
     ]
    }
   ],
   "source": [
    "birth_years = {\r\n",
    "    'Albert Einstein': '06/10/1964',\r\n",
    "    'Bill Gates'     : '10/05/1950',\r\n",
    "    'Steve Jobs'     : '28/10/1955'\r\n",
    "    }\r\n",
    "print('Welcome to the birthday dictionary. We know the birthdays of:')\r\n",
    "for key in birth_years:\r\n",
    "    print(key)\r\n",
    "name = input('Who is birthday do you want to look up? ')\r\n",
    "print(f'{name} birthday is {birth_years[name]}')"
   ]
  },
  {
   "cell_type": "code",
   "execution_count": 9,
   "metadata": {},
   "outputs": [
    {
     "data": {
      "text/plain": [
       "[2, 10]"
      ]
     },
     "execution_count": 9,
     "metadata": {},
     "output_type": "execute_result"
    }
   ],
   "source": [
    "lst = [2, 4, 6, 8, 10]\r\n",
    "new_lst = []\r\n",
    "new_lst.append(lst[0])\r\n",
    "new_lst.append(lst[-1])\r\n",
    "new_lst"
   ]
  },
  {
   "cell_type": "code",
   "execution_count": 11,
   "metadata": {},
   "outputs": [
    {
     "name": "stdout",
     "output_type": "stream",
     "text": [
      "[1, 3, 9]\n"
     ]
    }
   ],
   "source": [
    "def uoc(n):\r\n",
    "    uoc = []\r\n",
    "    for i in range(1,n+1):\r\n",
    "        if n%i == 0:\r\n",
    "            uoc.append(i)\r\n",
    "    return uoc\r\n",
    "n = int(input('N= '))\r\n",
    "print(uoc(n))\r\n"
   ]
  },
  {
   "cell_type": "markdown",
   "metadata": {},
   "source": [
    "êu cầu người dùng cung cấp một chuỗi và cho biết đó có phải một palindrome không (palindrome là một chuỗi có thể được viết xuôi hay viết ngược vẫn chỉ cho ra chính nó)."
   ]
  },
  {
   "cell_type": "code",
   "execution_count": 71,
   "metadata": {},
   "outputs": [
    {
     "name": "stdout",
     "output_type": "stream",
     "text": [
      "madhm không là chuỗi đảo ngược\n"
     ]
    }
   ],
   "source": [
    "s = 'madhm'\r\n",
    "def abc(s):\r\n",
    "    s_s= s[::-1]\r\n",
    "    if s == s_s:\r\n",
    "        return True\r\n",
    "    return False\r\n",
    "\r\n",
    "abc(s)\r\n",
    "\r\n",
    "if abc(s):\r\n",
    "    print(f'{s} là chuỗi đảo ngược')\r\n",
    "else:\r\n",
    "    print(f'{s} không là chuỗi đảo ngược')\r\n",
    "\r\n",
    "\r\n",
    "\r\n"
   ]
  },
  {
   "cell_type": "markdown",
   "metadata": {},
   "source": [
    "Viết một chương trình in ra tất cả các phần tử có giá trị số người dụng nhập khác (số X), chương trình có thể trả lại một list mới có chứa các phần tử nhỏ hơn X từ list a ban đầu."
   ]
  },
  {
   "cell_type": "code",
   "execution_count": 21,
   "metadata": {},
   "outputs": [
    {
     "name": "stdout",
     "output_type": "stream",
     "text": [
      " List số nhỏ hơn 8 tỏng list đã cho trước: [1, 1, 2, 3, 5]\n"
     ]
    }
   ],
   "source": [
    "def less(n):\r\n",
    "    a = [1, 1, 2, 3, 5, 9, 12, 23, 35, 56, 88]\r\n",
    "    b = []\r\n",
    "    for i in a:\r\n",
    "        if i < n:\r\n",
    "            b.append(i)\r\n",
    "    return b\r\n",
    "\r\n",
    "n = int(input('N= '))\r\n",
    "print(f' List số nhỏ hơn {n} trong list đã cho trước: {less(n)}')\r\n",
    "\r\n"
   ]
  },
  {
   "cell_type": "markdown",
   "metadata": {},
   "source": [
    "Viết chương trình cho ra một list chỉ chứa những phần tử chung giữa các list đã cho (không được trùng nhau). Đảm bảo rằng chương trình có thể hoạt động trên hai lists có kích thước khác nhau. Bạn cần sử dụng ít nhất một List Comprehension (List Comprehension là cách viết code ngắn gọn để tạo một danh sách phức tạp)."
   ]
  },
  {
   "cell_type": "code",
   "execution_count": 3,
   "metadata": {},
   "outputs": [
    {
     "name": "stdout",
     "output_type": "stream",
     "text": [
      "[11, 22, 16, 9, 11, 2, 1, 11, 25, 5, 2, 3, 9, 28, 9]\n",
      "[11, 9, 22, 23, 25, 24, 7, 7, 19, 14, 30, 13, 26, 17, 29]\n",
      "[11, 22, 9, 25]\n"
     ]
    }
   ],
   "source": [
    "import random\r\n",
    "a = [0]*15\r\n",
    "b = [0]*15\r\n",
    "c = []\r\n",
    "d = []\r\n",
    "for i in range(15):\r\n",
    "    a[i] = random.randint(1,30)\r\n",
    "for j in range(15):\r\n",
    "    b[j] = random.randint(1,30)\r\n",
    "print(a)\r\n",
    "print(b)\r\n",
    "for x in a: \r\n",
    "    if x in b:\r\n",
    "        c.append(x)\r\n",
    "for y in c:\r\n",
    "    if y not in d:\r\n",
    "        d.append(y)\r\n",
    "if d == []:\r\n",
    "    print('Không có phần tử trùng lắp')\r\n",
    "else:\r\n",
    "    print(d)\r\n"
   ]
  },
  {
   "cell_type": "markdown",
   "metadata": {},
   "source": [
    "Viết chương trình hỏi người dùng cần tạo bao nhiêu số trong dãy Fibonacci và tạo chúng. Chuỗi Fibonacci là một dãy số trong đó số tiếp theo trong dãy là tổng của hai số trước đó. Ví dụ của một chuỗi Fibonacci như sau: 1, 1, 2, 3, 5, 8, 13,…\r\n"
   ]
  },
  {
   "cell_type": "code",
   "execution_count": 5,
   "metadata": {},
   "outputs": [
    {
     "name": "stdout",
     "output_type": "stream",
     "text": [
      "9227465\n"
     ]
    }
   ],
   "source": [
    "def fibonacci(n):\r\n",
    "    if (n < 0):\r\n",
    "        return -1\r\n",
    "    elif (n == 0 or n == 1):\r\n",
    "        return n\r\n",
    "    else:\r\n",
    "        return fibonacci(n - 1) + fibonacci(n - 2)\r\n",
    "\r\n",
    "n = 35\r\n",
    "print(fibonacci(n))"
   ]
  },
  {
   "cell_type": "markdown",
   "metadata": {},
   "source": [
    "Tạo trò chơi “Cows and Bulls” với cách thức hoạt động như sau:\r\n",
    "Tạo ngẫu nhiên một con số có 4 chữ số. Yêu cầu người chơi đoán con số đó.\r\n",
    "Khi người chơi đoán đúng một chữ số nào đó ở đúng vị trí, họ sẽ có một “Cow”. Với mỗi chữ số sai, họ sẽ có một “Bull”. \r\n",
    "Mỗi khi người dùng đưa ra phỏng đoán, hãy cho họ biết họ có bao nhiêu “Cows” và “Bulls”. Khi người dùng đoán đúng số, trò chơi kết thúc. Theo dõi số lần đoán mà người dùng thực hiện trong suốt trò chơi và họ biết khi kết thúc."
   ]
  },
  {
   "cell_type": "code",
   "execution_count": 14,
   "metadata": {},
   "outputs": [
    {
     "name": "stdout",
     "output_type": "stream",
     "text": [
      "['1', '2', '3', '4']\n",
      "Welcome to the Cows and Bulls Game! \n",
      "['1', '2', '3', '5']\n",
      "True\n"
     ]
    }
   ],
   "source": [
    "import random\r\n",
    "# computer_choice = random.randint(1000, 9999)\r\n",
    "computer_choice = 1234\r\n",
    "computer_choice_lst = []\r\n",
    "user_input_lst = []\r\n",
    "cows = 0\r\n",
    "bulls = 0\r\n",
    "check = True\r\n",
    "\r\n",
    "\r\n",
    "for i in str(computer_choice):\r\n",
    "    computer_choice_lst.append(i)\r\n",
    "print(computer_choice_lst)\r\n",
    "\r\n",
    "\r\n",
    "print('Welcome to the Cows and Bulls Game! ')\r\n",
    "# while check:\r\n",
    "# user_input = int(input('Enter a number:'))\r\n",
    "user_input = 1235\r\n",
    "for j in str(user_input):\r\n",
    "    user_input_lst.append(j)\r\n",
    "print(user_input_lst)\r\n",
    "if user_input_lst[:] == computer_choice_lst[:]:\r\n",
    "    check = False \r\n",
    "elif user_input_lst[1] == computer_choice_lst[1]:\r\n",
    "    print('One cow, 3 bulls')\r\n",
    "\r\n",
    "\r\n"
   ]
  }
 ],
 "metadata": {
  "interpreter": {
   "hash": "8da01e5a71448ea74f54d88afa8911010d1d12e23bc7e103d40d5def4a09152c"
  },
  "kernelspec": {
   "display_name": "Python 3.9.1 64-bit",
   "name": "python3"
  },
  "language_info": {
   "codemirror_mode": {
    "name": "ipython",
    "version": 3
   },
   "file_extension": ".py",
   "mimetype": "text/x-python",
   "name": "python",
   "nbconvert_exporter": "python",
   "pygments_lexer": "ipython3",
   "version": "3.9.1"
  },
  "orig_nbformat": 4
 },
 "nbformat": 4,
 "nbformat_minor": 2
}
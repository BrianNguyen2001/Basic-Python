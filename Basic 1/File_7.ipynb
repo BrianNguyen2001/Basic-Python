{
 "cells": [
  {
   "cell_type": "markdown",
   "source": [
    "***Introduc Python***"
   ],
   "metadata": {}
  },
  {
   "cell_type": "code",
   "execution_count": 5,
   "source": [
    "# FORMAT\r\n",
    "print(('#'*13))\r\n",
    "print('{0:<2} {1:<9}'.format(1, pow(10,8)))\r\n",
    "print('{0:<2} {1:<9}'.format(2, pow(10,7)))\r\n",
    "print('{0:<2} {1:<9}'.format(3, pow(10,6)))\r\n",
    "print('{0:<2} {1:<9}'.format(4, pow(10,5)))\r\n",
    "print(('#'*13))\r\n"
   ],
   "outputs": [
    {
     "output_type": "stream",
     "name": "stdout",
     "text": [
      "#############\n",
      "1  100000000\n",
      "2  10000000 \n",
      "3  1000000  \n",
      "4  100000   \n",
      "#############\n"
     ]
    }
   ],
   "metadata": {}
  },
  {
   "cell_type": "code",
   "execution_count": 7,
   "source": [
    "# FORMAT\r\n",
    "print(('#'*13))\r\n",
    "print('{0:>2} {1:>9}'.format(1, pow(10,8)))\r\n",
    "print('{0:>2} {1:>9}'.format(2, pow(10,7)))\r\n",
    "print('{0:>2} {1:>9}'.format(3, pow(10,6)))\r\n",
    "print('{0:>2} {1:>9}'.format(4, pow(10,5)))\r\n",
    "print(('#'*13))\r\n"
   ],
   "outputs": [
    {
     "output_type": "stream",
     "name": "stdout",
     "text": [
      "#############\n",
      " 1 100000000\n",
      " 2  10000000\n",
      " 3   1000000\n",
      " 4    100000\n",
      "#############\n"
     ]
    }
   ],
   "metadata": {}
  },
  {
   "cell_type": "code",
   "execution_count": 9,
   "source": [
    "try:\r\n",
    "    a = int(input('A= '))\r\n",
    "    b = int(input('B= '))\r\n",
    "    c = a/b\r\n",
    "    print(f'C= {c}')\r\n",
    "except:\r\n",
    "    print('Khong thuc thi')\r\n",
    "\r\n"
   ],
   "outputs": [
    {
     "output_type": "stream",
     "name": "stdout",
     "text": [
      "Khong thuc thi\n"
     ]
    }
   ],
   "metadata": {}
  },
  {
   "cell_type": "code",
   "execution_count": 11,
   "source": [
    "a = int(input('A= '))\r\n",
    "b = int(input('B= '))\r\n",
    "if b == 0:\r\n",
    "    print('Khong thuc thi')\r\n",
    "else:\r\n",
    "    c = a/b\r\n",
    "    print(f'C= {c}')"
   ],
   "outputs": [
    {
     "output_type": "stream",
     "name": "stdout",
     "text": [
      "Khong thuc thi\n"
     ]
    }
   ],
   "metadata": {}
  },
  {
   "cell_type": "markdown",
   "source": [
    "***Loop Condition***\r\n"
   ],
   "metadata": {}
  },
  {
   "cell_type": "code",
   "execution_count": 15,
   "source": [
    "sum = 0\r\n",
    "for i in range(1,24,2):\r\n",
    "    if i == 5 or i == 11:\r\n",
    "        continue\r\n",
    "    sum += i\r\n",
    "print(sum)"
   ],
   "outputs": [
    {
     "output_type": "stream",
     "name": "stdout",
     "text": [
      "128\n"
     ]
    }
   ],
   "metadata": {}
  },
  {
   "cell_type": "code",
   "execution_count": 18,
   "source": [
    "i = 1\r\n",
    "while i < 8:\r\n",
    "    print(i, end=' ')\r\n",
    "    i += 1\r\n",
    "else:\r\n",
    "    print('\\ni is no longer less than 8')\r\n"
   ],
   "outputs": [
    {
     "output_type": "stream",
     "name": "stdout",
     "text": [
      "1 2 3 4 5 6 7 \n",
      "i is no longer less than 8\n"
     ]
    }
   ],
   "metadata": {}
  },
  {
   "cell_type": "code",
   "execution_count": 51,
   "source": [
    "n = 4\r\n",
    "def hinh1(n):\r\n",
    "    for i in range(1, n+1):\r\n",
    "        for j in range(1, n+1):\r\n",
    "            if j == 1 or i == n or i==j:\r\n",
    "                print('.', end = ' ')\r\n",
    "            else:\r\n",
    "                print(' ', end= ' ')\r\n",
    "        print()\r\n",
    "hinh1(n)\r\n",
    "print('-'*10)\r\n",
    "def hinh2(n):\r\n",
    "    for i in range(1, n+1):\r\n",
    "        for j in range(1, n+1):\r\n",
    "            if j == 1 or i == n or i>=j:\r\n",
    "                print('.', end= ' ')\r\n",
    "            else:\r\n",
    "                print(' ', end= ' ')\r\n",
    "        print()\r\n",
    "hinh2(n)\r\n",
    "print('-'*10)\r\n",
    "def hinh3(n):\r\n",
    "    for i in range(1, n+1):\r\n",
    "        for j in range(1, n+1):\r\n",
    "            if j == 1 or i == 1 or i+j==n+1:\r\n",
    "                print('.', end= ' ')\r\n",
    "            else:\r\n",
    "                print(' ', end= ' ')\r\n",
    "        print()\r\n",
    "hinh3(n)\r\n",
    "print('-'*10)\r\n",
    "def hinh4(n):\r\n",
    "    for i in range(1, n+1):\r\n",
    "        for j in range(1, n+1):\r\n",
    "            if j == 1 or i == 1 or i+j<=n+1:\r\n",
    "                print('.', end= ' ')\r\n",
    "            else:\r\n",
    "                print(' ', end= ' ')\r\n",
    "        print()\r\n",
    "hinh4(n)"
   ],
   "outputs": [
    {
     "output_type": "stream",
     "name": "stdout",
     "text": [
      ".       \n",
      ". .     \n",
      ".   .   \n",
      ". . . . \n",
      "----------\n",
      ".       \n",
      ". .     \n",
      ". . .   \n",
      ". . . . \n",
      "----------\n",
      ". . . . \n",
      ".   .   \n",
      ". .     \n",
      ".       \n",
      "----------\n",
      ". . . . \n",
      ". . .   \n",
      ". .     \n",
      ".       \n"
     ]
    }
   ],
   "metadata": {}
  },
  {
   "cell_type": "code",
   "execution_count": 77,
   "source": [
    "s='hello   world  lol' \r\n",
    "lst = s.split()\r\n",
    "res = []\r\n",
    "a = ([i for i in lst])\r\n",
    "for i in a:\r\n",
    "    if i.isalpha():\r\n",
    "        res.append(i.title())\r\n",
    "    else:\r\n",
    "        res.append(i)\r\n",
    "if s.count('   ') != 0:\r\n",
    "    result = '   '.join(res)\r\n",
    "else:\r\n",
    "    result = ' '.join(res)\r\n",
    "print(result)\r\n"
   ],
   "outputs": [
    {
     "output_type": "stream",
     "name": "stdout",
     "text": [
      "Hello   World   Lol\n"
     ]
    }
   ],
   "metadata": {}
  },
  {
   "cell_type": "markdown",
   "source": [
    "Kevin and Stuart want to play the 'The Minion Game'.\r\n",
    "\r\n",
    "Game Rules\r\n",
    "\r\n",
    "Both players are given the same string, .\r\n",
    "Both players have to make substrings using the letters of the string .\r\n",
    "Stuart has to make words starting with consonants.\r\n",
    "Kevin has to make words starting with vowels.\r\n",
    "The game ends when both players have made all possible substrings.\r\n",
    "\r\n",
    "Scoring\r\n",
    "A player gets +1 point for each occurrence of the substring in the string .\r\n",
    "\r\n",
    "For Example:\r\n",
    "String  = BANANA\r\n",
    "Kevin's vowel beginning word = ANA\r\n",
    "Here, ANA occurs twice in BANANA. Hence, Kevin will get 2 Points.\r\n",
    "\r\n",
    "For better understanding, see the image below:"
   ],
   "metadata": {}
  },
  {
   "cell_type": "code",
   "execution_count": 79,
   "source": [
    "def minion_game(string):\r\n",
    "\r\n",
    "    vowels = 'AEIOU'\r\n",
    "\r\n",
    "    kevsc = 0\r\n",
    "    stusc = 0\r\n",
    "    for i in range(len(s)):\r\n",
    "        if s[i] in vowels:\r\n",
    "            kevsc += (len(s)-i)\r\n",
    "        else:\r\n",
    "            stusc += (len(s)-i)\r\n",
    "\r\n",
    "    if kevsc > stusc:\r\n",
    "        print(\"Kevin\", kevsc)\r\n",
    "    elif kevsc < stusc:\r\n",
    "        print(\"Stuart\", stusc)\r\n",
    "    else:\r\n",
    "        print(\"Draw\")\r\n",
    "\r\n",
    "s ='BANANA'\r\n",
    "minion_game(s)"
   ],
   "outputs": [
    {
     "output_type": "stream",
     "name": "stdout",
     "text": [
      "Stuart 16\n"
     ]
    }
   ],
   "metadata": {}
  },
  {
   "cell_type": "code",
   "execution_count": 7,
   "source": [
    "s ='BANANA'\r\n",
    "# player_1 = input('1: ')\r\n",
    "# player_2 = input('2: ')\r\n",
    "player_1 = ['A','AN','ANA','ANAN','ANANA']\r\n",
    "player_2 = ['B','N','BA','NA','BAN','NAN','BANA','NANA', 'BANAN','BANANA']\r\n",
    "# player_1 = (player_1.upper()).split(',')\r\n",
    "# player_2 = (player_2.upper()).split(',')\r\n",
    "count1 = []\r\n",
    "count2 = []\r\n",
    "\r\n",
    "sum1 = 0\r\n",
    "vowels = 'AEIOU'\r\n",
    "for i in player_1:\r\n",
    "    if i[0] in vowels:\r\n",
    "        count1.append(s.count(i))\r\n",
    "        sum1 += s.count(i)\r\n",
    "\r\n",
    "sum2 = 0\r\n",
    "for j in player_2:\r\n",
    "    if j[0] not in vowels:\r\n",
    "        count2.append(s.count(j))\r\n",
    "        sum2 += s.count(j)\r\n",
    "if sum1 > sum2:\r\n",
    "    print('Kevin', sum1)\r\n",
    "elif sum1 < sum2:\r\n",
    "    print('Stuart', sum2)\r\n",
    "else:\r\n",
    "    print('Draw')\r\n"
   ],
   "outputs": [
    {
     "output_type": "stream",
     "name": "stdout",
     "text": [
      "Stuart 12\n"
     ]
    }
   ],
   "metadata": {}
  },
  {
   "cell_type": "code",
   "execution_count": 6,
   "source": [
    "import string\r\n",
    "pas = input('Password: ')\r\n",
    "\r\n",
    "alpla_low = [i for i in string.ascii_lowercase]\r\n",
    "alpla_up = [j for j in string.ascii_uppercase]\r\n",
    "punction = [p for p in string.punctuation]\r\n",
    "num = [n for n in string.digits]\r\n",
    "# Biến check\r\n",
    "c1, c2, c3, c4 = [], [], [], []\r\n",
    "if len(pas) < 6 or len(pas) >12:\r\n",
    "    print('Your password is not available')\r\n",
    "elif len(pas) >= 6 or len(pas) <=12:\r\n",
    "    count = 0\r\n",
    "    for i in pas:\r\n",
    "        if alpla_low.count(i) >=1:\r\n",
    "            c1.append(i)\r\n",
    "        elif alpla_up.count(i) >= 1:\r\n",
    "            c2.append(i)\r\n",
    "        elif punction.count(i) >= 1:\r\n",
    "            c3.append(i)\r\n",
    "        elif num.count(i) >= 1:\r\n",
    "            c4.append(i)\r\n",
    "    if len(c1) != 0 and len(c2) != 0 and len(c3) != 0 and len(c4) != 0:\r\n",
    "        print('Your password is correct')\r\n",
    "    else:\r\n",
    "        print('Your password is not available')\r\n",
    "\r\n",
    "\r\n",
    "\r\n",
    "\r\n",
    "\r\n",
    "\r\n",
    "        \r\n",
    "\r\n"
   ],
   "outputs": [
    {
     "output_type": "stream",
     "name": "stdout",
     "text": [
      "Your password is correct\n",
      "['b', 'c'] ['A'] ['#'] ['1', '2', '1', '2']\n"
     ]
    }
   ],
   "metadata": {}
  },
  {
   "cell_type": "code",
   "execution_count": 4,
   "source": [
    "ar = [10, 20, 20, 10, 10, 30, 50, 10, 20]\r\n",
    "lst_count = []\r\n",
    "arr = list(set(ar))\r\n",
    "\r\n",
    "for i in arr:\r\n",
    "    lst_count.append(ar.count(i))\r\n",
    "r = dict(zip(arr,lst_count))\r\n",
    "print(r)\r\n",
    "sum = 0\r\n",
    "for key in r:\r\n",
    "    c = r[key]//2\r\n",
    "    if c >=1:\r\n",
    "        sum += c\r\n",
    "print(sum)\r\n",
    "\r\n",
    "\r\n"
   ],
   "outputs": [
    {
     "output_type": "stream",
     "name": "stdout",
     "text": [
      "{10: 4, 20: 3, 50: 1, 30: 1}\n",
      "3\n"
     ]
    }
   ],
   "metadata": {}
  },
  {
   "cell_type": "code",
   "execution_count": 31,
   "source": [
    "# lst = [('Json', '21', '85'), ('Jony', '17', '91'), ('Tomy', '19','80'), ('John', '20', '90'), ('Jony', '17', '93')]\r\n",
    "lst = []\r\n",
    "while True:\r\n",
    "    s = input()\r\n",
    "    if not s:\r\n",
    "        break\r\n",
    "    lst.append(tuple(s.split(\",\")))\r\n",
    "lst.sort()\r\n",
    "for i in lst:\r\n",
    "    print(i)\r\n",
    "#  Data\r\n",
    "# Tom,19,80\r\n",
    "# John,20,90\r\n",
    "# Jony,17,91\r\n",
    "# Jony,17,93\r\n",
    "# Json,21,85"
   ],
   "outputs": [
    {
     "output_type": "stream",
     "name": "stdout",
     "text": [
      "['John', '20', '90']\n",
      "['Tom', '19', '80']\n"
     ]
    }
   ],
   "metadata": {}
  },
  {
   "cell_type": "code",
   "execution_count": 5,
   "source": [
    "s = 'New to Python or choosing between Python 2 and Python 3? Read Python 2 or Python 3.'\r\n",
    "slst = s.split()\r\n",
    "lst = list(set(s.split()))\r\n",
    "c = []\r\n",
    "for i in lst:\r\n",
    "    c.append(slst.count(i))\r\n",
    "r = dict(zip(lst,c))\r\n",
    "words = sorted(r.keys())\r\n",
    "for i in words:\r\n",
    "    print(f'{i} : {r[i]}')"
   ],
   "outputs": [
    {
     "output_type": "stream",
     "name": "stdout",
     "text": [
      "2 : 2\n",
      "3. : 1\n",
      "3? : 1\n",
      "New : 1\n",
      "Python : 5\n",
      "Read : 1\n",
      "and : 1\n",
      "between : 1\n",
      "choosing : 1\n",
      "or : 2\n",
      "to : 1\n"
     ]
    }
   ],
   "metadata": {}
  }
 ],
 "metadata": {
  "orig_nbformat": 4,
  "language_info": {
   "name": "python",
   "version": "3.9.1",
   "mimetype": "text/x-python",
   "codemirror_mode": {
    "name": "ipython",
    "version": 3
   },
   "pygments_lexer": "ipython3",
   "nbconvert_exporter": "python",
   "file_extension": ".py"
  },
  "kernelspec": {
   "name": "python3",
   "display_name": "Python 3.9.1 64-bit"
  },
  "interpreter": {
   "hash": "8da01e5a71448ea74f54d88afa8911010d1d12e23bc7e103d40d5def4a09152c"
  }
 },
 "nbformat": 4,
 "nbformat_minor": 2
}
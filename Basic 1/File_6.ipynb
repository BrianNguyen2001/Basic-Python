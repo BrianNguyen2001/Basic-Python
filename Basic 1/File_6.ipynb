{
 "cells": [
  {
   "cell_type": "markdown",
   "source": [
    "****Middle Test****"
   ],
   "metadata": {}
  },
  {
   "cell_type": "markdown",
   "source": [
    "****1. Hàm đưa vào một chuỗi, xuất ra các ký tự xuất hiện nhiều nhất trong chuỗi. Không phân biệt Hoa hay thường****"
   ],
   "metadata": {}
  },
  {
   "cell_type": "code",
   "execution_count": 3,
   "source": [
    "s2 = 'Cong    nghe tai chinh'\r\n",
    "def appear_times(s2):\r\n",
    "    s2= s2.lower()\r\n",
    "    s2 = ''.join(s2.split())\r\n",
    "    max = 0\r\n",
    "    result = []\r\n",
    "    for i in s2:\r\n",
    "        if s2.count(i)>max:\r\n",
    "            max = s2.count(i)\r\n",
    "    for j in s2:\r\n",
    "        if s2.count(j) == max:\r\n",
    "            result.append(j)\r\n",
    "    return [', '.join(list(set(result))),max]\r\n",
    "\r\n",
    "print(f'Các ký tự: \"{appear_times(s2)[0]}\" xuất hiện nhiều nhất trong chuỗi với số lần xuất hiện là {appear_times(s2)[1]}.')"
   ],
   "outputs": [
    {
     "output_type": "stream",
     "name": "stdout",
     "text": [
      "Các ký tự: \"h, n\" xuất hiện nhiều nhất trong chuỗi với số lần xuất hiện là 3.\n"
     ]
    }
   ],
   "metadata": {}
  },
  {
   "cell_type": "markdown",
   "source": [
    "****2. Vẽ hình****"
   ],
   "metadata": {}
  },
  {
   "cell_type": "code",
   "execution_count": 2,
   "source": [
    "def bai2(n):\r\n",
    "    for i in range(1,n+1):\r\n",
    "        for j in range(1,n+1):\r\n",
    "            if i == 1 or i == n or i == j or i+j == n+1:\r\n",
    "                print('#', end=' ')\r\n",
    "            else:\r\n",
    "                print(' ', end=' ')\r\n",
    "        print()\r\n",
    "n = 7\r\n",
    "bai2(n)"
   ],
   "outputs": [
    {
     "output_type": "stream",
     "name": "stdout",
     "text": [
      "# # # # # # # \n",
      "  #       #   \n",
      "    #   #     \n",
      "      #       \n",
      "    #   #     \n",
      "  #       #   \n",
      "# # # # # # # \n"
     ]
    }
   ],
   "metadata": {}
  },
  {
   "cell_type": "markdown",
   "source": [
    "***3. Hàm vẽ hình tam giác Pascal***"
   ],
   "metadata": {}
  },
  {
   "cell_type": "code",
   "execution_count": 12,
   "source": [
    "# Giai thừa.\r\n",
    "def gt(n):\r\n",
    "    if n == 1 or n == 0:\r\n",
    "        return 1\r\n",
    "    else:\r\n",
    "        giaithua = n*gt(n-1)\r\n",
    "    return giaithua\r\n",
    "\r\n",
    "def ckn(n, k):\r\n",
    "    combi = (gt(n))/(gt(k)*gt(n-k))\r\n",
    "    return int(combi)\r\n",
    "\r\n",
    "def pascals_triangle(rows):\r\n",
    "    result = [] # need something to collect our results in\r\n",
    "    for n in range(rows): \r\n",
    "        row = [] # need a row element to collect the row in\r\n",
    "        for k in range(n + 1): \r\n",
    "            row.append(ckn(n, k))\r\n",
    "        result.append(row)\r\n",
    "    return result\r\n",
    "rows = 6\r\n",
    "for k in pascals_triangle(rows):\r\n",
    "    print(((str(k).strip(\"[]\")).center(pow(rows,2))))\r\n",
    "\r\n"
   ],
   "outputs": [
    {
     "output_type": "stream",
     "name": "stdout",
     "text": [
      "                 1                  \n",
      "                1, 1                \n",
      "              1, 2, 1               \n",
      "             1, 3, 3, 1             \n",
      "           1, 4, 6, 4, 1            \n",
      "         1, 5, 10, 10, 5, 1         \n"
     ]
    }
   ],
   "metadata": {}
  }
 ],
 "metadata": {
  "orig_nbformat": 4,
  "language_info": {
   "name": "python",
   "version": "3.9.1",
   "mimetype": "text/x-python",
   "codemirror_mode": {
    "name": "ipython",
    "version": 3
   },
   "pygments_lexer": "ipython3",
   "nbconvert_exporter": "python",
   "file_extension": ".py"
  },
  "kernelspec": {
   "name": "python3",
   "display_name": "Python 3.9.1 64-bit"
  },
  "interpreter": {
   "hash": "8da01e5a71448ea74f54d88afa8911010d1d12e23bc7e103d40d5def4a09152c"
  }
 },
 "nbformat": 4,
 "nbformat_minor": 2
}
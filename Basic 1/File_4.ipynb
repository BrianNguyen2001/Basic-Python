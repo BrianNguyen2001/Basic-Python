{
 "cells": [
  {
   "cell_type": "markdown",
   "source": [
    "******Collection******"
   ],
   "metadata": {}
  },
  {
   "cell_type": "code",
   "execution_count": 45,
   "source": [
    "import random\r\n",
    "row = 3\r\n",
    "col = 3\r\n",
    "matran = []\r\n",
    "for i in range(row):\r\n",
    "    matran.append([])\r\n",
    "    for j in range(col):\r\n",
    "        matran[i].append(random.randint(1, 9))\r\n",
    "for items in matran:\r\n",
    "    print(items)\r\n",
    "\r\n",
    "print('Xuat cot')\r\n",
    "coll = int(input('Col: '))\r\n",
    "xuatcot = []\r\n",
    "for i in matran:\r\n",
    "    xuatcot.append(i[coll-1])\r\n",
    "print(xuatcot)\r\n",
    "\r\n",
    "\r\n",
    "print('Xuat dong')\r\n",
    "rows = int(input('Row: '))\r\n",
    "print(matran[rows-1])\r\n",
    "\r\n",
    "max = 0\r\n",
    "for k in matran:\r\n",
    "    for e in k:\r\n",
    "        if e > max:\r\n",
    "            max = e\r\n",
    "print(f'Max: {max}')\r\n"
   ],
   "outputs": [
    {
     "output_type": "stream",
     "name": "stdout",
     "text": [
      "[6, 5, 3]\n",
      "[4, 1, 9]\n",
      "[6, 2, 8]\n",
      "Xuat cot\n",
      "[6, 4, 6]\n",
      "Xuat dong\n",
      "[4, 1, 9]\n",
      "Max: 9\n"
     ]
    }
   ],
   "metadata": {}
  },
  {
   "cell_type": "markdown",
   "source": [
    "******Nhập vào 1 list có N số ngẫu nhiên KHÔNG TRÙNG NHAU******\r\n"
   ],
   "metadata": {}
  },
  {
   "cell_type": "code",
   "execution_count": 56,
   "source": [
    "cd = 4\r\n",
    "lst = [0]*4\r\n",
    "new = []\r\n",
    "for i in range(cd):\r\n",
    "    lst[i] = int(input(f'Index {i+1}: '))\r\n",
    "for j in lst:\r\n",
    "    if j not in new:\r\n",
    "        new.append(j)\r\n",
    "print(new)\r\n"
   ],
   "outputs": [
    {
     "output_type": "stream",
     "name": "stdout",
     "text": [
      "[1, 5, 7]\n"
     ]
    }
   ],
   "metadata": {}
  },
  {
   "cell_type": "code",
   "execution_count": 59,
   "source": [
    "length = 4\r\n",
    "arr = [0]*4\r\n",
    "new = []\r\n",
    "b = 0\r\n",
    "for i in range(length):\r\n",
    "    arr[i] = int(input(f'Index {i+1}: '))\r\n",
    "    while arr[i] <=b: \r\n",
    "        arr[i] = int(input(f'Index {i+1}: '))\r\n",
    "    else: \r\n",
    "        b = arr[i]\r\n",
    "print(arr)\r\n",
    "        \r\n"
   ],
   "outputs": [
    {
     "output_type": "stream",
     "name": "stdout",
     "text": [
      "[1, 9, 11, 20]\n"
     ]
    }
   ],
   "metadata": {}
  },
  {
   "cell_type": "markdown",
   "source": [
    "******Viết chương trình nhập vào một danh sách n số thực, sắp xếp và xuất dãy số\r\n",
    "theo thứ tự giảm dần.******"
   ],
   "metadata": {}
  },
  {
   "cell_type": "code",
   "execution_count": 63,
   "source": [
    "n = 5\r\n",
    "xs = [0]*n\r\n",
    "for i in range(n):\r\n",
    "    xs[i] = float(input(f'Index {i+1}: '))\r\n",
    "xs.sort(reverse= False)\r\n",
    "print(xs)"
   ],
   "outputs": [
    {
     "output_type": "stream",
     "name": "stdout",
     "text": [
      "[-5.0, 0.0, 1.0, 1.2, 5.0]\n"
     ]
    }
   ],
   "metadata": {}
  },
  {
   "cell_type": "markdown",
   "source": [
    "******Xử lý ma trận:\r\n",
    "• Viết hàm nhập matrix.\r\n",
    "• Viết hàm cộng 2 matrix.\r\n",
    "• Viết hàm tính matrix hoán vị.******"
   ],
   "metadata": {}
  },
  {
   "cell_type": "code",
   "execution_count": 37,
   "source": [
    "\r\n",
    "col = 2\r\n",
    "row = 2\r\n",
    "def matran(row, col):\r\n",
    "    matrix = []\r\n",
    "    for i in range(row):\r\n",
    "        matrix.append([])\r\n",
    "        for j in range(col):\r\n",
    "            matrix[i].append(int(input(f'Array {i+1}, index{j+1}: ')))\r\n",
    "    for j in matrix:\r\n",
    "        print(j)\r\n",
    "print('Ma tran 1:')\r\n",
    "matran_1 = matran(row, col)\r\n",
    "    "
   ],
   "outputs": [
    {
     "output_type": "stream",
     "name": "stdout",
     "text": [
      "Ma tran 1:\n",
      "[1, 2]\n",
      "[3, 4]\n"
     ]
    }
   ],
   "metadata": {}
  }
 ],
 "metadata": {
  "orig_nbformat": 4,
  "language_info": {
   "name": "python"
  }
 },
 "nbformat": 4,
 "nbformat_minor": 2
}
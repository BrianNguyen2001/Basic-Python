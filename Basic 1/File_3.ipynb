{
 "cells": [
  {
   "cell_type": "markdown",
   "metadata": {},
   "source": [
    "Chuỗi đối xứng"
   ]
  },
  {
   "cell_type": "code",
   "execution_count": 1,
   "metadata": {},
   "outputs": [
    {
     "name": "stdout",
     "output_type": "stream",
     "text": [
      "madam is a balance string\n"
     ]
    }
   ],
   "source": [
    "def balance_string(s):\n",
    "    if s[::-1] == s:\n",
    "        return True\n",
    "    return False\n",
    "s = 'madam'\n",
    "if balance_string(s):\n",
    "    print(f'{s} is a balance string')\n",
    "else:\n",
    "    print(f'{s} is not a balance string')"
   ]
  },
  {
   "cell_type": "markdown",
   "metadata": {},
   "source": [
    "Chuẩn hóa chuỗi"
   ]
  },
  {
   "cell_type": "code",
   "execution_count": 6,
   "metadata": {},
   "outputs": [
    {
     "name": "stdout",
     "output_type": "stream",
     "text": [
      " Helloo world\n"
     ]
    }
   ],
   "source": [
    "def standardize_string(s):\n",
    "    s.strip()\n",
    "    while s.count('  ') != 0:\n",
    "        s = s.replace('  ',' ')\n",
    "    return s\n",
    "\n",
    "s = '  Helloo     world'\n",
    "print(standardize_string(s))\n",
    "\n"
   ]
  },
  {
   "cell_type": "code",
   "execution_count": 21,
   "metadata": {},
   "outputs": [
    {
     "name": "stdout",
     "output_type": "stream",
     "text": [
      "Helloo world\n"
     ]
    }
   ],
   "source": [
    "s = '  Helloo     world'\n",
    "def standardize_string2(s):\n",
    "    a = s.split()\n",
    "    b = ' '.join(a)\n",
    "    return b\n",
    "print(standardize_string2(s)) "
   ]
  },
  {
   "cell_type": "markdown",
   "metadata": {},
   "source": [
    "Tìm số âm trong chuỗi\n",
    "“akg-6bhl-79p8e--h\""
   ]
  },
  {
   "cell_type": "code",
   "execution_count": 37,
   "metadata": {},
   "outputs": [
    {
     "name": "stdout",
     "output_type": "stream",
     "text": [
      "['', '8akg', '6bhl', '79p8e', '', 'h']\n",
      "-8\t-6\t-79\t\n"
     ]
    }
   ],
   "source": [
    "\n",
    "def find_negativenumber(s):\n",
    "    result =''\n",
    "    s = s.split(\"-\")\n",
    "    print(s)\n",
    "    for i in range(1,len(s)):\n",
    "        new ='-'\n",
    "        for j in s[i]:\n",
    "            if j.isdigit():\n",
    "                new += j\n",
    "            else:\n",
    "                break\n",
    "        if len(new) > 1:\n",
    "            result += new + '\\t'\n",
    "    \n",
    "    return result\n",
    "\n",
    "\n",
    "s = \"-8akg-6bhl-79p8e--h\"\n",
    "print(find_negativenumber(s))"
   ]
  },
  {
   "cell_type": "markdown",
   "metadata": {},
   "source": [
    "Viết hàm xử lý trả về tên và phần mở rộng của tập tin. Hàm nhận đối số đầu\n",
    "vào là đường dẫn của tập tin.\n",
    "Vd: với đường dẫn “D:\\\\learning\\python\\string.py” à hàm sẽ trả về tên tập\n",
    "tin là “string” và phần mở rộng là “py”."
   ]
  },
  {
   "cell_type": "code",
   "execution_count": 44,
   "metadata": {},
   "outputs": [
    {
     "name": "stdout",
     "output_type": "stream",
     "text": [
      "Name: str.ing, Extend: py\n"
     ]
    }
   ],
   "source": [
    "s = \"D:\\\\learning\\python\\str.ing.py\"\n",
    "def links(s):\n",
    "    s=s.split('\\\\')\n",
    "    process = s[-1]\n",
    "    process = process.split('.')\n",
    "    name = process[0:-1]\n",
    "    name = '.'.join(name)\n",
    "    extend = process[-1]\n",
    "    return print(f'Name: {name}, Extend: {extend}')\n",
    "links(s)"
   ]
  },
  {
   "cell_type": "markdown",
   "metadata": {},
   "source": [
    "Viết hàm xử lý kiểm tra địa chỉ email hợp lệ, nếu email hợp lệ thì trả về\n",
    "user_name và domain_name.\n",
    "Vd: với email: iloveuel@uel.edu.vn à username: iloveuel, domain_name:\n",
    "uel.edu.vn\n"
   ]
  },
  {
   "cell_type": "code",
   "execution_count": 58,
   "metadata": {},
   "outputs": [
    {
     "name": "stdout",
     "output_type": "stream",
     "text": [
      "username: iloveuel, domainname:uel.edu.vn\n"
     ]
    }
   ],
   "source": [
    "def check_mail(e):\n",
    "    for i in e:\n",
    "        if e.count('@') >1:\n",
    "            return False\n",
    "    e=e.split('@')\n",
    "    username = e[0]\n",
    "    domainname = e[-1]\n",
    "    if domainname.count('.') == 0:\n",
    "        return False\n",
    "    else:\n",
    "        if domainname.startswith('.') or domainname.endswith('.'):\n",
    "            return False\n",
    "        else:\n",
    "            return print(f'username: {username}, domainname:{domainname}')\n",
    "\n",
    "e = 'iloveuel@uel.edu.vn'\n",
    "check_mail(e)"
   ]
  },
  {
   "cell_type": "markdown",
   "metadata": {},
   "source": [
    "Viết hàm tách họ, tên đệm và tên. Vd: với chuỗi họ tên “ Huynh nhat Nam\n",
    "Anh ” là Họ: Huynh, Tên đệm: Nhat Nam, Tên: Anh.\n"
   ]
  },
  {
   "cell_type": "code",
   "execution_count": 66,
   "metadata": {},
   "outputs": [
    {
     "name": "stdout",
     "output_type": "stream",
     "text": [
      "Last name: Nguyễn Đức\n",
      "Second name: Minh\n",
      "First name:  Tấn\n"
     ]
    }
   ],
   "source": [
    "n= 'Nguyễn Đức Minh Tấn'\n",
    "def splitname(n):\n",
    "    n = n.split()\n",
    "    firstname = n[-1]\n",
    "    secondname = n[-2]\n",
    "    lastname = n[0:len(n)-2]\n",
    "    lastname = ' '.join(lastname)\n",
    "    return print(f'''Last name: {lastname}\n",
    "Second name: {secondname}\n",
    "First name:  {firstname}''')\n",
    "\n",
    "splitname(n)"
   ]
  },
  {
   "cell_type": "markdown",
   "metadata": {},
   "source": [
    "Viết chương trình đảo ngược các từ trong chuỗi. Vd: “qua lại khách chờ sông\n",
    "lặng sóng” là “sóng lặng sông chờ khách lại qua”; “bèo trôi nước giợn sóng\n",
    "mênh mông” là “mông mênh sóng giợn nước trôi bèo”."
   ]
  },
  {
   "cell_type": "code",
   "execution_count": 75,
   "metadata": {},
   "outputs": [
    {
     "name": "stdout",
     "output_type": "stream",
     "text": [
      "sóng lặng sông chờ khách lại qua\n",
      "mông mênh sóng giợn nước trôi bèo\n"
     ]
    }
   ],
   "source": [
    "s = 'qua lại khách chờ sông lặng sóng'\n",
    "b = 'bèo trôi nước giợn sóng mênh mông'\n",
    "def reverse_strings(s):\n",
    "    s = s.split()\n",
    "    s.reverse()\n",
    "    s = ' '.join(s)\n",
    "    return s\n",
    "print(reverse_strings(s))\n",
    "print(reverse_strings(b))"
   ]
  }
 ],
 "metadata": {
  "interpreter": {
   "hash": "8da01e5a71448ea74f54d88afa8911010d1d12e23bc7e103d40d5def4a09152c"
  },
  "kernelspec": {
   "display_name": "Python 3.9.1 64-bit",
   "name": "python3"
  },
  "language_info": {
   "name": "python",
   "version": ""
  },
  "orig_nbformat": 4
 },
 "nbformat": 4,
 "nbformat_minor": 2
}
